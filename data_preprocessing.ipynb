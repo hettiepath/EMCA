{
  "nbformat": 4,
  "nbformat_minor": 0,
  "metadata": {
    "colab": {
      "name": "data_preprocessing.ipynb",
      "provenance": [],
      "mount_file_id": "1VF7cykWO53VL5kQVhF7wRE4wEMuc8u9f",
      "authorship_tag": "ABX9TyObzyXbIyQACoAb1ACCXadw",
      "include_colab_link": true
    },
    "kernelspec": {
      "name": "python3",
      "display_name": "Python 3"
    },
    "accelerator": "GPU"
  },
  "cells": [
    {
      "cell_type": "markdown",
      "metadata": {
        "id": "view-in-github",
        "colab_type": "text"
      },
      "source": [
        "<a href=\"https://colab.research.google.com/github/hettiepath/EMCA/blob/master/data_preprocessing.ipynb\" target=\"_parent\"><img src=\"https://colab.research.google.com/assets/colab-badge.svg\" alt=\"Open In Colab\"/></a>"
      ]
    },
    {
      "cell_type": "code",
      "metadata": {
        "id": "9qMeyV4GlyRr",
        "colab_type": "code",
        "colab": {}
      },
      "source": [
        "import os\n",
        "import glob\n",
        "import pandas as pd"
      ],
      "execution_count": null,
      "outputs": []
    },
    {
      "cell_type": "markdown",
      "metadata": {
        "id": "q-vrNm0EmFy5",
        "colab_type": "text"
      },
      "source": [
        "## UCEC 데이터 준비\n",
        "\n",
        "```\n",
        "Endometrioid/\n",
        " --> test sample for histologic_type (by using modeling of classification)\n",
        " --> modeling for histologic_grade : train & test\n",
        "  Grade1/\n",
        "  Grade2/\n",
        "  Grade3/\n",
        "Serous/\n",
        "Etc_carcinoma/\n",
        "```\n",
        "\n"
      ]
    },
    {
      "cell_type": "markdown",
      "metadata": {
        "id": "1AH-Rf3f6Djr",
        "colab_type": "text"
      },
      "source": [
        "### CPTAC-UCEC\n",
        "https://wiki.cancerimagingarchive.net/display/Public/CPTAC-UCEC\n",
        "\n",
        "This collection contains subjects from the National Cancer Institute’s Clinical Proteomic Tumor Analysis Consortium Uterine Corpus Endometrial Carcinoma (CPTAC-UCEC) cohort."
      ]
    },
    {
      "cell_type": "code",
      "metadata": {
        "id": "J4_pMeiTgqXZ",
        "colab_type": "code",
        "colab": {
          "base_uri": "https://localhost:8080/",
          "height": 34
        },
        "outputId": "148b936d-f04c-441f-ce6b-8463739d4daa"
      },
      "source": [
        "%cd '/content/drive/My Drive/ImageAnalysis/digital_pathology/ImageDataset/EMCA'"
      ],
      "execution_count": null,
      "outputs": [
        {
          "output_type": "stream",
          "text": [
            "/content/drive/My Drive/ImageAnalysis/digital_pathology/ImageDataset/EMCA\n"
          ],
          "name": "stdout"
        }
      ]
    },
    {
      "cell_type": "code",
      "metadata": {
        "id": "mdGMl8H9rZaX",
        "colab_type": "code",
        "colab": {
          "base_uri": "https://localhost:8080/",
          "height": 943
        },
        "outputId": "d10db9b4-6476-41ad-fd97-6cb983667c2c"
      },
      "source": [
        "py_ucec_df = pd.read_csv('ucec.csv',  encoding='utf-8')\n",
        "py_ucec_df"
      ],
      "execution_count": null,
      "outputs": [
        {
          "output_type": "execute_result",
          "data": {
            "text/html": [
              "<div>\n",
              "<style scoped>\n",
              "    .dataframe tbody tr th:only-of-type {\n",
              "        vertical-align: middle;\n",
              "    }\n",
              "\n",
              "    .dataframe tbody tr th {\n",
              "        vertical-align: top;\n",
              "    }\n",
              "\n",
              "    .dataframe thead th {\n",
              "        text-align: right;\n",
              "    }\n",
              "</style>\n",
              "<table border=\"1\" class=\"dataframe\">\n",
              "  <thead>\n",
              "    <tr style=\"text-align: right;\">\n",
              "      <th></th>\n",
              "      <th>Unnamed: 0</th>\n",
              "      <th>tumor_code</th>\n",
              "      <th>case_id</th>\n",
              "      <th>discovery_study</th>\n",
              "      <th>gender</th>\n",
              "      <th>age</th>\n",
              "      <th>height_in_cm</th>\n",
              "      <th>weight_in_kg</th>\n",
              "      <th>BMI</th>\n",
              "      <th>race</th>\n",
              "      <th>ethnicity</th>\n",
              "      <th>tumor_site</th>\n",
              "      <th>tumor_size_in_cm</th>\n",
              "      <th>histologic_type</th>\n",
              "      <th>histologic_grade</th>\n",
              "      <th>tumor_stage_pathological</th>\n",
              "      <th>AJCC_or_TNM_cancer_staging_edition</th>\n",
              "      <th>pathologic_staging_primary_tumor_pT</th>\n",
              "      <th>pathologic_staging_regional_lymph_nodes_pN</th>\n",
              "      <th>pathologic_staging_distant_metastasis_pM</th>\n",
              "      <th>clinical_staging_distant_metastasis_cM</th>\n",
              "      <th>vital_status_at_12months_follow_up</th>\n",
              "      <th>vital_status_at_24months_follow_up</th>\n",
              "      <th>residual_tumor</th>\n",
              "      <th>alcohol_consumption</th>\n",
              "      <th>tobacco_smoking_history</th>\n",
              "      <th>number_of_pack_years_smoked</th>\n",
              "      <th>tumor_status_at_12months_follow_up</th>\n",
              "      <th>tumor_status_at_24months_follow_up</th>\n",
              "      <th>days_from_initial_diagnosis_to_last_contact_at_12months_follow_up</th>\n",
              "      <th>days_from_initial_diagnosis_to_last_contact_at_24months_follow_up</th>\n",
              "      <th>specimens</th>\n",
              "      <th>inserted</th>\n",
              "      <th>updated</th>\n",
              "      <th>discovery_study/analyzed_samples</th>\n",
              "      <th>vital_status_at_48months_follow_up</th>\n",
              "      <th>tumor_status_at_48months_follow_up</th>\n",
              "      <th>days_from_initial_diagnosis_to_last_contact_at_48months_follow_up</th>\n",
              "      <th>tumor_site_other</th>\n",
              "      <th>vital_status_at_36months_follow_up</th>\n",
              "      <th>tumor_status_at_36months_follow_up</th>\n",
              "      <th>days_from_initial_diagnosis_to_last_contact_at_36months_follow_up</th>\n",
              "      <th>cause_of_death_at_48months_follow_up</th>\n",
              "      <th>days_from_initial_pathologic_diagnosis_to_death_at_48months_follow_up</th>\n",
              "      <th>histologic_grade_other</th>\n",
              "      <th>cause_of_death_at_24months_follow_up</th>\n",
              "      <th>days_from_initial_pathologic_diagnosis_to_death_at_24months_follow_up</th>\n",
              "      <th>number_of_years_consumed_more_than_2_drinks_per_day_for_men_or_more_than_1_for_women</th>\n",
              "      <th>cause_of_death_at_12months_follow_up</th>\n",
              "      <th>days_from_initial_pathologic_diagnosis_to_death_at_12months_follow_up</th>\n",
              "      <th>cause_of_death_at_36months_follow_up</th>\n",
              "      <th>days_from_initial_pathologic_diagnosis_to_death_at_36months_follow_up</th>\n",
              "      <th>histologic_type_other</th>\n",
              "    </tr>\n",
              "  </thead>\n",
              "  <tbody>\n",
              "    <tr>\n",
              "      <th>0</th>\n",
              "      <td>0</td>\n",
              "      <td>UCEC</td>\n",
              "      <td>C3L-00006</td>\n",
              "      <td>Yes</td>\n",
              "      <td>Female</td>\n",
              "      <td>64</td>\n",
              "      <td>152.0</td>\n",
              "      <td>90.0</td>\n",
              "      <td>38.88</td>\n",
              "      <td>White</td>\n",
              "      <td>Not-Hispanic or Latino</td>\n",
              "      <td>Anterior endometrium</td>\n",
              "      <td>2.9</td>\n",
              "      <td>Endometrioid carcinoma</td>\n",
              "      <td>G1 Well differentiated</td>\n",
              "      <td>Stage I</td>\n",
              "      <td>Seventh Edition (2010)</td>\n",
              "      <td>pT1a (FIGO IA)</td>\n",
              "      <td>pN0</td>\n",
              "      <td>Staging Incomplete</td>\n",
              "      <td>cM0</td>\n",
              "      <td>Living</td>\n",
              "      <td>Living</td>\n",
              "      <td>R0:  No residual tumor</td>\n",
              "      <td>Alcohol consumption history not available</td>\n",
              "      <td>Current reformed smoker, more than 15 years</td>\n",
              "      <td>5.0</td>\n",
              "      <td>Tumor Free</td>\n",
              "      <td>Tumor Free</td>\n",
              "      <td>494.0</td>\n",
              "      <td>717.0</td>\n",
              "      <td>[{'specimen_id': 'C3L-00006-31', 'tissue_type'...</td>\n",
              "      <td>2019-07-10T00:19:58.000Z</td>\n",
              "      <td>2019-07-10T00:19:58.000Z</td>\n",
              "      <td>Tumor_and_Normal</td>\n",
              "      <td>NaN</td>\n",
              "      <td>NaN</td>\n",
              "      <td>NaN</td>\n",
              "      <td>NaN</td>\n",
              "      <td>NaN</td>\n",
              "      <td>NaN</td>\n",
              "      <td>NaN</td>\n",
              "      <td>NaN</td>\n",
              "      <td>NaN</td>\n",
              "      <td>NaN</td>\n",
              "      <td>NaN</td>\n",
              "      <td>NaN</td>\n",
              "      <td>NaN</td>\n",
              "      <td>NaN</td>\n",
              "      <td>NaN</td>\n",
              "      <td>NaN</td>\n",
              "      <td>NaN</td>\n",
              "      <td>NaN</td>\n",
              "    </tr>\n",
              "    <tr>\n",
              "      <th>1</th>\n",
              "      <td>1</td>\n",
              "      <td>UCEC</td>\n",
              "      <td>C3L-00008</td>\n",
              "      <td>Yes</td>\n",
              "      <td>Female</td>\n",
              "      <td>58</td>\n",
              "      <td>162.0</td>\n",
              "      <td>105.0</td>\n",
              "      <td>39.76</td>\n",
              "      <td>White</td>\n",
              "      <td>Not-Hispanic or Latino</td>\n",
              "      <td>Posterior endometrium</td>\n",
              "      <td>3.5</td>\n",
              "      <td>Endometrioid carcinoma</td>\n",
              "      <td>G1 Well differentiated</td>\n",
              "      <td>Stage I</td>\n",
              "      <td>Seventh Edition (2010)</td>\n",
              "      <td>pT1a (FIGO IA)</td>\n",
              "      <td>pNX</td>\n",
              "      <td>Staging Incomplete</td>\n",
              "      <td>cM0</td>\n",
              "      <td>Living</td>\n",
              "      <td>Living</td>\n",
              "      <td>R0:  No residual tumor</td>\n",
              "      <td>Alcohol consumption equal to or less than 2 dr...</td>\n",
              "      <td>Current reformed smoker, more than 15 years</td>\n",
              "      <td>19.0</td>\n",
              "      <td>Tumor Free</td>\n",
              "      <td>Tumor Free</td>\n",
              "      <td>440.0</td>\n",
              "      <td>624.0</td>\n",
              "      <td>[{'specimen_id': 'C3L-00008-32', 'tissue_type'...</td>\n",
              "      <td>2019-07-10T00:19:58.000Z</td>\n",
              "      <td>2020-05-13T20:01:57.598Z</td>\n",
              "      <td>Tumor</td>\n",
              "      <td>Living</td>\n",
              "      <td>Tumor Free</td>\n",
              "      <td>898.0</td>\n",
              "      <td>NaN</td>\n",
              "      <td>NaN</td>\n",
              "      <td>NaN</td>\n",
              "      <td>NaN</td>\n",
              "      <td>NaN</td>\n",
              "      <td>NaN</td>\n",
              "      <td>NaN</td>\n",
              "      <td>NaN</td>\n",
              "      <td>NaN</td>\n",
              "      <td>NaN</td>\n",
              "      <td>NaN</td>\n",
              "      <td>NaN</td>\n",
              "      <td>NaN</td>\n",
              "      <td>NaN</td>\n",
              "      <td>NaN</td>\n",
              "    </tr>\n",
              "    <tr>\n",
              "      <th>2</th>\n",
              "      <td>2</td>\n",
              "      <td>UCEC</td>\n",
              "      <td>C3L-00032</td>\n",
              "      <td>Yes</td>\n",
              "      <td>Female</td>\n",
              "      <td>50</td>\n",
              "      <td>163.0</td>\n",
              "      <td>136.0</td>\n",
              "      <td>51.19</td>\n",
              "      <td>White</td>\n",
              "      <td>Not-Hispanic or Latino</td>\n",
              "      <td>Other</td>\n",
              "      <td>4.5</td>\n",
              "      <td>Endometrioid carcinoma</td>\n",
              "      <td>G2 Moderately differentiated</td>\n",
              "      <td>Stage I</td>\n",
              "      <td>Seventh Edition (2010)</td>\n",
              "      <td>pT1a (FIGO IA)</td>\n",
              "      <td>pN0</td>\n",
              "      <td>Staging Incomplete</td>\n",
              "      <td>cM0</td>\n",
              "      <td>Living</td>\n",
              "      <td>Living</td>\n",
              "      <td>R0:  No residual tumor</td>\n",
              "      <td>Lifelong non-drinker</td>\n",
              "      <td>Current reformed smoker, more than 15 years</td>\n",
              "      <td>3.0</td>\n",
              "      <td>Tumor Free</td>\n",
              "      <td>Tumor Free</td>\n",
              "      <td>435.0</td>\n",
              "      <td>715.0</td>\n",
              "      <td>[{'specimen_id': 'C3L-00032-31', 'tissue_type'...</td>\n",
              "      <td>2019-07-10T00:19:58.000Z</td>\n",
              "      <td>2020-05-11T14:28:20.015Z</td>\n",
              "      <td>Tumor</td>\n",
              "      <td>NaN</td>\n",
              "      <td>NaN</td>\n",
              "      <td>NaN</td>\n",
              "      <td>Anterior &amp; Posterior</td>\n",
              "      <td>NaN</td>\n",
              "      <td>NaN</td>\n",
              "      <td>NaN</td>\n",
              "      <td>NaN</td>\n",
              "      <td>NaN</td>\n",
              "      <td>NaN</td>\n",
              "      <td>NaN</td>\n",
              "      <td>NaN</td>\n",
              "      <td>NaN</td>\n",
              "      <td>NaN</td>\n",
              "      <td>NaN</td>\n",
              "      <td>NaN</td>\n",
              "      <td>NaN</td>\n",
              "      <td>NaN</td>\n",
              "    </tr>\n",
              "    <tr>\n",
              "      <th>3</th>\n",
              "      <td>3</td>\n",
              "      <td>UCEC</td>\n",
              "      <td>C3L-00086</td>\n",
              "      <td>No</td>\n",
              "      <td>Female</td>\n",
              "      <td>56</td>\n",
              "      <td>165.0</td>\n",
              "      <td>80.0</td>\n",
              "      <td>29.38</td>\n",
              "      <td>White</td>\n",
              "      <td>Not-Hispanic or Latino</td>\n",
              "      <td>Other</td>\n",
              "      <td>4.0</td>\n",
              "      <td>Endometrioid carcinoma</td>\n",
              "      <td>G1 Well differentiated</td>\n",
              "      <td>Stage I</td>\n",
              "      <td>Seventh Edition (2010)</td>\n",
              "      <td>pT1a (FIGO IA)</td>\n",
              "      <td>pNX</td>\n",
              "      <td>No pathologic evidence of distant metastasis</td>\n",
              "      <td>cM0</td>\n",
              "      <td>Living</td>\n",
              "      <td>Living</td>\n",
              "      <td>R0:  No residual tumor</td>\n",
              "      <td>Alcohol consumption equal to or less than 2 dr...</td>\n",
              "      <td>Current smoker: Includes daily and non-daily s...</td>\n",
              "      <td>NaN</td>\n",
              "      <td>Tumor Free</td>\n",
              "      <td>With Tumor</td>\n",
              "      <td>330.0</td>\n",
              "      <td>701.0</td>\n",
              "      <td>[{'specimen_id': 'C3L-00086-31', 'tissue_type'...</td>\n",
              "      <td>2019-07-10T00:19:58.000Z</td>\n",
              "      <td>2020-05-13T19:53:47.602Z</td>\n",
              "      <td>NaN</td>\n",
              "      <td>NaN</td>\n",
              "      <td>NaN</td>\n",
              "      <td>NaN</td>\n",
              "      <td>Both Anterior and Posterior Endometrium</td>\n",
              "      <td>Living</td>\n",
              "      <td>With Tumor</td>\n",
              "      <td>1046.0</td>\n",
              "      <td>NaN</td>\n",
              "      <td>NaN</td>\n",
              "      <td>NaN</td>\n",
              "      <td>NaN</td>\n",
              "      <td>NaN</td>\n",
              "      <td>NaN</td>\n",
              "      <td>NaN</td>\n",
              "      <td>NaN</td>\n",
              "      <td>NaN</td>\n",
              "      <td>NaN</td>\n",
              "      <td>NaN</td>\n",
              "    </tr>\n",
              "    <tr>\n",
              "      <th>4</th>\n",
              "      <td>4</td>\n",
              "      <td>UCEC</td>\n",
              "      <td>C3L-00090</td>\n",
              "      <td>Yes</td>\n",
              "      <td>Female</td>\n",
              "      <td>75</td>\n",
              "      <td>165.0</td>\n",
              "      <td>89.0</td>\n",
              "      <td>32.69</td>\n",
              "      <td>White</td>\n",
              "      <td>Not-Hispanic or Latino</td>\n",
              "      <td>Other</td>\n",
              "      <td>3.5</td>\n",
              "      <td>Endometrioid carcinoma</td>\n",
              "      <td>G2 Moderately differentiated</td>\n",
              "      <td>Stage I</td>\n",
              "      <td>Seventh Edition (2010)</td>\n",
              "      <td>pT1a (FIGO IA)</td>\n",
              "      <td>pNX</td>\n",
              "      <td>No pathologic evidence of distant metastasis</td>\n",
              "      <td>cM0</td>\n",
              "      <td>Living</td>\n",
              "      <td>Living</td>\n",
              "      <td>R0:  No residual tumor</td>\n",
              "      <td>Alcohol consumption history not available</td>\n",
              "      <td>Current reformed smoker within past 15 years</td>\n",
              "      <td>7.5</td>\n",
              "      <td>With Tumor</td>\n",
              "      <td>With Tumor</td>\n",
              "      <td>433.0</td>\n",
              "      <td>672.0</td>\n",
              "      <td>[{'specimen_id': 'C3L-00090-31', 'tissue_type'...</td>\n",
              "      <td>2019-07-10T00:19:58.000Z</td>\n",
              "      <td>2020-05-13T19:53:49.906Z</td>\n",
              "      <td>Tumor</td>\n",
              "      <td>Deceased</td>\n",
              "      <td>With Tumor</td>\n",
              "      <td>1279.0</td>\n",
              "      <td>Anterior and Posterior</td>\n",
              "      <td>Living</td>\n",
              "      <td>With Tumor</td>\n",
              "      <td>1035.0</td>\n",
              "      <td>Other : Lung cancer</td>\n",
              "      <td>1281.0</td>\n",
              "      <td>NaN</td>\n",
              "      <td>NaN</td>\n",
              "      <td>NaN</td>\n",
              "      <td>NaN</td>\n",
              "      <td>NaN</td>\n",
              "      <td>NaN</td>\n",
              "      <td>NaN</td>\n",
              "      <td>NaN</td>\n",
              "      <td>NaN</td>\n",
              "    </tr>\n",
              "    <tr>\n",
              "      <th>...</th>\n",
              "      <td>...</td>\n",
              "      <td>...</td>\n",
              "      <td>...</td>\n",
              "      <td>...</td>\n",
              "      <td>...</td>\n",
              "      <td>...</td>\n",
              "      <td>...</td>\n",
              "      <td>...</td>\n",
              "      <td>...</td>\n",
              "      <td>...</td>\n",
              "      <td>...</td>\n",
              "      <td>...</td>\n",
              "      <td>...</td>\n",
              "      <td>...</td>\n",
              "      <td>...</td>\n",
              "      <td>...</td>\n",
              "      <td>...</td>\n",
              "      <td>...</td>\n",
              "      <td>...</td>\n",
              "      <td>...</td>\n",
              "      <td>...</td>\n",
              "      <td>...</td>\n",
              "      <td>...</td>\n",
              "      <td>...</td>\n",
              "      <td>...</td>\n",
              "      <td>...</td>\n",
              "      <td>...</td>\n",
              "      <td>...</td>\n",
              "      <td>...</td>\n",
              "      <td>...</td>\n",
              "      <td>...</td>\n",
              "      <td>...</td>\n",
              "      <td>...</td>\n",
              "      <td>...</td>\n",
              "      <td>...</td>\n",
              "      <td>...</td>\n",
              "      <td>...</td>\n",
              "      <td>...</td>\n",
              "      <td>...</td>\n",
              "      <td>...</td>\n",
              "      <td>...</td>\n",
              "      <td>...</td>\n",
              "      <td>...</td>\n",
              "      <td>...</td>\n",
              "      <td>...</td>\n",
              "      <td>...</td>\n",
              "      <td>...</td>\n",
              "      <td>...</td>\n",
              "      <td>...</td>\n",
              "      <td>...</td>\n",
              "      <td>...</td>\n",
              "      <td>...</td>\n",
              "      <td>...</td>\n",
              "    </tr>\n",
              "    <tr>\n",
              "      <th>245</th>\n",
              "      <td>245</td>\n",
              "      <td>UCEC</td>\n",
              "      <td>C3N-02437</td>\n",
              "      <td>No</td>\n",
              "      <td>Female</td>\n",
              "      <td>61</td>\n",
              "      <td>163.0</td>\n",
              "      <td>156.0</td>\n",
              "      <td>58.87</td>\n",
              "      <td>White</td>\n",
              "      <td>Not-Hispanic or Latino</td>\n",
              "      <td>Other, specify</td>\n",
              "      <td>4.8</td>\n",
              "      <td>Endometrioid carcinoma</td>\n",
              "      <td>G2 Moderately differentiated</td>\n",
              "      <td>Stage III</td>\n",
              "      <td>Seventh Edition (2010)</td>\n",
              "      <td>pT3a (FIGO IIIA)</td>\n",
              "      <td>pN0</td>\n",
              "      <td>Staging Incomplete</td>\n",
              "      <td>Staging Incomplete</td>\n",
              "      <td>Living</td>\n",
              "      <td>Living</td>\n",
              "      <td>RX: Presence of residual tumor cannot be assessed</td>\n",
              "      <td>Lifelong non-drinker</td>\n",
              "      <td>Lifelong non-smoker: Less than 100 cigarettes ...</td>\n",
              "      <td>NaN</td>\n",
              "      <td>Tumor Free</td>\n",
              "      <td>Tumor Free</td>\n",
              "      <td>308.0</td>\n",
              "      <td>764.0</td>\n",
              "      <td>[{'specimen_id': 'C3N-02437-01', 'slide_id': '...</td>\n",
              "      <td>2020-04-24T13:56:25.181Z</td>\n",
              "      <td>2020-05-13T19:53:51.692Z</td>\n",
              "      <td>NaN</td>\n",
              "      <td>NaN</td>\n",
              "      <td>NaN</td>\n",
              "      <td>NaN</td>\n",
              "      <td>anterior and posterior</td>\n",
              "      <td>NaN</td>\n",
              "      <td>NaN</td>\n",
              "      <td>NaN</td>\n",
              "      <td>NaN</td>\n",
              "      <td>NaN</td>\n",
              "      <td>NaN</td>\n",
              "      <td>NaN</td>\n",
              "      <td>NaN</td>\n",
              "      <td>NaN</td>\n",
              "      <td>NaN</td>\n",
              "      <td>NaN</td>\n",
              "      <td>NaN</td>\n",
              "      <td>NaN</td>\n",
              "      <td>NaN</td>\n",
              "    </tr>\n",
              "    <tr>\n",
              "      <th>246</th>\n",
              "      <td>246</td>\n",
              "      <td>UCEC</td>\n",
              "      <td>C3N-02636</td>\n",
              "      <td>No</td>\n",
              "      <td>Female</td>\n",
              "      <td>72</td>\n",
              "      <td>157.0</td>\n",
              "      <td>83.0</td>\n",
              "      <td>33.00</td>\n",
              "      <td>NaN</td>\n",
              "      <td>NaN</td>\n",
              "      <td>Other, specify</td>\n",
              "      <td>5.5</td>\n",
              "      <td>Endometrioid carcinoma</td>\n",
              "      <td>G1 Well differentiated</td>\n",
              "      <td>Stage I</td>\n",
              "      <td>Seventh Edition (2010)</td>\n",
              "      <td>pT1b (FIGO IB)</td>\n",
              "      <td>pN0</td>\n",
              "      <td>No pathologic evidence of distant metastasis</td>\n",
              "      <td>cM0</td>\n",
              "      <td>Living</td>\n",
              "      <td>Living</td>\n",
              "      <td>R0: No residual tumor</td>\n",
              "      <td>Lifelong non-drinker</td>\n",
              "      <td>Lifelong non-smoker: Less than 100 cigarettes ...</td>\n",
              "      <td>NaN</td>\n",
              "      <td>Tumor Free</td>\n",
              "      <td>Tumor Free</td>\n",
              "      <td>361.0</td>\n",
              "      <td>676.0</td>\n",
              "      <td>[{'specimen_id': 'C3N-02636-01', 'slide_id': '...</td>\n",
              "      <td>2020-04-24T13:56:25.374Z</td>\n",
              "      <td>2020-04-24T13:56:25.374Z</td>\n",
              "      <td>NaN</td>\n",
              "      <td>NaN</td>\n",
              "      <td>NaN</td>\n",
              "      <td>NaN</td>\n",
              "      <td>Fundus (main tumor) and isthmus (implants)</td>\n",
              "      <td>NaN</td>\n",
              "      <td>NaN</td>\n",
              "      <td>NaN</td>\n",
              "      <td>NaN</td>\n",
              "      <td>NaN</td>\n",
              "      <td>NaN</td>\n",
              "      <td>NaN</td>\n",
              "      <td>NaN</td>\n",
              "      <td>NaN</td>\n",
              "      <td>NaN</td>\n",
              "      <td>NaN</td>\n",
              "      <td>NaN</td>\n",
              "      <td>NaN</td>\n",
              "      <td>NaN</td>\n",
              "    </tr>\n",
              "    <tr>\n",
              "      <th>247</th>\n",
              "      <td>247</td>\n",
              "      <td>UCEC</td>\n",
              "      <td>C3N-02976</td>\n",
              "      <td>No</td>\n",
              "      <td>Female</td>\n",
              "      <td>70</td>\n",
              "      <td>162.0</td>\n",
              "      <td>71.0</td>\n",
              "      <td>27.00</td>\n",
              "      <td>NaN</td>\n",
              "      <td>NaN</td>\n",
              "      <td>Fundus</td>\n",
              "      <td>3.0</td>\n",
              "      <td>Endometrioid carcinoma</td>\n",
              "      <td>G3 Poorly differentiated</td>\n",
              "      <td>Stage I</td>\n",
              "      <td>Seventh Edition (2010)</td>\n",
              "      <td>pT1a (FIGO IA)</td>\n",
              "      <td>pN0</td>\n",
              "      <td>No pathologic evidence of distant metastasis</td>\n",
              "      <td>cM0</td>\n",
              "      <td>Living</td>\n",
              "      <td>Living</td>\n",
              "      <td>R0: No residual tumor</td>\n",
              "      <td>Lifelong non-drinker</td>\n",
              "      <td>Lifelong non-smoker: Less than 100 cigarettes ...</td>\n",
              "      <td>NaN</td>\n",
              "      <td>Tumor Free</td>\n",
              "      <td>Tumor Free</td>\n",
              "      <td>364.0</td>\n",
              "      <td>670.0</td>\n",
              "      <td>[{'specimen_id': 'C3N-02976-01', 'slide_id': '...</td>\n",
              "      <td>2020-04-24T13:56:25.597Z</td>\n",
              "      <td>2020-05-08T20:52:16.202Z</td>\n",
              "      <td>NaN</td>\n",
              "      <td>NaN</td>\n",
              "      <td>NaN</td>\n",
              "      <td>NaN</td>\n",
              "      <td>NaN</td>\n",
              "      <td>NaN</td>\n",
              "      <td>NaN</td>\n",
              "      <td>NaN</td>\n",
              "      <td>NaN</td>\n",
              "      <td>NaN</td>\n",
              "      <td>NaN</td>\n",
              "      <td>NaN</td>\n",
              "      <td>NaN</td>\n",
              "      <td>NaN</td>\n",
              "      <td>NaN</td>\n",
              "      <td>NaN</td>\n",
              "      <td>NaN</td>\n",
              "      <td>NaN</td>\n",
              "      <td>NaN</td>\n",
              "    </tr>\n",
              "    <tr>\n",
              "      <th>248</th>\n",
              "      <td>248</td>\n",
              "      <td>UCEC</td>\n",
              "      <td>C3L-01284</td>\n",
              "      <td>NaN</td>\n",
              "      <td>Female</td>\n",
              "      <td>49</td>\n",
              "      <td>155.0</td>\n",
              "      <td>51.0</td>\n",
              "      <td>21.23</td>\n",
              "      <td>Asian</td>\n",
              "      <td>Not-Hispanic or Latino</td>\n",
              "      <td>Other, specify</td>\n",
              "      <td>7.0</td>\n",
              "      <td>Endometrioid carcinoma</td>\n",
              "      <td>G1 Well differentiated</td>\n",
              "      <td>Stage I</td>\n",
              "      <td>Seventh Edition (2010)</td>\n",
              "      <td>pT1a (FIGO IA)</td>\n",
              "      <td>pN0</td>\n",
              "      <td>No pathologic evidence of distant metastasis</td>\n",
              "      <td>cM0</td>\n",
              "      <td>Living</td>\n",
              "      <td>NaN</td>\n",
              "      <td>R0:  No residual tumor</td>\n",
              "      <td>Alcohol consumption equal to or less than 2 dr...</td>\n",
              "      <td>Current reformed smoker, more than 15 years</td>\n",
              "      <td>NaN</td>\n",
              "      <td>Tumor Free</td>\n",
              "      <td>NaN</td>\n",
              "      <td>357.0</td>\n",
              "      <td>NaN</td>\n",
              "      <td>[{'specimen_id': 'C3L-01284-31', 'tissue_type'...</td>\n",
              "      <td>2020-05-11T14:09:06.757Z</td>\n",
              "      <td>2020-05-11T14:28:17.997Z</td>\n",
              "      <td>NaN</td>\n",
              "      <td>NaN</td>\n",
              "      <td>NaN</td>\n",
              "      <td>NaN</td>\n",
              "      <td>Both anterior and posterior</td>\n",
              "      <td>NaN</td>\n",
              "      <td>NaN</td>\n",
              "      <td>NaN</td>\n",
              "      <td>NaN</td>\n",
              "      <td>NaN</td>\n",
              "      <td>NaN</td>\n",
              "      <td>NaN</td>\n",
              "      <td>NaN</td>\n",
              "      <td>NaN</td>\n",
              "      <td>NaN</td>\n",
              "      <td>NaN</td>\n",
              "      <td>NaN</td>\n",
              "      <td>NaN</td>\n",
              "      <td>NaN</td>\n",
              "    </tr>\n",
              "    <tr>\n",
              "      <th>249</th>\n",
              "      <td>249</td>\n",
              "      <td>UCEC</td>\n",
              "      <td>C3L-00084</td>\n",
              "      <td>NaN</td>\n",
              "      <td>Female</td>\n",
              "      <td>74</td>\n",
              "      <td>162.0</td>\n",
              "      <td>130.0</td>\n",
              "      <td>49.23</td>\n",
              "      <td>White</td>\n",
              "      <td>Not-Hispanic or Latino</td>\n",
              "      <td>Posterior endometrium</td>\n",
              "      <td>4.5</td>\n",
              "      <td>Carcinosarcoma</td>\n",
              "      <td>G3 Poorly differentiated</td>\n",
              "      <td>Stage I</td>\n",
              "      <td>Seventh Edition (2010)</td>\n",
              "      <td>pT1a (FIGO IA)</td>\n",
              "      <td>pN0</td>\n",
              "      <td>Staging Incomplete</td>\n",
              "      <td>cM0</td>\n",
              "      <td>Living</td>\n",
              "      <td>NaN</td>\n",
              "      <td>R0: No residual tumor</td>\n",
              "      <td>Lifelong non-drinker</td>\n",
              "      <td>Current reformed smoker, more than 15 years</td>\n",
              "      <td>5.0</td>\n",
              "      <td>Tumor Free</td>\n",
              "      <td>NaN</td>\n",
              "      <td>335.0</td>\n",
              "      <td>NaN</td>\n",
              "      <td>[{'specimen_id': 'C3L-00084-01', 'slide_id': '...</td>\n",
              "      <td>2020-05-11T14:28:20.830Z</td>\n",
              "      <td>2020-05-11T14:28:20.830Z</td>\n",
              "      <td>NaN</td>\n",
              "      <td>NaN</td>\n",
              "      <td>NaN</td>\n",
              "      <td>NaN</td>\n",
              "      <td>NaN</td>\n",
              "      <td>NaN</td>\n",
              "      <td>NaN</td>\n",
              "      <td>NaN</td>\n",
              "      <td>NaN</td>\n",
              "      <td>NaN</td>\n",
              "      <td>NaN</td>\n",
              "      <td>NaN</td>\n",
              "      <td>NaN</td>\n",
              "      <td>NaN</td>\n",
              "      <td>NaN</td>\n",
              "      <td>NaN</td>\n",
              "      <td>NaN</td>\n",
              "      <td>NaN</td>\n",
              "      <td>NaN</td>\n",
              "    </tr>\n",
              "  </tbody>\n",
              "</table>\n",
              "<p>250 rows × 53 columns</p>\n",
              "</div>"
            ],
            "text/plain": [
              "     Unnamed: 0  ... histologic_type_other\n",
              "0             0  ...                   NaN\n",
              "1             1  ...                   NaN\n",
              "2             2  ...                   NaN\n",
              "3             3  ...                   NaN\n",
              "4             4  ...                   NaN\n",
              "..          ...  ...                   ...\n",
              "245         245  ...                   NaN\n",
              "246         246  ...                   NaN\n",
              "247         247  ...                   NaN\n",
              "248         248  ...                   NaN\n",
              "249         249  ...                   NaN\n",
              "\n",
              "[250 rows x 53 columns]"
            ]
          },
          "metadata": {
            "tags": []
          },
          "execution_count": 52
        }
      ]
    },
    {
      "cell_type": "code",
      "metadata": {
        "colab_type": "code",
        "id": "busUwIdNf_X6",
        "colab": {
          "base_uri": "https://localhost:8080/",
          "height": 407
        },
        "outputId": "c31be3f3-b2bc-44c1-99cc-88db023a014a"
      },
      "source": [
        "py_ucec_df[['case_id', 'histologic_grade', 'histologic_type']]"
      ],
      "execution_count": null,
      "outputs": [
        {
          "output_type": "execute_result",
          "data": {
            "text/html": [
              "<div>\n",
              "<style scoped>\n",
              "    .dataframe tbody tr th:only-of-type {\n",
              "        vertical-align: middle;\n",
              "    }\n",
              "\n",
              "    .dataframe tbody tr th {\n",
              "        vertical-align: top;\n",
              "    }\n",
              "\n",
              "    .dataframe thead th {\n",
              "        text-align: right;\n",
              "    }\n",
              "</style>\n",
              "<table border=\"1\" class=\"dataframe\">\n",
              "  <thead>\n",
              "    <tr style=\"text-align: right;\">\n",
              "      <th></th>\n",
              "      <th>case_id</th>\n",
              "      <th>histologic_grade</th>\n",
              "      <th>histologic_type</th>\n",
              "    </tr>\n",
              "  </thead>\n",
              "  <tbody>\n",
              "    <tr>\n",
              "      <th>0</th>\n",
              "      <td>C3L-00006</td>\n",
              "      <td>G1 Well differentiated</td>\n",
              "      <td>Endometrioid carcinoma</td>\n",
              "    </tr>\n",
              "    <tr>\n",
              "      <th>1</th>\n",
              "      <td>C3L-00008</td>\n",
              "      <td>G1 Well differentiated</td>\n",
              "      <td>Endometrioid carcinoma</td>\n",
              "    </tr>\n",
              "    <tr>\n",
              "      <th>2</th>\n",
              "      <td>C3L-00032</td>\n",
              "      <td>G2 Moderately differentiated</td>\n",
              "      <td>Endometrioid carcinoma</td>\n",
              "    </tr>\n",
              "    <tr>\n",
              "      <th>3</th>\n",
              "      <td>C3L-00086</td>\n",
              "      <td>G1 Well differentiated</td>\n",
              "      <td>Endometrioid carcinoma</td>\n",
              "    </tr>\n",
              "    <tr>\n",
              "      <th>4</th>\n",
              "      <td>C3L-00090</td>\n",
              "      <td>G2 Moderately differentiated</td>\n",
              "      <td>Endometrioid carcinoma</td>\n",
              "    </tr>\n",
              "    <tr>\n",
              "      <th>...</th>\n",
              "      <td>...</td>\n",
              "      <td>...</td>\n",
              "      <td>...</td>\n",
              "    </tr>\n",
              "    <tr>\n",
              "      <th>245</th>\n",
              "      <td>C3N-02437</td>\n",
              "      <td>G2 Moderately differentiated</td>\n",
              "      <td>Endometrioid carcinoma</td>\n",
              "    </tr>\n",
              "    <tr>\n",
              "      <th>246</th>\n",
              "      <td>C3N-02636</td>\n",
              "      <td>G1 Well differentiated</td>\n",
              "      <td>Endometrioid carcinoma</td>\n",
              "    </tr>\n",
              "    <tr>\n",
              "      <th>247</th>\n",
              "      <td>C3N-02976</td>\n",
              "      <td>G3 Poorly differentiated</td>\n",
              "      <td>Endometrioid carcinoma</td>\n",
              "    </tr>\n",
              "    <tr>\n",
              "      <th>248</th>\n",
              "      <td>C3L-01284</td>\n",
              "      <td>G1 Well differentiated</td>\n",
              "      <td>Endometrioid carcinoma</td>\n",
              "    </tr>\n",
              "    <tr>\n",
              "      <th>249</th>\n",
              "      <td>C3L-00084</td>\n",
              "      <td>G3 Poorly differentiated</td>\n",
              "      <td>Carcinosarcoma</td>\n",
              "    </tr>\n",
              "  </tbody>\n",
              "</table>\n",
              "<p>250 rows × 3 columns</p>\n",
              "</div>"
            ],
            "text/plain": [
              "       case_id              histologic_grade         histologic_type\n",
              "0    C3L-00006        G1 Well differentiated  Endometrioid carcinoma\n",
              "1    C3L-00008        G1 Well differentiated  Endometrioid carcinoma\n",
              "2    C3L-00032  G2 Moderately differentiated  Endometrioid carcinoma\n",
              "3    C3L-00086        G1 Well differentiated  Endometrioid carcinoma\n",
              "4    C3L-00090  G2 Moderately differentiated  Endometrioid carcinoma\n",
              "..         ...                           ...                     ...\n",
              "245  C3N-02437  G2 Moderately differentiated  Endometrioid carcinoma\n",
              "246  C3N-02636        G1 Well differentiated  Endometrioid carcinoma\n",
              "247  C3N-02976      G3 Poorly differentiated  Endometrioid carcinoma\n",
              "248  C3L-01284        G1 Well differentiated  Endometrioid carcinoma\n",
              "249  C3L-00084      G3 Poorly differentiated          Carcinosarcoma\n",
              "\n",
              "[250 rows x 3 columns]"
            ]
          },
          "metadata": {
            "tags": []
          },
          "execution_count": 17
        }
      ]
    },
    {
      "cell_type": "code",
      "metadata": {
        "id": "nPvcA5Kdh5-k",
        "colab_type": "code",
        "colab": {}
      },
      "source": [
        "ucec_case_names=[]\n",
        "ucec_grade=[]\n",
        "ucec_type=[]\n",
        "for i in range(len(py_ucec_df[['case_id', 'histologic_grade', 'histologic_type']])):\n",
        "  ucec_case_names.append(py_ucec_df[['case_id', 'histologic_grade', 'histologic_type']]['case_id'][i])\n",
        "  ucec_grade.append(py_ucec_df[['case_id', 'histologic_grade', 'histologic_type']]['histologic_grade'][i])\n",
        "  ucec_type.append(py_ucec_df[['case_id', 'histologic_grade', 'histologic_type']]['histologic_type'][i])"
      ],
      "execution_count": null,
      "outputs": []
    },
    {
      "cell_type": "code",
      "metadata": {
        "id": "HnO5AHoYicpi",
        "colab_type": "code",
        "colab": {
          "base_uri": "https://localhost:8080/",
          "height": 104
        },
        "outputId": "51504db7-c6ca-4948-d6e3-8fc6a33b2819"
      },
      "source": [
        "set(ucec_grade), len(ucec_grade)"
      ],
      "execution_count": null,
      "outputs": [
        {
          "output_type": "execute_result",
          "data": {
            "text/plain": [
              "({'G1 Well differentiated',\n",
              "  'G2 Moderately differentiated',\n",
              "  'G3 Poorly differentiated',\n",
              "  'Other'},\n",
              " 250)"
            ]
          },
          "metadata": {
            "tags": []
          },
          "execution_count": 29
        }
      ]
    },
    {
      "cell_type": "code",
      "metadata": {
        "id": "-Ge6VYvvipsv",
        "colab_type": "code",
        "colab": {
          "base_uri": "https://localhost:8080/",
          "height": 157
        },
        "outputId": "e83c03b1-9649-471c-ed05-d8d3b378d61c"
      },
      "source": [
        "set(ucec_type), len(ucec_type)"
      ],
      "execution_count": null,
      "outputs": [
        {
          "output_type": "execute_result",
          "data": {
            "text/plain": [
              "({'Carcinosarcoma',\n",
              "  'Clear cell carcinoma',\n",
              "  'Endometrioid carcinoma',\n",
              "  'Mixed cell adenocarcinoma',\n",
              "  'Mucinous carcinoma',\n",
              "  'Other',\n",
              "  'Serous carcinoma'},\n",
              " 250)"
            ]
          },
          "metadata": {
            "tags": []
          },
          "execution_count": 30
        }
      ]
    },
    {
      "cell_type": "code",
      "metadata": {
        "id": "IdwQ78el6owG",
        "colab_type": "code",
        "colab": {
          "base_uri": "https://localhost:8080/",
          "height": 34
        },
        "outputId": "740f1716-8b62-4b83-f003-63cd6bcb4822"
      },
      "source": [
        "path_ucec = '/content/drive/My Drive/ImageAnalysis/digital_pathology/ImageDataset/EMCA/CPTAC-UCEC'\n",
        "%cd $path_ucec"
      ],
      "execution_count": null,
      "outputs": [
        {
          "output_type": "stream",
          "text": [
            "/content/drive/My Drive/ImageAnalysis/digital_pathology/ImageDataset/EMCA/CPTAC-UCEC\n"
          ],
          "name": "stdout"
        }
      ]
    },
    {
      "cell_type": "code",
      "metadata": {
        "id": "8zp4zz8ahmbj",
        "colab_type": "code",
        "colab": {
          "base_uri": "https://localhost:8080/",
          "height": 52
        },
        "outputId": "b8eb6965-0ca9-4126-c6c1-04b3a9c7a90a"
      },
      "source": [
        "file_name = py_ucec_df[['case_id', 'histologic_grade', 'histologic_type']]['case_id'][0]\n",
        "glob.glob(path_ucec+'/'+file_name+'*.svs')"
      ],
      "execution_count": null,
      "outputs": [
        {
          "output_type": "execute_result",
          "data": {
            "text/plain": [
              "['/content/drive/My Drive/ImageAnalysis/digital_pathology/ImageDataset/EMCA/CPTAC-UCEC/C3L-00006-26.svs',\n",
              " '/content/drive/My Drive/ImageAnalysis/digital_pathology/ImageDataset/EMCA/CPTAC-UCEC/C3L-00006-21.svs']"
            ]
          },
          "metadata": {
            "tags": []
          },
          "execution_count": 46
        }
      ]
    },
    {
      "cell_type": "code",
      "metadata": {
        "id": "JbYplJagkWc2",
        "colab_type": "code",
        "colab": {}
      },
      "source": [
        "# Get Image names stored in \"Images\" folder\n",
        "ucec_path_names=[]\n",
        "for file_name in ucec_case_names:\n",
        "  for file in glob.glob(path_ucec+'/'+file_name+'*.svs'):\n",
        "    ucec_path_names.append(file)"
      ],
      "execution_count": null,
      "outputs": []
    },
    {
      "cell_type": "code",
      "metadata": {
        "id": "89UENYDzj2CZ",
        "colab_type": "code",
        "colab": {
          "base_uri": "https://localhost:8080/",
          "height": 34
        },
        "outputId": "134ded50-a0ed-4ce9-f506-f4dbee5a482d"
      },
      "source": [
        "len(ucec_path_names)"
      ],
      "execution_count": null,
      "outputs": [
        {
          "output_type": "execute_result",
          "data": {
            "text/plain": [
              "879"
            ]
          },
          "metadata": {
            "tags": []
          },
          "execution_count": 42
        }
      ]
    },
    {
      "cell_type": "code",
      "metadata": {
        "id": "GuxaVHajm1H3",
        "colab_type": "code",
        "colab": {
          "base_uri": "https://localhost:8080/",
          "height": 377
        },
        "outputId": "82a6058e-969b-4f38-e8e6-7f95fc5a9b58"
      },
      "source": [
        "py_ucec_df.groupby(ucec_type).count()"
      ],
      "execution_count": null,
      "outputs": [
        {
          "output_type": "execute_result",
          "data": {
            "text/html": [
              "<div>\n",
              "<style scoped>\n",
              "    .dataframe tbody tr th:only-of-type {\n",
              "        vertical-align: middle;\n",
              "    }\n",
              "\n",
              "    .dataframe tbody tr th {\n",
              "        vertical-align: top;\n",
              "    }\n",
              "\n",
              "    .dataframe thead th {\n",
              "        text-align: right;\n",
              "    }\n",
              "</style>\n",
              "<table border=\"1\" class=\"dataframe\">\n",
              "  <thead>\n",
              "    <tr style=\"text-align: right;\">\n",
              "      <th></th>\n",
              "      <th>Unnamed: 0</th>\n",
              "      <th>tumor_code</th>\n",
              "      <th>case_id</th>\n",
              "      <th>discovery_study</th>\n",
              "      <th>gender</th>\n",
              "      <th>age</th>\n",
              "      <th>height_in_cm</th>\n",
              "      <th>weight_in_kg</th>\n",
              "      <th>BMI</th>\n",
              "      <th>race</th>\n",
              "      <th>ethnicity</th>\n",
              "      <th>tumor_site</th>\n",
              "      <th>tumor_size_in_cm</th>\n",
              "      <th>histologic_type</th>\n",
              "      <th>histologic_grade</th>\n",
              "      <th>tumor_stage_pathological</th>\n",
              "      <th>AJCC_or_TNM_cancer_staging_edition</th>\n",
              "      <th>pathologic_staging_primary_tumor_pT</th>\n",
              "      <th>pathologic_staging_regional_lymph_nodes_pN</th>\n",
              "      <th>pathologic_staging_distant_metastasis_pM</th>\n",
              "      <th>clinical_staging_distant_metastasis_cM</th>\n",
              "      <th>vital_status_at_12months_follow_up</th>\n",
              "      <th>vital_status_at_24months_follow_up</th>\n",
              "      <th>residual_tumor</th>\n",
              "      <th>alcohol_consumption</th>\n",
              "      <th>tobacco_smoking_history</th>\n",
              "      <th>number_of_pack_years_smoked</th>\n",
              "      <th>tumor_status_at_12months_follow_up</th>\n",
              "      <th>tumor_status_at_24months_follow_up</th>\n",
              "      <th>days_from_initial_diagnosis_to_last_contact_at_12months_follow_up</th>\n",
              "      <th>days_from_initial_diagnosis_to_last_contact_at_24months_follow_up</th>\n",
              "      <th>specimens</th>\n",
              "      <th>inserted</th>\n",
              "      <th>updated</th>\n",
              "      <th>discovery_study/analyzed_samples</th>\n",
              "      <th>vital_status_at_48months_follow_up</th>\n",
              "      <th>tumor_status_at_48months_follow_up</th>\n",
              "      <th>days_from_initial_diagnosis_to_last_contact_at_48months_follow_up</th>\n",
              "      <th>tumor_site_other</th>\n",
              "      <th>vital_status_at_36months_follow_up</th>\n",
              "      <th>tumor_status_at_36months_follow_up</th>\n",
              "      <th>days_from_initial_diagnosis_to_last_contact_at_36months_follow_up</th>\n",
              "      <th>cause_of_death_at_48months_follow_up</th>\n",
              "      <th>days_from_initial_pathologic_diagnosis_to_death_at_48months_follow_up</th>\n",
              "      <th>histologic_grade_other</th>\n",
              "      <th>cause_of_death_at_24months_follow_up</th>\n",
              "      <th>days_from_initial_pathologic_diagnosis_to_death_at_24months_follow_up</th>\n",
              "      <th>number_of_years_consumed_more_than_2_drinks_per_day_for_men_or_more_than_1_for_women</th>\n",
              "      <th>cause_of_death_at_12months_follow_up</th>\n",
              "      <th>days_from_initial_pathologic_diagnosis_to_death_at_12months_follow_up</th>\n",
              "      <th>cause_of_death_at_36months_follow_up</th>\n",
              "      <th>days_from_initial_pathologic_diagnosis_to_death_at_36months_follow_up</th>\n",
              "      <th>histologic_type_other</th>\n",
              "    </tr>\n",
              "  </thead>\n",
              "  <tbody>\n",
              "    <tr>\n",
              "      <th>Carcinosarcoma</th>\n",
              "      <td>2</td>\n",
              "      <td>2</td>\n",
              "      <td>2</td>\n",
              "      <td>1</td>\n",
              "      <td>2</td>\n",
              "      <td>2</td>\n",
              "      <td>2</td>\n",
              "      <td>2</td>\n",
              "      <td>2</td>\n",
              "      <td>2</td>\n",
              "      <td>2</td>\n",
              "      <td>2</td>\n",
              "      <td>2</td>\n",
              "      <td>2</td>\n",
              "      <td>2</td>\n",
              "      <td>2</td>\n",
              "      <td>2</td>\n",
              "      <td>2</td>\n",
              "      <td>2</td>\n",
              "      <td>2</td>\n",
              "      <td>2</td>\n",
              "      <td>2</td>\n",
              "      <td>1</td>\n",
              "      <td>2</td>\n",
              "      <td>2</td>\n",
              "      <td>2</td>\n",
              "      <td>1</td>\n",
              "      <td>2</td>\n",
              "      <td>1</td>\n",
              "      <td>2</td>\n",
              "      <td>1</td>\n",
              "      <td>2</td>\n",
              "      <td>2</td>\n",
              "      <td>2</td>\n",
              "      <td>1</td>\n",
              "      <td>0</td>\n",
              "      <td>0</td>\n",
              "      <td>0</td>\n",
              "      <td>1</td>\n",
              "      <td>1</td>\n",
              "      <td>1</td>\n",
              "      <td>1</td>\n",
              "      <td>0</td>\n",
              "      <td>0</td>\n",
              "      <td>0</td>\n",
              "      <td>0</td>\n",
              "      <td>0</td>\n",
              "      <td>0</td>\n",
              "      <td>0</td>\n",
              "      <td>0</td>\n",
              "      <td>0</td>\n",
              "      <td>0</td>\n",
              "      <td>0</td>\n",
              "    </tr>\n",
              "    <tr>\n",
              "      <th>Clear cell carcinoma</th>\n",
              "      <td>3</td>\n",
              "      <td>3</td>\n",
              "      <td>3</td>\n",
              "      <td>3</td>\n",
              "      <td>3</td>\n",
              "      <td>3</td>\n",
              "      <td>3</td>\n",
              "      <td>3</td>\n",
              "      <td>3</td>\n",
              "      <td>2</td>\n",
              "      <td>2</td>\n",
              "      <td>3</td>\n",
              "      <td>3</td>\n",
              "      <td>3</td>\n",
              "      <td>3</td>\n",
              "      <td>3</td>\n",
              "      <td>3</td>\n",
              "      <td>3</td>\n",
              "      <td>3</td>\n",
              "      <td>3</td>\n",
              "      <td>3</td>\n",
              "      <td>3</td>\n",
              "      <td>3</td>\n",
              "      <td>3</td>\n",
              "      <td>3</td>\n",
              "      <td>3</td>\n",
              "      <td>0</td>\n",
              "      <td>3</td>\n",
              "      <td>3</td>\n",
              "      <td>3</td>\n",
              "      <td>3</td>\n",
              "      <td>3</td>\n",
              "      <td>3</td>\n",
              "      <td>3</td>\n",
              "      <td>1</td>\n",
              "      <td>0</td>\n",
              "      <td>0</td>\n",
              "      <td>0</td>\n",
              "      <td>1</td>\n",
              "      <td>1</td>\n",
              "      <td>1</td>\n",
              "      <td>1</td>\n",
              "      <td>0</td>\n",
              "      <td>0</td>\n",
              "      <td>0</td>\n",
              "      <td>0</td>\n",
              "      <td>0</td>\n",
              "      <td>0</td>\n",
              "      <td>0</td>\n",
              "      <td>0</td>\n",
              "      <td>0</td>\n",
              "      <td>0</td>\n",
              "      <td>0</td>\n",
              "    </tr>\n",
              "    <tr>\n",
              "      <th>Endometrioid carcinoma</th>\n",
              "      <td>209</td>\n",
              "      <td>209</td>\n",
              "      <td>209</td>\n",
              "      <td>208</td>\n",
              "      <td>209</td>\n",
              "      <td>209</td>\n",
              "      <td>201</td>\n",
              "      <td>201</td>\n",
              "      <td>201</td>\n",
              "      <td>120</td>\n",
              "      <td>120</td>\n",
              "      <td>209</td>\n",
              "      <td>198</td>\n",
              "      <td>209</td>\n",
              "      <td>209</td>\n",
              "      <td>201</td>\n",
              "      <td>201</td>\n",
              "      <td>201</td>\n",
              "      <td>201</td>\n",
              "      <td>201</td>\n",
              "      <td>201</td>\n",
              "      <td>198</td>\n",
              "      <td>177</td>\n",
              "      <td>201</td>\n",
              "      <td>201</td>\n",
              "      <td>201</td>\n",
              "      <td>26</td>\n",
              "      <td>198</td>\n",
              "      <td>177</td>\n",
              "      <td>196</td>\n",
              "      <td>177</td>\n",
              "      <td>209</td>\n",
              "      <td>209</td>\n",
              "      <td>209</td>\n",
              "      <td>86</td>\n",
              "      <td>3</td>\n",
              "      <td>3</td>\n",
              "      <td>3</td>\n",
              "      <td>134</td>\n",
              "      <td>63</td>\n",
              "      <td>63</td>\n",
              "      <td>63</td>\n",
              "      <td>2</td>\n",
              "      <td>2</td>\n",
              "      <td>2</td>\n",
              "      <td>3</td>\n",
              "      <td>3</td>\n",
              "      <td>7</td>\n",
              "      <td>2</td>\n",
              "      <td>2</td>\n",
              "      <td>3</td>\n",
              "      <td>3</td>\n",
              "      <td>1</td>\n",
              "    </tr>\n",
              "    <tr>\n",
              "      <th>Mixed cell adenocarcinoma</th>\n",
              "      <td>3</td>\n",
              "      <td>3</td>\n",
              "      <td>3</td>\n",
              "      <td>3</td>\n",
              "      <td>3</td>\n",
              "      <td>3</td>\n",
              "      <td>3</td>\n",
              "      <td>3</td>\n",
              "      <td>3</td>\n",
              "      <td>1</td>\n",
              "      <td>1</td>\n",
              "      <td>3</td>\n",
              "      <td>3</td>\n",
              "      <td>3</td>\n",
              "      <td>3</td>\n",
              "      <td>3</td>\n",
              "      <td>3</td>\n",
              "      <td>3</td>\n",
              "      <td>3</td>\n",
              "      <td>3</td>\n",
              "      <td>3</td>\n",
              "      <td>3</td>\n",
              "      <td>2</td>\n",
              "      <td>3</td>\n",
              "      <td>3</td>\n",
              "      <td>3</td>\n",
              "      <td>0</td>\n",
              "      <td>3</td>\n",
              "      <td>2</td>\n",
              "      <td>3</td>\n",
              "      <td>2</td>\n",
              "      <td>3</td>\n",
              "      <td>3</td>\n",
              "      <td>3</td>\n",
              "      <td>0</td>\n",
              "      <td>0</td>\n",
              "      <td>0</td>\n",
              "      <td>0</td>\n",
              "      <td>3</td>\n",
              "      <td>0</td>\n",
              "      <td>0</td>\n",
              "      <td>0</td>\n",
              "      <td>0</td>\n",
              "      <td>0</td>\n",
              "      <td>0</td>\n",
              "      <td>0</td>\n",
              "      <td>0</td>\n",
              "      <td>0</td>\n",
              "      <td>0</td>\n",
              "      <td>0</td>\n",
              "      <td>0</td>\n",
              "      <td>0</td>\n",
              "      <td>0</td>\n",
              "    </tr>\n",
              "    <tr>\n",
              "      <th>Mucinous carcinoma</th>\n",
              "      <td>1</td>\n",
              "      <td>1</td>\n",
              "      <td>1</td>\n",
              "      <td>1</td>\n",
              "      <td>1</td>\n",
              "      <td>1</td>\n",
              "      <td>1</td>\n",
              "      <td>1</td>\n",
              "      <td>1</td>\n",
              "      <td>0</td>\n",
              "      <td>0</td>\n",
              "      <td>1</td>\n",
              "      <td>1</td>\n",
              "      <td>1</td>\n",
              "      <td>1</td>\n",
              "      <td>1</td>\n",
              "      <td>1</td>\n",
              "      <td>1</td>\n",
              "      <td>1</td>\n",
              "      <td>1</td>\n",
              "      <td>1</td>\n",
              "      <td>1</td>\n",
              "      <td>1</td>\n",
              "      <td>1</td>\n",
              "      <td>1</td>\n",
              "      <td>1</td>\n",
              "      <td>0</td>\n",
              "      <td>1</td>\n",
              "      <td>1</td>\n",
              "      <td>1</td>\n",
              "      <td>1</td>\n",
              "      <td>1</td>\n",
              "      <td>1</td>\n",
              "      <td>1</td>\n",
              "      <td>0</td>\n",
              "      <td>0</td>\n",
              "      <td>0</td>\n",
              "      <td>0</td>\n",
              "      <td>0</td>\n",
              "      <td>1</td>\n",
              "      <td>1</td>\n",
              "      <td>1</td>\n",
              "      <td>0</td>\n",
              "      <td>0</td>\n",
              "      <td>0</td>\n",
              "      <td>0</td>\n",
              "      <td>0</td>\n",
              "      <td>0</td>\n",
              "      <td>0</td>\n",
              "      <td>0</td>\n",
              "      <td>0</td>\n",
              "      <td>0</td>\n",
              "      <td>0</td>\n",
              "    </tr>\n",
              "    <tr>\n",
              "      <th>Other</th>\n",
              "      <td>4</td>\n",
              "      <td>4</td>\n",
              "      <td>4</td>\n",
              "      <td>4</td>\n",
              "      <td>4</td>\n",
              "      <td>4</td>\n",
              "      <td>4</td>\n",
              "      <td>4</td>\n",
              "      <td>4</td>\n",
              "      <td>3</td>\n",
              "      <td>3</td>\n",
              "      <td>4</td>\n",
              "      <td>4</td>\n",
              "      <td>4</td>\n",
              "      <td>4</td>\n",
              "      <td>4</td>\n",
              "      <td>4</td>\n",
              "      <td>4</td>\n",
              "      <td>4</td>\n",
              "      <td>4</td>\n",
              "      <td>4</td>\n",
              "      <td>4</td>\n",
              "      <td>4</td>\n",
              "      <td>4</td>\n",
              "      <td>4</td>\n",
              "      <td>4</td>\n",
              "      <td>1</td>\n",
              "      <td>4</td>\n",
              "      <td>4</td>\n",
              "      <td>4</td>\n",
              "      <td>4</td>\n",
              "      <td>4</td>\n",
              "      <td>4</td>\n",
              "      <td>4</td>\n",
              "      <td>0</td>\n",
              "      <td>0</td>\n",
              "      <td>0</td>\n",
              "      <td>0</td>\n",
              "      <td>4</td>\n",
              "      <td>1</td>\n",
              "      <td>1</td>\n",
              "      <td>1</td>\n",
              "      <td>0</td>\n",
              "      <td>0</td>\n",
              "      <td>1</td>\n",
              "      <td>0</td>\n",
              "      <td>0</td>\n",
              "      <td>0</td>\n",
              "      <td>0</td>\n",
              "      <td>0</td>\n",
              "      <td>0</td>\n",
              "      <td>0</td>\n",
              "      <td>4</td>\n",
              "    </tr>\n",
              "    <tr>\n",
              "      <th>Serous carcinoma</th>\n",
              "      <td>28</td>\n",
              "      <td>28</td>\n",
              "      <td>28</td>\n",
              "      <td>28</td>\n",
              "      <td>28</td>\n",
              "      <td>28</td>\n",
              "      <td>27</td>\n",
              "      <td>27</td>\n",
              "      <td>27</td>\n",
              "      <td>20</td>\n",
              "      <td>20</td>\n",
              "      <td>28</td>\n",
              "      <td>27</td>\n",
              "      <td>28</td>\n",
              "      <td>28</td>\n",
              "      <td>27</td>\n",
              "      <td>27</td>\n",
              "      <td>27</td>\n",
              "      <td>27</td>\n",
              "      <td>27</td>\n",
              "      <td>27</td>\n",
              "      <td>25</td>\n",
              "      <td>19</td>\n",
              "      <td>27</td>\n",
              "      <td>27</td>\n",
              "      <td>27</td>\n",
              "      <td>2</td>\n",
              "      <td>25</td>\n",
              "      <td>19</td>\n",
              "      <td>25</td>\n",
              "      <td>19</td>\n",
              "      <td>28</td>\n",
              "      <td>28</td>\n",
              "      <td>28</td>\n",
              "      <td>13</td>\n",
              "      <td>0</td>\n",
              "      <td>0</td>\n",
              "      <td>0</td>\n",
              "      <td>20</td>\n",
              "      <td>7</td>\n",
              "      <td>7</td>\n",
              "      <td>7</td>\n",
              "      <td>0</td>\n",
              "      <td>0</td>\n",
              "      <td>2</td>\n",
              "      <td>2</td>\n",
              "      <td>2</td>\n",
              "      <td>1</td>\n",
              "      <td>1</td>\n",
              "      <td>1</td>\n",
              "      <td>0</td>\n",
              "      <td>0</td>\n",
              "      <td>1</td>\n",
              "    </tr>\n",
              "  </tbody>\n",
              "</table>\n",
              "</div>"
            ],
            "text/plain": [
              "                           Unnamed: 0  ...  histologic_type_other\n",
              "Carcinosarcoma                      2  ...                      0\n",
              "Clear cell carcinoma                3  ...                      0\n",
              "Endometrioid carcinoma            209  ...                      1\n",
              "Mixed cell adenocarcinoma           3  ...                      0\n",
              "Mucinous carcinoma                  1  ...                      0\n",
              "Other                               4  ...                      4\n",
              "Serous carcinoma                   28  ...                      1\n",
              "\n",
              "[7 rows x 53 columns]"
            ]
          },
          "metadata": {
            "tags": []
          },
          "execution_count": 59
        }
      ]
    },
    {
      "cell_type": "code",
      "metadata": {
        "id": "Y8yZ1CoSsfcX",
        "colab_type": "code",
        "colab": {
          "base_uri": "https://localhost:8080/",
          "height": 34
        },
        "outputId": "4a4f5228-b0fa-4f8b-d481-79bb2c432aa0"
      },
      "source": [
        "case_carcinosarcoma = list(py_ucec_df[py_ucec_df['histologic_type']=='Carcinosarcoma']['case_id'])\n",
        "case_clearcell = list(py_ucec_df[py_ucec_df['histologic_type']=='Clear cell carcinoma']['case_id'])\n",
        "case_endometrioid = list(py_ucec_df[py_ucec_df['histologic_type']=='Endometrioid carcinoma']['case_id'])\n",
        "case_mixed = list(py_ucec_df[py_ucec_df['histologic_type']=='Mixed cell adenocarcinoma']['case_id'])\n",
        "case_mucinous = list(py_ucec_df[py_ucec_df['histologic_type']=='Mucinous carcinoma']['case_id'])\n",
        "case_serous = list(py_ucec_df[py_ucec_df['histologic_type']=='Serous carcinoma']['case_id'])\n",
        "case_other = list(py_ucec_df[py_ucec_df['histologic_type']=='Other']['case_id'])\n",
        "len(case_carcinosarcoma), len(case_clearcell), len(case_endometrioid), len(case_mixed), len(case_mucinous), len(case_serous), len(case_other)"
      ],
      "execution_count": null,
      "outputs": [
        {
          "output_type": "execute_result",
          "data": {
            "text/plain": [
              "(2, 3, 209, 3, 1, 28, 4)"
            ]
          },
          "metadata": {
            "tags": []
          },
          "execution_count": 60
        }
      ]
    },
    {
      "cell_type": "code",
      "metadata": {
        "id": "p8Koyb9_nOHK",
        "colab_type": "code",
        "colab": {}
      },
      "source": [
        "case_by_types = [case_carcinosarcoma, case_clearcell, case_endometrioid, case_mixed, case_mucinous, case_serous, case_other]"
      ],
      "execution_count": null,
      "outputs": []
    },
    {
      "cell_type": "code",
      "metadata": {
        "id": "d_orCWoXkpXx",
        "colab_type": "code",
        "colab": {
          "base_uri": "https://localhost:8080/",
          "height": 34
        },
        "outputId": "63c50d00-b83c-4b11-a24f-97c2ac423042"
      },
      "source": [
        "ucec_path_names[0]"
      ],
      "execution_count": null,
      "outputs": [
        {
          "output_type": "execute_result",
          "data": {
            "application/vnd.google.colaboratory.intrinsic": {
              "type": "string"
            },
            "text/plain": [
              "'/content/drive/My Drive/ImageAnalysis/digital_pathology/ImageDataset/EMCA/CPTAC-UCEC/C3L-00006-26.svs'"
            ]
          },
          "metadata": {
            "tags": []
          },
          "execution_count": 49
        }
      ]
    },
    {
      "cell_type": "code",
      "metadata": {
        "id": "E7cpyh5UkVrm",
        "colab_type": "code",
        "colab": {
          "base_uri": "https://localhost:8080/",
          "height": 34
        },
        "outputId": "d283bb00-d9b4-4bf0-a9c8-064991c9b9ac"
      },
      "source": [
        "file_name = py_ucec_df[['case_id', 'histologic_grade', 'histologic_type']]['case_id'][0]\n",
        "file_name in ucec_path_names[0]"
      ],
      "execution_count": null,
      "outputs": [
        {
          "output_type": "execute_result",
          "data": {
            "text/plain": [
              "True"
            ]
          },
          "metadata": {
            "tags": []
          },
          "execution_count": 50
        }
      ]
    },
    {
      "cell_type": "code",
      "metadata": {
        "id": "C4SIfFLLoD5Q",
        "colab_type": "code",
        "colab": {
          "base_uri": "https://localhost:8080/",
          "height": 34
        },
        "outputId": "366e3d23-cf67-453c-e387-a4dbdbb5a0b0"
      },
      "source": [
        "ucec_type[ucec_case_names==case_by_types[3][0]]"
      ],
      "execution_count": null,
      "outputs": [
        {
          "output_type": "execute_result",
          "data": {
            "application/vnd.google.colaboratory.intrinsic": {
              "type": "string"
            },
            "text/plain": [
              "'Endometrioid carcinoma'"
            ]
          },
          "metadata": {
            "tags": []
          },
          "execution_count": 76
        }
      ]
    },
    {
      "cell_type": "code",
      "metadata": {
        "id": "kNi7I575p_qD",
        "colab_type": "code",
        "colab": {
          "base_uri": "https://localhost:8080/",
          "height": 34
        },
        "outputId": "faa739f0-bc2f-4f6d-f837-f42cd6a1a46d"
      },
      "source": [
        "# path_name\n",
        "path_name.split('/')[-1].split('.')[0][:-3]"
      ],
      "execution_count": null,
      "outputs": [
        {
          "output_type": "execute_result",
          "data": {
            "application/vnd.google.colaboratory.intrinsic": {
              "type": "string"
            },
            "text/plain": [
              "'C3L-01284'"
            ]
          },
          "metadata": {
            "tags": []
          },
          "execution_count": 109
        }
      ]
    },
    {
      "cell_type": "code",
      "metadata": {
        "id": "vj92-AgBkK4S",
        "colab_type": "code",
        "colab": {}
      },
      "source": [
        "ucec_label_types=[]\n",
        "ucec_label_grades=[]\n",
        "for path_name in ucec_path_names:\n",
        "  for case_names in case_by_types:\n",
        "    if path_name.split('/')[-1].split('.')[0][:-3] in case_names:\n",
        "      ucec_label_types.append(ucec_type[ucec_case_names.index(path_name.split('/')[-1].split('.')[0][:-3])])\n",
        "      ucec_label_grades.append(ucec_grade[ucec_case_names.index(path_name.split('/')[-1].split('.')[0][:-3])])"
      ],
      "execution_count": null,
      "outputs": []
    },
    {
      "cell_type": "code",
      "metadata": {
        "id": "kyEUqEmZoZZN",
        "colab_type": "code",
        "colab": {
          "base_uri": "https://localhost:8080/",
          "height": 157
        },
        "outputId": "eb6ecd58-e4df-4f4f-91c0-72aada14ce80"
      },
      "source": [
        "len(ucec_label_types), set(ucec_label_types)"
      ],
      "execution_count": null,
      "outputs": [
        {
          "output_type": "execute_result",
          "data": {
            "text/plain": [
              "(879,\n",
              " {'Carcinosarcoma',\n",
              "  'Clear cell carcinoma',\n",
              "  'Endometrioid carcinoma',\n",
              "  'Mixed cell adenocarcinoma',\n",
              "  'Mucinous carcinoma',\n",
              "  'Other',\n",
              "  'Serous carcinoma'})"
            ]
          },
          "metadata": {
            "tags": []
          },
          "execution_count": 123
        }
      ]
    },
    {
      "cell_type": "code",
      "metadata": {
        "id": "q4M_0sWBtsLx",
        "colab_type": "code",
        "colab": {
          "base_uri": "https://localhost:8080/",
          "height": 257
        },
        "outputId": "e5f7257a-07af-4c12-9747-43c44c6d30ba"
      },
      "source": [
        "pd.DataFrame(ucec_label_types).groupby(ucec_label_types).count()"
      ],
      "execution_count": null,
      "outputs": [
        {
          "output_type": "execute_result",
          "data": {
            "text/html": [
              "<div>\n",
              "<style scoped>\n",
              "    .dataframe tbody tr th:only-of-type {\n",
              "        vertical-align: middle;\n",
              "    }\n",
              "\n",
              "    .dataframe tbody tr th {\n",
              "        vertical-align: top;\n",
              "    }\n",
              "\n",
              "    .dataframe thead th {\n",
              "        text-align: right;\n",
              "    }\n",
              "</style>\n",
              "<table border=\"1\" class=\"dataframe\">\n",
              "  <thead>\n",
              "    <tr style=\"text-align: right;\">\n",
              "      <th></th>\n",
              "      <th>0</th>\n",
              "    </tr>\n",
              "  </thead>\n",
              "  <tbody>\n",
              "    <tr>\n",
              "      <th>Carcinosarcoma</th>\n",
              "      <td>4</td>\n",
              "    </tr>\n",
              "    <tr>\n",
              "      <th>Clear cell carcinoma</th>\n",
              "      <td>5</td>\n",
              "    </tr>\n",
              "    <tr>\n",
              "      <th>Endometrioid carcinoma</th>\n",
              "      <td>746</td>\n",
              "    </tr>\n",
              "    <tr>\n",
              "      <th>Mixed cell adenocarcinoma</th>\n",
              "      <td>12</td>\n",
              "    </tr>\n",
              "    <tr>\n",
              "      <th>Mucinous carcinoma</th>\n",
              "      <td>5</td>\n",
              "    </tr>\n",
              "    <tr>\n",
              "      <th>Other</th>\n",
              "      <td>10</td>\n",
              "    </tr>\n",
              "    <tr>\n",
              "      <th>Serous carcinoma</th>\n",
              "      <td>97</td>\n",
              "    </tr>\n",
              "  </tbody>\n",
              "</table>\n",
              "</div>"
            ],
            "text/plain": [
              "                             0\n",
              "Carcinosarcoma               4\n",
              "Clear cell carcinoma         5\n",
              "Endometrioid carcinoma     746\n",
              "Mixed cell adenocarcinoma   12\n",
              "Mucinous carcinoma           5\n",
              "Other                       10\n",
              "Serous carcinoma            97"
            ]
          },
          "metadata": {
            "tags": []
          },
          "execution_count": 124
        }
      ]
    },
    {
      "cell_type": "code",
      "metadata": {
        "id": "lNiBiX02rwMX",
        "colab_type": "code",
        "colab": {
          "base_uri": "https://localhost:8080/",
          "height": 104
        },
        "outputId": "95668e3b-2aa9-4670-8b35-db595958af29"
      },
      "source": [
        "len(ucec_label_grades), set(ucec_label_grades)"
      ],
      "execution_count": null,
      "outputs": [
        {
          "output_type": "execute_result",
          "data": {
            "text/plain": [
              "(879,\n",
              " {'G1 Well differentiated',\n",
              "  'G2 Moderately differentiated',\n",
              "  'G3 Poorly differentiated',\n",
              "  'Other'})"
            ]
          },
          "metadata": {
            "tags": []
          },
          "execution_count": 115
        }
      ]
    },
    {
      "cell_type": "code",
      "metadata": {
        "id": "aeZe80-4ttR3",
        "colab_type": "code",
        "colab": {
          "base_uri": "https://localhost:8080/",
          "height": 167
        },
        "outputId": "e2435e48-d39a-487e-da6d-95970caae369"
      },
      "source": [
        "pd.DataFrame(ucec_label_grades).groupby(ucec_label_grades).count()"
      ],
      "execution_count": null,
      "outputs": [
        {
          "output_type": "execute_result",
          "data": {
            "text/html": [
              "<div>\n",
              "<style scoped>\n",
              "    .dataframe tbody tr th:only-of-type {\n",
              "        vertical-align: middle;\n",
              "    }\n",
              "\n",
              "    .dataframe tbody tr th {\n",
              "        vertical-align: top;\n",
              "    }\n",
              "\n",
              "    .dataframe thead th {\n",
              "        text-align: right;\n",
              "    }\n",
              "</style>\n",
              "<table border=\"1\" class=\"dataframe\">\n",
              "  <thead>\n",
              "    <tr style=\"text-align: right;\">\n",
              "      <th></th>\n",
              "      <th>0</th>\n",
              "    </tr>\n",
              "  </thead>\n",
              "  <tbody>\n",
              "    <tr>\n",
              "      <th>G1 Well differentiated</th>\n",
              "      <td>259</td>\n",
              "    </tr>\n",
              "    <tr>\n",
              "      <th>G2 Moderately differentiated</th>\n",
              "      <td>405</td>\n",
              "    </tr>\n",
              "    <tr>\n",
              "      <th>G3 Poorly differentiated</th>\n",
              "      <td>202</td>\n",
              "    </tr>\n",
              "    <tr>\n",
              "      <th>Other</th>\n",
              "      <td>13</td>\n",
              "    </tr>\n",
              "  </tbody>\n",
              "</table>\n",
              "</div>"
            ],
            "text/plain": [
              "                                0\n",
              "G1 Well differentiated        259\n",
              "G2 Moderately differentiated  405\n",
              "G3 Poorly differentiated      202\n",
              "Other                          13"
            ]
          },
          "metadata": {
            "tags": []
          },
          "execution_count": 125
        }
      ]
    },
    {
      "cell_type": "markdown",
      "metadata": {
        "id": "IH6I7bdkpJtJ",
        "colab_type": "text"
      },
      "source": [
        "https://github.com/openslide/openslide-python/issues/35"
      ]
    },
    {
      "cell_type": "code",
      "metadata": {
        "id": "Y4SrkuzZo6jv",
        "colab_type": "code",
        "colab": {
          "base_uri": "https://localhost:8080/",
          "height": 157
        },
        "outputId": "6d0acf65-4115-441c-ebe3-ff9004f42371"
      },
      "source": [
        "!sudo apt-get install openslide-tools"
      ],
      "execution_count": null,
      "outputs": [
        {
          "output_type": "stream",
          "text": [
            "Reading package lists... Done\n",
            "Building dependency tree       \n",
            "Reading state information... Done\n",
            "openslide-tools is already the newest version (3.4.1+dfsg-2).\n",
            "The following package was automatically installed and is no longer required:\n",
            "  libnvidia-common-440\n",
            "Use 'sudo apt autoremove' to remove it.\n",
            "0 upgraded, 0 newly installed, 0 to remove and 33 not upgraded.\n"
          ],
          "name": "stdout"
        }
      ]
    },
    {
      "cell_type": "code",
      "metadata": {
        "id": "vq4w_Jqyo6aX",
        "colab_type": "code",
        "colab": {
          "base_uri": "https://localhost:8080/",
          "height": 157
        },
        "outputId": "c21151dc-8c18-498d-e3b8-f3b14345b9ad"
      },
      "source": [
        "!sudo apt-get install python-openslide"
      ],
      "execution_count": null,
      "outputs": [
        {
          "output_type": "stream",
          "text": [
            "Reading package lists... Done\n",
            "Building dependency tree       \n",
            "Reading state information... Done\n",
            "python-openslide is already the newest version (1.1.1-2ubuntu4).\n",
            "The following package was automatically installed and is no longer required:\n",
            "  libnvidia-common-440\n",
            "Use 'sudo apt autoremove' to remove it.\n",
            "0 upgraded, 0 newly installed, 0 to remove and 33 not upgraded.\n"
          ],
          "name": "stdout"
        }
      ]
    },
    {
      "cell_type": "code",
      "metadata": {
        "id": "1XjEcY9noszJ",
        "colab_type": "code",
        "colab": {
          "base_uri": "https://localhost:8080/",
          "height": 72
        },
        "outputId": "db2fb48e-872e-4f21-f5f7-b78df301d18b"
      },
      "source": [
        "!pip install openslide-python"
      ],
      "execution_count": null,
      "outputs": [
        {
          "output_type": "stream",
          "text": [
            "Requirement already satisfied: openslide-python in /usr/local/lib/python3.6/dist-packages (1.1.1)\n",
            "Requirement already satisfied: Pillow in /usr/local/lib/python3.6/dist-packages (from openslide-python) (7.0.0)\n"
          ],
          "name": "stdout"
        }
      ]
    },
    {
      "cell_type": "markdown",
      "metadata": {
        "id": "eTia142yj11c",
        "colab_type": "text"
      },
      "source": [
        "# China\n",
        "\n",
        "https://arxiv.org/abs/1904.10626\n",
        "\n",
        "https://ieeexplore.ieee.org/document/8854180\n",
        "\n",
        "https://arxiv.org/ftp/arxiv/papers/1904/1904.10626.pdf\n",
        "\n",
        "https://figshare.com/articles/A_histopathological_image_dataset_for_endometrial_disease_diagnosis/7306361/2\n",
        "\n",
        "![image.png](data:image/png;base64,iVBORw0KGgoAAAANSUhEUgAAA2AAAAFJCAYAAAD9rk5zAAAgAElEQVR4AeydBXRURxfHiQHFvbgVK17c3SnQYoVCcbfiCe5uIVgo7sEdQoggCSEuQNzdPbvZ3ez+vvN2kxBoKIFSPmhfzsnJ7ua9mXv/c2d2/u/KFED8EREQERAREBEQERAREBEQERAREBEQERAR+CwIFPgsvYidiAiICIgIiAiICIgIiAiICIgIiAiICIgIIBIw0QhEBEQERAREBEQERAREBEQERAREBEQEPhMCIgH7TECL3YgIiAiICIgIiAiICIgIiAiICIgIiAiIBEy0AREBEQERAREBEQERAREBEQERAREBEYHPhIBIwD4T0GI3IgIiAiICIgIiAiICIgIiAiICIgIiAiIBE21AREBEQERAREBEQERAREBEQERAREBE4DMhIBKwzwS02I2IgIiAiICIgIiAiICIgIiAiICIgIiASMBEGxAREBEQERAREBEQERAREBEQERAREBH4TAiIBOwzAS128w8goFKSlCglJDqdoKj8/YbEy5Flqt4rjEouJzpWQnBWu8FxciSZKvK+U0VGWgbhMZIcOcJTFMiV7+3mwy5QKggPSsQzToE088Nufd/VynhffMLTSJe970rN/1WSOEL9vfH08MDDwwNP/yhSMhTvwCd/bWZflZngxZPbl7n+6BVRqTI+HEYVkmhPbO5f5syJk5y9/hiPqFRkeTWUmYD309tcuW7Fy8iUvK/JFuwL/JuREE6Aj6d6DHLGQfppxuFj1M1M8MH67lWuW70gPDnjI8buY3r9P9+jkhAXEoBP1lzw8AwiJi0Dxf9ZrC+++8xE/Gzvc+2GBa6hiUjzmp9fvBIfIKBKSkJEIL6emjXTw8OX8IT0D1pzMhIjCfL1yjXfI0hKl3+SdfcDNBEvFREQEfgECIgE7BOAKDbxf0IgM417Vz1Yuu8l6y8Fcso8jEu3vVl20I3Ze1yZbfiKnXdDuGAVyomrXhjsd2PBlSjCkvLBXmQyfF2D2XrkBXP3uDL3dBiu8Yp3bqqkSalY3fdm2QGhbzfWPkwgPO3T7CiUMhk+ryI5dcmDRXvcOeicTlw+iVL+RkaO3/klzNh8HffwtPxtmtMjcLu6gQk/dqNd69a0G7UNc99YMvLX4buvUkZiuvk3ev1QnwbNB7H2lifRkrxpb96NZBBkcYAFI3vz87ytrJo0gE6tWtB9ujHWgYnI32hKSeSDLYzr3YL6DZrz45qbeERJ/tZmJiMlBYlCkT8M81bggz6Vxvpjf34N47LGof2v2zH3juaTmse7JMpIIUWiQJFt5sooHu6YRL+WDWjQbCArr7oTnv4G4O9q6Z/5/G35PmUvslRSs3VXpRLy/AQGowfQpU1r2nSazqFnvsRn4/Ip+/3XtKUk2tKQGT+2oUGDZvQ3MMExJPVvzb3PB42M1FQJcnk+vkfeEEpC1Kub7Jg5jF7tW9O63RCWmzgQmJr/OSKND8Lp8mamDe2pWXd/2cBNl1Ckb/TzIW8+VpcP6SOf18rSSJPI+WBY89m8eJmIwJeGgEjAvrQREeXJPwKZyZw57MaKaxFY+6cRHCMl8LkP09bZ0nuhNb0Wu2DklIR3tISg0ERuXXRj/PEw/OPz8WxaqSQtIpwN2+wYuNCaPtv9sY6Sv3Njq1Qo8HvsyeQ1z+i10IZxJjEEJCn/1oZClSHl1csozl3xZMEOB4Yve0afxfZseJZK9N9mOq9hVqXaYzjyB2o2GMnepwEk5gMeMjNIfnGAMU0rU1SrALqNZ3HZPRxp/vcSrwXI/UoZyJmpbahRXBst3TpMOOFMyAdsUBT+V1k25AcqFi1LrzU3ODK/Dw0rFKJw/cmccgoh7Q35lASdnU67msXR1tLlu/HHcAz+G5tAiScXDU/yyDfirX5yK/hpXyvlEhJsdzK8WWW+0SqAXrM5XHIJ+xsbsvzKJ8HrshGnrLwJyx4fZTDnZ3fmu5LC2NVm7GFbAlLeADy/jX+C6yR4Xd3PKSsvQrPl+wStapqQ4H31AKctPQhR65eJNMaUNQMbU0GvAFpFurDyvjtRH7o//2TyfQ0NKQm5vJBeDUqjo6VLrVFGPPJO+lvr5efSWupzk8NnzHEPTP5AeZXIkl9xbEYX6pTQooBOTX4xssAzKf9zRCmXkuhwgIkda2nW3UaTOPrEj499ziH1vc2Rsw9x9f9/Yy/F7/ZRzj10we8D8PhcYy72IyLwTyAgErB/AlWxzc+DQGYKJteCeRqcQXrWZkfmEcCcDdkEzI3jvlKS1E+iVaSER7DzRhRhCflhGKBMjmHXTnsGLXo/AQMV8Y6+zFgv9P1pCBgKBXHxEgL8I9llaM+Qxdb0WvSpCZiSyPsr6Fu/LIX0ytN99V28YjPytbFQRl5geusaFP+UBEwlJdzuEntWLUJ/yxme+MUjyfdGNpOAs9PpULMEOtqlGbjdGkery+xZpc+6ww/xiknnzaZUSMPtuWS4isX6Wzj9xJf4/Hf2po2rknE/s4D+PWdyzD6A5Pzvqd5s5yPeZfocZXzr6uoN2echYCpSXpxj8cBezDhi+3rDpJIS4XCVfWuWoL/5JFbesTnz8iPU+hu3qEh5eZ6lg3oz47ANPomf0hUltH0B/cF9mG78FO/stuX27B7ZkiqFtEQClq+RUyGNdObGwfUs1d/EcfNXRKXlb13OV/P/0EWqVA8urxxG/2n7sHgV/+GebmU0N/T70qis9kcRMEGtTP+zzO1RjxLaBdD9GwRMlerJ1dUjGTDVELMXcR+uyyfDWEWq1zXW/jKQqXtMcY/9lPP1kwkpNiQi8MkREAnYJ4dUbPCzIaCU4uqdSrxEmfPl8W4CBiikOHkLoUP5W+DVBGzXBxAwp09MwFSgEjbymencOOXMSP1/gIDJfDgzvSM1SuiiVUCLEs1nc941gvR8QCQQsBmta1DiUxIwQCVPJS4yjIi4FDJy4tvyY1Uy7LYNptG3BdHSLk3/bTb4RiURGxFOdKIEeV65fyo5qXGRhEXEqnPY8qF2HoJICHiwkwkda1Gm9igOPf/8BGzCZyRgkkAzdk/uQu2ytfllv81rAqYeuzTiI8OJiE1B+kFjlwesH/mRJOghhlO6UqdcbUbuffJJCZgkyJy907qp2x5h+CgXAXNgj0jAPmzEVArS4qMIj4glWSrPWcM/rJHPeLU0GKsDs+hVvwK1h27H7GMImCqGmwb9/h4BCzjH3J5/k4BJQ3h0aC59v/+W2j9t4b77/4+ASUMeYzyvHw2/rc2QzXdxEwnYZzRqsav/JwIiAft/oi/2/TcRUCLJUJKZa9f8lwQMlfp6pVJJfEQiFs/CufQgEMOLPhjeDOWBn4TkXElCbxIwPx64RXPrYQCGJr4Y3Q3DKkhKqiLb1aEi/i8ImDw5lWfPQjl5LwjjG4GYOCQRlq58yyPzDjiUUu6edeEXg09NwFSkPDdkxsiufFeyCAW1CqBVuDaj9j8jMB95cm8SsBkcvXiSQ5sXM2PyZGYZ7OSCTQAJ2dVCVEn4PL7GSeN97DU0xHDfRayD44j1teLU1sXMmrcRE3sPnCxvcDr7GqNTPPSKITXnwXgGkc53+GPrGlYaLGKB/lZOWHgRl66AzGBsrhxj2eBGVCyuQwGtIjT8aT5rTloTHJ+ex+ZORZKfNTdPG7NvryGGhkaceuhFTIqMeA9Lrhw/hJEg594DXH3uj4f1dQ6smce0KbMw2HsL18gUTT6ZIg63KxsZ37UuZb/RRad0C0YuWM3WvSd48MIbZ8vrnMrWZ58JTwNjifF7zJntS5g1bwMX7ENJlAlMO53g59c5uMGApcsMWLp0FTuOm+IW/nZhEAXxnhac2bmMBQsNWLftKHdvbGJo82pvecCURL8w49Lxg1l6HOamUzjxUT48uX4K432Czobsu2hDcFx6Lo+njGi3+5zYtYGVi2YxbebvrDS6jkNIEhlKBXHu19g8sRv1yn2Drk4pfhjxO6u27uXE/Wc8u3+Vs4f3a8bX6CRmHlEky7NsWpVOiN0NjDcuQz9bv2P3cQ1LzipCoCTB6xHXTh5iXxbuV2x9eWV9E+N185k+ZSb6hjdwCk9GgCvvHwXxL66zZVIP6pcvopav+bB5rBTkM3UnMknIjFORHmLPzcObWKa/DIOlS1m14xj3XMJIzsi1kPypA03bWyf3oEH5IujplKL5sLms2LKX4/fdiIy1eYOArbh6m+sXjVg1dypTZi9n321XwpPfLpYgYG3KiR3r1Pa80GAzRx+8JCo1G7Q/CfH6A1k0bqYn2LluJQaLFmKw+SimL6JIkatIDbTl1tk/suxaGOcDHLtujdNzU66q7V14b4NvdDheNrdzjdlpzJwdsLh8gDW/T2fqbH12XHiKb5zkrXVKRrT7A07uzCW36QsiUwS5VST7P+P22T/Yr55X+zj/yIfI6ABsTHazbO481p1+gpvjY+6ez77GiJOm7oQnykgJsOXOuezP93He6gVuT+9wdPMiZkyewpwVB7jjGk5yWjQvHpxg65KZTJo0Uz0nXcKSeQM5WTQvzE6xa/2qLIyOcN8tArWYygR8nt5UrzXCPDA8cAlrrxfY3DnKxoUzmDJzKbuu2BGcoIkGUCS84vbO6fRp9C1F9XQo2XQIM5dtZu/xu7iEJJChAlmsF0+uneDA7g3oz53O1OnzWWt8D7fw5Ne5px9MwBQk+jzh4t5VLFqoz5oth7l5bQtjO9XN2wMmi8XryXVOHtjNBv15TJ86nflrjbnrGpbz3aZI8ODO7pn0a1yRYoIuTQYxQ1+ji1NwfI4uT6+f1OgyT9Dld9Ya39XM1+z5p0ojyOYSRuuWYbBsJZv2n8Hk6DFu2Pnmyv2UEfPSnDN7NrDKYBELDTZx+I4LYeq5mEmCx132zO5Pk4rFKKhTksaDpqO/2ZBjd5wIif+EcfavZ474SkTgi0FAJGBfzFCIgnwKBP6agAn7g0yC3YLZdtgDY7sEXoQkY3n7JVM2OvDbHk/Oe0pzNo25CVjvVU4sOurNnkve6O+0Z8Qae8bv9cLES0KymiC8m4DJYuO5YPKSeUf8uf0ikeePfVhi5M4603iCUl97796pv1LKvX+CgCkjubt6BquOHmZ+/4ZULKJFgQJ6fNt7PaY+ce/Md8uWMzcB0y5bny4DRzNt2m/0/aEmlSpWoV7bX9hyz4tYtcdRRnLIfTaO7EjjmlWpWmsQ684YsWRcTxpVKUOJUlUYvN0SlxcW7Bzbhaa1q1K1RlcWX39JhLoIhwT/e9uZ2r8jA+cd4NrDuxhN70vnLsNYfdWdqCQfLE7t5fe+9ahQTCBg31Cv3xQWHjDHPzbvwiLylHAe7fqNbs1qU7VqDbosusqL8HQykvy4bDCIdt9Xp2q12nQbMYWpvy9m6oAW1Py2DOWqNWfULkv84mQoY5y5eXAW3WqWobBWAbRLNmXItAUsX2/EdecgQvxN2TyqC01qCTr/yJqTe1k6oTeNq2p0HrT1MT6xyXhd38iEXi1o+dNyjt1+hPnh+Qzu0oHuY7dw62V0ViifkgTHkywd0Ynv63Rm2t6rWNqYcnTFMFpWLq4m0K9DEFVIE15yan5/WtevRtXqTRl/yA7/mCSCbq5mWMdG1KhalVpDtvDIKyZrg51BsLkhswZ1pv+cfVy+eYC5vZtTt1ZDesw7wfNAPxxuGzO7R23KfaNFAe2SNBk0hfnL12N07TneHuYYTuzJD98JY9eZBRddCBWSU1TpeN/YzOQ+LWk5xICjt6ww/2MBP3XrQPcxm7jhHklapgpZsj9XVw6lYyMN7l2HT2LKvMVMHdiK2hXLUrZqM0ZuN8MrRpaLMGZbI6CMxfXOYeb2rEN5QT6tkjT+cTK/L1/P3muOhCVISfe5ydYpfWnZagj6f9zA0vwIC4d2p2P3MWy87kZk2ptBqjmt525bmCdaJWg8cBLzlq1n71UHQqOsXxOwgrXp8NOvzFgwhR9bf0elcuWp/sModpp5EpPDHqUEPtzLnMFdGDBrDyb373Jg7mC6d/2JZecdCE15hxyCQNJAHu6dw5CuA5i124T7dw8yb3B3uv5kwDn7EOKTInExWcHIzo2pVbUqVWv3ZtE5a7xCbTGeN5apK4255xJCkjSd5PBH7JnUmxbq+daCXj+PZMKcWYzr34o6VStSpW57xmy7w6uc4jRSAs2NmPdTVwbM3MWF+3c5+PsQenQdgv5ZO4KTFchTwzDfOYFePwjzqib9lxmzy2A6A3+oQbmSpajcfw1mz1yx3j+dfq3qUK1qDTrNPc3zgFRkqWE82D6Ons1rqedk674j+HXy78wc3ZOmNStQplwNWv6ymJVLFqG/ZB7j+v1ArW9LU7ZaSyYYWeIVl/W0RhqExf7f+bnbAGbsPMe9u4eY/3NPug5ZymnbIJIUMpIDb7J+dDea1BAw6szP4yczb8lUBrWrR+WyZanSZBgbb7sTKVUS98KUYwv68X3FoppIgYb9GD9nGesNL/M8MIYEP1MM5w5j+Jw9mJg959nV9Yzu2JCatZoxaMUFHENSNA+BPoiAKUl0M2HtuB40qdeRCVvOYvrUjFPrx9KxZikKCZEHuUIQVRJ/Huydx/Dhc9h94QHPba+x4ddONKpZk2aDlnPeIZgUpaDLA44v7E+jSlm6fN+H32YbsM7wEs/8o0nwe4DR78MZPmc3Fx48x/baBsZ0bkTNms34cdk57IMEXZQk2B9n8bCO9Jq0ldP3bHh8dTdzBw9k5gFzXqor0GQQbHWIRcO7M2DaVk7fucvhxSPo3W0Qi44/xT8hipdmJ1g8oBGViwlzqjjf9xnLbIN1GF56RkDMx5cWyZm34gsRgS8YAZGAfcGDI4r24Qi8j4ApU+M58Yczw5Y+Z/atOIJTM0l282OWkLu16Bkzb8QRnKIpnvEGAVv7kmP2iXhHpeNh58vc9bb0XWzLuJPhvIhXkCnkgOXlAcuU8OjWKyavsmX29Tj8k5VkxESyeYc9w9a/4py3NIvA/YWu/xABk3mfZv7sbdx29cPl+BTaVi+OTgGBRLTk90vuRL4nszs3AdOp3Bv94/exf+WB3YlZdKpZCj2dYnw3dCdW/gmaJ9NyN4xGNKOSsDnWqU7bEVNZtWMVE7vVo3yZevx22IHgxABOTWpJNeELWbc+k89qNvFyvysYDGrKt6VbM8fEibB0CT5HxtOiegWq9VvHPa8QoiIDub6kO3XL6qk3yN2WXeGxZzzSd5bVyiTo9BRaVy+OVgFd6k86g1OI4A2S8mTDABpW0EOrgA4Vu87j0B1bHC/r06d+eQpp6VJ24DYe+8aTmZFIlN9pZrSpSSmtAuhU+pGN15/wIiCU2NQMFDJ3DoxuQZUsndsMn8LK7SuZ1KMBFcrWZczB53jZn2fxgMaU+6YkHfVv4RaZgSzsArM71qZsyer0XHaVF5HpqKQvOT2nJ/VKF6JwsxmcdwghXZaC3+VF9KxbBr0/FeFI5Z5Bd+oL+Sba5fhxxxO845Vk2O/g52aV1Bs4vQ4GmL6MUlf3zAy5y7oRrahcsjETjtsQkOjPmRkdqFVCh8K1x3DQ1pPgSD/OzG5P7dJCDktFBq6/wiP3AEJjUsjICOLcjA7UFgoM6NZl/HE7dYW3DJ9L6A9qSoUiJemw+DouEYJ+F5nXuQ7lSlajh/4l3MI1uNts/YlmFQuqcf+282z233yG45XlDGz0LYW0dCjbbxPmnrFveWSy5o4qg6Rof87N7UidMhr5+q+9hFW2fGleXDYYTLMKRSjZfiFXnMLJkIVxab7g0StJte5LuegalndBg5y2O1FX3fa39F99EUu3LN3T7V4TMN1aDFx2jPsOLlxfPZgmlQqjpVueAZse8ipWQ6wUgTdZI2BdpiXTTlgTkCrB/9QMOtWpSJVey7nmFvGOgjYKAm+tZUTrypRpMZXj1gGkSvw5NbMzdSpWoefyq7hFpCONceDw1I7UKqmDlk4Z2s0/jeXdQ6xdvZdLT3xJzBBWLHVCEadnduY7Ycy0S9B09EbOW7rw8tlRdZ5RWT1dStQfxW4Lb4TaRYrAW6z7pQ1VyrRgytEn+Atyn55Fl7oVqdLTgMuu4UhUCl4dmUzHWsIGX4eqLQYzwWArK6f2pUnlctQZsYunXrGEXvyd7vVKoV1AlzpjDvHEJwUVctyNJ9ChZhH1vZW6zGLPFWtcnc6xuF8jKuhpoVvyewYtPsQtW3eczyygd8Ny6GoVpMZIQyy8ElGiIOjOBka3rUqZFpP545EfqZIAzs7tTv2KVeihfxHnMAmqjOfsHtWGqoWE9agCHabt5soTB66tGUqLKt+oceu1+jauUQoykmMIMFlEr4bl0C6gTYU+yzhj5kJAaAzJ6ZFY7h5PpxrFKd1sKoefBpCUcJ/Vgs3raFOsySQOP/FDXa/lQwiY1ItLBkNoWv4bCjcaj7GlDymyVAJvrWZIU2E+5CZgSuIf72FC55oUL92MKcZP8E9KwHTtYJpX0EG7aGMmGj/GN0VJRnIsAReX0LdxeY0uvZZy0vS1LlZ7JtK5pqDLFA499iMx4QFrhzTnWx1tijaeyEErH5Iz47HcNoo2VYpSpdsiTtqEEB8XgOmW2Sw/aoFrtBJF8D22/NaB6mWbM/6AOd4pEgIvLKRPw0pU7rqIs3a+RMYEckm/H00qCGtUBXouOc595wBCo5OQfvJzXP7iO1b8l4jA/wEBkYD9H0AXu/znEHgvAUuMYfduTV7XiJMReCdmIvUKYN7G5/RZaM0vpyLxSdRsTnITsD5b/XgUIVOHZyhTYtiz257BQnGOVa+4HJhBqjJvAiYPj2DTLnsGLrZjzdMUooQygRnxHNjjwJBFtiwxS8oVrvEOXP4JAqZKxnb3dBYcslQX3ZCF32ZJj+8orVdA7T2qO9aY5yHJeW90s8TMTcB0v5/KeRfN5lUZdYnZ7WqqQ2R0yg1g+2M/EoR9Z6YHxr82p4rgQdAuSfv5Z7HxCcHPzRoLcxtehQs5X5FcmNGGGupNfDYBy8Dd+DfaVCuKXoXB7LHxR6h9kHp7ER3rlEa3VHfWmnkRK8/AZpOGOBXQLqXJAfvLWuBKIk1m0bZmibcImJznWwfTWMgl0ypMq/nXcAnPQO5pzNgWVSkiEJ3Wi7jzIlJDLNPvsrRzXcpoF0Cn6kgO5s4By/Tkj99aUi1L53bzTvHUKwR/dxu1zi/DYrAxHE3rqkXQ0anM8H3P8BOqxkifsGGgsOHUpmijqZx0DCHe+QBjWleliLY25X/cwWOfBPVTdfnLg/zaMkuuN6ogSnm4shffl9N5g4DJnQ0Z+UNltcfuNQFT4HFyGp1rFUevWHfWPHxFtEJGkOkuZv7ci35T92YdM5DO/WVZpE6nCsP35coBU0ZxeV5n6pTKTcCkOB/8jXbViqKjU4mhhk/wFQYv4ymbBjWhYkFtijaczDG7IFJUcux3DeeHyoXUuLecexGHUClyryNMbFtDE2LZcj7XXML+wjubjukKQWeBgFVhWK4csAznQ4xvX52iOjpU+nk3j7wF/DKw3qIhfdpFGzLpiC2B76zcmI7pyt40VLddmaHvygEr3JaF15wIlynwOzGVDrUEgl+QlvMu4xgqhFXJeXViOl1qF0ev3AA2P3xFXCakma6gT6Ny6JbszLIbrkTmdZaA/BUnZnTluxJ6lOu/GbNXAhlNw3RlXxqX16VkZwOuu0QgU8mIstrGqBZVKKKtRdGaHeg/ci777joTlporFFIZism8rtQtKZCQWowwNMcrMRMyw7m8oAf1S2ujpVeZIdse4hEnxePkTLrVKYFeuX5sNH2JwCfTHqymf5Py6JbshP5VZ8JlmficnE7n7wS9tSnRajrGD18S7P8SWysLrN1DSJTIib6+hF7fl3mLgCnwPDaFzrWLqedk40nHeeqfjlLuysHx7akhPMjQbcb0MzYESpXIHAz5tW01CmtpUazrCm47R5Ip9+D07J7ULalHub7ruesueHjTMFs7kGYVdCnZcQmXHcOQyZ3YN7Yd1QtroVWoOdNPWRMgkeNzahbd6giy69F85jlsgzShcJKH6xnU7Fu0C+hQaUiuHDBlJLeWD6RxOV20y/dj3V03YtKfsHVYSyrrFkD724Fsvu+OOrXpAwiY7MVxZnavQ3Edbcr2XsNt12j1eiz3OsGMrnUo9hYBi7q9gkFNyqGrXY5+a2/jGp3O020jaF1ZV01uBmy8l5NfJbHYyE8tKmp0GbSFe9k5YMoobq8cRFNBl3J9WXPLlej0p2wf2Zoqgi4V+rPhjisxilCuLOlLw9La6BavSrP+s9lz2xVfFyusXYOJSJbhdW4+fRuUomDZ3qy+4ayuCppusYmhLSuiW6I9C87ZEpIhwXLzUFpW0jww+XGTmAP2jl2A+PG/EAGRgP0LB/W/rNL7CJhKIcPbPYKz90O47ZmCp3cMV0zcGL38mbp0/fDjEXgn5EHAcpehVyRx6qAjQ4WqhIud2eeeTrw8LwKWSayTr8a7tvAZk4/6cuhuMKfv+7HugBuzdrqw+kECEal/lXsihFZ9+hBEZcQdVkxdxtnnASQJeWzKBKw3D6FhhcJoFSiAXqX+bDb3Jf6NpIo3LesNApa7DH3GU9b3bUB5PS0K6DVi5iV3woUwwtwETKcuE045EqKuC69CqcxKLFBGcWHmWwQsNQyTWe2pVUIbrWINGTB1PsvWrmP1rJH07NSa5i2HsPaOF1HSDydgUSazaJcXAduWTcCK0H3dI7xilWT6HGFcy6xcq+bzuO4Wrjn3LD8ErKiwwa3DuON26rBTIVdGqVKhUgRwako7ddn9ArrfMe6EA0FC2XTZc7YPaUrFgkJVvXYsveWG4+nZdKpdUr1pqj7qELYByWoCJlRBzLsIhxTzVfkkYMpwLv/elTqldNAu3osNlh7qDaMiNQp/jxe8zDlo+wMJWJK/ushLreLaCPqNPWJLgKCf3I4dQ5tTWV01sC2Lr7sSIZPlImBF6LrKjJfRmWT6Hmdyu5qaDWez2Vx0Cn2Hd0iwz8DZGZMAACAASURBVHcRsEwCz86gU+0S6g1/7TGHsfHXeFwE0tdCTfqK0HbRVVzD35V7kk8CllOGPpOA0zPoWFvjYW0y/Sx2QRJUykiuLepJ/dI6aBWtT5/xczAQ7Hn2KPp0aUPzFoNYcdVVE7755pRDGXmNxb0aUEZHi6L1+zB+jj5r161m9qi+dGnTnBaDVnDFJVTtxVOl+3FlaT++L1cQLZ3CVOq1guuuEeqHSDnNqglYN+qqSXMDJh17RoB6TmZgs00IbRW8kQVpPO0UdgEBXF/Sh+/LCHLXo/e42egLcs8ZTd+ubdVyL7/sTEiaIhcB06HWqH1YeWtsVaVUoVJXFlIR8w4C5pVDwPRoMccE+2AZKF5weFJHagoPMvTasuCaI6EKkLvs57d21dVHMBRsv5gbjmEoIm9i0K8RZXW0KFKvF7/N1mA0Z3Q/urZtTosfl3HRMZg0WS4C9k0n9G86EZ6Zif+ZOXSvq3ko03jKSWwCNGcDvpOAqYScuPvqXL6N+69hZW3BNePf6d+oIkW1C6Bdti/r7rkRIyzz+SZgSiJvGDCgUVl0CuhQ5aftPHipqbqYmWcRDhWymBeYntjJuo37uGZljcU1Y34f0IhKxQTvUln6rL2j9kwJY/9OAqaSEfPCVJ3ft3HfVSytLbh+eD4DGleimFqXPqy5JZCpdNyPzaJHnRLqqAmdwmWo3qwvM3ZcwS4wiQxFNpHTQatIXbr/OpOla9exZu4YBnRvR/MWA1l69jkBqekiAcuZjOKL/xoCIgH7r434v1zf9xEwQf1MmZxgn2guXPdi1Wl/Ltx4xfg1tmoP2LD8ELDMFM4fdmTYEoGAOWHo+i4CpiDI+vXZYLOuRmHrl4pfWBo+oal4h6QSEC9Hlld1vtzj9MkJmAzPk3MYMngkU+YvZcWq1axevYrFE4UQoeIU1C5AAZ3StFl0hZc5uR+5BdK8ficBk9mx7ceGVCgoPK3+nmkX3Ah7m4DptWLx3VdEvU3w8iJgyR4cyvKcaRVqxYw/bmDl5IKLsxOOjg44OLoTEJuOTCn7YA9YvgjY+lwErFU2AZvL1Q8lYHotWXDLnYjcng25K3tHNKdyYQGr+kw+40SwEPopf862nzQErIBuI2ZcsOeh4VhaVdOEZlX75RC2/ppziD4JAVN4YPxba42nrlArFlx3JTy3nDnD/4EELMGVfaNaUlXtuajHxJP2BAob/FwErIBuQ6addSBY8hYBW50HAWs6CxOnkI8gYHLc9v9Kq2rfqD0r9cYfwzYgTR3yZr9rhIaAFdCl4dTTOASl52j75ouPJWCazXyjqWd4HihBpfDm+JQO1ComeF5+YJLRRR465rZnN/yjU8muX5NbBoXPCaZ2rEUxLS0KNZ/I3osPcXRxwdnJEUcHBxzd/IlOlWZ5rhUkOB1iSsealNDRomDFLixRh+9mV1EQHu4IHrC8CJgcl31jaFtdg9d3Yw5h4+nEyWmdqF1c4zGaYGiSS25HHBzd8ItOQZqZ2wOmR/NZ57HL8iK91uVDCdjL9xIwvXaLuO4QRobvKWZ2rUNxAaNm49h13iwLI8164ejmR1SKlMzcHrDcBOxsbgJ2Amv/9xAwQalMCfG+1lzaa8CEEaOZvXouQ1vXpZzOawIW/UEETIHv6Vl0ryuQdx0qv5eAqYVAEu+H9WUjlk0cwehZq5g7tA111R7wsvRZcwcXtRB/QcDUzUiJ97PhstEyJo4YzaxVcxnWth7lBA+Y4M0SCJhSOEbAjrMGQ2hWqaiahBXQLkTpGu2ZbPQQrygPzs7rSf0SWmgVbMKYbWcwVdu4M06OGlvxjUxGohA9YK/nhPjqv4aASMD+ayP+L9f3vQRMpSTsVRi7/3Bl3NaXGNsl4u/sz5wNmhDEfBEwRTJnjB0ZusSa3stecMZPSnKeIYiZRNh5M3Wdxrs23iQG/485nPkTEzBVsg27Zi1m7+V7PHV0wtnZWfPr9JQjMzpQs5QeBQpoUaTBBI7ah/KuegDvJmA2bOr/PeULFkCrWDfWmHsTK+TG5/aA6bVF39QzfwQsJYATE1tSXZ0XJnjOnLI8Z28b85dOwNqw+O5LInOTzkx/jk9qnaWbQMAcNQRMZs3mHxvzrZ4WWoXbseS2K8+PTqVtTU1YV7lBO3maFYL4VwTMYnXv/IUgZgZxZno7ahUXwkMr0H/zQzyzCxq8AfMHErAkf05ObUdNoV1dgYDZESQQMJkNW7I9fIXbsuiGQPhyhyAWoesnJWCZBJ6anhUOqMtrAibj2bafaV5JE27aZuE1XMLyZJ4a71p+QhD/5AF7i4Blag6sriOE/enW5tdDT/F7Z9jjG+CTGXKeOV3qUFIIP6v9K4ee+v7lmXPKyLus/fkHKhbWQUu7KHWGbeW+Z+zrEM6/IGDORmNoW60wWlp6NJl+Bjt/by4IZC1L7tEHHuOT54F3bxIwIZTUPuRtTP85AiYLucj8HvXVOZm6tX5hn5UXeZ7tm28CpqkS+k4PmFBdN8gS4yUj6NSwET1m7Oa67SVWDW6hCUHM8oB9GAHLJPTSQno3KKUO4yzTZy13XKM1Hu88PWCgkgZhdXgpIzs1pFGP6ey69oxLq4fQUh2CmF8CpkIaZMXhpb/QWdBl2i6uPrvE6p9aaUIQcwiY4M2TkRjixC3D2fQTqkPqCOHrBSnfw4DLdnacWyyEKAo2XpPhu814lX1m3hsmLRKwN+AQ3/ynEBAJ2H9quP/9ygoEbHaeBzFrdM+Mi8X4sFCEw4bRJ8Jxj1OQ7hWYkwP2bgLmx9MomWbjIkvg8F4HflpkzRCjIOxi5AhZFX8uwpGJxD8E/S3P6bfQmoFbfbgfkkH2MWQqmYSAaDnSXKXv8xwhpeSNMvTrbVKJzhUlpcqQ8PxJILvO+XDYJpHw9L+qrKgk4s5yJumf5Xlgkrr4wus+lcRZrKF//XLqinoFClZl8A4r/BNyM4ZcV+c+B6zhDC66CQn4CMksGHSpQxkdbUp2MOCmR7Qm7OljCVhaKjabBtKwgrBJ/ob64/7ANigl6ym/inT/l3hHp5Ce+Q+FIL7PAya5j36Xen+dAyaEIOrlQcBU6TjuGUnzykLSf03GHLHT5CBJH7KqVwPK6WhRqMFkTtgHEW29lSFNKqqT7ws1n8tllzC1J0jxzhwwGU82DqBxBT11CNLAbY+zinDsZOjbRThUEpwMf+EHofhAAV0qdF/JjRdRrz1NGRKkikwyVRJMl/eggfog2fzkgKXhbDSallWLoKVTg9HGz/AXNu1Sc9b0bUh5Qb/6EzlqG0iq8lMQMAkPVvbKytOqwjDD7HPAVKQ772NMq2oU0dKhxqgDPPUVPIhSLNYJGOmgVag+E448IyDlXSHBEsxW9aZReSFfpTJD97zvHLDsEMS3CJgqHbtdI2lZRSA331B39F4sfRKz5qKK9EAPfKIScx2/8HrOqdLt2P1LS6oIeUvf1GXUXgu8sw+WV0kI9PQhKjFV05YyFttTO9mzZwlD23xHGaGARZkWTDtiTWByVpXFdxIwKU+3/MQPlfTQ0qnCkB0P8YhPwX6PkK+okbvOL3sw90rIkVsS6IlvVCIpijcJWIvPTMAU6fbsHdOWagJGheswctcDPIUKIsKPSkKQly+RCSkoPpCASS02MLh5Vg7Y4G2YZYUEkhnC/c1j6VCtGIUr92X1VScikx+zbVirv0HAVKQ7GPFbe014ZaHGkzn21F8dWqoQcsC6vZ0Dlkmo6RZ+61id4oUr02flZRwjk3myfQStqwg5YG8SMKnlJn5uWSkrB2zz6xywzFBMt46jU/XiFK7cm5WXHIhMfsKO7BywHAIm44WlBc7+gUTHBOF0aw9TutelbCEtdBtO4A8rN57sn0DHGt+o8zlrD9vG3Zdxr20l2Bu/yDiS5FKstgyjVR45YKr0AKyOb2DuxInM33Udp9DkrPtfzwfxlYjA14yASMC+5tETZf8TAunu/lk5V0J4oCt/eEoQcsqzfyRegfyeVXBjxJFQnMNTcTT3YNJqjZfqpz9CeRWvUD9pfKMIxzov7oZmqAmGPDyMNdvsGLDMia3WyerCGipURNv7MC3L2zXmfDR+SZkopSlcPe3MCH1rei+xY/b5UGzCMkhJScfeNhzLICkpWXuDbBn/9DczjSvHnRixVDgH7DkrHqUQqWY6wpUq0v1CWbPbgUH6z/h5sze3QzNQp3H8qSFQpbhweHwnhm8wxyv6z8RKlfiItf3rU04IHyygQ5l2i7nsHpVDGnM3mdsDplNlJAftgkgW6iu4GTGiaSWKFG/I2H2PCUjKSvpXuLNvZFYVRL0WLLj18s+FBpQhnJ7SiuqCx0TnO8afELxdSpId9jG2ZRWKChv2b1sxdstVHIPjiPJ8wLEDF3gWEItEKePx+j58X15XXdK496an+MS9azMtaKIk9Mw02tTQhPnUHncch+BUVMiw2ZxN+ArRZZUFnjGZKDwO8WtWEQ7dxjO56BKmIZwZj1nfryHl9QqgXboHa24/xeLGHWyCYkjJePG6CqLeD/x+3Y03U4xUpHmbML9HHcoUKkX3NQ94FSMnM+gM04RCJgUrayrbRUnITHZg32+tqVpUB61iTZh48BE+Qe7c3DCM5llhQLoNp3LWMSSrkl8mXkfG07p6UfVGv9W8i9i42HFp5U80/baIOmxIr80ibrtFqB8gpHmcY273OpTW00K7+Hf0W3gUK58oYkKcuX38HOae4SQrMni6aSCNvxVIXSm6r7rBY/Ob3LUJIDpR8Ox01FRB1KnFmMMaMpPmfZFFvetRtlBJuq26x4toOZnB55jZoTYlC1aih8ElnCOEs9pk2G7/mWZqb1QhOi0z5UVkJgrPPxjfprq6CIduw2mcdQjW4J7bGHNeC0U1BtO0oka+biuuYmV+Sy1fZIQnlxb3pX7ZwpQUCja4RSHP8kZ9V7Iglbrrc9Ep/C8OIRfaHkLzSpq2uy6/gqX5Le7Z+BMZY83O4T9QWcjZK9QRg3tuRAqheMen0KGWpqBEg4knssIeVaS4/KEOJVSHBpb/gV/Wnsc2IIYobwtOG5vwxCuStLxMV5WCyx9T6VSrBDqCt6H5SNaef4Z/TBTeFqcxNnmCV6Rw7EIGwQ/3snrzSR66eGC+/VdaCSRYqzCVe+hz0TlcYyO5CZhOFQZvvc8rwfOp8OP0zC7UKaHDN/VHY2juTYJCSYrLEaZ3rq0JaSzfnBFrzvHMX5DbkjOHTXjsGUGaUoHHkcl0UldB1KXp9DM8D3q7pLiS8EsL6FG/tJoE1PzFCCvvJHUFw1d/TMqqoKhLsxlnsRXulbtxSCjCoc4Ba8ncS/aEyEEuFOFoU01T0bP171y2D0GuSsH12Ey6fldSjVG5ZsNZdcYav+gofKzO8ofJIzzC01DK7DH8tQ3VhDzEQu1ZpM4rE/LXZtBVXYRDlwYTjvDETwhVBZntLn5pXZWCWtqU7LSEcw8ecsfUBh/fm2wa3orKwrwp142lFx5jb7WfqR1rU1IIQSzRlWXXnYgQ1nllOFcX9+Z7dRXRqgzd9ZBXCXkNtLBWu3J0ZnfqCJUsi37PqB13cPd/yf2d42hfowS6ghe03lgOWnmTqkrn6faRtK6ih5Z2ObouOccju0ccmNaZ70oJRXhK0MXgKo7hmi8b2fM9/NqumkaXjgs5fd+Muw9s8Pa+yRahyqVal64sPmuF3aMDTOv8HaXUunRh6RUHwhUybPYvYdme89iGpCKXxGBrJFSvLEnlAeu46RpFottJ5vaqRyldLQqWa8rQ5Sd57BNFlO9jLhw1wfJFKClKGXZ7x9K+ekG0tEvSYcFJ7pnd44GNF5739jGjdwNKFylCqVo/semeG9G5vstzprz4QkTgK0VAJGBf6cCJYr+JgDJdipdPHJfPufLLcht6LdSQldkmIdx3TyZcokSoNSGPjGTrbnt+XGxNv5XOrLoejqVzMGu22/HjImv6rnZlx5NE4iRK1ARstxNTjF6ycLcrq2+G8cAlmosm7kza5saG+zF4JmQiV6lIjU3ipsnrvn/c6Y2JexpJskxiA6M4eNiJofo29FvhwOQ97iw76csp2wQCUzLVcr2pTdY7hYzgoCRsbPxZuvk5AxZZ02uhDaMP+nPJIR7veAWyTMgIDmP1Djv6L7JmwGYfTMM0RPHNNlWk+j3i5MrhtKxSiuqdp7Lxjzs4hyXn5JrIIj14dt+Q8W2qUVIooFGgAFpFqtNt6hauOkeT+lYUkZqAtW1Ek/Y96dqyHT/N38Fxk7PsmNKNxo07MHLlWZ4FJaM+31aVhJ+VIb+1qEJxIVRFuyztpmzjmmsMadk8UJWM/xNjpravTkl1NcZiNBu7mavOMaQmR2B7fDEDG1WgqF5BSlZrSOvO/Rg+bTWH77kRkRyJl/Ullg9oQIUi2urzzGr212f/3ZfEpOV1bpRwYOxTjKd1oEZWyGWxZmPYdMURL4dbbBzWmIpFhXZ0qNZ3GeeeOmK2ZyJtqpVAVyjVX7Y90w48IDRRCsoYnuweS5uqxdDTLU3tVn34bc15ngeH4PnIiPGtqlFCV6Nz20lbuKLGMlcejjwBzzs7mdSlLt+1H8eag6c4pD+EFvWb0HPqbu69iCZdMF6VhHCbI8zrXZ9yRYpQvm5LOvUZzsw5w2lToyyFtbQpVKk9E7ZcITAmVUPOvS6jP7Ah5QrrUrxaUzoNnsrKJb/QpmZZtZdTu2I35h22JCwpA+TxvLqxlXEdalKykC5FK9SheYeeDP5tPltPW+IRnYZcpSTW2pDx7atRXE+XUrVa0nvsas7avMDZ8g9mdqlFGYG8axWj6aj1mDhEkZKegNfd3UztVp867cey+sBJDhn8TMsGTegxZSd33KJIUwgHMZuxdVRzqghFA4Ty5b2XcuqRPWZ7p9ChRkkN7mXaMnnvPYLiJW+ad847JbE2RkzsWIMSavla0GvMKs7YBJKQISPR6x57pnWnQZ12jFm5jxPGBgxt/T1Nuk9mx23hHLBcFQJz2sx+oWl7UqeamrZrtqDnmFWcfurM8ztbGd2iKsXV+ZNV6bX4OJZ2D9k3vRO1Sumqw8hKt5rArtuviEvPRCWNwuHsCob+UJniegUpUaU+LTv1YeiUFRy45URIUob6IVB2z6//qpBGOXB2xVB+EPI1C5agSn3BDoYyZcUBbjoFE+7rgOmJNYzv3oS2I9dwztKeB7sm0q6GpmCCdtEadJu6nRuuUaRmhLzOAdOpRvfJ+mw/cZELBxYxuHk1KtbqxOQ9pnjEaA5jFuR2PLeSYcI8LqiRu4Ug9+Tl7L/pSHCSlMRAG4yndeK70hq9y7Qcy9pzdoQnaQ41Fh4apQTZcmJeT+qVK6Q+V6too+GsPPMML1cLDkztSO2se8u1m8ye2w44mO5lcodalFLPo2/pOM2Q23bPuLFFyOvLOj6jUhdm7TcjKEGCNNqR86tH0LJqCTVGleu1oGOfoUxevo8bDkEkSuLxsdjFuDY1KCGsRzpV6D7/CGa2Dzk4uzt1yghHUGhRutVvbL/uTkxaJsq45xjP6M53pQqiW7IGzbuPZvmJx/hGunNhYX++F+7RK029XpNZf/w0m8Z3oa6gh25Zmo1Yz1VXb15an2R+7waUF0rfaxXh+5+Xc8I6lEThJOe3f1RSouzPYDCkGRWLFaFs7Wa07zWMabNG0LF+JYpqa1Pw21aMWn0Wj7AYfC4uZkBD4TgKPUrX68mk9cc4tWkC3eqVRlc4OqPpCNZdcSUiTYkyzo4/ZvWkjlqX6jTrNoplx6zwiXDHZPFAGmXpUrfnJNYdO8WmCd2ol6VL0+FrueQSxGOjWYweOpixi7dz5OwZtk/tTeu2P7LwhOBhlaPKiMb54jpGCd8ngq1UrssPHXrz8yQD9l61IyBByFVUEm9/hDm961K6oC4lqzel2y8GHLX0IvT5EWZ0r0MxHS0K1xzONtOX/OXztLfxE9+LCHzhCIgE7AsfIFG8/CGgUmSSlCwlMDgJZ+9E7D0TsPdMxC04nbAEuXoDK3zFqeRyAryiuWoegolNDA5BEuLTMvB5FcVls2DOW8fiHCFDKhTGkKZi6xyHc1AafkGJPHONwcIpGlO7aKy9UwhOziT7qBK5VEZoaHJO3w5+qQQnKpAphbOfFURFJGH9PJzzpsGctojA3COZoFz356mlUklqqoyo6FRe+CbioNYpASf/VILiMkjKUCGIqcrIwPNFJJfMw7j3MpUYad4hiPLkCHycn2JhZorZY3te+IQQly5XtyH0r5QkEh3qjdNTS8xM73P/vvD7ACu7FwTFSXN0zZE1xZV7l25h8cwZl+fm3L5iwvmzZzh5/CzXzWzxCE8mI6fAiIzkSG8cn1hktf2Axw4ehMRLUeQ8AJaTEumD09Psa0x5ZP8q6xoVssRgXjy5yYm9W1i7Zh1b95/lztOXhCdnkKnMIDkqEPdnVjx8IMhtirmNK95hCUhfd5AjuvBCnhKFj5MGD0FX00f2vAqJIyk2hFd2jzDPacedoJhYwryceGphhqmAi9kTnHwjSRcYMErSI1/x+PJhdmzcwHbjy1i9iCAlQ5qHzq8Ijv8zlsr0aHydLbl6+jgnTp7k+JHjnL9liaN/LOmCEWX9qDLiCXAxx8R4O+vXbsTw1B1s7c24cPQIR09d4taDxzh4hJAmzWK18kSCnO5xeu9m1m825MTNp7z0eYHdE0vMBJ0fWuPiF5WlB2SmReLt8IALh7azYc1aNhse55q5Pb7RqTnFYpTpkXg8ucIfOzeyYbsxlyzdCU9OJTHKF2frbNsxxcruJcFxErXdCPr5CfqdOZGj37mbFjj4xZCm1k9FRlI4nvaPscjB3Y3A6FjCvZ2xtnyNu6NPBGkZ73YbC/J5PrnKEbV8h7ho6U6YYCMChsp0YvxcsLp2hhMnTnLy+BGOn7uJhYOfmqi/Rjob8Tf/KtOj8Hx6jSO7NrFh+yEuWrgRlpRMfLgnDk8seCDYhqk5Nm4BRMWE4+1sjaWZqXoumT12xDtcqBCn2WzLk0J5ZXObU/u2sk6w532nufXIndBEybsfyqjFkZMU+gqb26fZv20da9ZtYd+pWzxyDyFBIkeWFkeojzM2VuY8tvcgJDqOSH83nj16qLHd+w94ZCfMKwlyRe4iHPUYtf0ipk8fcfvcIQyNjmBi+hyfmFT1OpaNhCC3h80dTu/fppZ7i9Epbj5yIyRBI7c8RbBla6yy9H7wyI4XgYIdv3ZfyFOj8XO1weqhBhtTq+e8CIwhKT4cnxzMTDF7ImAWR2yY92vbMn3IEydvwmOiCfZw4InFA7Vegi07+0aSmiH0IycpzINnd85wIAsjo1M3sXILJl4iR6WSkRzhhWP2WmNqjrWr4MkMx0eQK2fMHPAKS0SqrhQrIdrbhhvHdrN543YOXniIS4jwvwxivZ9wxXgHm7ft4/Stx7iHRBHibsGF/VtYv3kvZ+45EBCXREKUP67CGqVeX02xeu5OQEya+kFaNr65/6pkiQS7P+LK0V1sXLeR3cdu8NTWjMunjnH0hAk37j/C7mUQyWkZZMR68+SqMTs2b1Pbw2P3EKJC3LEw2c+W9ZvZe/oe9gFxmoc5SgnRPs+4eXwPmzdu48B5M5yDE5GodXnK1cM72bzNiFOCLsGCLpaYHNDocvquPf5xqYQ4PcHqkQXmlg+4efk8J46f4Zq5I/5xwoMajRby5DA8be9y9qCwXq1jy94TXLd0ISguPecapSQan2c3OWG4mY3bDnDezFlNouVpEbg9OIvR9p0YX7HGOyZNDEHMbRzi668eAZGAffVDKCrwoQioMjNJSZOTkqF8TT4UmSSnykmWvv4MpRKJcI16V6ZCJlWQlConSaIhXnk8s/wLUVTIMxTqPhLTM5EJ5Zj/4uoP/ZdSnklymgKJ4tO2+5dyKCWkpmWgUJOsTKQp8cRERxObkEqGQnOY9V/e/zH/VMpIS4ojOjqG+GRJVt8f09Cnv0chSSY+Nob4FIFUfszoZpKRmkhsdBTRsYnqDWuehEClQJIsYB1LYroMhVxCSlIyqRIZmXn1K2CWGEdMbNK728wNR0770cQlpSPTTIDcV4BCSnJ8LLHxKWqCmz9t39QvTZZJXuK+2dFHvlNISfkL+TIzUkmMiyZKwDDtHbi9q2uh7YRs3bMONH7Xte/7XCkjPUkYyxjiktOR5zyweN+NoJSlkxQfQ3RMHMm5HqS8/85cV+QOQdQVytDb4JsgYBNDjHps36GfUv5a7iRB7jwtNVdH/5+XSnk6yVkYJaUL4/x35RDWuQRiY+NJlrx+eIVKg0dcvGaOqeeDet7FEhOX67OP6V6l0PQZE0uicLi7XEJqcjKpwtx/YwKpkKcnER8Xj1pXjRDI0hKJjYlVf5bF/bOkyESamkBcHrpIkuL5sy7Za4gmRF8hlSJTKFAIdqi2l2Qk8jzsRbAV9XoVo1lP8nogliklNTGO2Pg321AK8zQ+gZTcWH8MhuI9IgJfIAIiAfsCB0UUSURAREBEQERAROAfRyCbgKkrG+Y+B+wf71nsQERAREBE4D+NgEjA/tPDLyovIiAiICIgIvCfRUDhwZHJHaipPii8BiONHuOdZ832/yxCouIiAiICIgL/CAIiAftHYBUbFREQERAREBEQEfiCEVAm4vf0DOumDqd/j6507daXMUv2cO6RD3Gp2ZVxvmD5RdFEBEQERAS+YgREAvYVD54ouoiAiICIgIiAiMBHISAUoogMxPulG64uLri4uOL2yoegqGSk2dWFPqph8SYRAREBEQERgfchIBKw9yEk/l9EQERAREBEQERAREBEQERAREBEQETgEyEgErBPBKTYjIiAiICIgIiAiICIgIiAiICIgIiAiMD7EPgTAZsyZQoDBgwQf0UMRBsQbUC0AdEGRBsQbUC0AdEGRBsQbUC0gQ+0AXNz87/kYH8iYHXr1uXQ4pHc3DJV/BUx+Kw2ULNSWQznDfusfYp2Ls5z0QZEGxBtuTm3fAAAIABJREFUIG8baFGvKmsm9hfXZHEv8K+wgQ6Na6E/pte/Qhdxzcp7zfpScOneoi6nTp36cALmcWY5cqs94q+IwWe1gabfVcbx6JLP2qdo5+I8F21AtAHRBvK2gT5tGnBn23RxTRb3Av8KGxjatRkmayf8K3QR16y816wvBZexfVqLBOxLGQxRjvdPFpGAvR8j0Y5EjEQbEG3gc9mASMBEW/tctvY5+hEJmGjPn8POhD5EAiY+tfqqnvSIBExcHD/X4ij2I9qaaAPvtwGRgL0fI9GOvh6MRAL29YzV1z6vRAImEjCRgIk28FXZwNe+6Iryi1/w/yYbEAmYaM//JnsWCZhoz5/LnkUCJm6+v6rNt+gBExfHz7U4iv2ItibawPttQCRg78dItKOvByORgH09Y/W1zyuRgIkETCRgog18VTbwtS+6ovziF/y/yQZEAiba87/JnkUCJtrz57JnkYCJm++vavMtesDExfFzLY5iP6KtiTbwfhsQCdj7MRLt6OvBSCRgX89Yfe3zSiRgIgETCZhoA1+VDXzti64ov/gF/2+yAZGAifb8b7JnkYCJ9vy57PmrJWAZphvwOjYfy90zuL97Lran1hL3cBcyq11EXF5Hovr112NIafc2E3VjA+HXNxBxayupFruRfTAx2Eni7Y1EXNe0E3V3B1LLrweD/Bi96AH7+sZTcn8L0Vm2Ldj3u36j7+1AarEHmek63A8vwMVkE8kPd/+ryKHswfrPo5vlDhJvbyIyC+/IO9uQWHwElg+3EXcre03ZRPyDXf+6NSU/6454zbvXnf8mAdtBzEV9nhnNwfLgUnxvbiPNYhvRt7aSYrYrn2vWTpLvvp6jUXe3k/4xc/SD9wnvHkvRzvfw9ROw3aTd30L8fcGehLEW7GwLiaY7kZhtJ+H2ppw9Ys538Y3NJJrtJEO0pXzO3U8zh746ApZxZzkP9Pszs2cLJo0ehPGqSVxdP45jv/dn8cherJvWh2m/jsb52hYkX40x7Sb2/CyMhrdgUJv69Ok7BPNLm0n7UPktt+C9ezi/92hM35YN+G3WbAJu7fisBvVPL+AiAfs0E/+fHqfX7e8m8epy7LYOZUHvpvRrWY+ebVqzaNpP7Fs8kv3zBrFqWGt+avc9E+fMxvvGJp4v7crwljXp1ONH7pzdQMqHzoMv9vpt2Ol3Y0QrjW63T/+Dullsxv/wBDYM+oEfW9fnpzHjcL605YMf6sjurubR0l6M69qQXq1bsXGLASGmH0Hkvtgx+drm05cn73+NgMnur+Th0v4sGTsQo2UTuLTmV4ymDWDT1F6sXDgLt4vb8jfPLLcSaPwb6wa1YGCr+oybNgWny9vfc+8O4u9uI+1hfknel2cvr78bvkzZvnoCZrEWswV92aI/E9dru5Dd/J0jEwZyaOtiAm+tx+fodA7+1p6R7erTs2V9hg0dxLGti/G/tY10cZ3+rPvlr4qASa7M5eDIprSrXpZWvX/kvOESfC5vIPzaWnxPL8Jy3RCmtvqWqs37YGGy6Ssypt2k31vF0X4V+bawFjpV2nHu9HqS/8feWUBVlbVhWBADu7u7QRFbUbFRQcFAxaCkQ0BAuhscuxFbFASRDru7a4yxu0AFR33+dS6oyC8z6higx7XuEjj77ni/b++zn51fOnuVFsijteOY1LAcpaWkaaIykZOR/9agF8xGML9GWgSwwmUvwY4vEn24s3YiJm0qU0G6CFIlG2HpZMDu5XYcD7Vh7x86BA1pzEDNKRzZ4MFWvda0qiBDmaY9Wb3U7cvrQYF9ifixXb8tbSoWo0yTHqxc7MqTL63jn1u2tEAeRxri1Lk6VYtJUbHzUNJWen35CGeyH5ede9KtlizS0pXQtDLnQqwIYPm1T7/j338rAEvz46hTPzTat8bEUpe9a924tsGRE/P1mDmyFUNGjCZ1hfe/QNS7NjyQJxt1sO1Ug6rSUjTpP4qUlb7/+N30NfosdTbm6NovH0z5HX3za8pc2AEsK9YU/wFyGBjocig6mPRFo9Dt1QVXV0uuJfrzaLMT4RPaIFdRmiJFSqCgok7UEk8eJwV9+fvhc99HYrhPgl3hAbCkGawd25q2FYtRvEorvINmcC/P8qTMBDf223alWzcVthUqABMaZH+i1etQu9R/ADDByRP0MW9egXIigH3S4b+mQRa/867D8B/+TzLFVbEaVWSKICXbHM85DtxJCyEryZt7cb7cmD8SF3MTzm705e5qMzY5jWdtoDVXhGW0v0zjHcS91eZE5ZTt8pbvXLYkKwKValGz+H8AsK0hPAsagHK90hQVAUxsUz5RF38rAEuyYs7ghjSo2AAzR0suJ+a0ial+XA0ZjrXuRHaEfcFAR6IpXj3rULPovwNY1hZb1k+SR2XYSBJCvyCNT9hMfKfl/y4r7AD2Imw8Jj07McPBnEtJQVxyU2Zk/74snumQM5gZwA5jBbpUk6aIVCl6j5vMno3ioNrPqBOFBMCCuRkwkAF1SlFcWorq3Uayd4PvJztmL6MtCDGYwLGPliAG8WCdNWkBU0mYY8e1+MDs76b6cWuDMxfXOHJ+rRPXtwTwdNMMdgVNJX7uDG4l5F0Tm088aX7cfhfPGieuxQTwItmbc/ONSV7gxP1EYW+aUOEDuLvWhm2BemzyMWDnCneevIdIfzZr1KFO6c8DsMxYF47OMWSztz4pi525l5STRoI+FgKASX9iBizJi4tLzEjw0SUqwJxTkX45a4SzG6Pn0Q7sCZ5KzExrLkU7c26dF8+SsivmPz37kY4rzoDl/+L4kXb44rSSTHFTrEbVPACWsUyfmMVu3N5sz/7FLtxY78KVdQ6cWm7H6bUePBL8OtWPOxtd3tfTazH+PIlyYF+IAfFCfY4N+HjkLsWHK8vMSfQ3ZHuoCw/e179/1i5jsxMHZxkQ7a1P4lwbTq505PwaJy5GePN0iwd/hTtzQdJWuHEvMZCMGCf2/2HC3lWePH5Xj5O8ubTMgiRfoY6ZcXyjD+mSdfjBPNvs9lHZHiYF8TLek2vhTpJ4L6wT4vXj1morUgMN2L7cjYc59e+93im+XM0p27ZlLrnalpyyJXlwdqEJcQGmHF1rjGfPzwewzDg3Ts4zJsZbn6SFjtyKz27/8gew7H0wu4L1ifKZyrZQ1zxaB3JvrTVbA6aSvNCRG+scubzZj6cpQl7/6dk/2+m9FmLHskAA4W8FYHEGOHetRTWZkjRR6IqfpxVXYwMl7/esuOnEB1lxcaMvz+O9uJbTXlxY5879eD8eRLtxeZ2TpE25FOnNM6HN+AjANIidY83ePwyI+8NGsq/sRc4M+cvNtkQadEGpTmnqd1Im1N+aSxtcubI+p/8iaZecubHFn+eJPtzaKPzdiUuRHlwLd+XS2ux0r2zy5VGUE4fnGBE/y4Y/o/14l8b7epXqy7UwS1ICDNm6xIk78dnle//8F693hRPAgkkX3lHrHTk4ow9Du3XGxd6QI6ttWT9RjiED+rEoyEGyh1foh+4w6UjXHADrMz4HwNICuL/J7b2vXI325VG0C8fmGhEbZMFJ4V2WFsyzKAcOzDIgNsSKc5t8eZ57FUeyD9eE1Wj+ekT7m3BorSePJe39hzb9+RZXTswzIsZHn/hZVhxd4ZD9nt3gxaPEnKW1qX7cWDmNtEBD0hY7cisulw8K7/dQC5L8jdgd5sLFta7c3uJbiFa8fdCicABYmifRGvWpU0qYMi1Kpwkm/Lk58NMvn7QArq3PdQhHmjdHXIegN0iJgBnj8VNXYJLmGNLW+ZKR7MVJt0FodW9Bb/kWGExRxXFMF4a1rUuHls2YYmbKlS05hs8dj/14/DQ6MmmsEI8P6SnenPUZhl7PlvSVb4aprRFr9HqgJleP9nK9WBnmwaMYWzYa9MXORIuNHprM6N+c3gryTHe04kacUJbPBbBgHi7XxlutMxZGYwnSkKOfQit0jA04F+NP5icBLJgHoTr4a/YnyEGbDbYDGK/YBOXeyoQtdONRcgiZESbMHKGAzuQxrHbWxG9sR7SnGnIhKoCX//Dsyw8K+eB8X9OgiwD23/T7Gs2/yXc+BWCp3uwy7o2Xly2XYwN4lhjAg7VmLNJUYHjHJvTpN4w4YQ9YijdnvIah37slfeRboDdxKA5juzNCvj4KLZsy0dCAs1HZS22FUeJIg17oaAxjoa0q0wZ3wcrcgFPR/h9D2kediECuzhmHw+A2DB00kDl2o3BUkWNwh+aoDeiGubkBZ1dNJ85MiTFdm6Gk0IO5Plr4ju6Acsu69FQdy951XtwL02em1gAC7Caz3m4wU7o1o1+v3iya7SQZIHm03pzF4zrmlG0oW1a483jzDKIMujOqS1OUFLtirzcAa9V29G5VF8X2ivj6zeBmzp6rrC12bDJUQldjKAumq2I1pAvTzKZyIspPMqD0MtKSsMmdGdazG17TtQizGYxmiwpUkPm3GbBgHq3UJ2R0Nyz0NfAf0xGVTq2YqKfD0Ug/nnxiBiwr1p4Yi4E4Gmmyxm0criqt6dexHeY2plzYHCA5DOnm3DFYD+nGDPNxrLBTw25IVzy9pnMlPgjhmY3Kp56JI7HfpL595N/ft834rQAsyZ5lqk1oXEoK6eKlqN+4CRrqw1g5y4Hb8b482OJHenIQzzfbE2nYkzFdmtK7Wx+WzbPjXKg2PmrtGdy+KSPGa7FXWEaYC8BqtGiNRv/OjO3ShK6tGzNk6HA2LXXjcYo7e12EulyR8jJSlKnTmJEDe+JmM5kVRv3Q7tUCJfmmjBg1ithlnjyN8+C4xzBM1Qcyz8+CgyHjcFKRY4B8UzRU+2Ch0YuJ3YQ0GqEyXI3oZW7vl0Jnxc4gzqIfhhqDmWWlhr1aNywNtTmQz4B3YfPVz8lv4QSwQI66DsG4b3N6NK5EtcqVaNW8Ib0VmiBfqyw1qlej85CRJIV68DJfAPPjymxNHFTa0U++KWNH9MVytBLjOzemc4v6DBg6lIU2GgRO7o56x4YoNm+E+oTx7FjjQ+bWYB6vMWGZ/mB8LcezZsZwzPq2on/37gT5TM/ZNxzIjcXa+Ku3R7V/H3wsNfAYpYhqx2YMU+6MsaE2+9Z48zLOgSTrAZhoDCLYUg3Hkd2x0J/ErnU+vEjz4qCLCqZqffGZNo7lFoMxVBtM2B/23MsNgj+w/fscn8ovTOEAsGQrvDtVomKxIhSRkmWo2XSuxX3OizqYO7PVmNCmMq16jyBluRMHTORpVbsWqlNNuBLjx92QAShVk6VYEWnqd+nPYi8dfPpUp0rJopRv1Y8ta7zISBPiGcGENlVo1VuN5FBHDpjK07pOLYbrG3M5xo8Hi1QZVqs0JYtI07xTd8zGdmNg/TKUq96BBUud2TO9G73rlqPN4LHsWmFPuHoDapcuTjW5/jlpfB6AZW2xZI5KE5rWbYN3oA0HpnemXeWSlK/bhdAwdx5/CsBS7Fim2pTmlWsyycack2FTMG9dgQoly9Jzgj7nov04O6MrXaqXQ0F1HNuW2bHXsTfjx2tzOsKHM/k++8zNxt+wMogA9n07U/k1FP/577kArEjxWoyZqIL3lG4MalIPHdtp/Jmzr+hFgiur1epTXzIT3JnQxS48Tgvk3iwVVOqXoUQRaep27M1sV238B9alTumilGuuxLplbjxN9WL3tG4o16+Bmq4u+1ZaM3dQfVo3boWTjz033y0XyuOPmZFGePdrQL3SZVAaN4VdK2YQodmMJuWKUblND2b723E31osjFgrIVSmOlHQV+gzugaVaa+SqlqJeTzW2rbBgxejWtKtak3GmhhwK1cG2Y1Wqypah6+jJHNnox/MEV9aMbEDDMsIsdyeWLHTmUbI32/Xb0LqSDFJFK6A8aiRrPFSZ1FLobJVEQX0ih4SN+Wle7LHqTv8GNVHV0WHPSmvmDWlI28YtcfCy40a8B9tMO9OzliyNegwleqED5xeMQa91JcoX/WcAy4q1ZqlGK9rWb4Wjuzl7ZvSiZ+3SlK+twOx5TtwIzLsEMZDTLn0Z1qQCrfupEbvIlk1aLWlRsQRVWimxWtjbluLE2tHNaV61DpPMp7I/dBrrtboyw2ka56IdWTemBS1ynu3L/Szmc9r1QloH8vjdf65TBSS+3wrA0vy5MlMdXbnKVJApQpEi0pQsW55mLVuhozuRXeu8yUgLITPZi2Q9OdpXlkG6XHOchQMQNhng1qM2NWSkqdFtKLGhnmTmArCqrTvjNl2HWJfBjGlRiUplKtF/3CQOhntyY8UkpneuQXUZKaq060GQowH7Vjhxdq4mJgrVqCTU8XZ9WD3PlfQUfy65DcRCR5PNS924t24y1oo1qCxVhHKN5LC1nMxmp4FoNK9IxTJVGDpFhyMRAbxK8+bgjL6oNauFyvjxpIRas0yjJR2bNMPSwZJL8b9H3SycABbMndVWbPXTwLRLfZT79sXXVpsIm76MaNmYESOHsDB4Olc3CwOV+cyAbQ3iSdh4TDtWo7yUFDXbdMbFRptwvU70qC1L8TJV6D14MAvd9Zg/ujVylYtRul4HAvztuJfsRLS+EK4GqhO1SFtigG//BtQvXQr5IeokrfRBWJ22UKMVrcqXofNQdaIXzyBuake6VCtOhaYKuDhZ8tcWDw47D2B0y9oMGj2GuKU2rNBsS9cmTTC2MeVMmD5e/erTqJEcLk4mHFmih/fogSzyt+KGZKVJ4Xo3FA4ASzJlRrsKlC8qAFgZRk6z5XouAHuR6MejWB8ebPHh/rtPrHAcrBsRGg2pV6oYCmP0ObrOk+vuPZCrXJKK8kNIXefNkyWqDK5ZiuJFZOiiacCZaF+2TWpMvTJFka7SgcWh7pIRqMhRDalXWohHjyM58chXEeIZTMo6b9LXj2Vs3TLIFpGiRqfBRMy1Zl+wLhv9rLgU68PWKc1oWFaGat1Gsm+DJ7v1mtOwXFGkK7VnYagbj9M+B8CCue3XD6Vassg27kXUSg+ehhvgM7QdQwepkSTk41MAlmSOW8fKVCpehqEmllyJssCrUxUqy0hRo89ojm70YpdOcxqXK0a5Gg3QGKdJ6mJzooJtuRPry+58nwkj3T/W4UUA+7F6f7NOYm4AK1EffWMNQrQ70b2WMCjwAcCEmeC48Y1pUk6AlHcAFsLzUHVGNyqPbBEZFNSncHCjDzv1W9OyogzSldoxc54T9yL1se9UncolamPoZMHpKHc2jRXikqXbOF2OR376RNCMOSqoNChL8aKVGGdtyZ9xgZycpoB81eKUqNeF5QtdeJIWxBWHrnSsXgIp6bL0HT+B5IXTSPXVZcsCR+7EmOPXsyY1SpRmgK4RpyOmEZSz/6p6DzV2rPYmc6s/8ROa0qyc9HsAE+DyuGUH5KsWQ6p4XYxcpnF1iwW+PWpSo5gU1XuMYPtqb15umopDlxpUKVkbA0czTm1yJ2pcU5qVl6WrpjaHl2hjJ5RdphhdNPU4GhFIVrwZnt1rUP0fD+EI5k7wEIY3LkvpBl1YvsCZRxtM+ENDAdWBQ4la7s7d/wMwf/YZyyNfpThVFIcQH+bGPtP2tK9SDOmKbfD/YwZ3E60I7F2bWiVLUqd5W8wtp7Jnlj4poW7cibEiqHedD88scj0TT1j89MqOH9zOfkm9/60AbKtwTYY7JwLHYq/ckEblilG0iNAvKUq5KjUYOEqT7Wu8ebE1kAPmHelcvVgOgNlwM9GSYOX61C32aQBroKRK3HJvXiRMZ55KQxrISlG2eU+2zHPmVbIFwf2yv1tLgLdlOXvAkt1J0pOnQ5ViyFRsgo3zNK4meLPTZgTLg6yyoSnBELfutakuLUXtrkOIXOJJRrwVswc3pH5JaSrK9WXLQleyoo3xUa5HLdkaTLSYyuFId+J02tGhiiwKauPYse7XOtArPx8vnACW3S/IihEGE+UxMdHnWEwwT+ePZEqvrnh4TMsFKPkBWAiZG7Sx61qLSlLStOg3gi3LfXg0cxhjWpanqHQ5+k2YyO4IP07O6EW/eiWQLt2YaS4WXE2czmK1pjQpVYoeoyawc40Ny0Y2p5msFJUV+rF+gRvpi8eg374KstLlUdHW4WBUIBec+zC4gSwlasrh4zOdu1GmBA9uRL1S1RlrqMO+CHcSpwr71WSRVxlFnJc6Rh2rUk62HG0Uu+LrZkxqoBlH17jyQJwB+06dwxRbArtWppIwA1akBIOMbfjr/Ulcwdxfb0WClTJavdowuHNLBnXvitsMI45tNMZBrhIVZKRp1FUZL5NRzNPvzSRledTVNNix0YfHS1QZUrMUJYoUZ6CRDVdjA9it3ZT6ZYsiVb4dc5a58SjJHNf2laj4UTx9mNQvJ54NPjx7D2DStFHX40xUAFlpQdn3Gm0N5m6YISumabDIeQprrIZh0rkqFUtII1W+LbOWufLoswAskN26zWlUrigyTZSIWeVJRoovf62YzpEVbjwQ9st8CsBSvTgVpMVci7GsdpvI/Km9GFS3FKWKSlG5hzqHN/hw3b8fyrVkKS4lTamKVemi1Jd5IY7cTwzkRr7PfvyImAhg36mOfe8OXi4Ak5JthkugFafWTmejVjec3Kdz6X199ideAmACpOQGMI0cACtGX21TzkQHsN+wLa2EmaNyrfGf48jNecMZ3rAsJaQrMUB9EP7TRuGt2ZXxfeWYampAsosG3pP6YjG69/uPk60pZ0OGM6pJeWSLVmSMlSUXYwM4btFeMtsl20yJ8KVuPEsL4qpjVzrWKIFU0eroOllxJSGYrNQgMtOCyUrz5szMySy0HMNKl4ksMOrN8EblKFtUikpdhrFtldBh8idBALDyeQEsG/akSjbFOdieWwK89MreuyV8d+tKL9IXqKLWqJykbP1HDMTPchQ+ml2Z0FcOfRNDjvsMQVV4LlUCZR1jTkUF8yrJ+jMO4QiUrAqQqyKDTINurFzowtMUP66vtuXoChfuJgTy9P+WIAZxf5UJ66ePYqHjJFZbqzGtRy1qli6KVNmWeM60506KB0k67SSHJklLF6NKrXoMVx9JzHIPHid7kKTbjnaVivF/z/LsF8ivkyT+veC0A78VgKX68Tg+gIx4b66EWRBlMwidTjWpWaooUkWkKFm5KdNdrLiaGMhBc0W65AWwHIj61AzY+1MQU92J0GxOq3JSSFduIxkIzRfAtgbzYNEodNpWomzRksgNHU3qPF0WWExm6zKh3QrhVaIR7j2yAaxJPw2SV/iSlerOxnEtJGkUrS5HZIgdL5aMYnLbSshKV6DXEGU8LUfhO6EHk5Tl0J2qw6HwH7/i5WfU88IJYMHcCDUl2rIng1o0Zvjw/gRMH8cfo9ui2LoVk8YNZ7GvJRc3CTb8dwCrLCVN+2GapK4JJH22GuNaV0BGuiJqU/U4vDmQc069GVi/JFLF62PiYMalZB/+nK9HmPUYQp20WGzWn7Gtq1ClmBTl5fqwRpiZXamFRafqlCtajsFTtDkQFZATjywlGygyM8Cee0s1MVSoSmnp8nTr3xt3i9H4afVEu58cOnqT2b3IkFnDmtBQNnsJcL3GLSR/37POW9wD9t0qS5oPaRObSGalhD1gcqOnciH63R6wYDLiPLkU0J8+1WQpXqQI0nU6smCmPTdj9LHMOZCirpIa0cKGv1BbjoXacnylK/eTgkj/JIA1ywawcm2ZLQBYoiFWLbIPtqirpPrJeF68B7Ci9Jhizp8xee7pSPXkoMswTPu2Q2uCOt4D62Z3WMq1ZdbSzwWwABI0G1C3jLRkdm7RMmHmLM+L+FMAtjWEzGhr1hn0YmwvRezNhzKxeXnJevJKPUZyaIMPL7c4EGfWnd61ZCkhXQTpEmVo00eNtPXepP/Dsx99b4QIYHns/b3B6VvF/xGAfTgF8cGcCaye7cyN9zPaXwFgZVvhO8eR68EDJaf1yUiXZ6j2JBIWTJfUdaG+nw53Z6dpJ5SbVaFetQrUlXwq0WHoWPaHWRGh2wHFamXpMFid6FmGzBxUn8a16zHO0IDT0cIhH7kATKY+Nv623MgDC5mbpxNp2pcJvRWxMVZhctvsF5BwBPzWrwSwd8fHP5s5iAH1yyCUTWXKROLm5y6bF/cDBzKgQRlkihSnzxRjTn42gAWQpt2SVhWlka7clqBZDtzLs5Tjk4dwpHpxzGskNgPl0dJUxX1IY5pWkJEAmMdMe26nBfNwjTHzRwtxF0dGSoqS5aujqqPPyU3+PMj32Y+fVf9u761vVXcKeDy/E4BlbTEnNmg6FzcKs0HC9THunFtsyJIJcnSoWhIZ6bKo6E3lWHTA1wNYmhfRE1rSprwU0lXbERVil/8MmGRGzoE1wpLeckWRrdkWM41eeLiacWJTzv71TwHYVm+2TGpFuwpSSFdpQ2SQLRlzVRndsgLFpMuiPHY0kXM/tDGn1nt8OCChgPvjf63PhRPAgjjjPwq73nVpXKc2PTrLMWFQBwY1r0Kjhg3o37Mjutpa7Ja8h74QwOb8M4AZO5jxZ0oI7+7o1euniLnOQPS61qVeSSnK5QDYiwRnki170r9+Bdr1Gsgyf0MWj2lNh3q1GTZBi93rfXk2X53J7SpRXLosSiNHsn52Lh9c58HDeG8uz9PCua+wTaEoUlIyVKzVHCsHc/4shEtkC8cSRGGUZ/EoJjQpSylpKcrLDyZ1/cfE+3L1KEbWFvZgFUGmuTJJa714nmyNTydh5kyKMm0GkJCLkjOEW8LTgsn4FwCbJQBYsjW+nd/F058EIe6cRuhdPC9zAVgvHUsufbSXIYg/fQYzrl1VajfvzPyZdiRNyV6CKPVFABbEUZM2NC0vg1Txamg7TudG3iU7nwKwFGeitTvSs24FFAaPJmW5Ea6KVahcTIpsAPPm7uoZXFhvy3Z3VfTlq1ChuDTSZVsTvMiZS6vye+byw6d9RQD7tQAsK9ad6zH+ZLyHma8HsJtLRzKqcTlkpYqjOFqboxHvOvMBPE0M4M6qaWwNmspmX/33n8SFTtxLCODB6qkEqrZc5ZkFAAAgAElEQVRHU60/3iYj8NFXZYGrMUc3+uacYpgbwBpgG2j3MYCluBBv2JV+DSvSob8amxcZ4Z0zi/UtACwjVJ2xTctnl23UZA5LOoCCLwhlCyR9ybvnRemgoc2hjQGfOQMWxEmrjihUK45UsSpoWppxYcvHg0f/D2CBXAlSQ79TTeo3U8DfexqJBvK0F5ZRlm2JBMBSfPhTOIUt1JxIs14MaliW0kWlqaA4hKRQRy7kPNtknudZmOc/HJZSSH3/F++w/lYAFqWL57iRbJztxKP3AxVBPAo3wqtPHWrLVmSEkSEnYgI4YtmJrjXyLEH8hxmwxv01su8BS3UjfEwzWpaVonybPsQudOVVsiUhn1qCKPGtQK4HDkGjaTlKypSiXuvOzA4RZqFz6sunACzNk03jsyGveMMubJrtyIsVmkyVr0IZqWLIDRvLtjXvZrwCeZYYyIuUH7/i5b/C1Nd8v3ACWDCPIqazfHRL+in3IcTZmD1zxmHdrQlqqsNZHmDB/uXO3JGcJvgdACzJne02yqi3qEL7XgMInWnIbNXmNCv1AcBeCgd1rDdl8YQuaA3tjbOBGv4Gqsx10GfvGk+epITwclXOLJlUMdoOUifh/b14gTxLCuR5jIvkJNFj8w1YNEGeztVlKS5dkh6jtNgR/vF762ts/6O/U0gATLgvyIP9Dn0ZXK8UsuXqoGdnybX4d8e7h/ByzSjU3wFYi34kC5CU5sMO3ZY0KSuDdKkajDM15sKWQDIiLNngYcGVGH/SlwxnkGQPWDH6G2YvQdw1pSn1ywjLadrwxzI3HqbmicfEiPNbAsiI/BDP87WjGS3ZA1aUHtoWXMo9A5bqxIqhdaktK00Z+cFsXW2XfQhHKWmkyrRh5lJXHqb5EzWydvY9YDU7s2r5py5iDubxYnVGNSyDrLQMdRT7s36ZB0+Tfbk425gDG314GqeHabPse8AaDdbiRIQ/L9dqoduiAmWKlkBpignnlk/BrE1FyhWVokK3kRwK9+aCyzACfKfzV5Q752apMaZhWcpWbc+CJS4cc87vmTBz92M7RSKA/Vi9v1mDlGSCs0I1qgj7OEs2w32WA3fed2Byl8mfWM1GNC4rRdFaiixdJBzCEcLzZeqMalQO2SLF6D3FhNNRAewzaEOrijJIlWmJj3Cv2BZLAvvUpkYJacrWl8PL25ZbCQHcXKRH1FxHbsbl00ALh3dYKzFq0ADCAsw5GjaD8+s9JEf2Zr7vPAdxaUYXFIQ9YDL1mR7wMYBlrp+MuTBwIVOcbuP1OLJUB1vFapJ9luU7DZUsIxSWIMaNb0JTYX9bzY4sEvZbpQVyzCJnD1iJJjgF23ErcRr+PWtRo7gUwneFC5Rfxk4jWFnYNyVNmXpyuHtO56ZQtsV6RM915PpGC4L61qFWCSkqtVNmw1JXbiwdi27ripQTBq0UVUhd8Wm4ebJsLDqthSVMMtSSV2LpXBceJvlxeb4ZB9d7csuvP33rlUZauiJjLM05H+PMhjHNaFa2KKVb9yVysU32IRzliyJVugXuIfbcTnYh0kydTQscuBbpxE6LznSuUYpaPVRJDbMhwjzXM8tcz77msuj3NsrtR+LP36zu/ou+vxeA6WDbsyXq6qNJXZN94IZE5yRb5qs0onWzDvj523MnOYgLDj1RqlMS6VKNsPaw5MRiTYzaV6GCcJVOVxW2LPv4EI66vVRJWO5NZpIVswc2oH6ZigyeNIUjwt7VZGvmDGpI/RJSVFEcRNQsC06s9uBeTpuWGTMte0+XbDFa9BtJwgrvD9f05AKw+kqqxAtppNixaFhjGskWp8UAdbau9CErzoYFw5rQqJQ0pWu3ws7RkitxAdwONSRujh2X8zt5+l/840f54bdKp3ACWAivUhwIGyXP5ElabF8fyMtwbex6dcDSyogz8bnbwwC2GSnQpapwD1hJlDQnsXtj9rtR2ANmm7MHTG7oWFJXB+RaglgBVT1dyRLEs45KDBCWIBarh9EMUy6ET8Wzbz1qFCtO+2FjSJpvQMDABtQpLkXZdr1ZPdeFl2k+HHYdgu7Qvsx0MeJw2AzOCVevCNdC5fQjs+Kns0yjBc1KS1OqZgssbc34M9afO2HGJMyZzrllUwmdrk3SYmeuh1sROrolrSuVQ3n8JPZE5PN+L8D+WWgATKhcL2Od2e+lzrQ+Tencrg26E9VZ6W1ISshUwk06oVi5DDVr1KavxgSOSY5mDubxaj08hY6LbDEq1arPgN6dMdZSY/UsB+7GurJvmiJyFYpTtEhRWvQfQ9oiE/yFUxBLSFGkWC2mTDfjYlwgjyTx1P2/eFYJ8cS7c9SxJ10ql6RYESnq91AhfJE7T9+NGKW5ET4y+xh9mYr10JoyhlCddrSsWJyiMpUYNGkK2+dOwU6xouSkR6kyDTGbYc6luLz3kIWQlehKmkV3etWUpWSp8rTr0A4t1b542xlyItKV474DGCjsaZOSokKbXiyf48zj9VMwbV2BckWlqdZCEWfr8bgp1aB6SWmK12iBo7sNBy27odq/Bw4Wk4l2HYRqkzoMGTuRw5E+XLTrkc+z7OOvv1XD9znxiACWuyEtDD8H8zDclp2eAxlWvyylpIpQRKYywyaNZdMil5x7Sd6VI5h7q4STwqpRrUQRpMo0wNDGmHPRLhyw60636rLIFClK094jiJljzMzB9bKvpihWg3FmBpza7MX5ADWmtK1M+ZKlaNCsGSMG9cDOcAJJkr1H+YzgJprh070WtarUpH9vRfRUe2Co1hPzsQPwttbn0EZfnkXbs16zOY3Ly1BEugIDJ0xge7iv5MQzwW+zIvUkpx5WkpGmStP22Jpr4t6vLvVKS1OsWjOsHSw4sVgf957VqV5SSlK2qVZGnFhlyZIRjWhQtihFilZhpJEe20LU0W4lgFMRStRXIMjPjruJvlwMHIFOu8pUkC1F/WZNURvYA1vD8SSGuvMoyY8L/qpota5I+XKV6dxFninq3VBpWE5yDH3phvJ4ultzM/7d0u13mofwKsmNXdOFzdBlKF2qHK3atUFzWB88rPU5uNyaGF05WlcujlSRkigO1SB+hT0bxrWgRfmiyJSvjYbmSBbpKtCppiwyMhXoM2Ycu9bbE6apwKThfQly1GGtbge6t2qJsY0Zf252Zo1mx08/2/KJ/BXgF+jntFm/epjfC8B0cewvh3rvzphqDWOugw5xQfqsMe2LVt/O2FoZcDLKXwI/T0K1sOxUnUolStNCvh26E3oxokVlyWX0pRop4Oc1nTsxxngpNUahUW3k2yviZKlFuE1fRrZrSL9BQ4lYLBxDH8KrNE+2m3Wme40SyFasST/lviwKtn9/RcWrND9OOynRv3kTplqbcP79ku6P94DVatcFJ8spRM0YyOhWVWncvD3unjZcF1bSpPlz+Y/RmHWqQdVSstRt3Jih/bthoz+WLYtduJ/3TsJftF4WVgDLijbEXVkBS0tDTsYF83C2KhN6dsPb05pbOYOdWXFunF6gi1u/BjQoLSW51qmBYi/8XSw5v8mVk74qjG5eAVkpKWq178V8PwuSLbrTu44s0lIlkes3jHUzTVk+vg1tK8lQpGhFBmhqsnWJLt79BeCSpmL9Vhjqj8JrWAvaVCxKscoN0DEx4PRGCxaqNqNZlWp069oBnZz3rNno/nhYTGH7Kg+epPhzdY4m1t1qUb20LLUbNmRIv25Y6Y0haoETt9fp4qPeFe0RKix2m4T/8FYodeqEr48tt5JyvdMKiW8WKgCTdHSSvLm83JIkr0mEOUxgpfNkwj202eA2kVXO2sQEmbF/VfYFx5IT+tL8uBZqSoStGh6TB+FlPoHoWbZcE+BGuOwtzJw4bx02eGgTM9uea5tcODJ7KlGe2mzwmCq5LPlRsrDJPv94Xqb5c3uVpeSC440e2kTPtOb8Jj9evB/hD+TmsqksNVbB02Qc0XPsuLTakg1Ww3HTU2fNLHuubnRgf4g+m4R0PQ3Zs8odSbr/50jBpEc5sNtvAn/oD8ZFbyTLPIzYt9aLZ8n+3F1rTYqfLkI+IoIsORPpy/NED475jyNIT4UgOz22L3fm3Hxt5hsOwct8EltXeHBrkRHRQUYkBE1lk7sWy12msme1F89Sgnm8LP9nP7pzIQJYYWtkgsmI9eSvVVak+OkRIdRVDz1SFtpxIdKHjHeDFBI/DyY9xplDf+TUPy9DdguHyyT4cnOlJYm+2X4dM8uWKxHCBZGGRHtl19Pty10llxK/THDn5Bw9Qs2G4qI9lJn2OqQs/cSFxbnrVbItS1UaUr9UUYoVL0Zp2RKUkS1B+bJlqFWrDiN09Ti53pVzi0yI8c7Of/JCB67HfRi5e5XiyckgLf6YOpTA6TqkLnPi7AJdlpio4GWmRZJw+t8mJw7P+lC2XStcuRvjzukFRsRIyqHP1lAXroXbsitIn0gPbTb6mXEs3FtSDzMT3Dk1N7tsrtoqhNhpk7zkQ9ky4904PkubhUYqeBiNZm2gIRvtRrNg+njW+mZfivn03YXRucu/NYSMzY7sD5zIXIMhuOqOYLGbAbtXefAo1otLS02J9RHaSB3i59pzNcaXG8uNWGU+DC/jsUTMtOHCqmlE2Y3AU28kK4Km81esF8dmGZAcZECCvx4bnCawxle4/N2XjFQ/Tub37AfPqP/o9utXTO93ArBX8fbsDDFn5xwLds0xIcFPj0hPHSI8dYmblX158ruLaYVVO6dnTWGBoQo+5uPZNNuSnSEGxHhqs9HfjGPrvXiW6Mh2Hz1iA01ICdBnk8cUwp21WOVuwI4w4SL2d6P6wTzaYEO8kzq++qrMdzPheITP+wEgwa8y1mjhNEGDTfNceJq7HuWaAWvQfRBLPY1J9BjH3GmarA+2kawEepnTHmQlenJ2gQErLYfjpq1C0PTJJCx04vZvdBlzoQWwRDeOz5vGsXWePE4N4XmkPXvm23A20uf9lpmsZD/uRjhycLYhmyV9XG2igy05ssqN+wm+3Fk/ne2B2e/pqOBpnA5343LYNJL9dCXtf+xsWy5ucOX0YlPict6FKYscuBHjztk52iw0Hoa/1STiFs7g9CJD1kwbjrfJODYvcOJu7Aw2aLVDrrwMxYoVo1TJ7PdsuTKlqVGjJoPGjmP7Gl9eJnpyQfiulSru2ioE2kwiboGwgiWQzAQH9v1hTLyfIXG+OqxxnETUTBsuC3fg5nmnFYa2ttAB2DtRs1IDeBzjyY0IN65FeHBrsw9Pkz8sSXwXLvv/YJ4neHN7kwe3t/jzIjWfkfB/NeB/iCctkMebPbnzPv1g0mO9uBXtI+lcfelx7lmp/jyM9uBmlDdPBED8l7xLKl60Jw8ShFPbQniVGsDD6Hf5CSEz0Z/01CAyJDrlCicc4PEPzz7W+fvDgQhg31/jH23Tb55eWhBPt3hxc5Mn93Mtb8g3nQR7wrXa0aNNM1SUFNAaqMiE/h3Q6FKfJuVLUL3r8JxTDP9Ze6GO3Yv24n5CDpilBfAop84//+o2J0+aOWW7lV/Z0rLbRUm7khzAk1gfHr3Lz7+0EUKbIOT3VpQ3j5OC/vmFlhbIkxgv7mzxI7tswaTHeXM7+l07HEx6YgAvUwIlthDy8+R9+xxMRr7P8pT33/IsPv/px9b/VgCWFsCzpOzTjV8JdUBoZyI9uBPrn1MP8vhvij8PJW2AX57BppxwaYE8TQjgeUowWSkBkrCS+peY857+yL+F/ocPd6O9eZQorI4J5sFqczZ7GbJvnQfX52mx2MuC4+/3vuakkQvAhFMQhct470d7cjsmvzwF8Uzom0R5ci8uINdAcp6yfZS3X+dZYQWwfN9vP8hOWYKvx3hxPy6A58LkQ079uBPjR7ow0JroRLxxV4bINaFf9/ZMGKiI1gAFRnVrROuqpajevg+r57pmL51NC8p+n+T4oCQ+oRxpgWQkBfEiyV/yrrod45sd9w8q47fWuNAC2LcWQoyvcDSgIoAVDjsVpvr0YulYpnZswJAxmsTOs+XMyhmcXmHP8bnjMO5Qj0HjJnEk4ve4A6cw2U3Ma8FoC34rACtIHb00DxKNujC4dRMMLCcy33ICcQsduJOcxy/iDXHNuQessbI6SSt8/nXA9neuWyKA5fGfb+TzL1ZOwblfMwYNG86qkOmcXjmDMyvtOTF/Eo59mjFYVdi76PPPA3/fKC8Fxb9FAPvFDFpQHOt75UMEsO/TOH4vexWGeDM3WRI6qRsTVXrjqD+CP6aNZqHNGOaZD8fDcCyxS1x5mM/SvcJQPjGPYp35nj4gAthP8q80Xw7Y90G1WVUUunXDyd6UM5vy7MtO8+ZCsBqT2lSlSoni1GrXDT93K67Hvjsh9iflvQD3u0QA+z4+Ibmmxbgveio9sdFWZablaBbYjGG+hRreRqPZOGcGt/Oe6l2A/eRbtKkigP3iBv4WTlKQ4hAB7Ps0jgXJxj88L2kB3Au35+A8c3bNn8b+xdYcWmLDwcU2nAr3kizx/eF5Etuln760TrT557U1IoB9nk7f3p+CeRI5g/2zjIgPseTEBmE7Q568pAVwf70tO4OnEuWlS3SQBUfXekiWGP/btoVvn988eSugbZwIYN/JTmmBPIxw5OgCC3bNs2Tfog/v2RNr3XmQmN8Wou+UnwLgfyKAFQAj/K4N3deUWwSwX7cx+hp/EL8j+oPoAz/XB0QA+7n6i/7/bfUXAezb6in6Z/56igAmAlihGmkWASz/yiw2dKI2og+IPvCjfUAEMNHnfrTPfc/0RAAT/fl7+lfuuEUAEwFMBDDRBwqVD+RuwMSfxZel6AM/1wdEAPu5+ov+/231FwHs2+op+mf+eooAJna+C1XnW5wBy78yiw2dqI3oA6IP/GgfEAFM9Lkf7XPfMz0RwER//p7+lTvurwYwodEVHFX8iBr8SB8oX0YWZYVmot+JdU/0AdEHRB8oAD5QvVJZurdtJNqiANjiR76Lf9W0alctT+dWDUR/Fv35u/tAveoVCQsL45/+Fcn7sGnTpsyePZsNGzaIH1GDH+oD9evXJzAw8IemKfq5WM9FHxB9QPSBT/uAvLw8Dg4OYpss9gV+CR/o0qULVlZWv0RZxDbr021WQdFFSUnp6wDswoULeblM/F1U4LsrICcnx7Fjx757OmICogKiAqICogL/rsCgQYOIj4//94BiCFGBQqCAhoaGBL4KQVbFLBZyBSZOnCgCWCG34W+VfRHAfitzi4UVFRAVKOAKiABWwA0kZu+LFBAB7IvkEgP/BwVEAPsP4olf/fEKiAD24zUXUxQVEBUQFchPARHA8lNG/HthVEAEsMJotcKZZxHACqfdfttciwD225peLLiogKhAAVRABLACaBQxS1+tgAhgXy2d+MUvVEAEsC8UTAz+cxUQAezn6i+mLiogKiAqkFsBEcByqyH+XNgVEAGssFuw8ORfBLDCYysxp4AIYKIbiAqICogKFBwFRAArOLYQc/LfFRAB7L9rKMbweQqIAPZ5OomhCogCIoAVEEOI2RAVEBUQFQBEABPd4FdSQASwX8maBbssIoAVbPuIucujgAhgeQQRfxUVEBUQFfiJCogA9hPFF5P+5gqIAPbNJRUjzEcBEcDyEUb8c8FUQASwgmkXMVeiAqICv6cChQ/AXvHi2RMePrjP/fvvPg94nJHJ32/eFiAjvib9xgm2bopn/+U7pP+HrL16fJUjydEkH7rCvef/IaICpM73yooIYJ9W9vXz+/x15hB7Dp7l7qPnuQJl8fjGWY4eOMSZvx6S8epT/pXFkxvncsI8yCdMrih/kx9FAPtNDP2rFFMEsF/FkmI5RAVEBX4FBQodgL19yrWTu9gYZIOe5ghUJ0zDb+lGdpy5zdOXbwqISV5x7+xWljmMp3+XsXgnHOPW66/J2lue3zxBwjwrRvdVYkpICqfuFZQyfk15vv93RAD7WOO3z29wZMsygv1nsnD1FnYcv8qjjKzsQFl3OBK1kOCZc1m6YhkzffxZsuUQfz39+0MkOWFCcoeJyRPmQ+jf6icRwH4rcxf+wooAVvhtKJZAVEBU4NdRoNABGFmkP7jJqRXmKLeoRm1lG5YlHuP6wwyyXn9q9P4zbfXmARfO/8XDxy/4D7HkJPaajPuXSPQahUKjvkyLOMD1rwIwePXsDucjZjBUvgVDnDdz9I4IYP9kURHAPqjz+uFpYmfbYWLhwqy1qRy5eItHz7PIriaZXE3+A3M9U7xXpHDy0gX2rXBCX9eOeUlnefBKiCdXmLDknDDO6OvaMi/pDPclYT6k97v9JALY72bxQl5eEcAKuQHF7IsKiAr8UgoUPgDLlj9rXzBjFOvTZuICdlxM/4/Q9Jb0M+vxnxPJwfMP+DaI85orq83o22YgVv8BwITS/n1iEbq9OjBcBLB/rXsigGVL9PbFZZJnm6IxQgf3FTu5/DjzI79++/QQS00HM2BSANHHHiLMeb26EYXTmAGMtFrO7qvPeZMrTNT7MNE4jxnIyGmh7Lry/D/Wu381Z4EOIAJYgTaPmLm8CogAllcR8XdRAVEBUYGfp0ChBbADM9Hs1AC5KUvY+WfGJzuCbzOfcO/2df66+hfX7z3j5as3vM54yJ2b17j61zXuPH5B1uvXPL28jUXmg+k+yolViUe58SCdzL/fzYO9JvPZA+7df0xG1t//l86bzHQe3r3NnYfCd3Kj22v+WmuOctt/A7DXvMzIIPPV37z9+zlPHj7i2Yt3sxTZfvH36SXoKymgKgGw17zKeMyjJxlkfZSeEPYNmekPuXv7Dg/ThT1xefzqTSZPH97n4dMXZL18yctXr3NmQ3LCvc7k2cN73H+ckav8eeIo4L+KACYYKIuriYFM6dMddYeV7LmRwccTsG9JPzAP3d7yDLBew57rOVNZWacINemPQh8Tlu64zL39H8Lsfhfm1SlCTQfQsY8xS7Zf5sW7alLA/eJ7ZE8EsO+hqhjnd1NABLDvJq0YsaiAqICowBcr8EsD2NPrnExbgtPU8eh4RnL0WjqZ9/9kf7gvZpMmYB+2j4s3rrAv0hetzg2p114NM+dg1qad4faTLF7ePETcumUsnBOMt50pRtM8CN16nnvP38DrR5xJWEZI4EzmzJ+Lr70lNt4r2fHnA15KOqWv+WvdPwDY2wxuHk9l7UwHjK3/YGPUSuZ7mDBBXY1RU2yZF3+K2+nZ3eZ3ADZ8xlKWL52Hi9EERo2ewoyl27h4/6UECl8/PkNi6EwCZ85h/lxfZkyzwWvF9vfPX90+RMzqMJaHrWb18rn42HmwJO0MN4XMvn3JzcPxrA9dyJxgb+zNjJnmvozUs3cRilqY/okABm/TjxJqNpB2iqNwmL2KqE3rWLk6gpSjV3n4QvCp11xYPY1BbVozwieG4w9zjPzmFtFOqrRvOQinyH3sWvkhzLH3YW6z2UmNDi0H4RhxkN95RawIYIWpZRDzKl7ELPqAqICogKhAAVLgVwYwXmXw6MoGbAa2pf3oYFLOPubvl0+5tc2fsZ1aoeIYw5FrD7l1YQuuah1orWzCvI3bOXPtIen3j7NxdggLV0eTtncfuxMWYK6qRM+RjoQfuc7jM+HMGKPGRLdQtuw9zNa5RgzqOZRpK/dxNUMgsH8BMF7w4Mpu5uop0bxlT8aZzMA3wAdnYzU6N29CmwHWrNp/lWdvIBvA2tFF3QrfJeFsWLeQ6erdUOhvTuieK6S/fcXZDY6MHTER12Ux7Dm8jXnGg+k11ILlwvM3zzkaZsd0z8VEbj/B6eM7WWlvQ0D0Pi5mvOHZqUjm/rGQlZvS2LtvNwkLLRnZuxcjZqzj4LVPzy4WIBf+KCsigMGLI4sx6NuU2vIjsfBexOrls3DU02DoCD18Iw5zPf0l+2ZNpkejtkyYlcTZd0d0vn1EoocGHet3wXhFKuuCP4Q58z7MYxI9R9GxfmeMw3ZwJdd5HR8Z4jf4RQSw38DIv1IRxRmwX8maYllEBUQFCrsCvzSACcbJ3Imfeic6jckGMGGs//X55RgqtWe4UwxHb7+BV8dZMKUHCiPciTt+jze85cG2QCaN0sLc9Q9CV69hzcrZTBvZlVYtBuMYeYSrx8JxM53BnKTT3MnM4m6SJyMU5BjhHc/J+5JU/nkGjDe8+fshWxxVkG8/CJvF8Zy8fptblw+yynowbRq0Q2v2Vs4/fpsDYPIoG8wj7tQjXmQ94+h8XXrKDcUh+jC3X7/i7EYPzGbMJuHUbTKz7pLspY6ivBoesce59/oBcS4jGaRmQEDUcW6nv+TB0d0cuHiD+y8fsD1YmzFapriELGP1mjWsnG2FRvfWtBxkz4aDN8gsRE4uAthr/oqwY1i7RnTRCWT97otcu3aZ4zHejO/RDnk1VxKPXmVX0AS6NZBj8oIULrxbR/gOwOooYrg8mZV+H8Kczx1GALA6ihgs387l3/ggDhHAClHDIGYVcQZMdAJRAVEBUYECpMCvD2C78M8LYBfC/gXA/ubI3En0HWnMH+tSOHzsGMeOHWHvtiTitqRy5OoD0p/e5s/j+9kWt4GVy5exxFeP3q1aMcwtjmN3PwfABCd4SaqnKh27jWN22jme5ixdvB/vgqp8A5SsIzhw/e8cAHu3B0yI+w3XN1gxQG4AFuH7uPb3W57f+ZPjB7YRt2Ely5ctwVevD21aDcMl5ih3Xr/kUpwvk/t1RKHbQMZb+LA87hCXH7zgVdYx5uv0Z6RRMKuTD3NMKOuRvWxLimNL6mGu3M+7f6gAOe8nsiIC2N+cDjWhX8tWjPSL5cQjiVPxNv0ES42VadliOOtiD3Boni5KTeSZOCeJc5IZW8Gt7rDZWY32jXphtW47UbM/hDmbK0yMywg6NOrFtLV7vvp0z0+YrtD9SQSwQmey3zvD4gzY721/sfSiAqICBUuBXxbAsh7z+FkmmRk7vwLAMtnlr0FXZV0W7fjz40uU377l7du3vHl0iti5nrgHLWVj0m4ObHJDXVEe1a8BsEAkQ0sAACAASURBVO7jmfMewODVsXlM6dES5X8AsFsRNgyU64/Zur389eoNj07HMc/LnaAlG0jadYAo91F0bj88G8CEZYxPrnIkMRRPoxH0kG+DfA917MN2c/nONgLH9kBZez5bL3x8mqRQTuFTmP6JAPaay+usGdy2Heq5AIy36Wzz16Rr6/6s3bSHG5scUG0vz0jvXHvAXl9kzbRBtG0/hsC445yO/BDm/R4wIYzVYNq1H01g3EmeFC73+KauLALYN5VTjOx7KyAC2PdWWIxfVEBUQFTg8xX4NQHsDfcPpLH7/HXupe8haHRnFEcFkHz6oeQo7r/PLkO/lxxDHWI4IlmCeCJ7CaKasATxLm/4m3PLDegtp4C6ewTH7rzIOcL7Fbf37+TQ5WvsX+/ImCGauKzdw7WMv8k6sRDtngqoucZ+1QzYrNR3M2Dwcl8w43r2YcrsNM49ebcE8eMZsHcAZrp2L1dfXCTSeSxDNJ1Zs+svMv7O4uQiXZQ6quIcc4Q7r59x4fR57ty5ya1Lx0hb682kXm1op+FJ7JGdhJooI68wAtcNR7j97tSNV7c5sOsQl25kH1H++R71c0OKAPaW9INz0VGSZ4DV6g8nHJLJnpkT6dNXi/CkU2ReWIuNSicGmC1nx5XsRaZv03cTMrE3PTQ82XT0Hhm5wmx/FyZjNzMn9aGHhockzG+8BQwRwH5uXRdT/0IFRAD7QsHE4KICogKiAt9RgcIKYJm7/BmlUI/mmrPZev5pruPhX/P0Ugrzfeex5fBlnmadZ7mBEu26jscvfAfHDm8laq4x/VrUo9PkmUQcuEVGxkmW6feibW8jlsamsff4Ja7tDcN6iBxNW/VkjKUPC1atZ82SAFzcFxN/4jJJAWPo3KYHBvMTOHbhONsWmdCvRUOUjGcRlnKBh0/SubLalL6t+2MZvp9rn+ypZi9BVGitjP3Gw9zKEjaoPeTAXH3UxtqybOcVnr6GVycXoturPcOcNmcDI2+4udGGAe2UMV69hyvP9hKi2YW2PaYyN/4YF05sY7Fpf1o1UsJo5nJSzp1ibVAwqxIPceP5G968vEaEnQpK493ZfPQyp8NtGSbflJY9RmHhvYBV69ewJNAVj0VxHLv+7KP7o76jK36TqEUAg7dPT7DKehhKI+xZsfd69lHxr64Qbj8BLas5bD//GDL/ItFnAkM0nVi19zqZvOXZ4YUYqY/GfE4SFx7/zdtcYVbuuY5w3uazI4swVh+N2ewkzj/+pFN/EzsWhkhEACsMVhLz+F4BEcDeSyH+ICogKiAq8NMVKHQA9vYJf53YRbjjSNrXKUvZRj3R0LXE3tERJ0cH7KyMmTi8FwOMFrLt3CNev83gXKQb4/so0rn3cCbbBBC6wAYNpa70He9MaNoFHmbcZ998IwZ16swgLVsWJJ7k9sNbnIr5A7PhXWjVtBmtFXqhMmEaQREHuPr4Bbe2z8FwUEcUeg5lorUvS5a5M6l3O9r3n4rvpqOcO7mbldP606pGI5RNQ4g+cZdnWXnXa+UAWKsODJ86g4C585kb7IGttROzIvdz9UkmmffOs32uPr2a1qDlsOnMSzjFueO7WWurQtvajehjPJOYkyeJm2nEYEUFeqpMxMp3CUvdJ9FHrj399HyIPHyYlU56TJygi33AfJaHLcTL3p6AdTu59DCTrPuniZ1tgVrX1jRt1gqFXkMYbxnIhn1XeJQp7DkrPP9EABNslcmdI+F4GkxkquMcNqZsJ351EI4OfqxMO8v9l9l7FJ+cj2fWdGOsvBawPmodc50ssfJaQdr5D1cpvA/jOT9XmLBcYQqPb3zrnIoA9q0VFeP7rgqIAPZd5RUjFxUQFRAV+CIFCh+AveTx7cuc2BlPVPgaVq8NJ3LzFuLi40mIjyd28yY2rFtH3P5L3Jfco/WWV48uc2RbLBEbIonbcZK/rp1m3/atbNtznEt3n5H5+jXp10+wMyGaqPg9nL31FIE73jy/y8XD24mLDGd9+Cbid57k2qMXCHc0v0m/yandiURFRBKTeoiL1y9yZEcisQm7OH3zCY8fXOPkzjg2hYezZdshLtxOJ/Pj23A/HMLRSQWbOetI3bOH3Tu2sfPQeW4+eSm5PPd1+j0uH9lKTMR6Nsbv5OilO9y7dZVTu+IlccdsO8zFu894eO0UexKjiYiMIfXgRa5fPMqOpFjid53ixuNH/HVyD2kJ8aTu2MvBQ/vZd+gM1x5k8ErChG94fu9PjmwX8rue8E3x7DxxjUcv/v/i6S9yrp8QWASwHNFfPeHqUcFvNhIZHUd8QjI7jl7i7rOsD7PFr9O5eXo3STFRbIqKZnPcVo5cukd6tlNkR/Q5YX6CnQtCkiKAFQQriHn4bAVEAPtsqcSAogKiAqIC312BQgdg312RH5lAzimIeQ7h+JE5+NXSEgEst0Vfk/nsEffu3OXhs5e8+uRk5msy0x/z4P4jnr18lc9y0zxh8k7k5k7yN/pZBLDfyNi/QlFFAPsVrCiWQVRAVOBXUUAEsJ9pyQyS3Yej0GUsM1PP/tYnyn0rK4gA9q2UFOP5NwVEAPs3hcTnBUoBEcAKlDnEzIgKiAr85gqIAPaTHODvB/x5cDMeY7vQrFEXJrotZ/vlh2T83uca/GdjiAD2nyUUI/hMBUQA+0yhxGAFQwERwAqGHcRciAqICogKCAqIAPaT/OB1Bg+unWFvcgyRG6NJ3nOCKw+fk/XJZWI/KY+FMFkRwAqh0QpplkUAK6SG+12zLQLY72p5sdyiAqICBVEBEcAKolXEPH2tAiKAfa1y4ve+VAERwL5UMTH8T1VABLCfKr+YuKiAqICowEcKiAD2kRziL4VcARHACrkBC1H2RQArRMYSswoigIleICogKiAqUHAUEAGs4NhCzMl/V0AEsP+uoRjD5ykgAtjn6SSGKiAKiABWQAwhZkNUQFRAVEDcAyb6wC+mgAhgv5hBC3BxRAArwMYRs/b/CogA9v+aiH8RFRAVEBX4WQoIM2DKysoInQnxI2rwtT6gpaVFQfjUq1ePXr16FYi8FAQ9xDx8P79s1KgRYWFh/9h0F8n7tGnTply4cCHvn8XfRQW+uwIigH13icUERAVEBUQFPlsBAcCsra0lHQmhMyF+RA0Ksw8oKipiYvI/9t47KqpsX9S9/7777nvn3Tv2Pmef7t69e7c5hzbbbWizbW6zbWpzzjmLEcWcEFFyBgkiSpKcBEGC5JxzKAqooqq+N4okIIa2bQGZjoFVtdKc8/vNVbW+NcPaLOqxOJf/8jowcuTImjTe9WUrBOxddMS6z0pACNhnxS0SEwQEAUHgnQTEGLB34hEr2xkB0QWxnQWsHWdXdEFsx8HriFkXAtYRoy7KLAgIAm2VgBCwthoZka+PISAE7GOoiX0+hoAQsI+hJvZpNQJCwFoNvUhYEBAEBIE3CAgBewOJWNCOCQgBa8fBa2dZFwLWzgLW0bMrBKyj1wBRfkFAEGhLBISAtaVoiLz8WQJCwP4sQbH/hxIQAvahpMR2bYKAELA2EQaRCUFAEBAEaggIARMV4UsiIATsS4pm2y6LELC2HR+Ru2YEhIA1AyI+CgKCgCDQigSEgLUifJH0JycgBOyTIxUHfAsBIWBvASMWt00CQsDaZlxErgQBQaBjEhAC1jHj/qWWWgjYlxrZtlcuIWBtLyYiR+8gIATsHXDEKkFAEBAEPjMBIWCfGbhI7i8lIATsL8UrDt6IgBCwRjDE27ZPQAjYx8ZIQaWkhKLCAgoKCimtkKNQNTuWSkZ5STGFBeptCigoLEEqV6Bstllb+KgoSyfMzQbn0GyKK5sXRJ1DORVl9eWtK099uepfC4uRVClQtrT7BxZSVZFDlJc9zi8yKZK2RVJvK4iK8iRf7G1cCE0vprKVs64oTSU6NpnMrLza+veWuqeSSSktLqqtnwUFFJZIkUpKKSkqbFhWU3frY1zzWkhxWSXVCgUlKdEk5hQjrf4TQX8b0g66vPUETIW8ooySotrzW10XZNXvqsgqZNIyimu2L6SoVIpc8a7t22lAFRKyorxwcAkmJVfCR9d0eQlpYc9wdA8lNV/68cdpZxiFgL09YCpZMRmxYQT6B/IyMZeyKsVbN1ZVFZGenkNxWVWHqTtvhfGWFULA3gJGLG6bBISAfWRcVBLSX3pic+Mwm1YsYcXee3glFVHV+PpDnk98sBv6p7axYc959Oz8iC+sQP7Rv+Afmdf37CbPjcJVZx8Lxw9j2fUgkgobF6JuZ1UJaeG+2F49wPrli/l91ykuXr3FnTt3uHPnNreunmP/pq1cfhxHTvnHFbA67xVu9w6yZOIIlmj5EJ//9h+j9xSpFVYrSbY5xPxpq7jkFke+rBWyUJOkivJkXx7ZPsYjIAg/NxtuH9vK77+tYPcdV2LzK5rcAJAXJBL6zIhzuzax56wu1t4xJMaE4Gt/g0ObVrLk952c1LzCrZo43+H2rWucO7iFbZcciMosQ5oTyTMrEx76xZNXXt1ahf6i0m09AVNQnPoSD5Pz7Fm3jEWrTmERnErJW05DVXk41hf2sGbxSnZf1MMuIJHCcvkXFQvk+cR5GXJ85S/8tOQcT19m8RYc7yy3qiKbKNe7HPhtMuNWX8U1Mq/JefjOndv5SiFgLQdQnvMC22t7WTFrImNHj2HizGXsvfmYl1mSJnVMJSskMcAe7RObWLlfG/eInCbrWz56x1wqBKxjxr3dlloI2EeGTiWjNDuZSB9zDs3oyVdf92L6IUte5pS//nJUSinMjMflxCymbLyFg38iBS21lH1kFj7VborSLKJs9jG+y1dMOO5JbH5LAlZFaU4aL++uZvC3/4euc89i6OCJn78//v7++Hm7YXlqNfv1w1oWuA/IrLIsiyi7A0zu9jVjDzgTldMGLuiVBcTGpFEqed9dRxUlcT442DzleUoRFR9zlfYBjN63iTzTB73L19B3fE5qfh5ZKVH4Wh5nbv9v+abHFPYaPye97DVXZUUR2YnunF04k41XLPGKz6eoIIu0cF02jPyev3WZxYn7tnj41cbZ388bd6szrD/4gKDYPJRKCZlhDtzQOI+RZxz5rd309z5A7WB96wmYksqSHBK9L7Fs2L/5j//rX0zTsCciV9bCHXcleR6aLBr8Nf/zf/bhtyvW+KUWUSH7HBVfSWFCPGlFJVR83L2eD68FCgk5sY6c/HUg/x67E+ug9Nff7x9+FFSyEjKjzNk3tR/dpxzB7kXHuYgWAtZCRVHm4W+ixbF9Bzh16SpXTu9g/siedO0zkV36fiSX1f8Gq6jMTyHS6y7bpvbl+9HbMfZN/ag62EIuvrhFQsC+uJB+2QUSAvYn46uS4Hl8OoP+/f/xH/8ezTptb1JLGl+wKMkx3cz6az5E57Ras8h7C6mI12HpgO+Z8jYBqzuCzOskk3r8NwM2WvIys7LJhZk8zQ3XoCwKGn483pvsGxsoUg1YO6QzE9uEgKmQRBlz+roDr1JLmpT1jYzXLVD91ReEb0tYvVyegZvWZjZpWBCYWkZ9r0BVuQ9n54+ky//+D777cRXXXOMprGqUUWUeVnu2cc01lPT65TIfzs7oyzf912IclNr0Qleejof7czJyS2rv4iuKeKl/gLU7b/D4VW7Tbd+VX7GuRQKtJ2C12VGVOnFs2TQG/ef/5ruftmEQmMYbjdqyRB6eWM/UPn/nP/5zLIcehZL9OdwLUJXHYKV1G9vgWArqr1NbJPmJFiqSMdk2jt6Tdn20gNXkpDqcu6tHM3CGELBPFJl2exhlnj8PTa1x9I4lr6yCiuJ0XpgeYOaAzgxbcxv3+PKG35tqqYTSggBurf2ZvuOFgL0r6ELA3kVHrGtzBISA/dmQyAjSXMnaHasY2/Nf/PuH+Zx2iCa/ov7KQEm+xTY23fInOrdZ9xyVHGlxPvnF5chaGDuhqpIgqVSgkFdQWlJOVbWy5ktZVVWGpKIa9S7KqjKKSysa7a+kqrSIwpoxOo0ustXFVFZRVpBLTl4xFdWKhi949SpFoi7LB3Zi6vsEzPc0U3t+xcBmAqaqzCM3P4+8IhnVDVf+lUgk6rFCSlTycoqLyqiUN023lr4KeXkR+QUllKcasn5oVya1IGAquZTignyKy2U1ZW8aORVVEgkV8mqUKKkqK6ZUKqNhCIuyitKiIsoqWxirh4LK0gLyCkqoaMifgtLEZ2hvnsDwhWew9Yokq0g9xkUFqqraclXLqSwtobyqum78nwqZRIJUXo2isoS87AzS0tLILJDUjKVRlBeSk5VOWloGeaVVr/NWc7wK5OrMqmNUXIpUpi5H7T91jIuKyhrlrWnJaz+pKA2+y5op8zlq84KMxk0D8hCubNjEjpVj6dvpewbOOYZVWBbl9RfMqgIe7tvJTY8wMmR1dUbmj+bsfvxzQDMBU1WSn5dPXl4hVfLqhjokT7Nk16xZbL3tSWLx6xa2lnIqlr2bQGsLGOXOaGw/xJ4Zg+nZeQBLrrgSW9Q4pirKQnU5eOAEa8b15Pt/jeeIYxg59RW2rniKqjIK8wsokcqajY9VUVVeTqX6XFV/B5YUU6Y+V5t9XdWcC4UFFJVVIquspEquQFaags+D3UwftYCjRs6EZRYiqaqthypZOeWVcqrllZSVSigpyCE7M420tEzyy6qQKxVIi/PIykgjLSOXkgpZo5YEJbLyIvJy8ygqb/S9oS6LIhWz7ePp8z4BU1QilcqQV6tQVJRSVFxW0yLYUKzqKO6tG8MPM+sETF5OSbNzvb5mKGXlFOXlkldU3sI4PPX3WxEF6u8EWSWVVXIUTQYgK6iS1H2fyl6fo/XH/tyvogXsTeIqSQapmYWUNBrnrMx7xPHZgxi28CKPI5vd8FMkYLZrCoMn7xAtYG/ibFgiBKwBhXjTHggIAfuzUVIL2DqOmTpjdWM7E7r9i54Td2AQlElZzWCvlgRMTt7Lxxjff4CBoQE6Wic4cuomtsEZNYNwK3MicLe4yYnt29Cyeoy+5gHWr1jPGUNbrIxuobFjM5oPA3CzuseZnav57bc17LvtQmxKFO6Gmuxdu4xFyzZzxjKErFI5KhQURTpy78oV7tzTRVvzEHsOX+FhaHZdHv+sgKmQhFrz0C+dXIkKVWUOkc8suXViB9sv2eHtZMKNIxtZvngpG0+b8zyjlPrrfGVJLG7Gt7lxWwcd7atcOL6Un/71D35uLGDyPMKfmPLggQEG+jpcOnmEUzdsCEoroUopIz/GCxvtU+zcoom1ryvW98+xa81Sflu9l1tPX5Ec9Qyji/tYt2wxyzadxjwog5KaDKiozHiOo7kB97WvoXl4JzsOamERmEpRURJ+FhosGPAN3wxexP4zN7Bw88fL0ZzbJ3ey/aI5j/QucnjjStaftSTQ8yl2986yZ+MpzF6mUVSUxku3exxZv4KNWk+IyamgMjcWP7NzbP39d05aRpBRkEeM90Punt7FlvNW+Lha8+D8btYu/Y3Ve2/iFJVElIcJWvvXs3zxMjadMiMwvbiBXZOaqyrC8+wcBo3dhGFQStMWC3kIV7edxMjBnJt7f6HP9z0Zt1kH75S6Y/0BAVOVv8TW3o+UrNIG+arJR3Uc91f/xIgFZ3B6lU+zWw1Nsio+vJtAmxCw3VoY397Pbz91q+kyZx2WTcPcPMpcnl3ax4n7JpxaMYqe/24qYKqqLEKdrTG6r831C0fZvfMgmsbeJOQXkxPjg+3d0+zeeRFL10eY39Vg2+9LWLr+OAbeiRTUtcCqx8c8NjfGyMQMc6O7aB07j4H3S557P0Rz2TC+/3Ygc7Yf56rFM8LCg/Cw1eHMnp1oGlnz4IoG21at49A1AwyvH2frqo2ctw0jXVJFfkIQ1lq7WbvqKEZBiRQpQVESg5vRLa7d0kZHW4vjB45w0cyXpMK6Fv73CJhKmkWkpxW3T+7i8C1bHpnporl7NUsWLWPj0Xu4vMqtvdlRHYWuWsBmHOC+gT73zu5k9dLlbDxhgHdCATVFV5QQ62bMrWu30NbRRuv4AY5cNMUnsaCWvzyH0CeWmBgZY2ZuzN1Lx9HU9yQ6S51XFVXZL3G1Mea+9nUuHNvDroPnMfSMJa/Rhf67a9+nXysE7MOYqgoec3LuRObvMyEgo1lvGUUi5numCgF7D0ohYO8BJFa3LQJCwP5sPGoF7LhNOElpMTieW8QP/+7C8OWXcUkoolLZXMBUSGMfcmrzNk7dt+VZUAiBbsacWDaZyYuOYB6aRX52IoG6GxjZ6VuGLDrAmbMH+H3uAvbdfcSjW5sY1fkbhv9+jpv6FpgZ3GDvzIF0GzCDrWeuov1ADz1dLTZO7EufCfuwjspGWhWJ0fbp/LLiPKZP/Qh4cp4lI4Yy69gjonNrLzL+WAvYP/huzFoOnbnKzZs3uXHpFDvmTWXz/RckFStRVRWSHKjDupGd+dew3zh8/jZ6enfRXPszvXpPZJ9VJNnqFhp5Ou7XdrJ532WMHnkT4O+B9bnFDP7n3/ipXsBUUuLszrJ1hwb3bNwIDA7E3VSDFVMns/CQCcGZheSlhWK4bSzd/jmcFaevo2dhhuGNfcwe1IMB0zdz6rI2D/T00L20icn9+zFhtznhmVKUpeGYX9ZC29QOV29v3G0vsXrCCEYvPodTRAyxEVbsHd+drhN2ovvQg4i4eKJ877N5dFe+GzyfvRpnOLh6Hgv26+Hr54PFvsn0/OZnDj5Vl09CfpwRm0Z2od+SO/gllVJdUUSa83Gm9e7CjDMexGQXkhZqxI7xPfh22HI0rulhYWbIzf1zGNJzANM2nuTynQfo6elyafMUBvYbzy7TMDLe6A8GlPuhOWcAPaefxiU6v9GdfXXXRLWAaWARFENK7FMurRhOl65DWXzuEa/yKlC+Q8C+/u4nft93iqs3b3LzxiVO7VrA9E138Y8taGihqzmDVBLcjk+lX9/ZaLrGUFjfuvZnT68OuH/bELBL2Lu7Yrh3Kr07D2eDri8pktomrqoEa07uv4CFjy8PdoxvKmCqMqJsb3FV2xBrZy+8n9lxdeN0Ro2Zzwmb50TFBGOwYyK9vx/MvF0a3NDTQ+fiJqb+0J9xW/UISJGgUkkJMzjAXg0drN1DCQt2R3f3DjTtfAmOeYXd0ZkM6PkzG66Z4RqeREZqHMHGe5jatxMDZ23hyKnDrF+8iF037HiqvYNJffozT8uZqKJqKkoycD+3gCE9p3LI/gXZSjmxNsdYMmcZR3Vs8Qpw5uq6SYyasRujwNTaGxnvE7CKfBK9b7BmdDd6jvqNLQfOcPbkftZMG0y3Lv2Yus+EoFQJyjoB6zt8LrvPamNios+1HbMYNmgSO/T9SZGokMc+5Phvc1h25C4PvQJwvrqeKaNmsNPAn5RyJdJwYw7v1+COhRsvwoJ59mAvuzQf4h9XjrIsGnvt69zRt+KplzfP7K+zZdYYxsw9ikVIetObMp/xvBIC9iGwVRT6XGXDss1oWoeSU98VvH5XIWD1JN75KgTsnXjEyrZGQAjYn43IawFLLVNSkemP7tZxdPu+PzMPWRKWU0Z24y6Iqnyenf2VoVP2Yfuy7q6ySkqSxVZGd+/NNA0nYnPKkficYmrP7/lpswGeUfFEvnhBdHoRhb7nmNHre37eYYJHbDGVcinJhmsZ8n0/fj1tjX9KCZXyUoIu/krvTtM47RVPQeVLHuxYzp67viQXyZBlO7BvbFd6L7pJYHJtS8YfE7D/ptus4+hYOOHq5obrEyuubZzHdv1aAUOlRCHx5OTUXnQdtwM9l1cUSCsp8j3LrD5dmH7Gk7gCBSWBN1kxZgrbjAJIlaiv2FVIw66ysP+/GFcnYKoCTzTnj2DqXmteZNTO4KeSJmO1Yxy9+vzCiUevyJFKCbowm76dxrLVwI3oogrk0hSMN46gc7/ZnLTwJbm4EllpMJfn96fLLydxi84lx+0082cuZ/8FbYwtrLAyu8m2XwbQpfsMzrjEkC8N4fLcAfSdp4V3XBFKpYLqcj/OzexH5x/Xo+sWTlxkKC+i0ymWSIi4uYQf/j2+RsBy1MWpfMaJSX0YtLRWwNRdkaqjtVk6uDez1QKWX42i4jlacwfQZezmGk5FFXKkqSZs/rEr/Wcdx8w7ieJKGaXBV1g0sCu/HHchKu9Nu1Ek6bN2eGf6LNHGL7GsaetUg4DFU6ysJCvIgN1T+9C53y/sMQokvSTnrV0Qv+k6nUO3THns6oab6xOsr29h0Q5dApoLGNW8vLmEwd8PZLVeICktSeKfPdU6yP5tRcAc/GJJ9jjPwkGd6TP/Ak+iC5CrSgnROcTh2468SE/CandTAVMVenFp5XyW7zzFTSMLrKzMuLV7DsN6dGfq0YeEpBfid3EhQ3uNZt0Ne8JyJVQUB3Ft2XB6TjmI3YssFKoCHA/PZPLcrVx1jCK3vJK85x74x2WQXyXn5Z2V/PjDbE48fkmuuteuohrp86ssHdGD4Suu4hAcS9TLMKJTCyl8psm8oUNZUCNgaoFUEKe/gbEDZzQI2CvzY2zcdxWniGyqZLm4nJ7DoP6zOe0UTs18RO8RMNTfC4WPOPxLf/pP3Mlth1BSMtKJ83vA9km9+K7fcm54xFEir20B6z92DdcdwimQVlEacotVP/Vj2mFbQrIVyF9ZcGLTPq48DierSkae6xnmDu7PLI1HhOUpKHQ6zq9T57L5kgMROeVU5gfj5R9Lem4lhT7XWLNoOdtPXsew5vvsNnvnjaRXj8kctHxORlXrnEBCwN7PXSWNx15zH/svmuOfWtb0Bpp6dyFg74cICAH7IExio7ZCQAjYn41EYwGrucSmKNqe0/MH8H2PMay/40mIzgY21o8Bq/Dh9NSedJ11Ef/EooZWBGWGMWsHfce/pl3AL7GIqtBLzO7TgzkX/UhU95Op+yePvMH8ft2Ydc6PhLrp4qvcj/BzjyGs0gslrebCV0m64Wp+6DSRgy4x5MrLSIsIxMf9MVbGhhjqnWP5kO/oOvcKwvttdAAAIABJREFUAYnFNXn4YwLWfAxYNUX+hph4pJBdWjfiQR6M1ux+9Jl3Gb+EujRS9Fg1uDOTDrnyKrecIK059O89h4ve8TVdgdRFVGYas35ol4YxYJV+55jRpzszz3sR1zA9vpJM040M+/47pp7zJK6wiqhbixnYfSanPWPqBuZX4XFiEr2HruTe8xQk6mwpMzBeP5SuE/bxODIdf61fGTZzO9pWLgQGBREUFICHky1Wlk48Ty1CWtlMwNQZlIdxdf5Aes06i0cTCVGQ9GAVQ7tMeqeAKaK1WVYvYOoZBORR3Fk6mJ4zNHB/lV9bH6o80ZjSl2Er7hKQVCtTygxTNo7oxoQ9jwjPerODnzz4EvMGfEu/VfoEpTR7xlATAVP/mBcT63SBpcO60WPU71x1DkR3+44PGgNWXRyEqfkzEtJrY1pfL9UXtol6axjRqQtzLnkS26jOvt5GvPsQAm1HwBKRlL7k3obRdOs6jv3mL0hLcuXi/lMYuEdTUJmNdTMBqw69xfKfZ7PxshFOAepzKogAz6fY21jxODCRfEklYbeXM/KH2Wg4hZOn/mpTpmO+Yxy9J+zAMiiNalUFcXYnWTJ2EEPGzGTVgcuYOr8gueYRHm8KmJppdeRdVo8awPQj9oQ2mg2kyudCCwK2sZGAqZBkxhDi/wwnGzOMDfW4sO5nevWcznHHsBrB+6AxYJVunJo1mBGLr+EWXdc9V5HL46Mz6f/daHZbBZFRWdcFsX4MWE3RLdk9sR8Tt6svvKtRlWcSE+LPMycbzIwN0buwjnG9ezHtqD0vchRUxDtwetl4Bg8ZzYzf96Nl8pSQpAKkchkvtVczcc56NPUfE1DzfRaI51N7bKweExCfS6PJTz+kGn6ybYSAvQelqozYJ3e5cFGHRy8yWo6TELD3QKxdLQTsgzCJjdoKASFgfzYSzQVM3ZAjJd1Hh01jutFl8Dx2r5rMwku+tZNwlDmwa0Qn/jleA8/4gtd3uipdODimC/+coIFXfEGdgPVi3uWAmm599bmUR91kQTMBk3kcZ3zPoU0ELNN4LYM6T2D/02hyqgoJt7vKSY1r6Ns8xcvPnL3ju9Fz3uVPJGDqmcmyyMyvoKpKPQhdiVIWgtacfvSZ/1rAlOmGrBncmYkHnXmVk4/dzh/p0mkaF5oImAkbGk3CIXHcy6iu3zLuuBsxjVp+Kt2OMr7Ht4w/7k50XiVRtxczsEdjAZPhpTGZPmoBC6oXsCxMNw6j64S9OEam4Hx8Iv1+3oLZi/SmM/ep1KMparvuNWkBq1n2kmsLBtLnV0284gobBFotIEl6zQSs6hknJjdtAXtTwF6hvayZgMm8Of1Lv6YClmXG5hHdmbDbvmUBe65VM9V8n5UPCEx+PYNWTb1pLmDqKlqRSYDeTib17sYPs7excuoSLrp9yCQc5WRnFyCtrEKmnkSh4anbSlIM1zOyc1chYPUn60e+tiUBk6qqSLE7yLQ+nRi8+jr3z+9m3yUr/JPKUChz3hCwKh9N5g4fz9p73iQ2aQVVoVKfVyo5L2+vaCZgWVjumkCfCduwCExDPWpVXpRIoP0djqyexvB+fRn082KOmwaRWlLxRguYGnN1pA6rRw1k5rFHhDWaDUT2XgFTUhz9FJ3zZ7h8z5zHHr5YHfuVwf1n/mEBOz1rMCOXXMctpn58pJywWyv5scc4dlkFkd6SgGVZs3dyPyZsMcU/RY6yOBrne5qcuayDmaMHvlbHmTukPzNqBEyJqrqYxCAHtI+uYcaI/vQdNJZFR43xT87FU2sRP45fxW33uNobTvX1r4Z73Xda/bLP+CoE7F2wZWQH2/Hgji4P/RIoaJi8q9k+QsCaAWn5oxCwlrmIpW2UgBCwPxuYFgRMfUh5IVEPT/Jr/050/fYfjD7qxiv1LIiyF1z+tQ/f9FjC3cBUGmZsL3Nkz0+9+GmTKS8zpchqWsA+jYBlRpqyc9o4Fp91ICy7EoVajmb3pfcnFLBaikryAt0JSC2gVBr8HgErxePEZHp804ff7weSVje+RJlZK2AT9z+peQ6YLOwaCwZ8S49Ft/FNKm0QVonTAcb2/YkNhiGkl8s+QsDSCL21mB96DGHpZWdii6rqZEpOlr8XIRn5lFW+qO2COPdibRfEmrj+AQGTeXPql74MXHwT34TaWa2qI2+xZFBPZp56RrS6f5P80wiYIvEBq4d2oudCdVr1F4B1dbsFAVOvqS6K4dG5xQzp1o1v//ET+x+Fvn8WxLpDKvOf4xmUTG5xfWtcNbH3VjKs0w+s0gskucnFd91O4uWDCLQtAQNFvg9aS4bQuftgRoxdxuXHYWSpx3C2IGDV0fdZN7ofg+efwTY8j/rrSXnOc/xepJBdXPF+AVOVER8dT15uJhmxQTjpHWPR8B70W3Cep1FZhNZ0QZzFicd1LVTvEjD/SywcNpi5mk+JrGlBryb6/jrG9J/GQbsQsmSJ2J1YzC8LD2PknYJELiNcexWjBs3k+KM/1gKmFrARi6++bgGjksArSxg1ZjlXXWMolrXQAtYgYCb4pVSSaHeS36Yt5JChF8kSObIIHdaMHsTMuhYwSUIMCbk5ZGbE8fyJPieW/EivfvM47RiK9/1NjBswmLknrQjNqX/gupyckABCkzMpbDyR5QfVxE+zkRCwt3GsJj/iKaa6D7DyjCZHUhsglUyCRFpFk0fqCQF7G8Qmy4WANcEhPrR1AkLA/myEZPieXsp+01BSSl53FVQfVVWehtft9Yz67u/8uP9prYCpJITrb2R0t77MOmlPZF4lShTke51m3oQlnLaLIrdCiTxEi1m9uzHrQrMuiBHXmdevC9PP+hBf1yVP9uwo43oMZuX9ENJq+9qRYbSGHzqNY5/TK1JdjjOhR3fG7TPDLzaR8Ge3WD38X3w74QCG1t4klZZTEafD0oHfM+nosyYtTc3pVHmcYGL3f9B3vTlhGRVNxhpVpnty65R69r5MJJWBaM7sS69ftfBNqO1qqUwzqGkBG7/PicicKnLdTzOn33d0H7+J647hZBbmEed8glk9v6b/0ps8CsmkojAMw60/07PfDI7ZvCRH/YRjRQE+5xYxeclJbMKzkSrlRN5cyMBu09HwiKkdt4EMz5OT6TNkOXcDkymr6YKYicmGYXQZtxuH8EwKw+6z9qeudOo/id+PXMPA6iGWepc5oaGLW2wuUlkENxf/QPdxu7Hw8CEwIpXSosCaLog9Zp7FI6bxRBQKEu7/zpDO49nnFEG2+re0Ooo7vw2mx4+rufkokKhQT+xubGB0p68ZvkGXJ2F5VErDub1kMN2nncTtVV6tBMq80JjajyHL7tS0NNRm3ZRNI7rx805bwjKbzZClrmsSH87O6kfXXzRweZXXIKo18ZMFcHHNIYz8Y2noxVmzQoU03RfdbRPo+o+R7Hz44rWAVXlzZnpfvu6zGoOgFKQ1TYJ1taEqA2+dc9x6FEZqaf14tCr8zs9mQN+ZnHF+RX4rXew1r6/t8XNrC5iqxJGjm89h5R1fe96oyojU28TP3b6mz0ItnkYX1s5yqUjDbPvPdP96NAfsX5ClUNfDSIx3TKJPlz6MW7qfSw8ssLHU5+qpU9x7EkFGWRUvbixlxICZnKwbw6XuGmy5czx9xm3BNCAVmTKHx7euYOYWSnaFEqU0GfNdk/hx8Skcw7OI1F3LqL5j2XTfCY/nkaQUlCAJv1szluqXw/a8aNQFURGjx4Yx/Rix9AKWPhGEeTuivW0SPf81lJVXbXie6srZeUPpO2ojd56GkxDpzf3tE+nZaQybrxvyLKGAkvIkTLbWdpFUt9C1WLUr3Tg9axC9xx/EKiQL9RmqKA7hzobZLNh9F4/EEqrlEdxdM5oB0w9jF5Jdc44qM63YO6kf4zYZ4ZcsIeDyYoarbyzdfsLLhEh8HuxgUq9OjN54FQP3OKLNr3DN1IUQ9SRCygpSLPfxy6hFnLB7QWKEGXt+6U/XPmNZsvciuuY2WBpc48xpHRxD02g4VT/zSSEErCXg1RREOHDrxAEOn7+H9RMPfP388PF4gvldfRyex5Pb+GteEY/pzikMnLANI5+UlutgS8l0sGVCwDpYwNt7cYWAfXwEVWXpRPg+5NisgYz9/Rx6j1+SKalqcvErz4/A+tg8Vml5E1v3HDB53kusz29gwdxlbDmsyfXbN9A6fpjT99QTLJQjyYrE7cpvDPzmb3SfdZR7LnEUS+VU58fhfXsVQ779O73mn8XIK5H0uGCenJlDr6++ZsT6qzwMTiM5whujbWP4/u+dmHJAF2d3Uw7NG0nfwRNZsPEIV/Tvc3jOALoMmM6u6094lRiF9/2NjPzub3SdcZQH7vGUVDS7zFCVkBLqgdmBaXT/r//F3wYvYf+Zq9zR1kZb+w63rp5l34opTN9pTHB8Iq88rvDbwH/yX/1/Q9PUl8SkSHyNtjO203/SeepBdNVp5EbjfHM7s34cxPBxs1i+9SgXLm1hSv/+/LTwGPqe6nxUkBf+kIubFzF36WYOnb/G7RtanDh8mnvOEeSUV5If74P2mmF895+9mKuhj0dCOnEhTzk3ry/ffDOcNZesCEpNJtLHmB3juvBfnSax964LsTmJ+JueYuX4AXTr2oN+w8cza/kutGxCSC+VoVIV4HlxKT8NHMHsdcfQfeyJ96NLrBjyL/7ebQYH7zwhprAcOUqKkgLR3zKaTn/vzNSDurgnFFMhLyPceC+zRg7ix8kL2HD4Cvq3tzN18A/8vPw0xh7BhLjeZt3I7/mvnr9yUu8Z8WlxhDifZ0H/f/LNsNVctAwkRc3OZBcTuv4XnSbu5o5zLMXN46MsxOPUbAaM3lgjTLUNUCokGVEE2Gswf9g4lp+8i0NoerPYyil8Zc/p39ZywSWcTJmSktSXeFkcZlafr/h///YDC3drcOWOOs7a3Ll1lXP7f+eXmTvQ80ugpN6/FOmYbR7DyLkaPIrMq7kA/fgzq2Pv2XoCpqAoJRxv4z1M/3Ea607dxzkqm9JKBbK0RxxdtoJjRj4kSxTI8pMIe3aXTeO685//93dM2nkF84BECiUSckJtuLB+KoN7dqV736H8PGMp2zXN8U/KISPOl9trf6LLV32Yd+w+7rEJRAZYcGBaH77uPJ5t1xyJyo3H/Ngqlq/cyPFr9zExvc+5/Xs5Z+JFQmElhX43WTdxCMOnreSAthPPw57jfmcDY7r9N10m7+CyfQS5ZbKam0MqySssjy1i7JARTPh1DQcu6nJr1xxGDR3DoiP3cYsOx+HiOiYOGszY2avZf+Ee9479xqg+A5i4/hw2L2KIDDBl7+TefNV5IjuuPSIyT/LmoyDqBKznwFlsPHaFu7o63Dx/iN0HL2Hhm0hRWR7xPtpsGNuNr3rN5IC2M6/iIgi0PMiMfv+k87itXHeMJOKRFusnDWLw2Nms2n+BezrHWTq6LwMnrOWMdQgvDI+wbsUKNhy9gq6xKQ/OH2TfOSM84gqorMrlpe0lNk0bSs+u3ek7dCzTf9vGOVNfEgrUN/pa558QsObclRRHOXBp/Xj6dO1Bnx+GM2r0aEaPHs2okUMZNm0X9z3iKK0LmLIkjUhvXbZP7cs3XSawWdOC4NRCpM1+opun0hE/CwHriFFvx2UWAvbxwVNVFpIeF4KrjQlmds8IikyjqFJ9Od74n4rylCCeR+dRWlm/RoU0J5oAZ3tsHZxwcXPF3SeM5IIK5EoV8uJ0Xvk8wtTgAfrWLgTE5FAuU6AoyyYuwAlzQz2M7Dx5kZhHYXYSEZ52mBjoYf7Yl4jUQvLTY3nubImRngHWLs+Jz84iNsAZGxMjTKyfEpSQQYzfY2ys7PF6lUNZcQ4Jz59iYaSHgY0bz+PVrT/1V9Z1ZVFJyU+JJvCpNUZ6uugaWfHoiQtu7u64u7vh+tQeSyNDHNTP0CorJivGj0dmhjwwdsArNIm8vHTigl2wMtLHwNq1Jg31Q4+rCuIJcn2IiYE+hhaOeIf642zviLNnCPE5ZchqHnxcQU5MIC72tjg4OePq6o5PWDL5UjVrJZKcOAKdLDDSM8LOI4SE3EKykyPxsjfFQM+Mxz7hpBTk1ciqi5Ux+gZWuATFkVsuQy7JJNLXCWtjffQMzLDzCCe9pLLuwbFKSpOCcLYxxczOi1fp6SRF+eJobsgDfSuc/aPJqhFuFeV5iQQ7W2KsZ4CN63Pi86TIlCpk+bH4OVliZGiK7bOXpKWG4fHkCS7eoSRkZ5MWE8gTCyP0jGx5FhxPbkE2yZHe2JsZomfmiM/LFArU7EJcavJoYOVMYGzOm/FBRXHIbX6fOI/jD8PIrHlok4rKogwSQt2xNTPHzi2gpn5UyOrr4evYpoWEEJ1TjFSpoqIglZjn6vqiz31dQ6wcnHB2U8fZHTfXpzhYGmNk709SQXnDzQZl7mMOzpnF5puuxBfVd0tsfB6I9x9KoPUETEl5fhqxQc7YmFnyyCOIVxnqh5OruxsWEfM8jMSc4prnVVVL8kh95YeTpTF6uvpYPvXlRUJuzUORUZaTHR2A80MTDPQMMLV1JzRFfcFYjSQnnsAn6vPEGLtnwcRn55KREIq7rSkGBlY8VZ9TZUUkvniGk60tTm5e+Pn74O0fQXJ+OTVZKUvhhbsd5ma2eISnk5+bQVzgE6yM9dC3dMInMp3S+hsUKjmFCYE42xhjaGKD64skkl964/rUGY+QOLJKpBSpz0l7c4xNrHDyiyYlJghXexvs3F+SVlRIXkoo7jamNd8bT/1fkal+yH3zYNYI2GCGTNnBZUMnPDye4ershn9UOkXqvFSXkRMfyFMrY/SMHuIWFEtmTjqJYc+wNTPAwOopATHZlOanEObhgLmxCVZOfkSnxBDk6oCNrTth6lkdk0LxfGKH7WNXPP388fH2JzwpD0ndgxWV5TnEBLrw0NQAPQNTHrq9qDlPax5J2TzPn+mzELDmoFWUZ4ThbmvMg3v30NHRafR3D4NHgSTmSRuuI5TSAtJja3+H1L9dT7zDSM6XUNXsa7x5Kh3xsxCwjhj1dlxmIWDtOHgi64JAIwKqyjTctDaxTsOCoJamMm607ad9W0WizVE27L6Gw8scpM3c/dOm9eUfrfUE7Mtn+5eVsE7Amk7C8Zel1q4OLASsXYWrXWdWCFi7Dl/Hy7wQsI4Xc1HiL5WACmmaL8aXz3PLNpi0ktpuWH9taVWUxbvw4PI1jJ5Fkyfs60/jFgL2pxF+/gNIXdCYOYhhC6/gGl074c7nz0TbTFEIWNuMy5eYKyFgX2JUv+AyCQH7goMritYBCcgpig/CxcGOp88TKZT+ld0BVZSlh+Pj4oizfyw5ZbKGbjMdEPwnK7IQsE+G8rMcqLowiRePz7BkRDc6DV/BKQNvkgulb3ZT/Cy5aXuJCAFrezH5UnMkBOxLjewXWi4hYF9oYEWxOjABJeU5SSSk51Ne9Vf2B1SPF0sjKS2XssrqJjNidmD4f7roQsD+NMLPegCFJI/kcE8eWZpgaP4Ij5AE8iT1j7X4rFlpk4kJAWuTYfkiMyUE7IsM65dbKCFgX25sRckEAUGg/REQAtb+YiZy/HYCQsDezkas+bQEhIB9Wp7iaH8xASFgfzFgcXhBQBAQBP4AASFgfwCW2LTNExAC1uZD9MVkUAjYFxPKjlEQIWAdI86ilIKAINA+CAgBax9xErn8MAJCwD6Mk9jqzxMQAvbnGYojfEYCQsA+I2yRlCAgCAgC7yEgBOw9gMTqdkVACFi7Cle7zqwQsHYdvo6XeSFgHS/mosSCgCDQdgkIAWu7sRE5++MEhID9cWZij48jIATs47iJvVqJgBCwVgIvkhUEBAFBoAUCagGbOnUq69atE3+CQbuvA99//z0TJkxo9+UQ52Pb/z7q2rUr+vr6LXyrvl70P16/rX3XpUsX4uLimi8WnwWBv5yAELC/HLFIQBAQBASBDyagFrAtW7Zw+/Zt8ScYtPs6MHDgQNauXdvuyyHOx7b/fTRs2DAhYB/8SyM2bHUCQsBaPQQiA4KAICAINBAQXRAbUIg3XwAB0QXxCwhiOymC6ILYTgIlsllLQAiYqAmCgCAgCLQdAkLA2k4sRE7+PAEhYH+eoTjChxEQAvZhnMRWbYSAELA2EgiRDUFAEBAEACFgohp8SQSEgH1J0WzbZREC1rbjI3LXjIAQsGZAxEdBQBAQBFqRgBCwVoQvkv7kBISAfXKk4oBvISAE7C1gxOK2SUAIWNuMi8iVICAIdEwCQsA6Zty/1FILAftSI9v2yiUErO3FROToHQSEgL0DjlglCAgCgsBnJiAE7DMDF8n9pQSEgP2leMXBGxEQAtYIhnjb9gkIAWv7MRI5FAQEgY5DQAhYx4l1RyipELCOEOW2UUYhYG0jDiIXH0hACNgHghKbCQKCgCDwGQgIAfsMkEUSn42AELDPhrrDJyQErMNXgfYFQAhY+4qXyK0gIAh82QRaXcBUciokpRQXFVJY2PJfUUk58mrFBwdCUZ5NtK8Tz0LTyS9X1exXs8zvCc9C0xqWqSrSCXZ5zLPQVAorlB98/Pdt2FJa79vnU66Xl2YQ4f0Ur/B0Cipqy/8pj9+WjyUErDY6SpkUSUkRRc3OqaJiCTJ5s3NJJaM4M5O8EglVb1QXFbKSLBIiQggKiSQ5T0LVpztV2nJVem/ehIC9F5HYoC0REALWlqIh8iIICAIdnUCrC5iimNQwTyyuHmH7ulVsPnSeK7d0uHfvHjrat9A6sYct+28RHpP1QaGSFyTga3KatTPHsvyiKxE5ChqWzRrL8guuhGfXXoAq0x9z5ve5rDn/iPDsqg86/vs2qi5IwM/0NGtr0nJpSOt9+32a9Soqc6J59uAoK6dNYt11d6LyO9bVshAwQFVGuO11jm5eiVoSGv+t2H2TgIiM2uqmklGUHIyT3jl2rT+CrkckuU2qi5y8cEe0j65jwfRJTJw0nflrj6DjHEl2eTOJ+zQVuF0dRQhYuwqXyKwQMFEHBAFBQBBoOwRaXcCUFRRlxOF9eTnD/v1/6DlPg7tW7nh6euL5zJXHFlfYvGwfwYHRHwRNUZpFlO0RZvb7F2N32xKcoaDpsoc8z6i9eFQVx+Jla46ddyw5ZdUfdPz3baQoy+KV3VFm9f+OsbtsCEr/nBeqKmTFabw02cXkPt2YcsSOFzmfM/330fnr1wsBA2WhH7d3LefX6bNZtHQFK1auZOXKZUwb2pXe0/ZjH5hZEwhVVQEpER5ob51Cn3+PZruxL6mNqosyPwjzK8fYs/sop8+d5cjG2Qzr0ZX+U/dhFJCC5I3Wsr8+vm0pBSFgbSkaIi/vJSAE7L2IxAaCgCAgCHw2Aq0uYHUllboc55e+XzN0mxXP0+Svy68sIeKpK4XpH9YCpt5RkWTE5jG9mLSnVsDql20Z24tJu18LWE0iqk9/FalIMmbrz72Z9NkFrBZbdbg2q0YNZIYQsFogHep/JQUvHDAxscDBM4TI6Fji4uKIe+XC5dW/svqkCQEZta29Knk5pSV5+N1Yw9i+45sJmJL8wIcYW9jzLCqb0gopRalBGO6ZTr/Ow1l7x52Euu69HQpvo8IKAWsEQ7xt+wSEgLX9GIkcCgKCQMch0FYErMrtJNP6fdNUwJTFFBRIKMsrRimTNQmKqrqC0qJCSsqrqFY2lShFikmNAE1uLGB1y5oLmPoitLxCTvMhZiq5lJLCAoprjq/u1iWjrCCPrIwMMrILkVRVo1RUUJKfQ2ZGBpn5pVTWja1RpJqybVyfNwVMKUNanE9efjFSWTVNcq2SIZVWUl0tp0pShrRSjqLJBq+Lr6ySUiGrplqloLKsmBJJJfJGG1dH3WPt6B+YWSdgcmkpJWUVyKqbH1CJTFpMQV4+xeUy3lwtQ1JcSLGkEllVFVVyRdM8KWWUFxdSWCpF1ij91zn9/O9EC5iKsoxUMguKkTZqzapOeciR1Vs5Z+ZPRpOBXgoSzHYxZdBkdjRpAVNRlpZEel4Rr3sbKshxOMbsQUNZcMGRiJLm9enzx7s1UxQC1pr0Rdp/mIAQsD+MTOwgCAgCgsBfRqAtC5giyw0H1yhSchrJl7yQGE87zIyNMTHW4+aFs1zQfkhAchH182ioBUjdAtVEwOqW1QtYdXEKIc4mXDu+m/NmwSQW1A1+kecT7emAlbkZpkZ3uKBxisvGHsTkZJMa5YXR2d1s3H6JR+EZlFflk/j8IdcObmHjKXNCkotRH0WRatZMwJSUxntice8OOvf10L12huOnr2MdmEJhaT7xAY8xuHSEg1fMsDe+jea+zWzXtCIytaRR3FVIc6LxtdNF85AG9xyfYG14lcNbVvP7up2cMXhGTJ4U9TV3vYDNOPgAYxMDLh3czNp1Ozln5kdyYVWN+ClL4/G01OWOji4PdK9x5sRprlsHNKyX54XjZmuJmbkV1uZ63Dx7BVPfOLLVF++qKnIiPXCwMOL+naucPnyQE1fM8U0oaIhBo4x/1rdCwFrCXU2q3VHWbD2PmX96s4k2FCSa72Hq4OYC1tJxVBQ4aTB/4lx2G/qR/mmGTbaUULtYJgSsXYRJZLKegBCwehLiVRAQBASB1ifQtgTsK/49djV7Na5y/ZoWGptns/ykHcHJlbWtRaoKkl1ucHDvca4bOeLl781TQw1Wz57BbwcN8EspRt158YMErCSDcKsjzBrwHWN2WhOUVl0zeUGs4zVOalzhgY0bfn7OXFs/mZE/LuSMQwjx6bGY7pxI7/7z0HKOokheQVGqC2fmDaLH1MPYv8huWcDk8dhpLOfXpYe5Y+mG16OLrJ44itn7TAiKTyPpuSG7p/al86A5bD18gv2r5zNvhzYBsQWNKogKaV48HtdWM7pbL8Ys28aBUxoc3rmcSQO70mXgDA6ZB5NerqwTsL6MWLCXs7cNeKCtycZfhjBoym4MA1IpV8mJtz/FirlLOXTbAjevR1xcM4nRs/ZiHJhKubKCSLNjHDh5C9OngQT7P+XzqtuOAAAgAElEQVTuzu2cs/EnrlyJJNYJ3Zt3eGD2CFe3J1hqbWD62HEs0rAhNFPatGWvUQk+x1shYC1QVqRhf3wt286b459eK+Cvt/oDAqYqwv/6JpZtPItFSBaVHbsBrGZyE319/dcoW3j3P5ov69KlS02f0ObLxWdB4K8mIATsryYsji8ICAKCwIcTaFsC9jXdZuxHS9cau4fmaB9ewpoz9g0CpioK4Nbq8Uzb9gDPBEmN7KikydgemM4P/adw0OIFmRWqDxIwlVJBZZQOa37qxs87rGoETJnrgdbyX1lz0YGwXBkqFGR66XFm/yn0vePIl1XhozmPoUMW1ApYTXNXHPobxjBgxrsELArTI+vZfcmR8KxKZHkunJ4ziP5zzuD0MgdZeRBXl46gx7ClXLIN4lV4CM8jkimUNGr5A5QKOQUOh/ilf3/Gb7uObXAiaanReOlsYXyP7xiw8hae8aXIa7og9mfMqivYhuVRXlVC8M3f+bHfdA7bhZCtkBNldpQNu7V49DKTSlkermfmMnjAbE45viRPUYjT8V+ZtmA71xxfkVteSW7QM3yjU8mtLMLvxjoWr9jJ6dum2NjaYn13P/NH9qTHlENYBWfQmg0jQsDePPcVGQ6cWLcNTXN/0pt0P1Rv+6ECpqIi0RGtffvQNPEhufTTTFrzZm7bzxLRAtZ+YiVyCggBE9VAEBAEBIG2Q6BtCVjjMWBKKtIeY/kojMTM2rv2VcHX+G1YH345+oiwhtn9lGRa72ZCz05MPPqIlzmKDxIwdQRqx4r1YkKdgFX6X2Lh8Mls0vMhqe75WcqKQjJSM8mXVFKtqsLnwjyGDm0mYBvHMPBdAqYqIz0yEB/3J9hZWWJupMX6cb3oOf04jmG5KKsj0VkzigHTDmP3IrumG+Hbakil2ylmDR7BomtuRJfWNkFU5zzi8Ix+fDd6D9bPM6hsNgYMlKRb7mZiv4lsNw8gtVpFWXokgT7uPLGzxtLciEsbxtO713SOOYSSo6gg9uFJfvt5MMMnzGPjsRtYur4guUCKTBbO3bWTmL32LLp23vj6+uLr7YK9pQlGNl7EZJfSmpfmQsCa1xwFmY4nWb9NE/M3uh/WnAUf1AVRJUnA9f5FNO/Y8jy1tKaluXlKHe2zELCOFvF2Xl4hYO08gCL7goAg8EURaLsCpm7yKSA7uxRpRe1sAuUux5nW73tG731ISObry/xKr3PM+eF7Ru+pXf4hXRDVQazfrl7AJM4nmDZwMAsuuxJd3OiBSCoJZWVVyOQfKWDKEmLd9bmseRUdEztcPMw4PHsQ/WbWC1gU99aM5oeZx3AIzalp2XtbJat0O82swSNZct2NmDoBQx7KrZU/0v3nXVgGpbcoYFnWe5ncbwJbTP1JkSspiXNH/4omV+6aYOfigdmROQzuP6NWwJQq5IVx+FpfY//yKQzr35+hk1ZwyjyI1DxPtBb9xMQ1d3gWJ2nS3VClUqH+a81/QsCa0Vdk8VhjPds11d0P67ryNtnkA1rAZLmEOupzR8cK79jcJpN7NDlUB/sgBKyDBby9F1cIWHuPoMi/ICAIfEkE2rSANQMtC9fm95Gd6TlXC+dXRQ0tReXup5g19CdW3PQgrlTZIFbvmoRDfejmAiYLvcnyEd3p++s5HCLy6yYrUFIS5Y5naArZZVX4X1rIsCFz0XwaSaHa0apjuL9uNP2nHcL+RVaLY8AUyY84vXQ6Cw8a4JlUhlwWjvaqUQyaeZxHNS1gf1TARrC4UQsYlYFc+W0Uo5ddxiW6GFkLLWANAmbiR0plMo5nljN94QH0PRIpk8uI0FnD6EEzOerwghxFOUlxSeTlZpD2yg/7uweZP6wn/ReexSnMG92NPzNg6AJOP3xJbv3MJ9V5hD0PJzW7SLSANau3rflRmfWE0xu213Y/bHHQ1nsErLqQV24WPLhvgXtkFmU1T4hQISsvR9FsZtLWLGdrpC0ErDWoizQ/moAQsI9GJ3YUBAQBQeCTE2gbAqai7MkRpvT5b37YZEZgatOxT/WFVkkiMdk9lf4Dp3PQJIgM9fzYiiKe31jLrMUH0PNLoUy9KNmYzWN7MWGXNc/Ta1vK1Mu2/NyLCTutCGq2bNw2CwLT5KhKgrm7fizdOv3AjC3nuG/lgL25DpontTDziSe/qpqYB+sZ0/9HVmjZ4PcqAv+nuuyc0ovvhq3ihl0IudIqZMnqafBfd22U+V9i0bB+jNmig0tkEtH+Buyc3IvOY7dw08STpFw/rq8aRf9fPqQL4mlmDerDxMPWvMhWc1JSEqbDptnz2HnHnfjiauQRd1k9agDTD9sRkq1uPVSSabWXSf3GscnIj2RJAJcXD6ff6E1oO0eQFO2Pwa4p9O48ls03jPFMiMby+k0s3ELJrlCilCZhvmcKPy44hm1IPGHGO5nSrxv9J67k8HVDHjrYYaZ9gXM6joSmljSIcX3cPueraAFrTFtJjvMZNu7QxNwv/S2TZiiIN93JlIET2WbkQ8rrhmVQy9cTHU4fOsJ5XRucvQMJCgrAx/UheiZORCfmNU6sw70XAtbhQt6+CywErH3HT+ReEBAEviwCrS5gimLSovyxODiTvl/9P3w1eiOahp7E5JZR1agXYC11OXkvbdHauoQFy7dy5OJtdHVucOboSW7YBpJaLENZlkGYxT6m9P6KrlP2cvtJDPnZSYQ2X5aVWLNsau+v6DJ5D3ec4ygsLyPN14BjS8cyoGcffhg5gVm/beTI3adEZElQP7mrLMKMQ/NHM3TUVBZtOozWvevsmDWSwaMXcfS+G7HJsQRb7Gdqn6/pOmUPt5yiyY1x5OLq8fwwZAILNh7hku5djiz+kd4DJ7NBQwcrm8us/bk7X3Wbyu5rjkTllSF7S0++mi6Ig3owcPZWNG7qYWigw+Vje9h/3hjP+ALK8hMJ0N3MuO5f02fOEe65xZL4Khibo7MZ8G1XJuy8xZNX4dhprmHCoCFMmL+BI5fuoX1kCT/1Gcik9WexCg7G4Mg6Vq3eyqnbhlhaG3Hx0B5O6bkSk1dJZXYIlufWMnlQT7r1HMCICbNYuuUUhl5x5NW3iLXSaSIErBF4ZQ4u5zax84I5fi11P1SWkhHth/6uafT/Zzcmbb+EdWgaxeoHiKlKiHG6zpYpA+jZZyDDRo9n4sSJTJwwnrE//ciMXbp4xzZ+TEKjdDvIWyFgHSTQX0oxhYB9KZEU5RAEBIEvgUCrC5hSQm5KFL4OJujevs7NB1Y89Q4nrUiKvCUJUVWQE+PPE2tzLB/a4+johFtgDFmlVTUtLyppHglBjzHRvYO2kQNeEemUFGbVLrt/hzv1ywoymyzzjsykrFIB1SWkhj7D1vAe2nfvY+roT2yOBFmdDKpk+cT4OGBy7y66Jo8JjE8g2M0RewdnAl5lUFSYRXyQEyZ1aXmGp1NSXkDy86dY6t1D19AWz4hEIn0csTQ250nAS8JDPLEzvMet2wbYuoeSWix96yQHtWPABjN5qyb37Z1xfuqIg5MnYSmFSKtVVJdmEe1jh9G92+iYPsY3Kp3MlFiePzHjgbY2RvbeRGYWk5vwHGdLPe7pGvLQI4KESF8eW5pg7hRMUn4+8UHO2Jqb8fCxCx6e7rh5vSA+p6yOgxJJZiQ+jqbc176N9n1THgfGk1cubzImrDXODyFgjahXp+NlaoS9z6va57c1WlXzVllOfmoUPg4m3L+jjZGdG88TcpFUqQWsnNTnTzDXvcm1a1e5erXR3zVtrLxjyZa8cYekeQpf9GchYF90eL+8wgkB+/JiKkokCAgC7ZdAqwtY+0XXKjlvcRKOVslJ20xUCFijuCgrKM4roKS8slXH5TXK0Rf1VgjYFxXOL78wQsC+/BiLEgoCgkD7ISAErP3ESp1TqYsGMwcNY+EVV6JLWmoibF/l+dS5FQL2qYmK472NgBCwejIqOdLSEoqLiihq9FdcUoZUpuCvmxlVRXmSLw4OXsQUvKXLRH0exat4DpioA4KAICAItCECQsDaUDDemZVqilJe4nx+KSO7d2HkqnOY+KVSVDdF/zt37UArhYB1oGC3clGFgNUHoLqAhOBnmF7cx+Z1q9l65BJ39IwwNTbg3g1Nzpy9wn3756Sp+4l/0ptGCpLMdzB9ygZ0grMoazyDTH3exGsDAdEC1oBCvBEEBAFBoNUJCAFr9RB8YAYUlOUk8MLVGqP7OuhbOxMQm0uZeryO+NdAQAhYAwrx5i8mIASsHrCynLyUV7gen8J3//t/0XvpNcwfe+Lj9YyntoZc3r2ACePnsOWmByklVe980GH9IT/sVUVB2CP07z8kIL20hVmbPuwoHWUrIWAdJdKinIKAINAeCPz/7L13WJTX3rD7/n3O9559vv2ebyfZ0R1r7N0YNZrYS+y9xMQaY+waey/YpYhIkQ5SBASVLqCiSLMhKiAd6b0zDDPz3OcaigKi0USkLa5rLqY881tr3b8F89yzyiMErCVkSdTxfQkIAXtfUuK4v0tACFg9giUua+n7738y8lAQL/NrvhlSUhB1mXXD2/Nlv1VYhmdQ8pE3b2m8KY71GtjCHwoBa+EJFNUXBASBVkVACFirSmebb4wQsDbfBT4ZACFg9VDLXDfQ/8v/4fs6Aqa+5H08hvO78a9/DGH3zXhyK6/mXfNmJbLCXLJziylXqupuoyrJKC4uR6WSkCpKyM9r4Bgk5MXFlClV9UbWlJQX5pKbX0y5ol5cddFSed3Y6uPql19TxVbyWwhYK0mkaIYgIAi0CgJCwFpFGkUjqgkIARNd4VMREAJWj/TbBKw86RpbRrbnfzrOQ/9hKsWVg2MSspQHeDrZY2tphM7RPew9YYzX82xKitN57u+Cyak97DHy4/EtR4yO/sHa1WvZdd6TyNwyFFSQGxOEm6UW+7dq4a6+Dkf1+jJFdjgeNhbYXXXH3ckEHS19TC2tsbVz5NaTKB74uWByuia2E0YaNbE9iMgpbbVbhgoBq9dhxUNBQBAQBJqQgBCwJoQviv7oBISAfXSkIuBbCAgBqwemSsD+Nz0XnsLssiseHq442xpxbM1khgwez9JjrkTkllVdsLEwnMuapzG0ccHT5wauVgeZN/wbxv1mRGB8LM9un+PnAe1o9/0aTmpfwPCCJvsWDqFz7+kc80kkX15BbnwI5uuG89X/mcDxBy/JV09tVKZxU2sV8389jp3vfcKCr3Hil9EMGTad9ccvcP1BJI98qmOP/O117EXf0qX3NDRuJJBX/lF3CqlHqekeqgVsyZIlbNmyRdwEA9EHRB8QfaCJ+0CHDh2YNWuWyEMT50F8Jn6cc4KuXbsydepU0Z9Ff270PtCjRw8sLS3feUL9X/VfVXfQ6Ojo+k+3isc1AtZt1n7Omdhgd8mM80fWMrVfe77sPo61F24TX7kJh0S2zwGmTlqGhpEtztddcXUxYN2Ybvyn+3z0QpLIzfVh53cd6Dh2O7a3osgtk5Htt5fRHTswWzeMlCIVSkUZD09NpssXEzl+v0rApKzrbB7eiRF/uBGdXa6eoEiU3ly6fzWMDbYhxOfJkBf4sGtERzqO3YbNzShy1LFv7mNsp47MOveI5MKPvEitmWRXLWDbtm1DS0tL3AQD0QdEHxB9oIn7QPfu3Vm9erXIQxPnQXwmfpxzAvU5xrJly0R/Fv250fvA4MGDhYDVdosqAfsnQ7e5cj8qhbTUJGKfhnDD5hg/De1GjyEzOeASUSlTIRrj6D1lGxbOXvjfucOdO7dxd7DEzMyZ4OQiZLJgjo7rTPdFF3mWVly5NkwZZ8j8bu2YdCyUl1XDXURfmEO3Lye/EjBVqg0r+rRn8DpnXmTKkJDItV9Fn6+Gs9k1mmz16JY8GI1xXei+yIinqTWxjVjQoz2TNEJIzGu9AhYWFlY7ZeK+ICAICAKCQBMREFMQmwi8KLZRCIgpiI2CVQRtgICYglgPytvWgKHI5s6hiXT43/9Np2VWxGXk4rXtG7qM2c2NuFzktWf8SWplAuQhaKgFbHEtAUsyYVH3dkw8GkJS5S6LSmIM5tYRMKksAut1o+k/ZhNWQUkUFiThs386303fjcPzLErVbiUP4dj4LvRY/FrAVEkm/NSzPROPBJGYV7ODY70GtvCHYg1YC0+gqL4gIAi0KgJCwFpVOtt8Y4SAtfku8MkACAGrh/qtAoaSROOFdPvX/83/N0uf6LS8yqmDXTt/x3rLUFJLFNW7H1aQFnSHsKyqEbC/ImCgINX3JMsXr+e4sQOublcw1dXF0uc5WaUVr+ROCFi95ImHgoAgIAgIAp+UgBCwT4pbFNbIBISANTJgEf4VASFgr1BU3Sm8soY+X9S/DphEeVowhssG8cX/+ZrZWndIK5STH6zNvL7t6Tx0Pn9oWuDs7sl1Oz2OHTXnzst8ZOX3ODy6M90WGr6eJphoXDkCNv5wYPUolZIXerPp9uVEjoYkUTlwpUzB5+w6ft93gUuOV3H18CUgPIk8meL1NvXyQA6PqYodXj0FUZVowuIe7Rl/KIAEMQJWL7PioSAgCAgCgsDHJiAE7GMTFfGakoAQsKak37bKFgJWk29lLvFhAdhu+p52//i/6DRxE4fPGmJqboGpoQ4a25YydexEFv2hj19MPjIlSGWJ3DL4g9nfdqdL9358O3oq81ds5azLEzLyUom6o82Cnp/xryFruOj+mJTkSIJsNvDdl/+k+9zTOIUkkRoViMVv3/Dv/92d+ZouhKaWUlH+FP2FQxg8cjKzFv7M0uUrWbX6dzZs3ccZ6zvEZb0k4o42C3tVxTZye1QZO9hmIyPaqWOfwjH4JaXy1jcNUUxBrOmw4rcgIAgIAk1PQAhY0+dA1ODjERAC9vFYikjvJiAErIaPsoCUF4/xczDmvI4W5wzMsLZzwuXaNVwcbbAws8D26k3CXhYiV75e8KUsiCfE0x7TC+c4d8EE+xvq3Q3lKCvySHx8AxvD8+gYOeD3IJbMjASe+l/BRO8cetbuBL3IICshnNuOF9E7p4e1RzDR2TIU5dHY7VjFb5s3s3nzRtb9/hurVi7j58ULmTVjDQZ3nvIk1PvN2HeqY1upY2ciq2h9G3EIAavpsOK3ICAICAJNT0AIWNPnQNTg4xEQAvbxWIpI7yYgBOzdfJrgVQVpt8+z84Ap/hFJpGekkfIykfi4GKKehWC1ZTWnbsVX7YTYBLVr6iKFgDV1BkT5goAgIAi8JiAE7DULca/lExAC1vJz2FJaIASsuWVKKsBv31gGTvgd7cu3eBydRGp6BqmJUTzwc8JQ24yb8bmUtb7Zhe+VCSFg74VJHCQICAKCwCchIATsk2AWhXwiAkLAPhFoUQxCwJpbJ5BKiXI9y8bFs5g9dxE/r1jN2k3b2HP4JDpGlrjci63cjOP1JMjm1oDGrY8QsMbl+0Z0hYziwgLy8/PffissQa5UVe8C+kaE93hCQpYVTbDPXZ5lFiJrQZ1bKn3JfR8vAiIyKFJfn+89fpQl6UQGenP3eSYFDTVWqqCsuJCC2swLiiiRVaCS3q+M+tV4Veazt5RZ/w0f67GymNTYRDLz8ih4j35UrlShqih7o88VFJVUTqlW1Wq+VJRCbFI2RWU1O9B+rEqLOB9CQAjYh9ASxzZ3AkLAGs6QUpZPWtxzwp7Fk1soe3WQojiThMgwHj2JIjmnBPmfrHxR1YqTU/A6zquAbeiOELBmmGypPIeY+75ctTXDSP8CFwxNsHb0JDAqg5JWuK7rQ1IgBOxDaP39Y6XCZJ6FeHBRYwcb127lkLYBxuYWWFiob+YY62qwe58xtxKyKat1cvz+JSvJibmLjcavzBizgvMh8eS2oNFdVdJV9i+exe96/sTlVvxpsytyYgiwOcqq6aNZdSGU2NwGPq2UeSQ+CeCK3iG2b/idjbs0OKNzHp1Tx9A4qYul52OSC8pf74j6J6Wqy7xnq8GvM8awSi+YmJwGyvyTGH/lZak0mQe+Hnj7h/MyOY6noZ6YntjN5nVbOKh5gYu1+9H54+zdb4RPdAaFeYmE33PmwuHtbPx9IzuPnkbnvA6nj2lw8pwFHg9fki9TIpWk8uT2Na54PiAht4wW1G3+Cs5m+x4hYM02NaJif4GAELC60CRZJhH+Llgam2Hl4Ibf/WiyC8sBiaK4u9jr7GPd0vnMnr2A5dvP4/o4mUJF3RjqR+o4keo4Juo4rrXivHlsW3lGCFhbyXQraacQsE+bSKksl+SYEHR/7s+X/28XZh425rKHDz4+6tsNPF1M2PHTH1g8SSTvL53XK8lPfIDd5tF0+nw0e/2iyGzgn/enbbWKvLhY0opLkf9JwVLOEzyszXC4E0N2yZ8rgCI/iUd2WxjT5QvGHbhJRGYD0FQlZCdF4nt8Dn2++H/oNnM/uhZOOFhqs33hWEaOX8AO8wAS88vfa9RRXeZju62M7fpvxu3343lDZf5JOz/45YoM7l/WR8/sKkHxeZQV55EaG4r+yqF0+Gdnpu7Vx9a9Vj+6asaepdsxDY0msyibl1F+nJjfny//8TXT9+hg7uSApc4OFo3/nvHzt2F6J568cgWFCUE46Z5AxymI+Lz34/HBbRFveCcBIWDvxCNebGEEhIC9TpiqIJY71qfYvX0fJ4yucOtxHJmF5ShUIBVF4+9khq6WLud1z7J/1SQG9OjPjH2XeZBSVuezSR3n7qXT7Nm+lxOGNXFklXFel9b27gkBa3s5b9EtFgLWFOmT439oHF9/PoD1zk9JqzNtTk6chzuBqTkUNeAS71dbJYkWKxjYaQL7moGASSUvcDxjiGd0CoXvM6r3gdMClTEmLB3cmckH3yJg1dCK3bbzfdfPGL7Tm+cZCpBKSHDby+Tu/6bdsC3YhaVS8j71A5Qxpiz/pguTP4mAKUgP0Gfr+kPYBiZQUFFTSTkBx6fR58v+rLa5T1KdIVM58d5eBL3MoKCyH5XgsWs03T4fxja3J6RVNj8RjwPT6PVlO4ZuvMSj5BIkFGSHXmTH77u46BtNzntOA32/fimOeh8CQsDeh5I4pqUQEAJWlSlJlkKg5V6Wzv2FXQbeRGSV1plloMqO4v79cKLTiqhQVZAfdZldU/sxcO5xrj/JfTVDozKO1T6WzfuFnfpeRGTWjdNS+kVj1FMIWGNQFTEbjYAQsEZD+47AcgKOTqT7FwPrCZhEeW42OZkZ5JRXoKg+z5bKSygpV6KUJCpKCykoVn9jVnMSXqsYqYLSglzyikpJsvqVwZ0nvilgkoKywjzyCkupqHX5h5ookryEEpkCpQpU8hIKi2W1jlMhLy54a/nK8mLycvMoUl/gvLp6yqIkAi23M2XEEs64BxGVWUCZQomEhLyklHKlEoWsmKIy+as2SRUllJRV1aGmXqjklOTnkJ1TiKzy/a9eQRlvViVDfyJgMq9d/PD1568FTD2NI8eFzSO78M//Hs0h30iyag26SYoyCvPyKCyVV/J4XSIo481ZOaRrtYCVU5KXRUZaGqmpqaRl5FFSoW6jCllhDpnpadXPKVCpyiktq0CplFCWFZJfUIJc8e71flLxEyzWTWHuPkceJpfW+iZUTtCpmfRtN6CegKn7UQ656n4kk1PlazK8946h+xevBUw95SX32jZGd/sf/nvUfryfZVadEMjjsN04k7nbzLiXWFjnJKE2A3G/cQgIAWscriJq0xAQAqbmXkHqXQPWThrJ9K0XuR1fSP2JKVK5jPIKxevny0PQWzWDBVtNuZOg/nKsJo4h6yaPZNoWI242EKdpstw8ShUC1jzyIGrxngSEgL0nqI962FsETCrh6XVXQtNyKJEkyrNeEOhmhfbBg1y8cZ9bVy04s3sTazfu5bzbUzKLa9ZIqSiKC8DF2gKrS9ZYmRhw5tdRdPh8bK0piBXkRN7iqsNlHB0vY22oxRldS7yfpFMsV1GRG0uIpw26h/ei7/mQAA97LhzZzoYN2zludYfY5GgCnY04tmMjazft47xbOBnV5Uvl6Tzxu46TvTUm509y6NBpjN3DSCssICnEiWML+vNlu6H8cvAsF6/e4UGwH67WOhw+YIirnyOGp3axZdcFPEJC8Pe044LGbnSuR5FWqB66UVLw4haXzUywumSD5YVTaJwxwetpJsXVI0FqGaocjfoLAqbKcGDDd53552fTOHMnmsolZBW5RPlfx9HBEYfL1hhpn0XX0pOw1CLKq0cllfEWrwUso5CkYAe0dq1n9W970LsaQmKhDCUKcmNuYHzkEFpmV3B1c8BU8yAnL93C//oldA9sYe3vm9in40RIYj6yBkc8JQrunWH+N6NYaxlCYp0hurcImFTKc3cPQpIzKHrl6Q0JmIpMp8380PV/+GzKSW5G5VR/y1pB5MXljBi5hLM+UbzHUryP+tfR1oMJAWvrPaB1tV8IGEilEdjvmMaAwTPZoWeP5w1PXN19CI5MpaDBf/xK8p9e5vT+Yxh7PCOzenZDZZyd0xk4eCbbde3x9KmKE/TWOK2rL/1Za4SA/Rkh8XqzIiAErCnSUS1gn3VmwuYTnDezxtraEpPzh1g+ewtW4UkUSFU7Gd65sJKhHb9ixMojnNHVR/f0HhYN60bfaYdwi8qq3OGwIu0eJns3s+OkMQ7eN/F1teTA3P588c/vqwVMoizeG50df3BY3w73W3fwu2bErsVTmLHyBFefZpKXGUew6Tq+79KOEavPcsHEEmPdo6yZ0JfuQ+azU0sfI6MLnDu7n5+/703/Kfu5FpFJmaqIyGv66BhYcvm6F57XLDm0eDTfTfiV8zcjiHx6n0ubf6BLlzFsNLDHM/QZzx/5YbBmBF2+GsaSPYc5uHkxU2ZsxdTHHz/LrYzr/m/G7vMlIlMJFdFc2buA6b8cxtTZBz+nQ8z/bjjzNTyIyqpao/ShAjZshydP0xUoixK5d3E1I7t0ZOBibfxic5FLZST4nGfXtkPo2bhy685Nrl3czZKpM1hx7Aph6cWV31DWFbAycmPvYPjbSDr++xms5pQAACAASURBVFt+M7tLXLF6J0EVJS/M2fDTRnQuuePncoyFgzvQc+Jadu07zP7ta1nwQy86fj2UhSc9iMyS1RrdqumXpYRqzmNAz2lo+ESSXWuEDqoF7MtOjF13BB1Tq6p+pHeEVfO2YBYaUyWUlaFqBGwof1wPI7VCSXFSECa/j+LrTgNYqHmD6JyaFXoSRTcOMKlvf+Zq3SI6r06hNRUTvxuJgBCwRgIrwjYJASFgIHtmwYbx3Wk3cB7bTl7E2kSLPWuWsHjFLgy9n5NRWvPtm4QsO46H3lYcXz2difO3on8jipzqZQqyZ5ZsnNCddgPm8sdJI6xNtdj7uzrOTgy9asdpklQ3eaFCwJo8BaICH0JACNiH0PpYx1YL2OddmbpbF3PHq1y96oKDmQZLp23AIiyBAgkkpYLCmwcY370Lo9Yb4xGeSUlZNrcPT6FHlxmcVl9CQVnEI+NfGTNxPZZBSRSrz5WlYu6fmU2v9mOqBKwil3s6i/lu0jYcH6VSpv5fLxXz4tJaRvbox+xTN4jOKqUk6ATTenfkh/Xm3HieQ6m8mBjzVQzp2JcZB23wj82lrDyPoFOz6N1lGsf8o8nO8ufUwpmsOKiHtYsbHh7XMN76I/07d2fWmVvE5JbyQHM2/frMRzswlnyVCkVFMQEaU+ndaRi/Gt3g8bMH3AsIIyG7kKLH51jQvwPj9lYLmPwxJhsWs+n8bWJz5Mgz3dk9tjt9FukRFFdQOWLzYQL2Gb0XHMPg0hUum6o/BJeyfJMGVnfiyC1TIuUFofvz90zeak/oy9LK+FJJNLYbRtOr/yyOeURVXrS9joBVbsKhJCvgLAu/Gci0gy48zVTLlIo0r2PsOHudR/H5yDId2Tjia/pM2sFFt0fEJcUT7q3NsqEdaD9kA5ceJr+5Bk2ViPVvw+nS5ycMA+NqjWip+2KNgHVh0h+amDhU9SNHs+OsmLUBk+DqEb3KblstYJ/3Yt6RC1hfuYyZ9l7WLlvBxqOW+Mfk1LkWoiLsPIsGd2Lwb9Y8TCr9WB1fxHkPAkLA3gOSOKTFEBACpiLl6l5m9O/IwEWHMPUOI+rFU+5e2s3sIX34dvEpbj7Lqs6nRGl6BHfsT7NhxhC6dujG8CWnuB6eTpmkjrOvOs5BTKrjBNjsYc63fSvj+L2K02K6x0etqBCwj4pTBGtsAkLAGptwQ/HfMgWxIht/E0v8EtNfnWjL759meu/ezD8XQnzlbgpKEsyWMbDTRPbfekFW6UO05/Sn1xxN7sXlVU8hU5Fy6VcG1awBKwnm1Iw+dJtxmoCY14t5lUlW/PpNBzpOr3pv+TM9FvTvxowT94ip3s69/OYBxvUcwgqzhyQVq+ezqUi2/pVvukxgt3cEKSFazP52Ghv0bHC9dZvbt29z0+0yFibGONyJI6ekjId1BEzNo4LHOnPp33Mmp2qm/VVjUsaZsnxwZybWjIBJBcTd9+eW3w3cXJy5Yq/JymGd6DZHi3sxVe39UAHr97MWls7eeLq74ekbwJPEHEqrL0chCz3LnP49mH7iNlGvtpdX8dJmDcM6d2TqKX+ic1W8KWAglUVhu34MA0atxTQwiSJZPE6HdnHB6ylppRKUebJ7VC+GLjcnNLF6Tr8iBcdNo+jafhyHfCLqrEGrRFLxAO15/flPv5VYhSaiDvP65y1TEBU5BFja4BeTTH7NF6vUCFhffjpjxhVvL9zdPfFVi29OCfWvxqGMNWfVsM58PUeboOj810WKe41OQAhYIyJWZfDYyx4zvXOcO1d1M3AOJDFLfMnQWNSFgCmIsFjPuB49mHXCjSfVn61SwQMMVv9At56zuez55BV+lbyUgow4wm7bcmTJd3TtPIrNlvdIklUQYbmB8T16MPO4K2Gv4jzE8LfRdOs5C3uP13FeBWxDd4SAtaFkt4amCgFriiy+RcCQKExKJL1UvRi3onLTDfmDM/UETEWy1UoGda7e4TDnGluGdaHzdC0C4/JfCViqzWoGd6nehCPfjW0juvCf8Ue5HZ3zelOFMh/2jv6aduMOc/tFNrLn+izs352ZtQRM7n+YCb2+rSNgqbZr+KbreHZ6RpDkfYBxfcex1Tm83m6OElWbGVY0KGBhagHrPZezATF1ttuv2lCjloCp8onyNUf77HlMbV3w9LXij7Hd6TlX8y8KWN1NOOpnv9hjJ6O6fcW4Q75E1tqRo8zvAON7/ocxB3wqp0Y2JGCgIN3vKLMGD2HeSQ8e3zFizz5TbkZmUrmZYLWADV9pwf0aAaOC0LNz6N9pPPtvPEM967LOT0UoZ+f0p32fFViEJtYbIXuLgKmvJ/MyiYziUmQVisp+JNUIWJ1NOOqUVOeBKtGK34Z34etZWgRF59V5TTxoXAJCwBqRrzKa65rbWTl3BjNmqG8zWbzfhkdx4kuGxqIuBExJrO1WJvXuy9zT7jzNr/4WTSrE7+QCvu05DjuXkDfxSzJeuh1m7jfDWaLpybNCBbF2fzC5T1/mnHInPO91nJunFjG05zhsnYPfjNOGnhEC1oaS3RqaKgSsKbL4NgGrrosqh8cBj0jJL6bs/p8IWIEf+8Z248sBa7B5mELVVHIVVQI2gT2+UWSW3EdzVh/a9f4F09AkimtGRYo92TWqN8NWW/IwuQT5XxCw5Ae6zOvfg+9WG+EfX4i8+jOhIvMhwU8zyC+RVQvYPLQqpyCq21jB+wqYMu4q++ZOYOEhR0JTSlDIH1WO+PVpJAErf6jNvAH/ofcSIwITiqqFFkq89zKu33BWmYaQWCw1OAKmbplU9ATjVSMYMPY3dvz6C7usA4ip2cWiZgRsRa0RMGTcOzGDQcNXcjEo/tXI56teqYjBZPkQOvVchEFgXL1t/N8mYDX9KJcnQY95maPecatmDVjtXRBflfLGHeULE5Z/25mBK8y5n1DyxuviicYjIASs8dgiFZAYHsztG154ealv3vjdjyG7qGb9YyOW3UZDCwFTb6Skw9KR/Zm0w57glJrNs+QE6ixl9A+LuOz1tMHeoYiwZOPMxWwzvU1cmYqCwHMsG9mfiTvsCKoVJ0h3GaN/WIi9Z3iDcdrKk0LA2kqmW0k7hYA1RSLLuX1wLN0+78dax3BS61wHrJy0IDNOXPAgIq0IWchJpvbqyVztYOIr55OpSLJcwaBO49ntE0lmeSqe+6fQ6z99mL7TFL+oTPJz47mpMZMe/x7EChMfnqRnEmzwKyO6DagcmYnIkaFCSV7wGRaPn8d+hzDSS1VUPD3P/H5fM+34XaKrp9/Jbx9ifK9vWG764NUUxFSb3/imy1h2eDwnPTuUC0uH0qXrt8zdcgbzKx54uztifOY4pr7RZJbICT+/gP7dxrP76j1CH0eRWlRAqPYc+vWYyam7tdcpgTK26ppe43ffqLxWV7n/ESb16sXEPY4ExyQRFWjGuu870XHCHmyuB/OyqJSyGNPK64BN3O/L8zeGkGryK1Hkuo2RXf7FkD9ceZrW8AmXVPgI0zWj6DFwLseuPyVLvUOVMo8QrV+YNH8vdg9TUF8fWhlrxvIhXZi49wbPMmoPW8lJctvNlP696TliNWZBCRTU7DdcKWA96DXtFL5RuZWbeajyH6G3YhKztpsTlFT0enTyVbUL8T86lT5fT+WYX/1NOMq5e3wqfb7syyrr+yTVmZ8oJz3UijMGbjxJKkApFeG2cxTdPvuGzc6PSWm4+TWlUh58mtkDejNNw5uI7JoGvHpZ3GlEAkLAGhGuCP3JCQgBA1VuKMbrJ/HDvIPY3U+vmhGhSMZl3xIWrT+L3/McVKU5pKZmkldSXvXFnyQj2essW7acxOZeAuoVAJVxNkzmh3kHsA1Nq9yEC0UKVw/8UhnH91nOJ89vcypQCFhzyoaoy58SEAL2p4g+6gFSUQrPgq5zaFZPPv/vzxmx+hjnzWywtbXF1sYac4PjbJg9k62XHhCbEE2g/lIGtf+cb1adx+X+S5Jf3Mdx+zg6/6s7szRsCUgsIOOJMyd/nci3g79n2i+b2H/6PDrrJ9C713AWHrbGP7aAwpfBWB9czux5v7LrpAEWlywxOLaH/brXeZxWRFluAqHmaxne8TP6LdHCISiJ9Pin+Gstol/7r/h+gwFuYamV5TvtnEDXz7ox/ZA1d+Izib55kZ0LvqPX193p9+1opsxbxsbjdgQn5VOuksj00WDe0IGM+mkLx8w9uRt4A71VQ+nwWW/mH7Pidpz62mCgKkjikd0WRnf5F91naWAbkERe5BX2zx1Gv2HTWbH9OHrmhuyY0Z8uA2ey7Zw7z+KiCLXbWvmennOOcelOPIWyesKgzOfl82Ccdk+h+7/+F+0m7MDIJYSEvLLqa2TVTrGctFAbDq+cy7xVOzihb8ElS0OO792P7tUHpBTKURUl89j+D8Z0/Ywes49i7R9PQa0ypdxgzi4cwaTNloQkFb8aRataA9aDrkN+Yo+WGXYO9lieP8jWP05gdy+B/AYveqwi68YBpvYbxQabB7ysliypKJWIEDc05ven3T8+Y9iKg2ibvu5HFgYn2DxvDlvM7/EiIYGIkCvsmdaLz//Xl4z7Q58rwfHklsob2HVRzUJFqsNGRg+bycFrT8kor81H3G9sAkLAGpuwiP8pCQgBU0+NKCPpjgm7Vixl4wkLvIIfEOBqxOHdhzFye0xaiYLsYBtO7tzIloNamNo54XTZCgNNLYxdQ4jPq/7GTB3nrmlVnOPmeAWp41zkSHWc1JKa6S2fMsPNpywhYM0nF6Im70FACNh7QPqIh0jF6bx4dBNHY100T5/mnIktDleucu3aNa5ddcbB2gjdc5e4FZtDQXYij70voa9zFj0bT4Ki0kiLD8ffyRhdTW1MXe7wLE19IV8ZGU9v4Wyuh7bWOYxsvQj0dcLK1gn3gOekFJSjkCRKUsLwu2KFxaXLXHFx4ZpXEC8yipGrB3kKkgn3s8fwnCa6Vm4EPE8j62UU9z2suKCtiYG9N6ExmXXKN3G+zdPUYsrlBSTc98LeWBctTR0MrNwIjc+jrPpK0sq8CG46mqJvYIXno3jiIx/gbWOAzlltTK748vhlEWp/UUvFc39HLupqom12lTvP0yp3fXzhfwWzC7romTpy61k8YT72mBlb4f7wJfnZKUT4O1W+R8fMhdvhKRSV1xewQtKiH+PnYMx5zVOcMbDHKyCc5AJZAwKm/rAsIeXJTZytLbl0+QouLtfwCowivUheKVPqHNaUqW3qwq3w5LplVkRj9sdmdD2ekFZ9/ZbKLlQ5AtaTgVO3o2XmjJvbdZydruL3OIn8stqjaHU7nJQTiM6ScSw46kp4etXW+1JJBjFht3Ey1UNL3Y+ML3G5Vj9ytL7I+XPW+EVlUJCXRkzYTRxNzqN56gwGdp7cffKS/LKKhgVMlY33gTlMW62D94sc/mSwrG5lxaO/TUAI2N9GKAI0IwJCwKqSIcmzibx9BUszK+yuXOfalStcv/OUl3nqGSkS+RHemJ3Yzqatezmha4rN5Su4331W/frrhFbG8b+ClZnl6zj+4W8c9/odbeeeELC2k+tW0VIhYK0ijaIRzYaAROlzaw4dtuTOi6yqqSY1dWtwE46aF9/xWyojzk2D39acwKV6CuQ7jv7bL8mTXDmyZhNnnR+Rqp5vKX4+KQEhYJ8UtyiskQkIAasFWFJQmpdBclIyGXmlyGv/e5UqKMlN52V8HAkvM8kvlaOss+vtm3FSkl6SXj9OrcPa2l0hYG0t4y28vULAWngCRfWbAQH1ha4DcLIwxtTSDO1dWznheJ+kgprF1tVVLHFn56ieDFlmRmhCccOjT29pjVQch4/JGc4YuxOWVtTwyN1b3vshT0vFCdyx1uKsmTdPqy86/SHvF8f+fQJCwP4+QxGh+RAQAtZ8ctHaayIErLVnuJW1TwhYK0uoaE4TEJAoDDzPqknDGTpuNqv2WXA3Lhf1/h01P4q8RJ54H2f+wE50GbMJ/WuPSC+uXmxdc9Cf/JZnPeO2qwvXfR+TlF9WuYnHn7zlg16WStKIDPHlmqt6amkB5bXq/0GBxMF/i4AQsL+FT7y5mREQAtbMEtKKqyMErBUntzU2TQhYa8yqaNOnJiBPe4SHnRnGVtcIjMmmtKLu3BFFQTIRgdexMjrPOSN7PINekFVStabsQ+qqLEoh6nk8GUWyjy9gpZnERsWSmt/Q5iQfUktx7N8hIATs79AT721uBISANbeMtN76CAFrvbltlS0TAtYq0yoaJQgIAi2UgBCwFpo4Ue0GCQgBaxCLeLIRCAgBawSoImTjERAC1nhsRWRBQBAQBD6UgBCwDyUmjm/OBISANefstK66CQFrXfls9a0RAtbqUywaKAgIAi2IgBCwFpQsUdU/JSAE7E8RiQM+EgEhYB8JpAjzaQgIAfs0nEUpgoAgIAi8DwEhYO9DSRzTUggIAWspmWr59RQC1vJz2KZaoBawlStXsmfPHnETDEQfEH1A9IEm7gOdOnViwYIFIg9NnAfxmfhxzgm6d+/O7NmzRX8W/bnR+0CfPn2wtLR85zn8f9V/tWvXrkRHR9d/WjwWBBqdgFrA1q9fj4aGhrgJBqIPiD4g+kAT9wH1+cDSpUtFHpo4D+Iz8eOcE/Tq1YtFixaJ/iz6c6P3gQEDBggBa3RrEAV8NAJiCuJHQykCCQKCgCDwtwmIKYh/G6EI0IwIiCmIzSgZrbwqYgpiK09wa2ueELDWllHRHkFAEGjJBISAteTsibrXJyAErD4R8bixCAgBayyyIm6jEBAC1ihYRVBBQBAQBP4SASFgfwmbeFMzJSAErJkmphVWSwhYK0xqa26SELDWnF3RNkFAEGhpBISAtbSMifq+i4AQsHfREa99TAJCwD4mTRGr0QkIAWt0xKIAQUAQEATem4AQsPdGJQ5sAQSEgLWAJLWSKgoBayWJbCvNEALWVjIt2ikICAItgYAQsJaQJVHH9yUgBOx9SYnj/i4BIWB/l6B4/yclIATsk+IWhQkCgoAg8E4CQsDeiUe82MIICAFrYQlrwdUVAtaCk9cWqy4ErC1mXbRZEBAEmisBIWDNNTOiXn+FgBCwv0JNvOevEBAC9leoifc0GQEhYE2GXhQsCAgCgsAbBISA1UMiKZHLZJRXKFFJgKRAoVRV3Vc/lKXxNOAWQc9TyJep6r35Yz9UUZoVx0P/IJ6n5lKqro/4eScBIWC18UhUyEopKiygoKDqVlQqR1HZsWsdJ1VQmJFBblEp8j/pYypZARkJUTyNTCSvUFYrSNu7KwSs7eW8RbdYCFiLTp+ovCAgCLQyAkLAqhMqlZEW7oeTpTFGRsaYmFzkopk19tbmXA1OIL246sxUleLNmTWLWavpybMMeSP2BgX5SQ+5em4ri3/8FS3fcNKVjVhcKwktBOx1IqWiSLzNz7Jv6yY2bdrEps170XN7TFJh9RcHUgUFyeHcdtLn8PaT2NyLJOst3ylIsmxeBLpjb2WFraMrviEvyCoQAmZpafkaeAP3/qv+c127diU6Orr+0+KxINDoBISANTpiUYAgIAgIAu9NQAiYGpVE/lMXzu7cxLYDZzCyssXW2hz90ztZMXk0y7V8Cc+sOjOVcp/iZX0Ra68npBQo3pvzhx+oIP/lYxx2T6Xvf35gq1MIyULA/hSjELAaRArS/A3ZvWI648aMYcyYMYydvJSjjiEkFlf35fJcEsP90F8/kd4dR7HZ5h5JDfQxVWECgZe12b9zLxp69vjcjya9QIbiLbJWU4PW/luMgLX2DLey9gkBa2UJFc0RBASBFk1ACJjav3LwP7OYsbO2YRWQSGnlSaiELDOMy7t/YbP+TZ5UC1hlsqU/maf10XqEknjbTYzrPUEI2HsyFQJWBUoqjuDKuTPoGtvgdssff39/7gSFk5Bd/GqaoSQvIj83nTvnVvJD77ENCphUnkao7SFWzv+ZbbruPM0ooQFHe8/stK7DhIC1rny2+tYIAWv1KRYNFAQEgRZEQAgYoErAZsMYBny3hLOuz8h5tbZLIi/AAivPcKKzX3/dLynKKJNVoHh1JipRUVaGrEKBComK0mJKZOq1NtUdQaqgtKiQElkFytruppIjq4wjoSwvprColHKFOkLNj5Ik+y2M7zOxQQFTyUspzM+nqKxe3Jq3t8HfQsDUSVeQ7q/NbwsW8utOLex9H5OYW4ridceq1TOUxNr9weTBk9jyxgiYgvRAYzZNGcnUjfr4xubTmGO+tSrVIu4KAWsRaRKVrCEgBKyGhPgtCAgCgkDTExACph4Byyf4wkpGdu/K4GlrOWHtx7O0IspV6pfiiUvOp7BMQlGYwrO717HQ1kD/2hMS8+QUvHyCv4sZmseNcQ8KwNfNCu1Du9i5/wzWt6JIin2Ej60uR3ZvY+cRfa4/TCavIIvYBz44GJ7mnJ0ftz1dMDuzj21bd3FUz5ng+FzKKuVNSdLlLYzvW1fAJHk2L4L9cHO2x8r4HKdP6WDm9pCkfBk1ztf0PatpaiAETP2FQjZBJtuZP6IXnTt3Z+APs1hzxIJbkZmUvPrSoCY/SuIub+fHb94UMKn0BY57ZjJo0HS2nb+M9y1fvG7c5n50OoXqP442/iMErI13gJbWfCFgLS1jor6CgCDQmgkIAVNnV6I41g/DbbMY1OFLOvYdzYJNxzFxvU98btmrkQNFfhIP7fcyY0AHRm11IuRlGbkJoVhv+5G+HYfzyyFNDM0N0Dy4msmDevPtnK2c0jPEUPcsx3YtYczAwfy4/RIhkbFE+GixYuTX9B6/ij92H2Tvll+Z+31vOncbygKNqzxJK0VFAwImlRJ/8xKGBhexdLzGNSdTDi2dxOhJKzjr/pwMWYPDHK25C9dpmxAwtYDlE//IHzd7M/SOb2f5j4Pp1m0w07dbEBBffxTr7QIme27F5ok9aD9wHttPGmFlrMmetUv5Zc1+TH0jySxt2xImBKzOn5540NwJCAFr7hkS9RMEBIG2REAIWE22K8iLCcDp3A5+mdCPr75oR7eh01l9xBy/yEyKFSApFcieXmTVyG6M3uxIyMsKlIpSHpz/heHdh7NU05H76YXIimKx3TKOnn0nslnfnWfpRZTl3Udv2XB6Td6NS+hLyjKvsmtyP/qO/p2zlwOJjIvhsdc5Vn3flQ7f/IZxQDxF0psCJhWEYrRuCat2a2J+1RsfH08s9y5geI8eTDl4lcfpjbkzYw2r5vtbCFjd3EiyHGIDL6Px8wh69p/JfocHpJXXlvS3CZiK1Gv7mTmgI/3n7cXQ/QHPnz/mlsUOZn7Tl2E/n+VWRHbdwtrYIyFgbSzhLb25QsBaegZF/QUBQaA1ERACVjebqpJ0Iu5eQf/Ar0wd1IHP2/Vm8jZLAhMLKte/KBPt2DS2N+O3qAVMvSJGQZT5Gkb1m8Ke6w9JqxwUkHPvzHy+Hb4Ybb9I8tXnu6o0rmyfQL9xG7ALTkQu80NjxmCGL9bFL6qwat2XIpWru6bQ56vR7HR+QKriTQFTPDNm9YSZrDyij723Dz4+Pni72GCsr4eFVzjJ+RV1G9TGHgkBayDhkowUfy2WjxzOomPXCMupPXL1NgFTEGG5gfE9ejDzuCthuVXvkfJD0V/9A1/3moO9x5MGCms7TwkBazu5bhUtFQLWKtIoGiEICAKthIAQMPUMxGJiI2PIyiuq3uFNQp4bR/CV0ywb2Zkvus3jrE8E6nNQZZL9GwL2wvJ3RvWfWkfAgrQWMvS72gKWgcvOifQftw6boNcC9t1PetysETAqeHRhKd91G80fTqEkNyBg8ntnWTBiEmtM7xBX58rMEp9sc8Zm3PeFgDWcHKn4HtrLZrDyyBXuZ7yPgCmJsd3KpN59mXvKnfC86lEzqQC/kwv5tsc4bJ2DGy6sjTwrBKyNJLq1NFMIWGvJpGiHICAItAYCQsCqRqdcDS7ieT+KvNrbvCky8DgwnX6dx7H72kPSlB9fwNQjYK8FrJz755YwcsQSNH0iyFM1NAJmwupRA/nuF03cI3IqNwpR90NFznOeRKaSVfjGLgutoZu+dxuEgDWMSioNQW/TRjTMbxFbfVHxqiPfNgImkR+gw9KR/Zm0056glJqRVTlBussY/f0C7D3DGy6sjTwrBKyNJLq1NFMIWGvJpGiHICAItAYCQsCqBMxp9wrWHriAV2QWpdX7dauKYnHYPpWRP27GLCiRIgmUCbZsHNuLsZscCElSn5SqpyD+xg99f3wlaSAnUHMBQ4ctQstXLVLqMtJx3jmRfmPWYh2YQHmZegriIPpOOsjVx5moI6mKnmG+cRazN5zH50UuCpQk2m1iXJ/xbHEIRj3jUSp8hNm6cfTu/i2zNp7C3MUbPx9XbC6cxdQ9jKR8IWCOjo6t4U/zL7dBWZhMZPgzYtIKkKm7g7KYpAAzjh8z4vqDl5TUXgKGkhj1NvSDJrDpUgBJtb6AUOUEY7h2Ij8sOIT9/XQql44pUrl+8BcWrD2Fz9Osv1zH1vBGIWCtIYttqA1CwNpQskVTBQFBoNkTEAJWJWDOR1by08JlbDuqjaGpBVaW5lzUPsjG1es5bHGbmBwZyuI0nl87wIz+7ekxdS9mN2NIinmEw64f6dO+L/OOWuIfn0ZSVAhGv31Pt87fsVrrCg+Sk4kL90Bj3iA69JjEDiMfolNdOTR9EN0HzWP7WXMcXZyxv3iMHX8cwcwngswyJSUZEVw/OJMB7Xsyba8JvjF5lMplvAywYP+SH+jbvQf9vh3D1Hm/sPaAKX4RGbTxjekQI2ASpc+cOLF5FSs2HULb2BKbSxZcvHARh1vPSC2qbVjFpMc+xH6PevfPXkzdeQG352kUVlqbempuKQm3DNm2bCmbT1vje/8xwV5maOw6wIVrD0gubtuyLwSs2X+8iQrWJiAErDYNcV8QEAQEgaYlIARMfaJZRGTQLW56uOBkZ42FhQUW5qYYXzTn8o1HJOaVVa4Nk4rSiPB3wEDzOCf0bPF6GE9STBh+9hc4ipxumQAAIABJREFUe/wUhg43eJiQSmLUfdwtdDl9TAszF3+eJicTG+6Po5EWJ07oYu0RSnyqKwenD2bw+DUc0bPD2dkJe1sHPIJjyCquQFJvjZ8eib+jAZrHT6Bn40FoXB6l6qEyZSFJD72xM9TkxLETaBo6cDsinSJ5naGNpu1YTVS6EDAJ2ctALuvs4fffNrDj0BkumNnhHhJDZmW/qpUYVTHpMY+4YWuA1vGT6F26zp2INApqBEz9p1GeyTNfe0wummHjeBWXy/Y4+z0mIVdcc04IWK2+JO42fwJCwJp/jkQNBQFBoO0QEALWRLmu3gWx7iYcTVSXVlSsEDB1MiXkRVkkJ8QRn5xFoazi712gW1JQkptGUkIiqbkllCuF6KspCwFrRf842kJThIC1hSyLNgoCgkBLISAErIkyVerDkemDGLroHH6RBVXb0DdRVVpTsULAWlM2m3dbhIA17/yI2tUjIASsHhBFOSXFhRQWFFDwllthUSlypepvfEBLlOfE8cg/hBc5xVULaetVo7k+lMpSCfO/RWh0NiXvOb1GWZpJ9P3bhLzIoajOBSerWykpkJUU1WVeWIxMoWasoqKshKLCWvkoLKSkXImqRXzpp6Q0M4YH6lxnF36EXEuUpT7h7u1QXmQW8Z4peGd3UpZkkJicTUFBIcVFhW/t9+rXi0rlKFUqFLISimvnRP1eWQVKFUgVMkrqxCmksERGQUo8KbnFyMS3te/MhxCwd+JplBeVBSlE+muzfGQPuv3wO9pXHpBaKKveAr9RimwzQYWAtZlUN3lDhYA1eQpEBT6EgBCwurSkohQiHtzASuswe3Ye4IyhOda2dtjZqW+2WBlroXHCmnvJecj+kgAoyYsP4YrmRhZM+g2D+4nktaB1s6qXrhz6eR4bDe+RkFezDW5dhrUfKfISCHU6w/r5k/jd6AHxlduP1T5CveA+n6Twe1w3Ps2h3TvYfcIIB89Q4nPLqJDkZMc9xt9Rn+MHdrF9vybmV/14klyErNba5XoRm8lDBXkJ93FW53ry7xiExFLnept/qZYqkt01WLZgAxdux5Dz5yl4RykSZWnh3PX1wf9JIslxz3noe4lzGvvYtf8U+qZW2Fb2ezvsbK0x1jnOSavbxGUWk//yKUGuppw9vIcdu49jeNmDkNicSimX58QTducKhicPsnv7fs6aOeMblkRK9H38PdzwC3tJXlkL6vTvINgYLwkBawyq746pKEgm4t5VzM6f5aSOOc63wkktEAL2bmrv96oQsPfjJI76+wSEgP19hiLCJyQgBKwubKk0m8TIu5xd2Icv/tGZ6fv1sXZ2xdVVfbuOs60uG+dvxvxJIvm1r51YN8w7HinJjQvEYt1IOvxrFPtuviCryc9FVeQnJpJRWla59fI7Ko8q6wFXDHWx8Iki6z12XFKoL55qsZ7vO33OuIO3iMxqAJqqmIzYMDyPzKLn5/8PHaYcwMIznJTCchRSBQWpLwi13crYrv+Hf/RZgubl27zIVI9CvqumzeE1BbnxIVhtHEWXL8ayz/c5mQ00/8NqqiL7oQsXz1vg/Tyd2htofVgcUGSHcc1EHxOnu0TnlFCU85Koe+dYOuQr/tlxMtu1zblS2e9dcb3ujJ3eFn7aakzwi0wKM+N44n2M+f3a8Y+vJrPHxI2w5AJkComKgjSi79uzfVIPPvtHbxadssEvKoPi0hxi7tije0afq6GJ5Dc0GvqhjWiFxwsBa4VJbcNNEgLWhpP/iZsuBOwTAxfF/T0CQsAa4ifn9oExdP1sABuuPiO9zoliOS+uXeVuSjZFf/lkWkmi+XIGdJrQLARMKo3jqo4xN2LTKq+r0xCROs9JHzb0p4w25pdBnZn8NgGrDl7quZPvu37GkD9ceZour1OkMsmSld90oP2Pp7gbnfv3FjDXidzYD5TEmC5nSNdJ7P8oAlZV3w9MwZuNVGQRarqLDQesuBub93oqozyA49P78mX/1diEJlFWO9XlsXi4B5CYll/Fv+wG+8b35ItvNnHlUQp1MqZ8yaXfv6NL+4lo+EWQXfO3UpFJoMF21u8341ZM7keYkvlm01r6M0LAWnoGRf1rExACVpuGuN+YBISANSZdEfujExAC1hBSOXePjOfrzwfWEzCJ8rxcctPTyZJVUH1tUCR5KaVy9ZokCUVZEYWV62Rqn7lWlyEpKCvKp6C4jCSrVQzqPPFNAVOvhyrKJ7+ojIoGFjlVllWuqFxro5KXUlRSTsWrNTUq5CWFby1fJS+hIK+gzvopVUkK9+33MuOHpWh5hxKdrZ7ap157JSEvLaNcqURRXlK9vqeqTVJFKaWyqjq8oqeSU1qQS25eEeWV73/1Cso4M5YN7vKnAibz3s2orz9n2HYPnqfXnVunSrZm9ZCOdJh2hoCYPPXKMEoLcsjKzCAjI4OM7ALKKpSVa8bKi3LJVj+fVUBphbr+ZZWvqSQlsuJCisrU65he1+/1PTW/AvILSt5oA5KcsrJylEoF5SUlyCrzrZ4+WU5Z5donCaWsmMKissr1ga9jKom3WMm3XSe/IWDqXBbm5ZJXJEPxKoc175Sq6lJYhlwhp1yuQPWqP0goSkuRKZR1RFSdl7fHq4mr/i1REmHLlhlz2W0XSlJJLRjyIE7P6kf7AfUETJKTn5dHenoWZXL1ltxAuS8HJ/bi30O34BKWUnf0VJWC3boRdO34I8dvRtaZelkeY82GWQvZZRFIYlGzH8asDe6T3BcC9kkwi0I+EQEhYJ8ItChG7IIo+kDLIiAErKF8vUXApFIiPDx5kJFLqSQhz43jga8TxmdPY+3/hECvy+gf28vOvScx840ip7RmkZKK4qRQPJ0u4+DogP0lC86vG0fHL8bVEjAFeTGBeF2/zvVrLjhYGGJg6oh/ZBYlFRIV+Qk8vuWMmeYJzP3CCfW7hoV6ndqeo+g6hZCUHs8DD2vOHdnDzn2nMPONJLukqnxJnklEgA9uVx2wNj7HmbP62PhFkFlcRMoDF44v6M+X7YaxXOMc5m6BhD0M4IaTCZqnLbkR4IaVngb7j5nj9/gxwbeuYqFzjIvesWQWq0/cVRTG3eOanS0Ojo7YmeiiY2DH7ahsqotHGd8IAiaVkBTqjN7hHWzZqoGx+wNeFpejREFurB+Wp09y3tQWJydr9M+cxykwmBtXTDi9fyc79p/CxD2M1KLyaoGRkGdFcs/XnasO1pjonuHsBRt81VP8inOIf3gTZ1MtTlt6c9fVmgvHDqBhfBU/r+s4GJ3hvNM9gm44Y3rmADt37OeUsTuPUwopr/SaagH7upaAqYqID3TF3vYyDg52mJ7XwcD2JpFZxVUSo8jm+R0v3F1dcfdwxclKH3P3p6Tll1GQHM6d65acO34RzxdpFFamoIj4IFcu14sXkVkdr34XlwoJPfcTQ0etwTQovu6o51sETCqL4obPA1Iyi15vPvMXBYyK5xgtG8kPS7XwfZFHzV9J/Wq21cdCwNpq5ltnu4WAtc68NsdWiRGw5pgVUae3EhAC1hCaagH7rAtTdulgYu+Ek5MjtqZnWLtwG5eeJlEgScgyIvA7t5xvO37FD2tOcFZbm5MHNjJzUFf6zz6GV0xO5RQrRUYoVoe3sl1DD+trHrg5GLJrZl8+/+cP1QImIUu6hcHe7Rw8Z4mzlw8edtpsnj+FOeu08YzMJj/jBXeN1jCySzu+X6uNvtFFzp3YxS8/9KTb8J85dOEihnqanDi0hblDezBg5lE8XmQjk0qI8TJB94IJ1o5XcbbTZ+fc7xkxZT0X70YREXYP83Uj6NRpFOvOW3Et4DHhIV6c//U7On/1Hcv2HWT32jmMn7yRi9438TLdzJiv/83YA2phUEJFHNcPLWbGkv0YXXbH3XoXs4aNYPGpG0Rnl1eerH+YgH1GrwXHMLb3wNvb+9XNy3YXU7p/Qbup1SNgUjnZkT7oLB3Kfz7/ljXmAcQXq6+toqI4yox1C37nmL4lpvvmMvCrXkzZtJd9+3awftl0hn79Fd1GLkfHL4bccgmpJAZvMz30ja1wcHHG3mAX80eNZMo6A25HRPLklgFrRnalw3e/sOfAbtbNncDk305hY7CLhYM60OvHjezZu58d65cxfWg3OnQbyTJtH6JzZEi8KWCKODeO/jyLJXv1sXNz59KeuYwYuYjjHpFklUvIIuzZt/0QBnbu3L7tjf3J5aw65kH4yyJy4oKx/GMCPb4cwx6vcNKVoIh3Q2PpbJbsuYCtqzuX9lbFO+YRQWad6bPVfb3sIecWDqbnlMN4Pc+qK0DVAtauywQ2nzLE1skJJ0dbzDQ38NN2C0Kjc16PulUL2Bc953LIwBaPWvny9rJjz4zefNn+zREwpEJuHJhMv4Hz0b71gnwxCFbnn5BawJYuXcrRo0fFTTBo8X2gV69eLFy4sMW3Q/w9Nv//R/3798fS0rLO/9P6D/6r/hNdu3YlOjq6/tPisSDQ6ASEgDWE+LWATd52FgMr9Q6INlic38OCSWsxD0ukQAKVUkGB7z7GduvM978b4BqWTnFpJr77J9Kty0zOBsWTrywm3OJ3xk5Yi3lgYtWmCVIRwSdn0LPdmCoBq8gnRO9nRkzcisOjVErVoxpSEc/MfmVY94Es1LpFbHYpxYHHmNKzAyN/N8YjPJuS8kKijJcx6Ks+TN9nyc3obErLc7l7bDo9u0zn5N0YcnIC0PxpFquOGnHZ3Qc/Py/Mt02hb8fuzNG6Q1xeGQ/OzqRPn/noBMeRr95ivKKIO0cm07Pjtyy/4MmDsEBu+t0nJrOAgofazO37FeP2VQuY/CGGa+axVkddRzkVWe7sGtONvosvEBxf+BcE7F90n7GbM4aXsLW1fXWz0d/IuK6f8WWNgFWmTUnGrWPMHjCQWcfciawUPhUZPifYfuoq9+NySLFfx7CuvZmw9QJXQ18QF/2AaycWMah9e4ZtvcyTtBLyArVZOncVhw3scPfxw8/Lgh3TBtC5+yxO+zwnPe8ux6b1ofO3S9F1C+Vx4C1uBkeSHmvN+uFd6T1hC3ouIbyIi+bB9ZMsHvwf2g/bgn1YKqXSmwImf2TMugVr0fJ9QWZ5BVme+5jYqx8LdQOIyVeSfXUbE35cgYbtPZIKypEl+3LVJ4LUnHKUijLCdBcxqONYdnlWCZj8sQkbFq5F80bk63i9+7Hw3F1iGtgpRpVkw9oRX9NnkT4BsVU5evVXUC1gX3Yex4Zj57FU7wBqY4nevp+YutaIwKgGBKzbVLaf1Me6Vr5sbQzYPLE7X7RrQMBQ8Pj8Yr7p9A1rrENJKm1guu6rCrW9O2oBW7RoEfv27RM3waDF94EePXowZ86cFt8O8ffY/P8f9enTRwhY2/vIbLktFgLWUO7eMgWxIgM/A1N8E9JfTduS3z/NtF69ma8bSoLaytQjHqa/0L/jRA76R5Nd9phzc/vTc7Ym9+LUa5fUPypSrFcxsGYNWEkoZ2b0ptvMMwS+OgaUCeYsH/gVnWbpEBSfT/nT88zv142ZJwOJza2KVO63nzE9hrDS4jEvS9Tlq3hZub5sAnt8oki9r82cIVNYq2WGo6cXXl5euDuYoaethbnPC7KK6wuYun4VPNaaTd8eMzl1N4bqoiprrow1ZemgTkzcXy1gqjyiArzx8fXD28MDd+dzrBrWia/naBEYW7VZw4eNgH3Ot5ucCH6RTX5+/qtbbqQxywZ/xVev1oBVVgep5Cnmq0fSf+xmLt1Pobg8EZfDO9D1fEpqqYoyj51832MoKywekFTJByqS7Fg7ojPtJhzlVlQ6D88tYPjUNZwxccDTS83IAwfzC+hom3EjMpMiWRjn5g+k54zj3IrKeX1toDJPdv3Qk6HLzQlNLKmamleRhP36kXRpN4HDfpFkKd8UMFXeCwJ9fPD188bT0x1n3d8Y0bUbs8/c4UWukuJHZmyYMowh4+az9vAF7H2DePYyH1mFOudK4ixWMbTrhFcCpsqLfiPeyK7dmXXan6jayatCRsVDHRYM/Ip+KywISaiud/VrvGUKYkWWP6aWPrxIqt6AQ318zRTEb9ZhezeS7Fr5yv//2XvvqKqu9t/3/nfPHeOc372/c8b7vnlTTGyx9x5bErux9xJ7i7FFjS2K2EVQFBUp0hUpIkVABKWIgIAKSJPee9+butv63LE3oIBYkleNwGIMxm5rP3M+3+dZa6/Pms+cq+w5FhtG0fWb1gBMSYrVBr7r9i3zzz8gsbVbEzT2pwM+iiWIHTDo7dhlsQSxHQf3E3NNLEH8xAIidufNCogA1po+rwEwBMpTU8itqqFOrkCpngf2WJdZffqy+AWAqciyrl/hUMs/iaISN34b2ZVus+shqhHAcq9veLkIR7k7u7/rSqcppwhMKW1ygu/DgfHd+WLiMQKSiqmNM2RxCwCTBRxhYu8RzQAs13YjQ7tNYr/3c7K8tZjQfzJ7XGNarOYoUL+SnrzFCJhaDzmR5+fTv88CzgWn0PT8WANTTQFMkJASaIeRgSFXbRxwvWPOju+/pdcCNYDVA+efBbB3W4SjMW4KcrwOMWPQCJbp3yMmxJw//jDF73mh5j5t9QA2ivU2LwEMeRi6s/vTedJh7sdnc//IZAZN2YVTZG7ze7sJ6qVI1HI84+LiwfSbr0tg0xUYGwDsu3VWPG4EMOSE6c1lQOeJaPnEUdgKgAmSVIIcjLloeBVre1c8zXcysVcf5uuqAUyFUJfP09tGHFo7k9ED+jNswhL2mNwnsbgaJUrSrdUANuUFgGnsOZq8tGexk4m9+zDvdQAWfo6FgzrRb43lOwMYQgXpablIq2qQK5QI6uRpBLA/uQiH+iJBxrVfGN29O3POBpDQNMEaw9qBH0UA68DBb4euiwDWDoP6ibokAtgnGhixW60rIAJYa7q8DsAatlWVERMWTV5FFTVvA7Dyexz4vjtfDNmKQ2QeNRoCU1EPYJM56JtIUVUoZ2b24Yv+a7F5ms2LRemqvNg3rjfD11vxNLsS2V8AsJxwfeYP6M34rRYEZ0qRN1R7KYqf8fR5EZLqWg2A9X9Rgqj28d0BTJnhwdElU1ik5UBYdhXyuqfoz+tPv4UfC8BAkDzh8sqRDJyyncO/rmavdRDJJfWLojeOgK2zbgJgtSGcmjmIkWtMCEsvIcJgEYP7jmPz1QekSWT10IWC4pgInheWU10X9UYAG7m2yQgYtYTozGbIyDUYP0pD8koJopLMOydYPm0RB2+EkFEppy7SgMVDBjBf94EGwKoyU8mqKCUnKQxP8xNsmNCbrkM3YPIoA4mqJYApyfQ6yc/TF/GHbTAZ0ib2zrQ+AqZIvMraEV3ovfQKwa8pQXxlFcSG1BfK43kak0Op+gZkfxnAlCRZrGNUt0GsNgshrbIhKVvbFTvgeyKAdcCgt2OXRQBrx8H9xFwTAewTC4jYnTcrIAJYa/rUNdwHbCBbbsWSV9v0BFFG4dPr6Bp6Ep8npSZMh5/69GahgboEUU1XKjKt1jCo8yQO+iZQVJeF297J9Ow0kIVHbHmYUoykPJPA0/Po9cUwNlj5E1dYwEODlYzsPoTlF+6RVKZenU9JxRN9lk+Yy4EbkeRWKZHHXGLhgO7MOh1MckNpmcxfmwm9hrHW8ilZmhNZFTma0bUJ7LsbT35hMBeWDqVrj3GsOGiIwx0/Hvh6cP3SGczvJVFYWcczgwUM6DGFQx5hRMSmUFApIVxdgqieAxXUsgTRjJVDujDp4H2eFyqpe3CUyb378tMRV56k55LyxIbt47vSZeohHLyeaEYLa5PNWDWkK1O1fOsX7mhNcqDScw9ju/2T4btuE5PX7K5SmnLMtcO+4cvpOq3cB0xG6q3dTOrfj75j1mOmnnvXsLSeBsB69mXOWX+SytRvqpA8M2Ld5JnsNH9EpkRO2aOLrBjZnZ5jlnPgkh2efg/w9bTlsq45Pgn5SGsj60sQ55wmILHJHCjNCFgv+s7WwzexVLOYhUoSjfH6Kcz8zYzgDAkKdcmgxVpGdJ/CQZ9YCpR1BJ74if79pqHlFEZqTgpPr+9kwrddmXLgBh6Ps0m5eREjz8ckl8sQlBLizNYzatAidPwSKFEqSbVUL2s/iX2e0eQp6nh4aiYD+k/j4M3Qenu2OzXzEqccsMXjcQ5VNc2X9Bcq/Dg2oz89ZpzkfnzxyxFXdVzqgjg9qz9f9l/PtfAMmk3PkhUR5XABY/coMtQCV93l4KRe/HvYdpwisqlrGldlBjabRtP1qykcb3ofMM02dYSfW8CQvtM5cieGQnEZxKbKIQJYMznEF21cARHA2ngA21D3RQBrQ8ESuwoigDXPAqEyj4Sn3pxa0IfP/utzftiuj5m9My4uLri43MLB2oB9S+ex0+YxKRmpPDZdx9BOnzNysymeUbnkpUbhemAy3f7Vh0W6ToRlS8l/cgPtFT8wZOgEFv5yAJ1LxhhsnUTvniNYfPQagSkSKtIDMd27lFkLf+XIRSscnR2x1NnPPr1bPM6RUFOeReT1bYzp/BmD11zG9XEOhVnPCbn4MwO/6syPuy3wiSvQtO/2x1S+/aw380858CizkOdeF9kxezg9u/dhyJgpzF2yhi1HbAhOL6NWpSL/jjZzhg1m4roD6Fp5ERzuj8mmUXzz2UCWn7XXjJzVKtTrguQQ47SHCd3/RZ9FejiF5VARa8/e2cPoP3YhWw6fw9jyMjun96XLkPnsM/AgJj2JiIbv9Fush+OjLCrrWix7p5KSlxiJh/Ysev/rf/H11AOY3X5CZnktcpWM0sznhFpv4/tu/4f/6rsM3es+xOVVUtfkxF1V/JBT80YwYasloZnSF1BRD2DdGLHqCFduuHLbzZGrx3ey46gNgallmlUqhZo07hvuYt6IXnzbezBjJs9hyepf0bZ6SEp+DqmPLfl1bFf+PWAZZ24EkSGprV85UANgPek+YiXahjdwve2G49UT7NpxFOsHqZTWKqnMi8V532R6fNaXhTpqLcuIdTjAvBEDGLNgM4fOGmFxeTczB3RjyNzfOX87iiiz31ixYRfHjB3w8LmHq8Fefj1ojl9KEcU5sTjvn0LPf/dh/il7QrLLiXM8yPyRAxgzv8Ge4W5mDqy3p+8WTZG0OcyiKsDr0AwG/LAN28eNN1sWqCpIJvKeHsuHdOL/+/dYfjllxA1ndd674HLLAZtLf7By0U7MHyaQmZ1M1J1jzB/wBf/VaTJ7jFwIzyijRq5CVpZFQtg1dk7qyT//qw+LT1lxNzYXiTqJ1H+qfG7tnMDImX9wKyqvedln892xQ74SAaxDhr3dOi0CWLsN7SfnmAhgn1xIxA69SQERwJqro4aMuNA7WJ0/ifahQ5w0MMP6uh129vbY29libazPyRMm3E0soqwwlXA3U84c0+a0qQsPYnPITnqKj40+J48c46LdPaKy1aBQQ26EF9cv6XDs6AnOmbni72HDlavXuOUbRWZZLQpBhTQjHM9rRhiaWHL9hi32rgHE5UmRqUBZls5TTwvOntDmpJETvs+yyU+PIejWFXSOHUHPwo2g5/nkJD3Bx+a8pn2D695EZkmpqysjOcgViwsnOaJ9HF2jmwQll1DdcCdpZfEz7lgZcEbPCJewJJJjQnAz1eX44aNcuOZJeHoFNQpQVWQR5W2N/skjHLtox72oHM2qj7He17ikcxIdAxvuRiXx2N2cixeMuPUondLCTJ5522i+c/ziDbwjMl+eiDdKr6ogOz6cO1bnOaV9kMO6pjh5PyatVH0z6jpK1H46m6B7/DAHj13Axs2f6Gz1DaMbDairJpOx2LmF8x5R5DUZtqkvQRzE9J06XLnhxE2H69jYeRKeVqbxqdGCsjyFEDdLDE4dRfu4LkaOD0kqrkZeW0xy2G3M9E6gffQCNh5hpJXXNAGw3gyetoPTV2y5edOB6zZ2eIanUVqt0NzMWpoTzb1r5zmlzgfbuzzNkFBVEMc928ucOamDgbUXEYmP8bC8zAUjJ0JSSyiI9MbWzBBDS3uc3T1wcfYgOKGASpkSSfazJva8iciSUFXY1N6dentWans3CU4tpaYF76pHAYsenmXZxCWccI8mXzN0JVCZ95xw72tcPH2UQ4dOcN7Ukmt2dtjb22tWQjQ5f4qTxp7E5JZRmvOcJ3etMTh9hEOHz2Di6EV4agnVMhV1JRnEhrhw9ewJDh88ynkrF3yfZVGhTiL1Ap+lvhxbNIO1uh7EF9XfqqAxDuIj4giYmATtSgERwNpVOD9pZ0QA+6TDI3aupQIigLVURHzd9hQQqEm4wZHDljxILNKMajX6UA9gLRbhaPzwP31sdRGO/9Tox/m+UJ2Ey5EN/KrrSkSuenGPj/UnI+fuKTZvOY1DeDbSj9fwx3LwP25HHAH7jyUUDXxCCogA9gkFo513RQSwdh7g9uaeCGDtLaIdxR+B2qwwPBxvYHfTAZPDuznpEE5GefP5TlUeexnXawRrLB+/WIb+vSlU5cne8b0YscaC8IzKhsU73pv1D2xIQJroyZUzZ7FQ39C5Uv4R+i9QnR2K/XkdjD0iyZE0j9UHdrjNmBcBrM2ESuzoOyggAtg7iCRu8l4UEAHsvcgoGvlYCogA9rGUFtt5vwoIVAQbsGbKd4yaNI/V+64SkFLSsMqkuiUF5dlx+OsuYXCXb5n0uxleMUVUqes538OfoiKbeH9dlg7pwreTdnP1TjSFVbKG+7y9hwY+igkZBZE+ON9yx09dItispvN9d0CgujCZp74uOPtEklla08a0et96vN5eRwYwQSlDJlegUjUsfCQoUaoab5nxes0+yieqGkrSnxHyJIH8spqPcMHio3j1wRsRAaxRYgF5ZTHZyfHExaeQW1atmV7Q+GnjoyCTUpSVRFxMHEnZxa/OmabBTsqb7TTa60iPIoB1pGi3A19FAGsHQeygLsiyH+F09SIXjO0JSCiiqnGNfY0eCsoynuHvYMS50yfQt3DhQVwBlXXvCcDKMnjm74DRudOc0LdfwMX1AAAgAElEQVTA5UEs+ZXq1Svb2p8SSWYsz5JyX8zR+jAeCFTlJRCTkEVp1ccYbfswXnwMqx0NwITaElIj/HB1sMPOzgEnF1fc3Nzx8gsh9L4XgbG5FNc0XYn2Y0ShRRuKCrKjPDDct4pZv1zANyb/I5bttuhLG3spApg6YArKkgJxNDjIltVLWbJ0NVsPXcTpUSol9femUc+Opa4glgBXO2xvOOLi5orTdSts3UNIKKiqn3essfMQR4NDbF297IWdmyEpFL+w08YS5D12VwSw9yimaOrDKyAC2IfXWGxBVEBUQFTgXRXoSACmKEsk4LoeB/fuR+vUBYwtbXG4eRNHRztsTM+xf/lstlwJILbob760oSgj/ckN9kzry1fjd+EUli0C2DsmtAhgIJTH4H5Fmx2//Mq27dvYsPAH+nfryaglJ3COzK2/3YeqiDBrbXbuPsFV9yckpiUT5WXA75t2cu7WU3KqhVftLPqB/t17MnLx8Zd23jEu7XEzEcDaY1TbsU8igLXj4IquiQqICrQ5BToKgAmyXB5Z7WPeD1NYe9yOsCxJk5IsJdKMICx2zmW93l0icj+B1VqUadhun0DfySKA/ZmdSgQwgfInzlha2eP5JJOySimFCb4Ybp5Ary5j2GoeSHqNgCAN4vzq6Sw/aMejnIYlfmvDuLRuFqsPOxKWp6D86Us7pRo7fhj+OlFjZ4vZA42dPxOb9ratCGDtLaLt3B8RwNp5gEX3RAVEBdqUAh0DwATKIyzYOrEXfWdo4xRR0Mr94ATKn1piejOM5zlN7mUnKKmrkiCprEGmbGVkTJBTU1uHQqEC9fOqamplihflwYK8mkppNXVyZbN5XCpZLbVyJUqNfSmV1TIUjXPR1BmkzMT+t4n0m9IKgKnk1EgrqKisRa6sL5dU1VVSXlpMYWEhhYVFlFXWUVctpbykiMLCYsqr1PbbVGr+pc6KACZQlhRPcm4RkhfXEZTkuPzBrEHDWHz2DjEVAkKFP7rLxjN29gGuPcqhSgHyfC9OrJjPr3oeRBeryxhftZPreojZg4exSM9TY+cvBamdfEkEsHYSyI7ihghgHSXSop+iAqICbUGBDgFgQjlBeksZ9lUnphy5TVRh05v6NYmSLJvk1ELKperPFUgynhLg7YmHuxu3bC0ws3bCLzoXiXpup0JCTlwId2wN0bf25nHoA3wcrnDmqDanLjkSlJxNenQAt0x1Oap1BD1zL57lViApSSMqwBWri8Y4BQZz3/MGl05qcfCoHmYeT8goq62HtwYA698UwAQ5pSlPCPTx4JadFUYGBhjb+vAsu4LK4jSe3LFAT3sfu7UMcAlPpyA7gtum+pw3cSQwsZjKDrAQqAhgTfL5xVOBsrvHWThhDr9ZBZFRK4Aim/v6a/l+wFCmb9Lj1oMgvCxP8vvvZ7ALTqW81V1EoMz7JIsmzmGH5cN6Oy/a6HhPRADreDFv0x6LANamwyd2XlRAVKCdKdAhAEwejdGa7/jmv/qxwSqYtJq3BVGgLi+U6zqHOKxnjJ27F+52BuxZMZdFm3W49TQHaXUJqY+s2D29P51Hr+HYuStcNTjFvlUTGdR3FIv36WNkYsi5k1r8tmgcA4fOZL/dYxJSYvA+t4ax3/ZjyqY9HNDax5ZVsxjVqws9R//MGY8YCtQLHLwCYALVGYHYmxphbK6+EbstV/5YzuQffmLThbvEpmWQEGjNgfmD+err79hi/pCY0Gtobd7CHwbOPM6soPbFiMjb/G+7n4sA1krsBAlPjLexfMNRrodm188BQ0CSfB/j3TMZ3HMAY6fOZsnWE1jej6eo+jWJIkh4arKDnzcc4VpoVoOdVtrrIG+JANZBAt1e3BQBrL1EUvRDVEBUoD0o0CEArO4Bp+YO5t//z3B+cwonq9Wr+02iKUiIst7O9BlbMPFNqi/lEipJsN/NtMFDmXvUhej8ahRVj7m44jt6jlqBrkMYuRU1SJKvs2NCL/pP2s6l29HkSWooDbvIqlF9mHbAhfCsGgpc9jO1fz/GbzzDjYexJCU+wf3sGsZ0+5oRm80JTq9EaAlg6pNfs22s3HiQC9c88A0I4J6tFktG96TXjCO4RuYjF6pI9T7LqjGDGL/yAEe1j3LWyofo3KoOs4iHCGBN8ljzVKA2249L+3dx3NKPpLImw6CqCmKcTrJ53mi+/fwrek9Yh456AQ5JayvH1tu5fGAXxy18SWxqp2WTHeS1CGAdJNDtxU0RwNpLJEU/RAVEBdqDAh0CwGRhnF86nK/+50B+uR5Cet1bIid7hvHaMfT/6RDuES+XgFdmObBrUm+6TTuKx7NClIoELH8Zz4Cf/uD207z60kFZEHoLR/DdsvP4Pi/XzPtS5d5iz+QBTNxmR2iGjFrfE8we+h3LLvqSIKmfw6XIdmbf9L58/cM+XJ7komwJYIo4zDdNYfaaw1y87sGdO3e44+GAxeXznDV1JzKrDPWptVCTwX39NYwf2ItBs4/g/CSnQ41UiADWPLeF6iyCr5/lpIEjQSllyBrvsCDIKYxy44rOaS6ZWWJ4bBNTBnxL/4mbuOidQHFd44b19tR2QmzPccrAgYfJpS/tNG+uQ70SAaxDhbvtOysCWNuPoeiBqICoQPtRoEMAmCoX9z9m0O9fnZh+3IPootcPgQmCAJX3ODZrEN1+2I/L07yGeyIBtQ/QmT+ULmN3c+txNgpFItabv2fgjKYA9gj9JSMZ3RTAClzYN2UgE7fY8ugFgI1m+WW/FwCGPILLq76jxw+7uBmejaIlgMmCObt4DNN+teBhanWzBT00fX6RkgpyvXVZP6EnXcesR/9OAiUtTqZfbNoOn4gA1iSo8lIS/O0wumLL/ehcKptUFgqV8dw8tJJV+83wTZJSW/Kcuxc3M7FPbyb8ZklIRvVLQ2o7AfYYX7HlXnQO0iZ2Xm7U8Z6JANbxYt6mPRYBrE2HT+y8qICoQDtToEMAGApyfE6xdNjXfDv1IHaP86huZUVAZUUG8ck5lBaHamCoa7+lXLyfQEXjttUBnJ4/klFL9bn3vAzVfwRg37HsUhMAq1OXM45l9DI9fOJKUbUEMHkMVzeMZ/DYtRh4Paes8SbvijISYpPIL5GiXmdRVvAUN9PLXNTZwdyxI5i4Th/P+OJWVn1sZ4nc4I4IYA1CKCtIe+SO9dXr3I3IpFwz9CUgr6lBKZejTHdk76yprNa5zbPS+gSXFz3G6JcfGblAm9tPCuoNqe2Equ1cw+tpBmUt7LTPLHo3r0QAezedxK0+EQVEAPtEAiF2Q1RAVEBUAOgYAAaCJB6306sZO2AU83+/jHtEFuW1ivqRJEGONCeeR95uuAfFk1dexBPzrUzqP5SFx28RWVCDChXSGDO2zl3Ab1f8SVYvE6cuQdw0nv7TD+D2NK9+npUshHOL6yHtfnxDCWK+M/umDODHX68Rkl5HjboEccgAph9xI6pQXTioQhpvzW9z57DlgjcJJXJQpnNjxwT6TdqJY2gWCqGCx1c3M6FPL75b9DvnbT3xCwzg7k1Tzpt7EpVRhqIqkyD7y1y+7ktsRhIBV35h4vAfWX3mNrGFah/a/58IYOpbGFSQFmSPvrY2Z63cCXgSQ2xsDFFhfri6PyAtqwRVjgdHFk5liZY9YXkNt10Qyrl3aiVLd5zHJ7YMlBKNnfPa2uhZ3m5mx01tJ7Ok/SfUGzwUAewN4ogffXoKiAD26cVE7JGogKhAx1WgowAYCNRkh+J49jd+XriUNVsPomNghIWNLQ5OTjg5OuDo8YikQqlmLpUs9xHWh1czb9EmDupb4ujqzDV9LQ6cvoZ/UjG1Cil5cc4cnNGfrwcu4ZRtEJkF2SQ/NefX73vSfexmDFwjyc1LJ87nNEuGdab3Twcw90ulwOMIs4f0ZMji/RjYuuHp4YzVmb3sPGzC3dgCqpXVFCZ6cnTeIDr1ncNhS3/SyquRZgRwdf9iRvfpQe9Bo5k8ZzGrfvkDE59YcnJTCXM8xuqfd2HkHUeJTEVJuCHrx3bj6wHz2Gd0h2d5EhoHztprxnd4ABMqSQ+y4dDCMQwdNZ4pcxaxZMkSlixZxPwZU5i7+yoP40tBlk2A8R7Wb9jHebsAohISiQ3z4NLhP9B3CCK1rJz0oGv1dkaOZ3JLO7tMCVTb6cB/IoB14OC3RddFAGuLURP7LCogKtBeFeg4AFYfQYUkiyi/W5hf1OP06TOcMzDExPwazv7RZJfXNlktUEVl1lO8bY25ZGiKhbUNtk73iEgvpUY9B0ZZTlaUN9bnjnPoyAWueYaRmp1G3CMXjM8c5dDJKzjcjyIzM5FIX1sMTh1GS9cM15Bkct21mT10KBM2aHHe2h77GzZYXncjKKGASrkAQiW5sfe5fv4EWlpnsXALIbmkCrmgpCItDA+rC5zQOsjhEwZcuxdDrkSGojSJAPvL6F204X50PpVyJRXpQdw0PIXW/sOcs/TkcWZ5fd/bazIDIoBVkKjOt+MH2LNnT/P/vYcx8ogiU1NTK1Bb8Iy7tiYYmdpw87Yn7s522LsH8zxPikJVQaKfLRdfayeywU47Tqa3uCYC2FsEEj/+tBQQAezTiofYG1EBUYGOrUBHA7BPIdr1qyC2WITjU+hYO+hDhwewPxtDZQ3lBZmkJCWTWVhBrbwjFKr+WZFa314EsNZ1Ed/9RBUQAewTDYzYLVEBUYEOqYAIYB8/7NX3jjFr6CiWGvjyvKL5ct8fvzftq0URwNpXPD9lb0QA+5SjI/btFQVEAHtFEvENUQFRAVGBv00BEcA+pvRKJHlJBF9az/jePflh6yVcI/KR1onrer+vKIgA9r6UFO28TQERwN6mkPj5J6WACGCfVDjEzogKiAp0cAVEAPuYCaCgPDOGB45GnD1xBB1je3wisynXTCr7mP1ov22JANZ+Y/upeSYC2KcWEbE/b1RABLA3yiN+KCogKiAq8FEVEAHso8otNvaBFRAB7AMLLJp/oYAIYC+kEJ+0BQVEAGsLURL7KCogKtBRFBABrKNEumP4KQJYx4jzp+ClCGCfQhTEPryzAiKAvbNU4oaiAqICogIfXAERwD64xGIDH1EBEcA+otgdvCkRwDp4ArQ190UAa2sRE/srKiAq0J4VEAGsPUe34/kmAljHi/nf5fFfBrADBw5w7tw58V/U4KPmwOeff87u3bs/aptinov7uZgDYg6IOdB6DvTs2ZONGzeKx2TxXKBd5ED//v1ZtWpVu/BFPGa1fsz6VHQZOnQo1tbWb+S//6vlp927d2fNmjXs2rVL/Bc1+Kg58I9//IMVK1Z81DbFPBf3czEHxBwQc6D1HPjmm2+YN2+eeEwWzwXaRQ6oz29nzJjRLnwRj1mtH7M+FV169+791wAsKSmpJZeJr0UFPrgCYgniB5dYbEBUQFRAVOCdFRBLEN9ZKnHDNqCAWILYBoLUTrr4l0sQRQBrJxnQxtwQAayNBUzsrqiAqEC7VkAEsHYd3g7nnAhgHS7kf5vDIoD9bdKLDf8VBUQA+yuqid8RFRAVEBX4MAqIAPZhdBWt/j0KiAD29+jeEVsVAawjRr0N+ywCWBsOnth1UQFRgXangAhg7S6kHdohEcA6dPg/qvMigH1UucXG/lMFRAD7TxUUvy8qICogKvD+FBAB7P1pKVr6+xUQAezvj0FH6YEIYB0l0u3ETxHA2kkgRTdEBUQF2oUCIoC1izCKTjQoIAKYmAofSwERwD6W0mI770UBEcDei4yiEVEBUQFRgfeigAhg70VG0cgnooAIYJ9IIDpAN0QA6wBBbk8uigDWnqIp+iIqICrQ1hUQAaytR1Dsf1MFRABrqob4/EMq0L4BTFBQW1VJpVSKVCqlWqZEEN4gpyDXbK/eViqtpEamevP2GlNKqotSiAyOJENai0LznkBtXgzBQc/IrKhD8aY239Ad8aNXFWhPAKasq6Gqsj4363Pu1edVtXJUb0zaVzVq/o5AXVkmMaGRpJZVIWtDuSjUFhAXGkJUeinV8nfpuIqa4nSePYok7c/4KihRKoV32NcblRWQlWcRGxZJamkVde/StcavttVHoZaC5+E8ikqlpEpG23dZRXVxDvllUqSVVS9+I1rfD6uokSlRvc7pN+WPUEVRTj7lVXUo22rs39JvEcDeIpD4cZtS4O8FMAFFi/MC9TmAsunBR1lNaW46SQlJZBZWUPuaE0xBUUdNVaXm3FdzXKuqRa5Uvf3YraqhNK+AUmk18iaRE+SVFJeUU1XT9N0mG7x4qqJOWkxOWhKpuaVU1alefNL8iYCiqpTctCQSktLJL69B/rpNEVBUllBSXsWrzSupLssjPSWVnJJK6lo90KqoKi6kuKKS+u4I1JTkU1gqofo1+jXv64d51b4BTFlORnQIt831OX38GOduPiW/8nUnDwLViXe5qn+KY2dMuHX/Ec8L1An7JuEVlGU8xuXcdhZP38G1xAIqNT/SKjJd/2DJgt3YRBVQ+UYbb7IvftZSgfYDYALS3AQi/B0w0jvF8TOGWN9w5JazM87OztxycsDGSJ+LTo/Jq6h7+0GzpVCa10oqsiLxMNzLytlbMX2aSVkbykVVtifHVy9ll9kjMsrrL2206qbmTQXlWRG4X/qdFbO2YRaRQdlrD+bNrcgyg/AOTqZQ8rpjQ9Pt1ZpGccdoP6vnbME4PI2SNqRpU0/+1HNVDl6n17N8pzEPU0ub/TD/KTufwsZCLYXPw3jgF0BUehap8VE8uGnKeZ3j6Fyy4LqDk2Yf1OyHjtcwuXAJx5B0imtaJzBZ9iPuhySSV9ZK/ggSMiMC8fEOJDa3gtp2mCsigH0KSS324X0p8HcCmFCVwgNHE/SOHUFbWxvto7pY+8aRW1n/YyZU5xDpZYO+1m9sWreeLfv1uPEgkcKqFgcWoYrUQEdM9Y5xRG1H+yi61veJy63kTT+LQl0xKRHB+Ac8JblQqrlgK8il5CeG4XX9PMcv3SI8qeQ1NgTqStOJCPDglpMTLu7ehMTlUF7TWosKytNCcTM5zu5Nq1m5ehO7T5jgFp5OabPtBeSV+SSG3+X6heNccgojsbiJPUFOcbw/Lna22FqZYGR2i4DYvFfOuZXlCfi53eFhTBYSjVQClTmxhPr5EBCVTnHV284v3ld2NbfTzgFMQk58KDe2jeHL//d/8L8GbcEhpohm8W3UQygl6OQMuv+f/8H/6LuKK7eDSCqufQORq78opzDej8srB/LZ/57CmchsKjS5oSIv0IJTx424m1xKTYt9o7HJv/VRqCArq5g62d+TeH/V9/YEYFWFKUT7nmZ+n3/xX51/Yv95M+xu3uSm+t/BFrPTG5iz3ZLozIrXHPDepqKC4sQATDaMotM/vueQfxLFf3cuChJysoupqX173qkKQrh+9hRXPGIpkL5teznFiYGYbvqOb/41Ae2ABJoep1+rlFBFtOk6pi89iVt0Aa85x27ydQUlSYFc/WU03/xzPAd84il4W9eafLvNPlUVEHrjPDpXbvMsV9Iw0t8WvVFQGn8XGyNTHPyfU1RZQVF6LP5nf2ZYp//m68k70DGyrd8Hb97E4YY5upsXssMkhITWEkqoIs7yV+YsP4rjk1yqm5wbNKqjLEvA97oB+lc9iciWtKlR6EYf3vQoAtib1BE/a2sK/H0ApqAw+CoHVk5n7KiRjBw5klHjFnLwxiPSpCoQqsgMdcH0jDaHD/3B7o1z+a5XD4YvPYVbdGGzSgxFYQhmB1YxfewojZ2Ro8ax4KAtIWnS159LKMtJCnDE/Kot3lHZVGjKZQRkZRlE+Vxi86TefPP9TmyDM1sZzVdRmR2Bu8lJ/jighZ6lG0Fx2ZTVyFttT6iI547JEbatX8/GjRtYMXsMfbr2ZPTy07g9y3/5OyzIKMuMwufyFqb0+YbxO67zMPPlD64giePm4fVs2G+I053rHFm3nK1nnIkqqHuZdopSYr3MuWjqTEhK2cuLh8oKUoNvYWJggnNwEiW1rRy8X1r5IM/aN4BpJBMotV/PmMHd+a//2Z2Fl0PIkSpeGVGQZ7mxf+EIOv/P/5v/PcOA6FzpK9u0HgElzy/OpfsXP6H7AsDqt/yPKsdab+w9vStQk+7GBTN/ckqq39HP99T0f2im/QBYgxAyf7R+6Ma/Bm/DNS6/2UGU2nhu3gwgu/gNB8236qkk3WI1AztPRutvBzCB2gxPDC19Sct/x/3rT+1ESpJMVzC4yzSOvCOAqUqC0Fs0mC/+NZhNVuFkv9NwtZIMq3UM6zqZPzoKgGnyTGhTx4rWdg1lSSTXtbZzyDKApJKXI1ayoNPM6v8lAzZcJzyjppmftYm3cXuQRk4rQ6qq0kdcWDmSrz8byDrTINLqL6++0rQ8L5BLv+/gqE0gqeUv231lwzb4hghgbTBoYpdfq8DfBWBCdRJuF3U4d8UcR8+73L17F2+/JyQXNly0URURHfiA8NhMKmRKZEWRWO6YRO+BCznjGf2y4kOoJun2Rc6cu4K5o6fGzl1vP54kFyJ57RwEJWWxzpzZp4WReyR5L65ECtRJSijO8ePc6rH0mdAagAnICp/hcmYzi5dt56xLBLmVLyHpVaEFKiKcsTC/jltoOiVSCQXxPhhs/JEeXcayzSKQ9Mb2hTokpcXk+J9n7fi+/NgCwGQxlmybOoMNF72Il+TgpjWPycu0ufW4sB781CNkz9wxvWiGW1gqrxTSKIoIszrKPm0jPKILqW29yOFVF97TOx0AwEB6ayuLf93Kj13+QacftbiTXNr8RFeoIvbqVjbsWc13//xvPp9jSGxeZbMfYUFeg6S8jIpqWYs5OUqSrszn21cATEBRU0PdKzW3KmTVEiSVNciVrURbkFGjvmqgEhAUtVRK1XWxr9btvuhPlUyzbbN8eKMNFVW5EThpzWLsmisExWRQViVrXmPczNin9aL9AdhDjk7szmctAUyQUVFeRl5uAbUyeUMuCshrapGp86FhfuNr56aoP6+UIK2uJdN6HYO7THkFwARlHVUSCVV1ilbnt6hzrNG++nlVdR2KF7XoAvLqSiprWs8dlbwaaUX9vMv6r6iozn+G67EF/LjGgPtPUymtrGvIOwF5bb1fSlk11XUva94FRQ01dUpUTS9OCXJqpOWUV1S12L+UpJqvZkjX6e8IYHKy3Y+wefVM+n32GX2XXCIgteL1oztNNM26vonh3ae8CmAqOdVSte6v6qLWsFYzl0hAUVv1Wu1AQFlXhURSRa381X2/fo9U26hEIqmkVvHqNuq2pBXlVKjnHr2IWcM35bX1/VDKqKmuaz4voMFHSWVtk1g3HAPUn9XUoVS+DIbQYEspqOcuvN0nqcYnZbNjq8a6ev5trazetjq+VdXUKV5up/ansrIG2SvHU3XuSKkor3htHjf0HtQnJk77mLdgH9dDM2io6tF8LHuky9yBXzGwBYAJcgkV5XnkFlZT98rJi5wcr1PsWDeL/l98Tp8FZ/FJeF15Zi0JVluY9/MhrodmvVIi86KPbfCJCGBtMGhil1+rwN8DYEqKQi6zZcVadh43xT0kntyK2uYjTaoaqmtkyF/MWaoj7NI6fpq7FZOAlIbpL6AsesTlrStYu/M4pu4hxL9D6bNQm8adk6tZvsuQu3HlzdtVK6VMwW7XVIZObQXAFEU8ubaHOeOmsdnAm8TSt80REyhNiCExu4CKF5ymINvlILMGDWWRricx5c3PjZUp9vz+0zCmtACwmsBz/DxuKuuN75FYXYr3yUWMmbkdm8B01MMssoII3IwvYuH+mIzXXByrS72F1prV/H7Zm4RXCO21afJePugwAPazrjNG60fT+d+D2HAtksLql7VYQkkgOht2YOZygpld/sUXTQFMJSU99A7Ot9y47eaEjakJNrcfkyVtnFStJFkNYF82joApkGTHEOxlj4n+NQLzKl5QtbIihRBvT+76+uF/1xm7G864e3njc8+PiJRMEp48wP36FS6r61yf+uFqcZ5Tx3QwvBlChqShvab9cW3sTziZ0joUsjLSowJftXFcB0PHENIltShq83hy6xjzev+Tz8f+ir6pLT5ReW+YKPle8uy9GekoACbUJOJzL5Ki8moEQUZ5xjMeet7AyPAmj+Kf4H/bCoPTx9G57EBQalmTMleBqpwo/D3dcLvtistNB8x2TqHr5xNfApiigvQnAdzz8cbLwxV7G2vsPUNJKalBvdaFoiKb2BAv7E0uYv/wOVFBPjianOPU6fNYeEaSU5RFtN8tzPRPcVzHEIeHKZTV1B9JBVkJSeGB3L/rhqONKYZG1rgEJ1Nclk2E22mWDPyCL0evR+fKNbyfppGZEEnQHTuMDR15EH4fJ4vznDFwICg2logQbxyvXuCafwbFVeoDsorKzMf4uDnj5uaK0zUzTG1ceaT2X9O8kjSLdwcwoeY5Nnu2cfamLYcXDuOb7tM4fuc5xa+sqiFQnfuMgDu3Ne1qNN01je5fTnwJYIKMkuTHPPS9i5vjNUwNjbB2UZcxV1GtXgQl+A52xle4GRzD4wAPbC7qcELnEnYPkiipfvErhEKSQUTgfXy8vfBwdeCajT0eIUkUVzdCOCjK04gI8ue+jxe3Hawws3LCLzYfqUwFqkqynt7jtosbbq63uG52FRuXEFJKq6guzyImWB3XKzj4h3LvlhUGugbYB6VRWiOjPD2CIP/7+HjdxsHKDCsnP2LzpMjkUvKeh+Fz0wyDa36kFEqpUy9CEuyFnckVHIOiCQ/w5NqlMxqfbgQkNqupf9UnO9xDEimqkiMo6svEvR1NuWz3gJiIYO47XUX/9Gn0zdx5kllAZswDXCzOc/qEDpftAkgortJAsqoyi4j7t3Fxc8X11nXMr9pocq3kNfX8QuVTDFeNZvxGU4JTm4/Atg5gArUp/vhH5lIobX5CoD6gqffRGwd3cdbOGu1lo+n27RQOu0RT8JrLqLIYI1aN/ZE1Br4kf+Qf+vd2AG7FkAhgrYgivoNkPUYAACAASURBVNVmFfhbAExVSujVXcwb1ZMu3foycuoK9l5wIjStpMlve3NJVZVJuOjt49AlZyJyGiuZVJSGmbF7/ih6dulG35FTWbHnAk6PUil57VwYgaoYa3ZMn8QqXQ+elb68wPaiRWUq9r9PY9i0lgAmUJvqhvaCYQz+aReXnPwICXlIUFgM6cWVqH+S3u1PoNznJIsnzGa7egSsxTFUmerI3p+GM7UFgMnjr7Hzp+ms0/ckpiyDW3/MZfKyI9x6UoiyLo/Ht65w0fIOEVnSV6GysWPyRGx3z2bqsiPcfFr4skSx8fMP+NhxAEwviGdeOszt/RndZp8jMFOiOdlUz+PKdNnP+sPORD+9zJIenzUDMEWqG1qLfmKZlikObs4Yb53EwNFrMQrLpX5aSksAk1H43I8rG0fx9T8mc/pJFuXqJFSV8NhyDyvXHcLU1Y9ALwv2LfyRMd/PY/NhPRyDnxHkeoZlg76k08SdXDivx6lDO1k7qQ+dBy3lwsNsJHIBRdptDi/+iWWHTLB3VfdnMoPGrOXKoxwqpLk8u6PLcrWNCa3YCMyivCKTCN8rrB38BZ2+34ahtXrSYgHV776nfMB0fLvp9gpg//x2NtrGtrh53uGOGoqu7GLFvhvEZ0sQhBryYu6iv2o433z9I9v0zqKnc5hd66bQv+sgFun5ktqwAICiOBJHnb3s1tbH3NEFJ+vz7JrZl3/+9/j6OWCKOnKCLTi6T4uzV+1x83DG4tRm5s9Ywm4jX5LLaqkpjMfPcANjun7J99svceXKJXQObmXByB70GLcOHTMLjM+f4NDvG/lpcA+GLNTBJ6WEOqGaND9rLl8ywvy6PTcszrJt5hjGzv0dK/9QHt4zYdOob+g87hf0zW/iH51K4mMvDNaNosvX49igrcXudTMYN2Ezxl73cDfexg/f/psJh/1JKFKCIgOvU6uYu2w/l64542y6kxkjxrFK35/UUnVZ158BMIHyMAO27zLGNyGXWLstjOv6DWN2OxKVX9Osbl1R/Awn3f38fvgsVx2ccbK5wO5ZA/jsf49rmAMmUJ3uz7UrlzEyu4adrQXndsxm7Lg57LIMITEhEp8La/mua2e+//U0unpn0N69nmkDuzN4wSm8Eos1I/JCXS6PrE9wQEsPkxuueDhbcnrLQmYu2cll7wSKa5QI1Rk8sNTlhN4VrG95cNvmIAtGf8fUbeY8yqygNsObM2vns3yfAda3nLm6exajxq1E714iWRkx3L+8kbHdOzN2zUEO/r6BWd9P4BfjYGKj/LDUO4HeFWtuedzG5uACxnw3lW3mj8gszicpyJzfJvXkix//wDsmn6qCOO5dXM+Y7p35/peTnFH79Pt6pg36lsHzT+L5vKjBpzxCr53iDy1djG1dcXe2RGfrImYt+Y1LXvEUleeT8MCELT/0pNO4zZy7ZIjhGS22LRpN715jWHXMGDMTA05p7WHTzOH0HjKPY7fjKKiVk+mjx/oFy9l73gonZzN+nzOa8SvOcDehvu2WR5PaqMv8PLwPP2l7EVv4EnrV29UD2Jd0n7aXC1YueN65owFg431rOWD9mKSSlmcSAhVPjPh97xXuRmcSd3Mnk3p25rvt1wnLrmqWP439ECq80Zo2gKFLDAhJKm98u80/igDW5kMoOtBEgb8FwJSlJIZ44WB6nhN7N7JgfF+69hjFYm17HmdLm1VlCHVlZMc/wt1kD8vnr+Ww5QPSKhrLmpWUJj7Cy8GU8yf3snHBePp27cGoRYexD89qOGdt4qzmaR1x1tuYPGQyO68Hk9XaANZrAayOxBu7mdanE0OW7EfXxBoT3QNsWb+J3WfsCEotfTEA0bLVZq8FKRFXf2P5usNYh2Siud7aZIPXAZhQ9Ry309vYsv88Vg6mHP5lLbsuePAsv4LsUEcML9lwNyoHaU0FeanPiYlPo0DSYmRRkBKov4KxI2ZzxOkpRc1/Gpr04v0/7UAAFkx6fhzX1g/jiy/HsM8tQTPpTqiKxmTrL5z3TaU4xZzlLQCs7tFZFk9Zx8XQHCrkcgpdtzOsUx/WXIunoFp9VbQlgAko5FWEnZpC188mc+pxPYAJZT7sG9eV0Ttvk1SsXtWujmj9WXT/egw7boSQXFJNbakXv3/3DV+P3YyRexT5ldXkef7O2G+6sMAwihypirpH51g6dR0GIdkN/dnB8K/7sto6jjypHHnZXfaMbrBxu8HGnT2MU9u4HKmxgSyMk5O702upMdG5zUst33+KvV+L7RbAukxi+4nzmJibY37VEJ0ds5iwyYJnmRIEVCjk5fj88SPfdh7NhovOPMmVUJV/lz8mdqfbXH1C08tRCVXE225j0sRNmAVnIFEfSAQJwSdn0PPzHzUAVlj6FJM1Y5n0mz1Pc6o1J4pCRRQmq4bTY+gKLj/MoLxWTmXQcab3+prRG41wjyqksq6CWKOfGdipLzP2m+PzvIiq2mICjv1Ez26z0Q1OobQsFIMV89ikY4Wr70OCgwOw3fsT/b/pycILQaQVhqI3ux99FxkQlqZeWESJXCYh4MgUen0zjJUGHoQ99ufOnWCe55dR/uQc8/p1YqJWA4DVPeby2tlsOOtLcrEMebEn+3/oQf/lxoRnqHX6EwCmyMfn+K/8YRNCapkcZa4n+6f04KvB6zB/lIm0cYBcqOa5/U6mTd6I8YNUKtQ/ToKEkNNz6PvlD/UAJpcQfnkNCzedwsL5Pg+Dgwmw3c/MgV3otUAf/4RCSu4fZkrvrny39hyO4dlUVOZz7/A0+nw7mzMPkihVCUgizdj44xR2XAslU1MfJyCJNmP96N4MXXYBv5RS8kMMWDljNee84yhSl8TJk3A+sZmftxsSmFJM5WMjNs7bgK5PAoV1coq9DjKp9wCWXg7RHHckgceZ2b8LQ5efxTUknAAvL4Li4vE+u5KZa85yN65Is0iEPMmZE5tXsN3wASlFNcirI7iweBCdJxzgbkw+cqWcCr+j/NSvG6NW62EfmkV5ZT73j8ykb49ZnPZPoETtU5QFv0ycynbrENI1ogpIYizYNK4vQ5ee415iIdWVjzgzbyBdv1vDhVtPyJPWUhFvxvqRXek7dTdGd2LJl9ZQ/FCH+QN7MOP4PeKKanhqspkFG3TwiiugTl7CXa2p9Bu4BIPA5PqLXs0OPSqy7bcxrkc/llx+SHJF8xGtRgDr/P1GtHSNMTM35+qVM+xaMJVNRkEktAQwZQG+Z37jkKU/CSUylHl3OTyrH18PWsUVdZ609iMuj+DismF0Hb4ZvyeZzXrXll+IANaWoyf2vaUCfwuANemEqqaQeF8LDswfRo9Bizjh+oxC2csNhKoconwsOLxmEv07d6bf5C0Y+SZS0rJyQ1VDYbwvFgcWMLzHIBaecCGqqaFGk6p8bmvNYXD/2Zxwi6TloU6z2esATJWPu/ZcBn/Tl9m7DbgVHElk6B0Mt01jUL9xrL90n8Sy1g6GjY2rHwXq8gK5cmAnR83u8bzkVQJ8HYCpq2Iqkh/iancNGzNjTK95EppSTElGMHaXL3HtXjS5ZXk887qBpYUl5sZGXL3pp1nj4WWvFMRZbWdy3yH8fOEu8fVLmTft4Ad73rEArKSWAu8DTOjyGf1WmvMkX0pBwCk27rLmca6UumyLVwBMVfQMbxdPfAP98fW9h7vBKgZ+3pUlpnHkaQLVEsDUsVKSZDifHl9MewFgqmwbVvb5kuHbb5OsAbD6xUH6dhrBdrek+rInWSgnJnaj51ITYhrASJlixKKeXzL1ZDiZ5SrU/fFp7I/ffdwNVjP4i24sMYkhR90ftY1JDXCVUw9XyhRjFvf6iqknwshQTyQXAeyD7VB/2rCs9TlgsjxvLpr4kP5isQoZ4Wdm0LvPIi49zkBz/qhMw2zFAL6ZcoTA5GKUsmguLRpI73nnCEkrb7gKryLb5uUcsJywc8zt24M5eo9IfbGogJIUs5UM7NSV+ZfCyKhQIY+5yML+3zLnjLp8rf7qf53vIX7oOZx11pFkN5QEZmlsT+bg/UTynlxg/rDpbNI1wdbVDTc3N5ytL6Nz4jiGHvEUlrYEMLVaciL159Kv5xx0g1JeTiTWlJ2bsXJwF6Y0ApiqhFg/d+7cD8DP14/77pfZOKoL3y64QGiq2t93BTCB2mQ7dsxfjbbpTbwDgwkOckdv+VA6/Z+uzNP3I6Ws4UdAFoPR8qH0nXuGB0mlDWUMKnJsm8wBq33GpcWj+GnjaYyuu2r8dnO25vKZExy/7E5svoQaNUwO6MdC/WCSNborSbdcy/BuUzh4L44CZR0RBosZ1GsWpwISX/4IKtOwWj+czl3noh8Ui9fp2QyavIubkTkNVxaVSHMTiUvNR1KrQFUSh7+HF/f8/fD1u4+H4S+M6daDeWcfklSmQh5lwOIhvZl10o+ExiUx60LRmzuYKTsdiciurZ+fpZSSmxhHap6k/j4zylQs142g++R6AFPzqfzpeRYOHsACvUASNTmiJMN6AyO/ncyBuzHkK2VEXlzKkN6zOOH3/OWqlMo0bDaNomu32egFJFJaF4fxiuH0nnUM3/ii+rytC+DY9P6MXGXCo7T6ckFVth1bRvdk0h53nuXJKI1/gKfXPfz9fPG/78GVzeP5tudczgQk8GoVjZyIi0sY8vUA1liGkt7iEmvrJYgyCvxMsbz7vP64+WLnFqhLdWLPsnUcMryBlyZ/PNBfPYou/+jKLB0v4kuanDE1fk+ZgtXG0XTrMZ/7wYmN77b5RxHAPmAIVaUkPrrHbUd77O3r/2/5R5NfVvsBG+3Ypv9uANOoL9SQ4XOaZSNHsfyMJ9FND2jKOqQl6hJwVy7vnMWgr7syeZ8dYbmtHHMQqMnwQWf5KEYt18EjuvTV0XlFLBZbJtCz3yLOecXWn1u0TIHXAZjiOdbbJ9G752xO3o5q+N1SURpiwJox3ei7SI+7MW8e7Rdqcgmz1+fE+Rs8SCxpdZXY1wNYQ0dVcmRyhWa+s6oynQfXL3H5hi+xBdWUP7Nl34rV7Ddx54GbLpt/3sxJhyfkvihzVJHhdICZA3oyTcuJx4Utqx1aivH+XncwAJMhVD7BYEFfPus8jdPeAZjvWs9Rt+cUVatQtgJggiSV4JtXuXzFFItrjrgabWTYl91Z+hYASzZa0AzAhKonGK4YSf9pB3GJzKOqqoCQU/MYMWEblpEN9wpTg9GkbvRa9hLAVJlmLOv1FVOOh5JZpkSQphHs1LQ/mxj+VXeWGMeQo56n0ApcqW0s7/0VU449IkN9I6hWtnl/KfVhLbXXEbBXF+EoIzEhi8rqWhTqxQgEGY91Z9Knz+KXAKbKwmrNQDpP0SIgqRhFhRu/jehCt7kGhKc3Ll2vIvf6BgZ3rV+EI811F6O6fs1UnSBSSxuHeaDaez9ju33BhGOBJJcokcdeZlH/Hs0ATBagzYRew1ln9RLA1LaHdJ3EAZ8Esu4e4od+U9nvEUdBswULGm5yLHvC2WYjYOpckRN5fh79+yxE/1Fqs5ELZao5q5oCmCAlI8wVyytGmJjb4OBizJZx3ei14PyfAzBBQsSVbazYfIDTF02wsLTE0tICoxPrGN/9n3w9SRv3uIYSugp3fh/7Ld1nnyMopewF1Obe+OXlIhxVfmhPGsjUPa5E5zW/Z5vQsIqj/Kk+8wf21wBYigbAVGRf28iI7pM54B1HgaISz33j6fHNZI77JTS5XUAN9w5NpOdXP6B1PxyLXePoOXIdVuEZzco0hJpqqhVKFNJMwt2sMDIywczaHmfjbXzfozfzGwHs2UWWDOnHfN0HDdAESD3ZO743I9daEZZR1WSBDIGa6moUSiWoQVANYFOaAFjEBRYNaQpgajDdzHc9JrPvTjT5ikq8DvxIr86TOHovHnUVaf1fDb7aU+jT6XsO3o2loDYe05XD6dMUwGQPOTljQD2ANczXUuU5sG1MLybudiUqt04zH9Dd2hgjEzOs7Z0x3j6BXn3maQDs1au4ch6fW8igTv1ZY/GuAAZCeQrJWRVIaxQvb9YtSIky283aX/dy/ILxy/w5uZEJvT7jmx8P4BSZ92rpjSqD65vH0L37bO4HPW8Uo80/igD2AUOoSMTlzG+snDWNadPU/9NZsN+GJyllH7DRjm36kwAwTaFFIGd/nsHa4y48LWgNCgSqk504MGsgI38+z904dRVIK3+ChMBzK5ix9hjOTwpeBTD5M67+8gPf9v0LAKZMwnbnVPr2X4CuZzSNa2cI5fc4tWg4PSfuxSUst5VONbylKCP5oSPGl23wjnxdiSS8FcAaW1BJSfG34aKhPQHP1asayomx2MqU6es4fyeOinwPjiyYxOIDDoTlNf4gqchxPcScQT2Y/MdNwvNb07qxgff72OEATH3Cl2q3iRFffs7wRcuYtUyfgPQyzXyFVwFMSabHYeb9MJ/DzpEU1CioCzvBxK49WWry5hGwlgCmbjfDXYtFs9dxwsqDgAAPTE9ooecYTk6lrH6neCuAycjy1GbBD/PRuhVBvro/4aeY3K0nS/8UgIW/LEFsGCV7v2n14ax1GABrkFCoSCAivhBpTc3bAUx6l33juvH58N9wji5oOAF8CWCH/BLJCjzF9F6fM3DDDSIbShDVTVXd3ce4XkNYY/6U7ErhLwFYzqOzzO7Xmwm7bTXzYBoXa1KUPicmpZRKSXhDCeIFwl6M0L07gCmzvTn981QWHLAlJLMSed1Tzs3tT7+Ffw7AlEX+6Gz5HSPPUBKy8sjLa/jPfozZhtF07jSKHTeeklutQpD6cHBCT74ctg2HiNyGewiqqAcwNTzFU1DzlPPzB9L3x9+wCcmiUr2SifpPUcrz2BRKpDXUvRXAagnVnUP/rwaw1iqczKrGH4FqDYD1H7YS49DneJ2YQb9uI9hkGUxGZcPtNIRKUoNDiS8sIdlHl1XTF7DP5iHpUhl1ERdYOKg/C/QeklSqQt4agNUGc3pWf7qN2IhFUAbShsAJlamEhMZTqF4I5i8BWC2hZ+czsNMA1lg8Iv3FsoPV3NeeysBhKzAMTqVC9hcALCud+2fXMmPhXqwepCKR1RF5cQlDB85/DYApSLi6hhFd+rD0ShApkuanKq2PgNWHUV0iI0mOJiG/HPXqyqriQPR37sPQ5SFxmU3z5wmWW37g269HsNkyhIyWtzRQJmO5/ju6D1yJb2hqo/E2/ygC2AcMoWYEzAc3Rzvs7NT/9tzyE0fAPqDifDIAVhPO5W2/cszCn+RWFgHSaKCIw3LrTBb+dhX/lMaFOFqoI9QQbriNX49a4JfUfPEhzZbKVOx2T/3/2zvvtyivde+fP+C8+4f3nPPuErPT1GyNNdG4dzzZSTQaSzR722OLNbF3qTZUEKUJCIh0QVFQUQRFFFBEFOldepPeHHqb+bzXICgaTdzZoAzcXNdcM8/M86x1r899M89817rXWgz7qOso1nNlvGwETFXFLdPFjB81Dd2zERR15vU138Vy2Zf871wjrsRXPFdYx2FbDXlRVzh5wg3/yGwq21Mo1av7NqJs7Szo8bmvJsDaeJR+AxcrO7xD0zoW02oi3HIZX05diU1gGvVVgRjN/5wZG1y5ldNZRxu53uopA6OYdciX+CeZQS82uzvf7QcCTEXV2TXMP3ST7I59X1RlQeyZNJD/+e8hLLC5R2HHJq9tOSeYP/j/8Ycn+4A1cUP7r7w7dBbmIakUleQQc3Itn771DjMOBxKWVEpzSzNpx2Yx+K1pGEd3bsTcRprNLD586xsO3u9chKOcCGc9tuy2xtXDk7PnfAmKyaFSnTbU6dHmcPZPHMiHC57OzVLmOvL9kAFMNggnt6qeIJ3PeG/oLMyCUygsySH25DrGDXiHGYcCCE0span2NgfUaYwL7Eh42JG6k+vIwqFvM3nfHXLUI2AtMRyZNpiB0424mZDMgxz1hsydvQGdxvTO5z4nwJpusmfCIH4/agMXkouf7TVvKSfBywwbv1SKFA1EHJrO0KHzsIrMebzhtzIP12WjeG/SLoLTymhty+Xc1gkMensMi43PE5FbRa3iIeFHZjN0wDjWeISSkh7EkfljGPjpMmxDMnnUvnKegjirJXw1Ywfu0YXtS2Q/TkEcxEzjpymIzSF7mDBkLCtcYsjvSEF82D4CNhGda6mUlNzi8JzRvDfka340dME3OJx7d4K4cMIUp8B0SqpiODp7BH+ZuperUQmk5ZbT0NRATHsK4ixMw3+egrjk4/eYvCuofRGOplsGTB46nJkH/YjNKyE33pOtXw7k/Wl7uXAjnpL6eh44LuWT96ewJ/hBlxGXLrGsqifDS4vVu88Smat4bmWkNgovazFp8FsMW2hNSNYjWlrz8Nn5DUPe+YTvDc8SnlNJjaKQu2bzGf7ncax2DSG5rJiQI/MZ88EQJqw6gNOlYO7cu0PQBQfMnK7xoLiGxvum/HPkMOaYdaYgKslvHwGbhPbVJIpblVTesWTp3wYzdqkl19OqaFIvalgTj82Kyczc5kxE3iOKbhxk1qg/8+GkdZh4BHD7bjghvs6YWpzhXm4h1w9MY/iIGRhcjCK3OJf4s9v5evBApu7y4lpsCYp7Zsz/+CP+cejm03lNylKCjGYz+p0P+XrtETwCbnM3PARfZ1Msztwjp6IRlToFccU4Bk3S4Wpicfuk8JYoc+Z8PKLLaJqSglNr+dvgr9npF09Ri5KqcGuWjf8LY5dYEJBa2dGmBOxWT+G7rY6E5yhoa3mcgjjkWwOCkjtSEJtDMZw+knFLjxOe9bhn9/EI2F+YuNWH2OxgjGaOYuT0PZy/n0NxbgJeWpMZMmgKep5XiS1WL+Hfxe+oqL6xj+nD/8IMwxukdKZfdpzSdMeY70YOYMSqk0TkPvtDpqUymYvH7PGNzaGypYGsC7tYv8eDsIzqZybHq1PPi67u4tthb/PRXDMCHlQ+m07THInFvDF8NGU3txJLuhqn0a9FgGm0+8T45wi8CQGmrC0m60E6eWU17d+RKOsovH8SIwNbLt7v2DJD2cijsjIq27cmUhutXmY9mKNbNrDf9RYZiser4BZnPSA9r4wa9Q0E9bZD9zlpZIDtxQhyn3SCdWm0SkGYxRLGD5+M1tl7FHbqki6n0JbRvgz9J5O34BGW1+V7T0lpqBWrJ37B94bniCl7nAbZVuKHwZI5rDb0Ia6kBWV1BvcCLuEflkqxenK6WnxFnMfaYC+mrpcJjU3hQWoKSTG3uRIQRm7Bs6JNvQz9zuljmLzJndu5LzIQWqtSCXCywv78HTIqO9MxW8nw1uGfM1Ziejme8pxz6M6awpL9F4gu6/zl3UKC03omfTyRTS6h5HbZw7krgp543bcFWJuCoow4/HQnM27RYc7fTKKoTr3HUB1xNgv4bNIOvJLKaFC2UP0wjejTG/nsrd/xn6N+xPlqBNkVtcQ5rubLj4YxcbkeJnaOuFis5Yv332LM4gPYB6RSlB3Pua2fMeC/RrPSMZCEknqqCpI4v3U8b//XSJadCCSxvJHWpgSs537K+OlLWLNVG73dezE4YISJ5QlOBcRTWF1KbowDy0f9iT99vp3TN1MpK80jyVeHCe/8NyOW2nE1voBoh9V8NWwYE5brPrbn6Fq+/GAAYxYZYHf5Lknhdiwf9RZ/+nwbp0NSKVWXcVmXie/8DyOW2HI1Xr2vVB4Xtn3NsNHT2HzQEo+QdB51WQq7JwKtu8rsOwJMRV1pFgk3TVkw7I/8bsBktGxPcUm9+eK1awRcucw5RwOWzdmCW1QWeblxuPz4Ke+8NZ5NrtdJKiklL9mf3VMG8ocRC7H0jaaovonSCBe0545n1NhvWLzNECtHJ6zU+d2DxzJ/vwehmaWkBliycdY05m0xxsHrMlcvn8ZEaysHPe9R8KiZVkUhiWe38Pf3/8jY1Sfwjy2mojCTKLsf+PjPHzBZ14OQB+WU5iVzde90Bv9xOPNNfYh8WEbSpcP8OGUUgwYNZ9yEb5m3eDk/6TlyS70aUmshvnrf8vEnU1i3z5yTN+LJTL6P+3r19hCfsNzah/sP1Xt7gaq2mNRLOkwa9AdGLLTEN7oYRYI7W6Z9zIgvF7Pj0DEcnI+ycfIQ3h0zDz0rXyKSIvHWmcTgP4xiseVFIgvr6NqvoGosJyPCG/2Zn/LtNkf840qfWf1T1VBGxjUDZgz5Pf/5h/GssfDiTmY5BeGu6C34nNFjJ7NoywEsHRyx3jCJjz4cy9y9boSkV1OR4o/p2mmMHjSIYZ9+xbdzF7H8J10cQjIoLsknwW0d4z94m8/WOXA1vpiSvBSu7pvB0LdGMN/kPBEP62iuzyXYZitzp89jk5E9Z3yvctnTDJ3tBzkVlkNVkwpVTTIXjFYyaeSHDB2rrmcxy1dtwfRiHIU1DTzw3M6MMSP4ctE2DK0dcLbcxJSP3mPMHG1MTvoTdHwNXw56i4+XWuB9r4CaJvXNTEVNig+HVk1i5IdDGfvVdOYuXsaqLaZcjCukprmWkgeX2TV1CH8aPh/T8/fJL8ohzn0Dfx/0Z/625jh+cUWU5KUSsP87hg0YwdzD3twrqKW5Po8Q223M+3YeGw/atbfJz9Mc3R0HcQ/NprJeQXHKObQm/YUBY5ZjfTGKwvJCsmIcWP23Dxg4cTtOgcmUluSREniQWSPeZtgsQ86E3sB587d8OvILvt9yEOsTzlhunsbwDz5htpY5F+NLUDw3Kb2tyA/daSP5atNpIvM7NltW1VOek0yo5TLGvft/eeurjZi7+HA14BrXrgVw5fJ5nA1X8/0WB27Gp5EWeZ59c8YzY7MNF6OKqVMHa8efOr6yrhsxe+Rb/J/f/5WVh08RmlZGXccKs8pSH3ZM+ivTtc4SV9jQeZnGP4sA03gXSgO6EHj9AkxFfbIPptqb2LzbAuezPvhe8sbVxhaPwDjyO1b0UVXF4mN7mIOHbfG4FEhQ8HUun7TA2Mqr/XtGPaVJ1ZCCj5kOmzbvxsL5LD6+l/B2s8HWrnbKPwAAGOlJREFUI5C4/JftcamkNMiYReMnsurYdR48twiFsq6cvCQf9s39lPdHzmK3YyDpnUJRffeoTeeqxQYWL9PC0juMxNQ4Qk8dQktXfY/JRb39VkvqGXRmf8W0LU6EZZWSf+8MBgu/5K//O5HpcxejFiJLlyxmwT+nMXubPaHJnQJMSX15HkkXDZg/7gNG/GMXJ66lU/ZkG6gOx7VUkuTvgJWDT/u2NE/73lQ0ZgdirbONXUed8bTfx4Y1etiqF7HqPElZwTXD75k4bS12wU/3U+sSEj32so8LsAoyo2/idXQP2vtt8L52n+zqJtQZNq15gZy6nEhZjXr5zmZK06K44W6C3vbNbNxpjItvCImF9dQXRnLu2AF0tXdxyMGfuIxwPE33s9/8DHfzH1GSeY/zVrvZuVWLw25Xic6voTjtLhesO9+7RlxhPc2NaZzasoC5C+Yzb94cZv3jO2ZMn8aUb6Yw9Z/bcLsbT2TQKUz1drBV3wqvoAQK8pIJv2jLPq2t7DR25WpMAYr8iHZ79NT2nPAjLj0cT7PH9oRnZBB/83RHGZacfaaMbew0dmkvo765mZIIL6z267PX/CwR+YrHvS49FmbdV3BfEmCP8uIIvWDLAZ1tbNqsg6GlHQ7OzjirHw52mBnooG3hS3JpJcVpYZy1UMeUPkc9A4nLyyXlni/H9+uwbechnP0iyVV/Kanqyb/nwwljfXZs18bA6gzXzh3HxNIejyuRZFc20tqmICvsPPamR7CwOYGTowtnAuN42LHXXGtFJnfPW7NXexu6pu5cicqlMDOGYA8Tdu3czt5jXgQnPiQv5S6+xw+gs30nhg6+3M9R0NhUQWqwJ8cO6rJ9mxZ7zNwJflBOfXtaWxulURewNdzNXjNP7mQVkZsUypmju9HaugPDE+e5k1ndvqeXsjqbSF87DHS2sfOQM35RedTUFRF7yZ5Du3TYZXScS1GphHtZYXTQjFOhGWSnRuBrZ4DONi0OOfm2r7TY2KWzTFVXQMwVJw7pabHP8hRXowtQNHb5AV1bQFygK4f1d7BpwxZ2WaiXsC2itrGWgvuXcDy8i53btdln6UnAOXvMrOxx979Plnr/NGUrlQ9COGNjiO72bWjtMeVkUAqldS00lWcQ7m3ZzlPP4hQBMTnkpkTgd+Igutt3YuT41FalIptwHwfMj1hgY++Io4tne278oy52NpclEuhxFAOdnWjvMcFF3YFT8ziNubUsjssOxuzW1cfQ7iL3k8M5Z2PMQVN3roeHEeiptmMrOw7a4307nar6zrtQM2VJgXgcNUBnpzZ7TJwJiFeLL3WvajU5UZexP6DL9p1GOPreJz0zkdvnrNinvQ09cw+uRueQkxKBv4MRejvU8XCpfV6een82dZvuXnTE3MScYx1tCojJo1rdprZKsu9fxG6/Ltt1THD1u092QSZxN09jvkeL7Xus8LweT35uChH+Dhjp72DnQXt87qaRce8iTkd2o6tviK1PBEl3zmN72BDTkyGkdewV9sw3j7KEEOP5fP29IX4JJbT3kaoUFCTewffEIfR3bGaT9oHH/xMd/4cOduYc0NPB7HwMeYW5xF1z5cgubfZauOMXmUt1x/536npUtQ9JCHLHdPdONm/YjL6ZC1eexJiK6puGLJj+A0aXEl+6V9gz9mrIgQgwDXGUmPlKBN6EAGvICsJp/wYWLVzOei0Djlg54n0rhSLF0/0fleVReJlsZ/niFWzSP4Sl3QmcTl3hfmY5ndvaqhqyCHY6wIZFC1m+XguDI1Y4et8iuahz26UXI1CWh2P703cs1HMnLLdjIaaOU5WKAlLuXuT4od3s0DqI7Wm1mKt6Uqe6A6+xKIbLjpYctXPl7AUvTrp44H8vg7KGx6NMbcWR+NibYX02jIzSUlIDXTHR38KGDRuefWzU4qhPFDntezepDVCieJjC3Yv2GO/eidZBW05fiyO/sv7Z7JXmIu4HXuduUu7PV6BVNfAwNhAfr9O4OLriHRRLfnXnsv3qRY3vYbNuPkt1XbjzXPbDi2l137t9W4B1H6d/s6Q2KmI8OLjvONcTMsnNyyEzLZWkxDii717H9qelHLyRTfmTVVn+zer68OV9R4D1YSdJ04RArySgoi7FC72V6zG9HEtRx4+D12JqSzFBR9axZr8H4bkv64l+LZZ0eyUiwLodqRT4Bgm8fgGmbqySpkfF5KQ/IC2nmOqGlqdTU56wUNGkKCE3I4Xk1EwKKmppant2Lmt7SU2PKM5J50FaDsXV6s7BJwW8/IU6Nf+yMZs2G3IqNPvpNiwvv+Jnn6haaikryCI9M5+ymsb2gY6fndTr3milLPw4ulv2YHc1mfLO/sjXZKcIsNcBWlXDrX3fMO6furgFRJFRUEJ5ZSXlJXk8iArGw8KOK+nl1D3tjH8dVmlkHSLANNJtYrQQ6B0EVAqSfY5iZObG9eRS6jpXiulJ69QbqUefw8LQGp/IvMd7yfVkfa+5bBFgrxm4VNejBN6MAOvRJr1S4aqadAIczDF38CWqQPHs/NVXKkHTTlLRWJqIv70p1mduklr27ArGr6M1IsBeB2X1Lt9uWiz8diqzFv/IZu097DcywdzSmmM2NrgGJFFW93So+XWYpKl1iADTVM+J3UKglxBoKiLS7wzel2+S+LCmfc5hj1mmaqAiJ47gc2fbV/oq78wV6rEKX3/BIsBeP3OpsecI9FcBpibaXBLP9QvnuHQjhpyq+i6LbfQc7zdTsorGqgKSb1/inP8dUgpr3khbRYC9Ju+rGoqIv3GG4yb70dfWQltvL8bWJ/GPzkfR1Pbi/Rtek22aVI0IME3yltgqBHopgbZqsmOjSFHPZejJtBNVLQ+TYknKKae2YzGOXkrkN5slAuw3o5MLeyGB/izA1O5oU+SRFJtMdmlfHgVTUVecTmJyJkXVjS9I93w9gSkC7PVwllq6iYAIsG4CKcUIASEgBLqBgAiwboAoRfQaAv1dgPUaR/QDQ0SA9QMn96UmigDrS96UtggBIaDpBESAaboHxf6uBESAdaUhr3uSgAiwnqQrZXc7ARFg3Y5UChQCQkAI/GYCIsB+Mzq5sBcSEAHWC53SR00SAdZHHdtXmyUCrK96VtolBISAJhIQAaaJXhObX0ZABNjLyMj73U3gNwswAwMDbG1t5SEMXmsMDBgwAH19/ddap8S5/J9LDEgMSAy8OAaGDh3avpmq8HkxH+GiWVxGjx7N6tWr5TeG/Lbt8RgYN24cbm5uv6jr/uP5TwcNGsT333/PmjVr5CEMJAYkBiQGJAYkBiQGJAYkBjQ+Bt5//30mT56s8e2Q3+e9X58MHjz4twmw9PT053WZHAsBISAEhIAQEAJCQAgIAY0kICmIGuk2jTT6N6cgigDTSH+L0UJACAgBISAEhIAQEAIvICAC7AVQ5K0eISACrEewSqFCQAgIASEgBISAEBACmkRABJgmeUuzbRUBptn+E+uFgBAQAkJACAgBISAEuoGACLBugChFvBIBEWCvhElOEgJCQAgIASEgBISAEOjLBESA9WXv9q62iQDrXf4Qa4SAEBACQkAICAEhIATeAAERYG8Aej+tUgRYP3W8NFsICAEhIASEgBAQAkLgKQERYE9ZyKueJSACrGf5SulCQAgIASEgBISAEBACGkBABJgGOKmPmCgCrI84UpohBIRALyPQ1kxjfR21tbW/+KhvbkWp6gnblTRW5pMSlUhudR3NPVJHT9gtZQoBISAE3gyBfifA2hqoLskjKyOLgrIaGltf7UbR1lBNSX4WGVkFlCkaeeFl6rKL88nJLaKyrpm2nxWtorW+iuI8dTn5lCoaaVG+Gb+/iVpFgL0J6lKnEBACfZ5Aa9ZNTjvYYevggpu7Bx5OtliYmmBh64TrSQ/cXR04ZmGOc2AqJTWt3cyjDUVhItfs9Vk5ewuOUdlU9qMbWzfDlOKEgBDoJwT6kwBTNRSRGHQGmwNabFy7jq17rPC+k0F5fdsveFtFQ1ESQWdsOKC1kbXrtrLHypuwjHK6XtamyCM22BfvM554nnbH43wQMTmVNDy5D7WhyI3iissRdDf+yKofN6Fn4sKVmDyqGp+c9At2aP5HIsA034fSAiEgBHodARUK310sWLiK9XpGmFocxWzdJAb+/ncM/GY9eoYWmB/Zz/ZFE5ipc4H4/Hp+1jn4fJtUtRQXVdLQ9CpirYWy1JvYrf6Md38/gd1ByZT2j3va89TkWAgIASHwygT6jQBT1fMw6hInjPTQ3rGV9UunMXbwYMYtPszlxLKXZkyo6h8S5XsCIz1tdmxdz9LpY/lw8DgWGfuSWNr8+D7WWkGijwnb12tj6h7A7SBPjLesR8viAtEPa1HLO1VNGoEO+1j/wxKWLFnM3Cnj+PD9Ifz9BxP8Ekto/NUb4iu7tNeeKAKs17pGDBMCQkBzCSgpD3DC9VYKBbWPexMbA3T4YvAf+Fz/Biml7bcgGrJ9sDt5m6yiul8RYCoaCwJxcA8mq7DmV87tpNZGuuMyxg6cIgKsE4k8CwEhIAR+gUC/EWDKMuJDggmPz6GqqY2m0micNn7NkFFzOeyXQNVLOuyUZfHcDA4nPruKprYmSqOd2DhpKKPmGHM5vgolKhozL7Fv/hQW7vMkoqgZVI2kum9j9szlGF6Io7RJiSL2Ao4n3LhwJ5NyhYKixCuYrfiCQe/9nU0ut8ntBwpMBNgv/CPKR0JACAiB30ZARW1WBvk1dU968n4uwABlBRkZRdTUqXsOVbQ111NbU09Tq/o21vmnpKE0mSuHFzF55VECo7KoUufTd0wcU7U0Uqt4RE390/ceX9lGtstKPh00VQRYJ0p5FgJCQAj8AoH+I8Dqqa9vpqWl807TRMSxlUz/bh22wRnUdL79HCtlQz31zS08vew+Nqum891aW4LSa1CpGklx38KUTyaxyS2UnObHBTRGH+fHCX9lus5p7hU2Up4cT0peEdVPEjpayT+vx8zRnzDviD+J1S8x4Dl7NPlQBJgme09sFwJCQGMIvFCAdVjfVlNAwt1bhARfJ8DvAmfP+rQLrcqGFpTNZST4m7BozNu8PX4VxnanuB5bwKM6BQ/jbxHgfwV/v0ucdT/J2SuR5FQ18Pie1ka2qwgwjQkQMVQICIE3TqDfCLDnSCvrsrhkqoWuhTeR+b+WkdF5sZK6LF9MtXSx8Iokv04Fbfmc153BqGEz2H8xhvKOkTRlwQX0Zo5ixHcHuBRbwc8H2FQ8um7E/Akz2OB4i+wGEWBqyv/RibrzedCgQaSnp3ceyrMQEAJCQAj8CoGXCTBVcwmRnofR33WIY27e+Jyxx+DH2cxcrMWJ4HQqKnOICTrOT5+9z3vjV3LI9rEAq0gPxOzHOSzcYYbTmTPYbJrO375chnlQBpXtSx6KAPsVl8jHQkAICIFnCPQ3AaZqfkRRehSBLvosW/ATBidvk6No6ZKB8QyejgMVzY+KyIgOxHXXMhb8ZIBbaA4K9bBYSyQ2K//OwGELORqQ8mQkTVUZwIE5Y3jvs014hOV1dBJ2KVtVS7zjVhYu18clLAe1luvrfzIC1tc9LO0TAkKgVxB4sQBTUZPgwpqJ37DR7S657fPFVDyKtWfFZ0P5dIk1IVnVtDRHYz57FCPmmhGWoc6zh6ZIG1Z9t4JDAamUNLVScVWfSUNHsvBYOFmP1GeIAOsVjhcjhIAQ0BgC/U6A1RYQe80R/aUTGPbue4ycupkTIZ2deC9zm4ragliuOe1i6cThvPveSKZusic4vZLmpjDMFn/GuyOWYXcjjc6BLFV1IAfnjmHAmJ9wuZlFyzNFq2guCeO43mb22geQUv7sp8+c2ocORID1IWdKU4SAEOi9BF4swJqJs1rAx0NmYnTzARWdeRltmTivGMt7A2dhEZZJddPPBZiyPIHrF/24fiuU0LBbBNit5fNBHzLL9Dbp7TOoRYD13mgQy4SAEOiNBPqbAKOtEUVZLgm3vDHfMI0Rb3/ANzpnuF/YMXnrJU5qa1RQlpvALW8LNkwbydsfTEbHM4LC2gisl3/OB6N+wPZ6GvUdI1nKMn/2zfqEd14wAqZqLCba25wDpu4Ep5bT1A9Gv9RYRYC9JLjkbSEgBIRAdxJ4sQCrxV/7Cz587xsOBj+g/Mn2Kw1c3zWRvwz4it03Uiht+LkAU9UVEBtwGofjdtg7uXP22Dq+GDyE2SLAutNtUpYQEAL9iEC/E2BPfKuiPs0L7RkjGbfInIBkxa+kIXZcqKon3UuHmSPHscj8KkmVGXjumMbwUfMw8U/kUYeYasvxQnv6SIbNfG4OWOsjssPPcdzKlSvRuSieLMrxxLA++0IEWJ91rTRMCAiB3kTgxQKskXDj7xj+9ihWnVRPYu4cAqvn+u5JDP9kMbZ3s1E0xTyXgqikKNicFdNns9M1lGxFM00xR5k7egRzRID1JreLLUJACGgQgf4rwIDWZFw2zGDOZnuCM15hb8oOv7Ymu7Jxxhw22QeRUVdL9Ik1TBwzlZ2n71LQnk2oojHKjtUTP2XqzlPcLegYXWurpSD2Gu72Lvjey6SifehLRWtTI8rWvq/ERIBp0BeDmCoEhICmElBR57+Tzwf9ns+0A0gq6by5qKgINWfRuMGMW25DUHo1zUpQ1iZxfOUkvt3swN1cBW0t8VjN/5ihU3fjdz+RzIIiru36huEjv+OAbwz5pQUkn9Ni0oeDmLbnHDcSSmlsaiLLeTmfDpzCruvJtG89pqn4xG4hIASEwGsg0G8EmLIJRUUF1bWNtLT3+6loLr2F1ZZ17HMKIV09j1hVS35sCP4XrxD+oBhFswplk4KKimpqGlser2Soaqb0ljVb1+/DMTiNaqWK2ngPts/8hqXGF4hRz+dSNZLhqcXcb5eyzzuaIrXQUouvqEvYHtiHmZs/YfFpZGSkk5pwjxs37pH/sPI1ePvNViEC7M3yl9qFgBDo6wRUdZTnPSDEeC7D//Q7Bs45jNfNB5Sq9/JSp2c0ZhNosZ5/TJ3HVhMXfK4FEXjuKNqb9+J6K5tK9c1K+RBfvRl8MmYaG/db4HY9jlDbtUz7eAQTftDB5LgTzubrmTz0XcbM08XiYhx5Wclc2TONoX8azRKrS0QV1dP8JMWxr0OX9gkBISAE/nUC/UWAqaoT8HO0wMTSGe+Am9xWzyM+bckhi9MEp5Q+3r+yNYPzu+Yy/qPR/HOvN1EP66lO9MPxqAlHnb0JuHmbsFvXOG15CIvTwSSXND5OW2wpJNReizUb9uN4+R5xkQHY6a1ji/Fp7ubUoFTVUxh9HqOlXzP+y2/4x8IVrFq1ilWrVrB03kzmbDtOaFL5v+48DbtCBJiGOUzMFQJCQMMIKKvIib3FWXN9Nq9ZxU865rj7hpNZWU/7avHq/ZgfZRLqdQyjA4cws7bF5rgbfpG5VDd2KqY2Su57YblnB1oHXQhJL0dRGM2FY/vYsXk7u496EZ4YymmzfewydOLGg1IKMyK4YKXHlrUb2GN7rn31xPr+sbiUhgWImCsEhEBvIdBfBJiyLILTRhtZOHcxa7QOYGZtg53LJcLTSql7ctspJNzzKAarp/PtRjsC4soouX+aQ5sWMnfxGrQOmGFtY4fLpXDSSuvovEzty5ayBK642nDsuCMuJ6yxPHGBsPQyGtSjbcpqkv1PcGDbT6xYseLZx8oNGJ+NIKuqa2m9JTq61w4RYN3LU0oTAkJACAgBISAEhIAQ0EAC/UWAgYqmR8XkpCWRmJxGfnkNTa0vWH5QWc/DEEeOuQcSnVuHStWEojiHtKREktPyKKtp5EWXtbu+tZay/Gyy8kpRNLa+2qIeGhgzv9VkEWC/lZxcJwSEgBAQAkJACAgBIdBnCPQfAfYKLlPWUZ4bx3Wv89yIye5YJOMVrpNTXomACLBXwiQnCQEhIASEgBAQAkJACPRlAiLAuni3rZLs+GgS0ot51NS5Qm+Xz+Xlv0VABNi/hU8uFgJCQAgIASEgBISAEOgLBESA9QUvakYbRIBphp/ESiEgBISAEBACQkAICIEeJCACrAfhStHPEBAB9gwOORACQkAICAEhIASEgBDojwREgPVHr7+ZNosAezPcpVYhIASEgBAQAkJACAiBXkRABFgvckYfN0UEWB93sDRPCAgBISAEhIAQEAJC4NcJiAD7dUZyRvcQEAHWPRylFCEgBISAEBACQkAICAENJiACTIOdp2Gm/2YBdvjwYVxdXeUhDCQGJAYkBiQGJAYkBiQGJAY0PgbGjh3Lhg0bNL4d8vu89+uT8ePH4+bm9ouy8T+e/1RLS4sffvhBHsJAYkBiQGJAYkBiQGJAYkBiQGJAYkBi4F+MgbCwsOcl1jPHPxNgz3wqB0JACAgBISAEhIAQEAJCQAgIASHQbQREgHUbSilICAgBISAEhIAQEAJCQAgIASHwywREgP0yH/lUCAgBISAEhIAQEAJCQAgIASHQbQREgHUbSilICAgBISAEhIAQEAJCQAgIASHwywREgP0yH/lUCAgBISAEhIAQEAJCQAgIASHQbQT+P2UfXuVI2R6xAAAAAElFTkSuQmCC)"
      ]
    },
    {
      "cell_type": "markdown",
      "metadata": {
        "id": "6q13G26wnbbe",
        "colab_type": "text"
      },
      "source": [
        "# China 데이터 준비\n",
        "```\n",
        "NE/ (normal endometrium)\n",
        "  Luteal/\n",
        "  Menstrual/\n",
        "  Follicular/\n",
        "EP/ (endometrial polyp)\n",
        "EH/ (endometrial hyperplasia)\n",
        "  Simple/\n",
        "  Complex/\n",
        "EA (endometrioid adenocarcinoma)\n",
        "\n",
        "--> modeling for classifying NE/EP/EH/EA: train & test\n",
        "```"
      ]
    },
    {
      "cell_type": "code",
      "metadata": {
        "id": "3kfA2NlJjYop",
        "colab_type": "code",
        "colab": {
          "base_uri": "https://localhost:8080/",
          "height": 34
        },
        "outputId": "53f7abaf-cd2e-4ddc-fb0c-4aec52165eb2"
      },
      "source": [
        "path_china = '/content/drive/My Drive/ImageAnalysis/digital_pathology/ImageDataset/EMCA/china/histopathological image dataset for ET'\n",
        "%cd $path_china"
      ],
      "execution_count": null,
      "outputs": [
        {
          "output_type": "stream",
          "text": [
            "/content/drive/My Drive/ImageAnalysis/digital_pathology/ImageDataset/EMCA/china/histopathological image dataset for ET\n"
          ],
          "name": "stdout"
        }
      ]
    },
    {
      "cell_type": "code",
      "metadata": {
        "id": "WR3UqUfjiFrY",
        "colab_type": "code",
        "colab": {
          "base_uri": "https://localhost:8080/",
          "height": 34
        },
        "outputId": "05d17600-bf10-4a35-9c79-a9e63db50b27"
      },
      "source": [
        "os.listdir(path_china+'/NE')"
      ],
      "execution_count": null,
      "outputs": [
        {
          "output_type": "execute_result",
          "data": {
            "text/plain": [
              "['Follicular', 'Luteal', 'Menstrual']"
            ]
          },
          "metadata": {
            "tags": []
          },
          "execution_count": 12
        }
      ]
    },
    {
      "cell_type": "code",
      "metadata": {
        "id": "skHSLGfnt0yD",
        "colab_type": "code",
        "colab": {
          "base_uri": "https://localhost:8080/",
          "height": 34
        },
        "outputId": "07f1100f-521a-4bb3-c46f-9d1dafaef2d0"
      },
      "source": [
        "china_normal_luteal=[]\n",
        "china_normal_menstrual=[]\n",
        "china_normal_follicular=[]\n",
        "\n",
        "for file_name in glob.glob(path_china+'/NE/Luteal/*.JPG'):\n",
        "  china_normal_luteal.append(file_name)\n",
        "for file_name in glob.glob(path_china+'/NE/Menstrual/*.JPG'):\n",
        "  china_normal_menstrual.append(file_name)\n",
        "for file_name in glob.glob(path_china+'/NE/Follicular/*.JPG'):\n",
        "  china_normal_follicular.append(file_name)\n",
        "\n",
        "len(china_normal_luteal), len(china_normal_menstrual), len(china_normal_follicular)"
      ],
      "execution_count": null,
      "outputs": [
        {
          "output_type": "execute_result",
          "data": {
            "text/plain": [
              "(600, 21, 712)"
            ]
          },
          "metadata": {
            "tags": []
          },
          "execution_count": 11
        }
      ]
    },
    {
      "cell_type": "code",
      "metadata": {
        "id": "SRfjOBx61XhR",
        "colab_type": "code",
        "colab": {
          "base_uri": "https://localhost:8080/",
          "height": 34
        },
        "outputId": "ab1c7d55-fff1-49c4-ce6e-11f873e5fff5"
      },
      "source": [
        "china_polyp=[]\n",
        "for file_name in glob.glob(path_china+'/EP/*.JPG'):\n",
        "  china_polyp.append(file_name)\n",
        "len(china_polyp)"
      ],
      "execution_count": null,
      "outputs": [
        {
          "output_type": "execute_result",
          "data": {
            "text/plain": [
              "636"
            ]
          },
          "metadata": {
            "tags": []
          },
          "execution_count": 14
        }
      ]
    },
    {
      "cell_type": "code",
      "metadata": {
        "id": "vmA21M94jknq",
        "colab_type": "code",
        "colab": {
          "base_uri": "https://localhost:8080/",
          "height": 34
        },
        "outputId": "78ffc47d-8652-4756-96f6-6e89f04c17d9"
      },
      "source": [
        "os.listdir(path_china+'/EH')"
      ],
      "execution_count": null,
      "outputs": [
        {
          "output_type": "execute_result",
          "data": {
            "text/plain": [
              "['Complex', 'Simple']"
            ]
          },
          "metadata": {
            "tags": []
          },
          "execution_count": 15
        }
      ]
    },
    {
      "cell_type": "code",
      "metadata": {
        "id": "HCcIgOwn1X1s",
        "colab_type": "code",
        "colab": {
          "base_uri": "https://localhost:8080/",
          "height": 34
        },
        "outputId": "d66dc61c-131f-4f4b-df23-7072b6614ee2"
      },
      "source": [
        "china_hpl_simple=[]\n",
        "china_hpl_complex=[]\n",
        "\n",
        "for file_name in glob.glob(path_china+'/EH/Simple/*.JPG'):\n",
        "  china_hpl_simple.append(file_name)\n",
        "for file_name in glob.glob(path_china+'/EH/Complex/*.JPG'):\n",
        "  china_hpl_complex.append(file_name)\n",
        "len(china_hpl_simple), len(china_hpl_complex)"
      ],
      "execution_count": null,
      "outputs": [
        {
          "output_type": "execute_result",
          "data": {
            "text/plain": [
              "(516, 282)"
            ]
          },
          "metadata": {
            "tags": []
          },
          "execution_count": 16
        }
      ]
    },
    {
      "cell_type": "code",
      "metadata": {
        "id": "eC2GdUWG1Zry",
        "colab_type": "code",
        "colab": {
          "base_uri": "https://localhost:8080/",
          "height": 34
        },
        "outputId": "eb842fc6-09fd-4708-a52a-8361394f1ed1"
      },
      "source": [
        "china_carcinoma=[]\n",
        "for file_name in glob.glob(path_china+'/EA/*.JPG'):\n",
        "  china_carcinoma.append(file_name)\n",
        "len(china_carcinoma)"
      ],
      "execution_count": null,
      "outputs": [
        {
          "output_type": "execute_result",
          "data": {
            "text/plain": [
              "535"
            ]
          },
          "metadata": {
            "tags": []
          },
          "execution_count": 17
        }
      ]
    },
    {
      "cell_type": "code",
      "metadata": {
        "id": "7s4dJUwqj9QX",
        "colab_type": "code",
        "colab": {}
      },
      "source": [
        ""
      ],
      "execution_count": null,
      "outputs": []
    }
  ]
}