{
  "nbformat": 4,
  "nbformat_minor": 0,
  "metadata": {
    "colab": {
      "name": "image_preprocessing.ipynb",
      "provenance": [],
      "collapsed_sections": [],
      "toc_visible": true,
      "mount_file_id": "1tHuFpz8oluaX-pCtz2b4ml32AC5LZb6R",
      "authorship_tag": "ABX9TyOxtxORB65j48hG9EdWy5za",
      "include_colab_link": true
    },
    "kernelspec": {
      "name": "python3",
      "display_name": "Python 3"
    },
    "accelerator": "GPU"
  },
  "cells": [
    {
      "cell_type": "markdown",
      "metadata": {
        "id": "view-in-github",
        "colab_type": "text"
      },
      "source": [
        "<a href=\"https://colab.research.google.com/github/hettiepath/EMCA/blob/master/image_preprocessing.ipynb\" target=\"_parent\"><img src=\"https://colab.research.google.com/assets/colab-badge.svg\" alt=\"Open In Colab\"/></a>"
      ]
    },
    {
      "cell_type": "markdown",
      "metadata": {
        "id": "sxoTQUZIrUGH",
        "colab_type": "text"
      },
      "source": [
        "# 경로 설정 후 openslide-python 라이브러리 설치"
      ]
    },
    {
      "cell_type": "markdown",
      "metadata": {
        "id": "zlP99skKwrJi",
        "colab_type": "text"
      },
      "source": [
        "https://pypi.org/project/openslide-python/"
      ]
    },
    {
      "cell_type": "code",
      "metadata": {
        "id": "dXh5-LYNwwe3",
        "colab_type": "code",
        "colab": {
          "base_uri": "https://localhost:8080/",
          "height": 34
        },
        "outputId": "57904e58-9442-4ff2-eab1-1f5e9d67933e"
      },
      "source": [
        "%cd '/content/drive/My Drive/ImageAnalysis/digital_pathology/ImageDataset/EMCA'"
      ],
      "execution_count": null,
      "outputs": [
        {
          "output_type": "stream",
          "text": [
            "/content/drive/My Drive/ImageAnalysis/digital_pathology/ImageDataset/EMCA\n"
          ],
          "name": "stdout"
        }
      ]
    },
    {
      "cell_type": "code",
      "metadata": {
        "id": "WBskiPCSwLu6",
        "colab_type": "code",
        "colab": {
          "base_uri": "https://localhost:8080/",
          "height": 209
        },
        "outputId": "fb4218c1-b100-41a1-84e7-7ed04da779af"
      },
      "source": [
        "!wget https://files.pythonhosted.org/packages/26/5a/5b0adeabce81f018a9e4ffe9a419536064bc95c1b12194aff9b7e48f91f7/openslide-python-1.1.1.tar.gz"
      ],
      "execution_count": null,
      "outputs": [
        {
          "output_type": "stream",
          "text": [
            "--2020-06-30 05:46:56--  https://files.pythonhosted.org/packages/26/5a/5b0adeabce81f018a9e4ffe9a419536064bc95c1b12194aff9b7e48f91f7/openslide-python-1.1.1.tar.gz\n",
            "Resolving files.pythonhosted.org (files.pythonhosted.org)... 151.101.1.63, 151.101.65.63, 151.101.129.63, ...\n",
            "Connecting to files.pythonhosted.org (files.pythonhosted.org)|151.101.1.63|:443... connected.\n",
            "HTTP request sent, awaiting response... 200 OK\n",
            "Length: 312218 (305K) [application/octet-stream]\n",
            "Saving to: ‘openslide-python-1.1.1.tar.gz’\n",
            "\n",
            "\r          openslide   0%[                    ]       0  --.-KB/s               \ropenslide-python-1. 100%[===================>] 304.90K  --.-KB/s    in 0.06s   \n",
            "\n",
            "2020-06-30 05:46:56 (5.16 MB/s) - ‘openslide-python-1.1.1.tar.gz’ saved [312218/312218]\n",
            "\n"
          ],
          "name": "stdout"
        }
      ]
    },
    {
      "cell_type": "code",
      "metadata": {
        "id": "1CDs0kFrw6Vi",
        "colab_type": "code",
        "colab": {
          "base_uri": "https://localhost:8080/",
          "height": 1000
        },
        "outputId": "8c7d6dad-935a-4d03-f0fe-56413e26c29a"
      },
      "source": [
        "!tar -xvzf openslide-python-1.1.1.tar.gz"
      ],
      "execution_count": null,
      "outputs": [
        {
          "output_type": "stream",
          "text": [
            "openslide-python-1.1.1/\n",
            "openslide-python-1.1.1/openslide_python.egg-info/\n",
            "openslide-python-1.1.1/openslide_python.egg-info/requires.txt\n",
            "openslide-python-1.1.1/openslide_python.egg-info/zip-safe\n",
            "openslide-python-1.1.1/openslide_python.egg-info/SOURCES.txt\n",
            "openslide-python-1.1.1/openslide_python.egg-info/top_level.txt\n",
            "openslide-python-1.1.1/openslide_python.egg-info/PKG-INFO\n",
            "openslide-python-1.1.1/openslide_python.egg-info/dependency_links.txt\n",
            "openslide-python-1.1.1/setup.py\n",
            "openslide-python-1.1.1/LICENSE.txt\n",
            "openslide-python-1.1.1/PKG-INFO\n",
            "openslide-python-1.1.1/doc/\n",
            "openslide-python-1.1.1/doc/jekyll_fix.py\n",
            "openslide-python-1.1.1/doc/index.rst\n",
            "openslide-python-1.1.1/doc/conf.py\n",
            "openslide-python-1.1.1/tests/\n",
            "openslide-python-1.1.1/tests/test_openslide.py\n",
            "openslide-python-1.1.1/tests/test_base.py\n",
            "openslide-python-1.1.1/tests/boxes.png\n",
            "openslide-python-1.1.1/tests/small.svs\n",
            "openslide-python-1.1.1/tests/test_imageslide.py\n",
            "openslide-python-1.1.1/tests/test_deepzoom.py\n",
            "openslide-python-1.1.1/tests/unreadable.svs\n",
            "openslide-python-1.1.1/tests/boxes.tiff\n",
            "openslide-python-1.1.1/tests/unopenable.tiff\n",
            "openslide-python-1.1.1/tests/__init__.py\n",
            "openslide-python-1.1.1/examples/\n",
            "openslide-python-1.1.1/examples/deepzoom/\n",
            "openslide-python-1.1.1/examples/deepzoom/static/\n",
            "openslide-python-1.1.1/examples/deepzoom/static/images/\n",
            "openslide-python-1.1.1/examples/deepzoom/static/images/rotateleft_pressed.png\n",
            "openslide-python-1.1.1/examples/deepzoom/static/images/rotateleft_rest.png\n",
            "openslide-python-1.1.1/examples/deepzoom/static/images/next_pressed.png\n",
            "openslide-python-1.1.1/examples/deepzoom/static/images/zoomout_rest.png\n",
            "openslide-python-1.1.1/examples/deepzoom/static/images/rotateleft_hover.png\n",
            "openslide-python-1.1.1/examples/deepzoom/static/images/fullpage_hover.png\n",
            "openslide-python-1.1.1/examples/deepzoom/static/images/rotateright_pressed.png\n",
            "openslide-python-1.1.1/examples/deepzoom/static/images/previous_rest.png\n",
            "openslide-python-1.1.1/examples/deepzoom/static/images/rotateright_rest.png\n",
            "openslide-python-1.1.1/examples/deepzoom/static/images/home_grouphover.png\n",
            "openslide-python-1.1.1/examples/deepzoom/static/images/next_hover.png\n",
            "openslide-python-1.1.1/examples/deepzoom/static/images/zoomin_pressed.png\n",
            "openslide-python-1.1.1/examples/deepzoom/static/images/previous_hover.png\n",
            "openslide-python-1.1.1/examples/deepzoom/static/images/previous_pressed.png\n",
            "openslide-python-1.1.1/examples/deepzoom/static/images/home_hover.png\n",
            "openslide-python-1.1.1/examples/deepzoom/static/images/home_rest.png\n",
            "openslide-python-1.1.1/examples/deepzoom/static/images/zoomin_grouphover.png\n",
            "openslide-python-1.1.1/examples/deepzoom/static/images/fullpage_rest.png\n",
            "openslide-python-1.1.1/examples/deepzoom/static/images/rotateright_grouphover.png\n",
            "openslide-python-1.1.1/examples/deepzoom/static/images/fullpage_grouphover.png\n",
            "openslide-python-1.1.1/examples/deepzoom/static/images/zoomin_hover.png\n",
            "openslide-python-1.1.1/examples/deepzoom/static/images/zoomout_pressed.png\n",
            "openslide-python-1.1.1/examples/deepzoom/static/images/fullpage_pressed.png\n",
            "openslide-python-1.1.1/examples/deepzoom/static/images/zoomin_rest.png\n",
            "openslide-python-1.1.1/examples/deepzoom/static/images/rotateright_hover.png\n",
            "openslide-python-1.1.1/examples/deepzoom/static/images/next_grouphover.png\n",
            "openslide-python-1.1.1/examples/deepzoom/static/images/previous_grouphover.png\n",
            "openslide-python-1.1.1/examples/deepzoom/static/images/rotateleft_grouphover.png\n",
            "openslide-python-1.1.1/examples/deepzoom/static/images/next_rest.png\n",
            "openslide-python-1.1.1/examples/deepzoom/static/images/home_pressed.png\n",
            "openslide-python-1.1.1/examples/deepzoom/static/images/zoomout_grouphover.png\n",
            "openslide-python-1.1.1/examples/deepzoom/static/images/zoomout_hover.png\n",
            "openslide-python-1.1.1/examples/deepzoom/static/jquery.js\n",
            "openslide-python-1.1.1/examples/deepzoom/static/openseadragon.js\n",
            "openslide-python-1.1.1/examples/deepzoom/static/openseadragon-scalebar.js\n",
            "openslide-python-1.1.1/examples/deepzoom/deepzoom_server.py\n",
            "openslide-python-1.1.1/examples/deepzoom/templates/\n",
            "openslide-python-1.1.1/examples/deepzoom/templates/files.html\n",
            "openslide-python-1.1.1/examples/deepzoom/templates/slide-fullpage.html\n",
            "openslide-python-1.1.1/examples/deepzoom/templates/slide-multipane.html\n",
            "openslide-python-1.1.1/examples/deepzoom/deepzoom_tile.py\n",
            "openslide-python-1.1.1/examples/deepzoom/deepzoom_multiserver.py\n",
            "openslide-python-1.1.1/lgpl-2.1.txt\n",
            "openslide-python-1.1.1/README.rst\n",
            "openslide-python-1.1.1/openslide/\n",
            "openslide-python-1.1.1/openslide/_version.py\n",
            "openslide-python-1.1.1/openslide/lowlevel.py\n",
            "openslide-python-1.1.1/openslide/deepzoom.py\n",
            "openslide-python-1.1.1/openslide/_convert.c\n",
            "openslide-python-1.1.1/openslide/__init__.py\n",
            "openslide-python-1.1.1/CHANGELOG.txt\n",
            "openslide-python-1.1.1/MANIFEST.in\n",
            "openslide-python-1.1.1/setup.cfg\n"
          ],
          "name": "stdout"
        }
      ]
    },
    {
      "cell_type": "markdown",
      "metadata": {
        "id": "kTz3kFKUzobT",
        "colab_type": "text"
      },
      "source": [
        "## openslide 라이브러리 작동을 위한 셋팅 변경\n",
        "https://github.com/pypa/setuptools/issues/2017"
      ]
    },
    {
      "cell_type": "code",
      "metadata": {
        "id": "humWFZqTyNj6",
        "colab_type": "code",
        "colab": {
          "base_uri": "https://localhost:8080/",
          "height": 266
        },
        "outputId": "ae1648a0-d098-4b9d-e3dd-07c62bd2d35e"
      },
      "source": [
        "# !pip3 install setuptools==45"
      ],
      "execution_count": null,
      "outputs": [
        {
          "output_type": "stream",
          "text": [
            "Collecting setuptools==45\n",
            "  Using cached https://files.pythonhosted.org/packages/af/e7/02db816dc88c598281bacebbb7ccf2c9f1a6164942e88f1a0fded8643659/setuptools-45.0.0-py2.py3-none-any.whl\n",
            "\u001b[31mERROR: datascience 0.10.6 has requirement folium==0.2.1, but you'll have folium 0.8.3 which is incompatible.\u001b[0m\n",
            "Installing collected packages: setuptools\n",
            "  Found existing installation: setuptools 46.0.0\n",
            "    Uninstalling setuptools-46.0.0:\n",
            "      Successfully uninstalled setuptools-46.0.0\n",
            "Successfully installed setuptools-45.0.0\n"
          ],
          "name": "stdout"
        },
        {
          "output_type": "display_data",
          "data": {
            "application/vnd.colab-display-data+json": {
              "pip_warning": {
                "packages": [
                  "pkg_resources",
                  "setuptools"
                ]
              }
            }
          },
          "metadata": {
            "tags": []
          }
        }
      ]
    },
    {
      "cell_type": "code",
      "metadata": {
        "id": "PMmVkIG_hLip",
        "colab_type": "code",
        "colab": {}
      },
      "source": [
        "from setuptools import Feature"
      ],
      "execution_count": null,
      "outputs": []
    },
    {
      "cell_type": "code",
      "metadata": {
        "id": "8msW-nInxgAW",
        "colab_type": "code",
        "colab": {
          "base_uri": "https://localhost:8080/",
          "height": 54
        },
        "outputId": "2abf8704-21f7-4cdd-bbe7-c3bc04c02979"
      },
      "source": [
        "%cd '/content/drive/My Drive/ImageAnalysis/digital_pathology/ImageDataset/EMCA/openslide-python-1.1.1'"
      ],
      "execution_count": null,
      "outputs": [
        {
          "output_type": "stream",
          "text": [
            "/content/drive/My Drive/ImageAnalysis/digital_pathology/ImageDataset/EMCA/openslide-python-1.1.1\n"
          ],
          "name": "stdout"
        }
      ]
    },
    {
      "cell_type": "markdown",
      "metadata": {
        "id": "0013WsbhrrBN",
        "colab_type": "text"
      },
      "source": [
        "# openslide 라이브러리 설치를 위한 리눅스 명령어"
      ]
    },
    {
      "cell_type": "markdown",
      "metadata": {
        "id": "IH6I7bdkpJtJ",
        "colab_type": "text"
      },
      "source": [
        "https://github.com/openslide/openslide-python/issues/35"
      ]
    },
    {
      "cell_type": "code",
      "metadata": {
        "id": "Y4SrkuzZo6jv",
        "colab_type": "code",
        "colab": {
          "base_uri": "https://localhost:8080/",
          "height": 157
        },
        "outputId": "6d0acf65-4115-441c-ebe3-ff9004f42371"
      },
      "source": [
        "!sudo apt-get install openslide-tools"
      ],
      "execution_count": null,
      "outputs": [
        {
          "output_type": "stream",
          "text": [
            "Reading package lists... Done\n",
            "Building dependency tree       \n",
            "Reading state information... Done\n",
            "openslide-tools is already the newest version (3.4.1+dfsg-2).\n",
            "The following package was automatically installed and is no longer required:\n",
            "  libnvidia-common-440\n",
            "Use 'sudo apt autoremove' to remove it.\n",
            "0 upgraded, 0 newly installed, 0 to remove and 33 not upgraded.\n"
          ],
          "name": "stdout"
        }
      ]
    },
    {
      "cell_type": "code",
      "metadata": {
        "id": "vq4w_Jqyo6aX",
        "colab_type": "code",
        "colab": {
          "base_uri": "https://localhost:8080/",
          "height": 157
        },
        "outputId": "c21151dc-8c18-498d-e3b8-f3b14345b9ad"
      },
      "source": [
        "!sudo apt-get install python-openslide"
      ],
      "execution_count": null,
      "outputs": [
        {
          "output_type": "stream",
          "text": [
            "Reading package lists... Done\n",
            "Building dependency tree       \n",
            "Reading state information... Done\n",
            "python-openslide is already the newest version (1.1.1-2ubuntu4).\n",
            "The following package was automatically installed and is no longer required:\n",
            "  libnvidia-common-440\n",
            "Use 'sudo apt autoremove' to remove it.\n",
            "0 upgraded, 0 newly installed, 0 to remove and 33 not upgraded.\n"
          ],
          "name": "stdout"
        }
      ]
    },
    {
      "cell_type": "code",
      "metadata": {
        "id": "1XjEcY9noszJ",
        "colab_type": "code",
        "colab": {
          "base_uri": "https://localhost:8080/",
          "height": 52
        },
        "outputId": "db2fb48e-872e-4f21-f5f7-b78df301d18b"
      },
      "source": [
        "!pip install openslide-python"
      ],
      "execution_count": null,
      "outputs": [
        {
          "output_type": "stream",
          "text": [
            "Requirement already satisfied: openslide-python in /usr/local/lib/python3.6/dist-packages (1.1.1)\n",
            "Requirement already satisfied: Pillow in /usr/local/lib/python3.6/dist-packages (from openslide-python) (7.0.0)\n"
          ],
          "name": "stdout"
        }
      ]
    },
    {
      "cell_type": "code",
      "metadata": {
        "id": "AWY81tbvxRV_",
        "colab_type": "code",
        "colab": {
          "base_uri": "https://localhost:8080/",
          "height": 34
        },
        "outputId": "ee582fb1-149b-4d31-ba5a-5ba03c7af884"
      },
      "source": [
        "# !python setup.py install --single-version-externally-managed --record /dev/null"
      ],
      "execution_count": null,
      "outputs": [
        {
          "output_type": "stream",
          "text": [
            "python3: can't open file 'setup.py': [Errno 2] No such file or directory\n"
          ],
          "name": "stdout"
        }
      ]
    },
    {
      "cell_type": "markdown",
      "metadata": {
        "id": "EVUfNT9xliM1",
        "colab_type": "text"
      },
      "source": [
        "## openslide 라이브러리 import 과정에서 환경변수 설정 하는 방법\n",
        "https://stackoverflow.com/questions/43987081/openslide-python-import-error"
      ]
    },
    {
      "cell_type": "code",
      "metadata": {
        "id": "XpvJBGvalOYJ",
        "colab_type": "code",
        "colab": {}
      },
      "source": [
        "import os\n",
        "# os.environ['PATH'] = '/usr/local/lib/python3.6/dist-packages/openslide/bin' + ';' + os.environ['PATH']\n",
        "os.environ['PATH'] = '/content/drive/My Drive/ImageAnalysis/digital_pathology/ImageDataset/EMCA/openslide-python-1.1.1/build/lib.linux-x86_64-3.6/openslide/bin' + ';' + os.environ['PATH']"
      ],
      "execution_count": null,
      "outputs": []
    },
    {
      "cell_type": "code",
      "metadata": {
        "id": "MinmI5xStB7I",
        "colab_type": "code",
        "colab": {}
      },
      "source": [
        "import openslide"
      ],
      "execution_count": null,
      "outputs": []
    },
    {
      "cell_type": "markdown",
      "metadata": {
        "id": "NPFJmI8bssjn",
        "colab_type": "text"
      },
      "source": [
        "# UCEC 데이터를 활용한 image 출력 방법 \n",
        "\n",
        "```\n",
        "Endometrioid/\n",
        " --> test sample for histologic_type (by using modeling of classification)\n",
        " --> modeling for histologic_grade : train & test\n",
        "  Grade1/\n",
        "  Grade2/\n",
        "  Grade3/\n",
        "```"
      ]
    },
    {
      "cell_type": "markdown",
      "metadata": {
        "id": "f0mnKczxqzu8",
        "colab_type": "text"
      },
      "source": [
        "https://www.kaggle.com/wouterbulten/getting-started-with-the-panda-dataset?select=train_images"
      ]
    },
    {
      "cell_type": "code",
      "metadata": {
        "id": "9qMeyV4GlyRr",
        "colab_type": "code",
        "colab": {}
      },
      "source": [
        "import os\n",
        "import glob\n",
        "import pandas as pd"
      ],
      "execution_count": null,
      "outputs": []
    },
    {
      "cell_type": "code",
      "metadata": {
        "id": "J4_pMeiTgqXZ",
        "colab_type": "code",
        "colab": {
          "base_uri": "https://localhost:8080/",
          "height": 34
        },
        "outputId": "d7cc4c24-b16c-4cc4-d920-ee8819ce8503"
      },
      "source": [
        "%cd '/content/drive/My Drive/ImageAnalysis/digital_pathology/ImageDataset/EMCA'"
      ],
      "execution_count": null,
      "outputs": [
        {
          "output_type": "stream",
          "text": [
            "/content/drive/My Drive/ImageAnalysis/digital_pathology/ImageDataset/EMCA\n"
          ],
          "name": "stdout"
        }
      ]
    },
    {
      "cell_type": "code",
      "metadata": {
        "id": "mdGMl8H9rZaX",
        "colab_type": "code",
        "colab": {}
      },
      "source": [
        "py_ucec_df = pd.read_csv('ucec.csv',  encoding='utf-8')"
      ],
      "execution_count": null,
      "outputs": []
    },
    {
      "cell_type": "code",
      "metadata": {
        "id": "nPvcA5Kdh5-k",
        "colab_type": "code",
        "colab": {}
      },
      "source": [
        "ucec_case_names=[]\n",
        "ucec_grade=[]\n",
        "ucec_type=[]\n",
        "for i in range(len(py_ucec_df[['case_id', 'histologic_grade', 'histologic_type']])):\n",
        "  ucec_case_names.append(py_ucec_df[['case_id', 'histologic_grade', 'histologic_type']]['case_id'][i])\n",
        "  ucec_grade.append(py_ucec_df[['case_id', 'histologic_grade', 'histologic_type']]['histologic_grade'][i])\n",
        "  ucec_type.append(py_ucec_df[['case_id', 'histologic_grade', 'histologic_type']]['histologic_type'][i])"
      ],
      "execution_count": null,
      "outputs": []
    },
    {
      "cell_type": "code",
      "metadata": {
        "id": "IdwQ78el6owG",
        "colab_type": "code",
        "colab": {
          "base_uri": "https://localhost:8080/",
          "height": 34
        },
        "outputId": "02fc5a7a-c4bb-4124-c7fb-cc67d35b52bb"
      },
      "source": [
        "path_ucec = '/content/drive/My Drive/ImageAnalysis/digital_pathology/ImageDataset/EMCA/CPTAC-UCEC'\n",
        "%cd $path_ucec"
      ],
      "execution_count": null,
      "outputs": [
        {
          "output_type": "stream",
          "text": [
            "/content/drive/My Drive/ImageAnalysis/digital_pathology/ImageDataset/EMCA/CPTAC-UCEC\n"
          ],
          "name": "stdout"
        }
      ]
    },
    {
      "cell_type": "code",
      "metadata": {
        "id": "8zp4zz8ahmbj",
        "colab_type": "code",
        "colab": {
          "base_uri": "https://localhost:8080/",
          "height": 52
        },
        "outputId": "69450cfb-c03a-416c-81b1-83d7d721a2d3"
      },
      "source": [
        "file_name = py_ucec_df[['case_id', 'histologic_grade', 'histologic_type']]['case_id'][0]\n",
        "glob.glob(path_ucec+'/'+file_name+'*.svs')"
      ],
      "execution_count": null,
      "outputs": [
        {
          "output_type": "execute_result",
          "data": {
            "text/plain": [
              "['/content/drive/My Drive/ImageAnalysis/digital_pathology/ImageDataset/EMCA/CPTAC-UCEC/C3L-00006-26.svs',\n",
              " '/content/drive/My Drive/ImageAnalysis/digital_pathology/ImageDataset/EMCA/CPTAC-UCEC/C3L-00006-21.svs']"
            ]
          },
          "metadata": {
            "tags": []
          },
          "execution_count": 10
        }
      ]
    },
    {
      "cell_type": "code",
      "metadata": {
        "id": "JbYplJagkWc2",
        "colab_type": "code",
        "colab": {}
      },
      "source": [
        "# Get Image names stored in \"Images\" folder\n",
        "ucec_path_names=[]\n",
        "for file_name in ucec_case_names:\n",
        "  for file in glob.glob(path_ucec+'/'+file_name+'*.svs'):\n",
        "    ucec_path_names.append(file)"
      ],
      "execution_count": null,
      "outputs": []
    },
    {
      "cell_type": "code",
      "metadata": {
        "id": "89UENYDzj2CZ",
        "colab_type": "code",
        "colab": {
          "base_uri": "https://localhost:8080/",
          "height": 34
        },
        "outputId": "928f308e-e0d5-4059-bbf0-1b8e50060ccb"
      },
      "source": [
        "len(ucec_path_names)"
      ],
      "execution_count": null,
      "outputs": [
        {
          "output_type": "execute_result",
          "data": {
            "text/plain": [
              "879"
            ]
          },
          "metadata": {
            "tags": []
          },
          "execution_count": 12
        }
      ]
    },
    {
      "cell_type": "markdown",
      "metadata": {
        "id": "IFqQyyakrBeu",
        "colab_type": "text"
      },
      "source": [
        ""
      ]
    },
    {
      "cell_type": "code",
      "metadata": {
        "id": "m18ehWYzrIR3",
        "colab_type": "code",
        "colab": {}
      },
      "source": [
        "import os\n",
        "\n",
        "# There are two ways to load the data from the PANDA dataset:\n",
        "# Option 1: Load images using openslide\n",
        "import openslide\n",
        "# Option 2: Load images using skimage (requires that tifffile is installed)\n",
        "import skimage.io\n",
        "\n",
        "# General packages\n",
        "import pandas as pd\n",
        "import numpy as np\n",
        "import matplotlib\n",
        "import matplotlib.pyplot as plt\n",
        "import PIL\n",
        "from IPython.display import Image, display\n",
        "\n",
        "# Plotly for the interactive viewer (see last section)\n",
        "import plotly.graph_objs as go"
      ],
      "execution_count": null,
      "outputs": []
    },
    {
      "cell_type": "code",
      "metadata": {
        "id": "jow3oOvErLPG",
        "colab_type": "code",
        "colab": {
          "base_uri": "https://localhost:8080/",
          "height": 273
        },
        "outputId": "aa2c6fe6-2f0a-41dc-9948-de700a555623"
      },
      "source": [
        "# Open the image (does not yet read the image into memory)\n",
        "image = openslide.OpenSlide(ucec_path_names[0])\n",
        "\n",
        "# Read a specific region of the image starting at upper left coordinate (x=17800, y=19500) on level 0 and extracting a 256*256 pixel patch.\n",
        "# At this point image data is read from the file and loaded into memory.\n",
        "patch = image.read_region((17800,19500), 0, (256, 256))\n",
        "\n",
        "# Display the image\n",
        "display(patch)\n",
        "\n",
        "# Close the opened slide after use\n",
        "image.close()"
      ],
      "execution_count": null,
      "outputs": [
        {
          "output_type": "display_data",
          "data": {
            "image/png": "[encoded data removed]",
            "text/plain": [
              "<PIL.Image.Image image mode=RGBA size=256x256 at 0x7F615744B1D0>"
            ]
          },
          "metadata": {
            "tags": []
          }
        }
      ]
    },
    {
      "cell_type": "code",
      "metadata": {
        "id": "kg0hx5hUrhen",
        "colab_type": "code",
        "colab": {}
      },
      "source": [
        ""
      ],
      "execution_count": null,
      "outputs": []
    }
  ]
}
