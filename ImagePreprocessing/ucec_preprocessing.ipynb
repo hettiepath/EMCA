{
  "nbformat": 4,
  "nbformat_minor": 0,
  "metadata": {
    "colab": {
      "name": "ucec_preprocessing.ipynb",
      "provenance": [],
      "toc_visible": true,
      "mount_file_id": "1VF7cykWO53VL5kQVhF7wRE4wEMuc8u9f",
      "authorship_tag": "ABX9TyOtdiQ6ktMKsr+gJThFQdPb",
      "include_colab_link": true
    },
    "kernelspec": {
      "name": "python3",
      "display_name": "Python 3"
    },
    "accelerator": "GPU"
  },
  "cells": [
    {
      "cell_type": "markdown",
      "metadata": {
        "id": "view-in-github",
        "colab_type": "text"
      },
      "source": [
        "<a href=\"https://colab.research.google.com/github/hettiepath/EMCA/blob/master/ucec_preprocessing.ipynb\" target=\"_parent\"><img src=\"https://colab.research.google.com/assets/colab-badge.svg\" alt=\"Open In Colab\"/></a>"
      ]
    },
    {
      "cell_type": "code",
      "metadata": {
        "id": "9qMeyV4GlyRr",
        "colab_type": "code",
        "colab": {}
      },
      "source": [
        "import os\n",
        "import glob\n",
        "import pandas as pd\n",
        "import numpy as np\n",
        "import matplotlib\n",
        "import matplotlib.pyplot as plt\n",
        "import PIL\n",
        "from IPython.display import Image, display"
      ],
      "execution_count": 3,
      "outputs": []
    },
    {
      "cell_type": "markdown",
      "metadata": {
        "id": "q-vrNm0EmFy5",
        "colab_type": "text"
      },
      "source": [
        "## UCEC 데이터 준비\n",
        "\n",
        "```\n",
        "Endometrioid/\n",
        " --> test sample for histologic_type (by using modeling of classification)\n",
        " --> modeling for histologic_grade : train & test\n",
        "  Grade1/\n",
        "  Grade2/\n",
        "  Grade3/\n",
        "Serous/\n",
        "Etc_carcinoma/\n",
        "```\n",
        "\n"
      ]
    },
    {
      "cell_type": "markdown",
      "metadata": {
        "id": "1AH-Rf3f6Djr",
        "colab_type": "text"
      },
      "source": [
        "### CPTAC-UCEC\n",
        "https://wiki.cancerimagingarchive.net/display/Public/CPTAC-UCEC\n",
        "\n",
        "This collection contains subjects from the National Cancer Institute’s Clinical Proteomic Tumor Analysis Consortium Uterine Corpus Endometrial Carcinoma (CPTAC-UCEC) cohort.\n",
        "\n",
        "미국의 국립암연구소(NCI)에서 공개한 자궁내막암 현미경 사진(.svs) 및 임상 정보"
      ]
    },
    {
      "cell_type": "code",
      "metadata": {
        "id": "J4_pMeiTgqXZ",
        "colab_type": "code",
        "colab": {
          "base_uri": "https://localhost:8080/",
          "height": 34
        },
        "outputId": "9a6bd54e-0227-4998-a730-18f6d25085eb"
      },
      "source": [
        "# 임상 정보 요약한 csv 파일 접근 위한 경로 설정\n",
        "%cd '/content/drive/My Drive/ImageAnalysis/digital_pathology/ImageDataset/EMCA'"
      ],
      "execution_count": 9,
      "outputs": [
        {
          "output_type": "stream",
          "text": [
            "/content/drive/My Drive/ImageAnalysis/digital_pathology/ImageDataset/EMCA\n"
          ],
          "name": "stdout"
        }
      ]
    },
    {
      "cell_type": "code",
      "metadata": {
        "id": "mdGMl8H9rZaX",
        "colab_type": "code",
        "colab": {}
      },
      "source": [
        "py_ucec_df = pd.read_csv('ucec.csv',  encoding='utf-8')\n",
        "# py_ucec_df"
      ],
      "execution_count": 10,
      "outputs": []
    },
    {
      "cell_type": "code",
      "metadata": {
        "colab_type": "code",
        "id": "busUwIdNf_X6",
        "colab": {
          "base_uri": "https://localhost:8080/",
          "height": 407
        },
        "outputId": "35776514-fe4a-4e8d-8035-dd939a7ec60b"
      },
      "source": [
        "# 분석에 사용할 자료만 추출\n",
        "py_ucec_df[['case_id', 'histologic_grade', 'histologic_type']]"
      ],
      "execution_count": 11,
      "outputs": [
        {
          "output_type": "execute_result",
          "data": {
            "text/html": [
              "<div>\n",
              "<style scoped>\n",
              "    .dataframe tbody tr th:only-of-type {\n",
              "        vertical-align: middle;\n",
              "    }\n",
              "\n",
              "    .dataframe tbody tr th {\n",
              "        vertical-align: top;\n",
              "    }\n",
              "\n",
              "    .dataframe thead th {\n",
              "        text-align: right;\n",
              "    }\n",
              "</style>\n",
              "<table border=\"1\" class=\"dataframe\">\n",
              "  <thead>\n",
              "    <tr style=\"text-align: right;\">\n",
              "      <th></th>\n",
              "      <th>case_id</th>\n",
              "      <th>histologic_grade</th>\n",
              "      <th>histologic_type</th>\n",
              "    </tr>\n",
              "  </thead>\n",
              "  <tbody>\n",
              "    <tr>\n",
              "      <th>0</th>\n",
              "      <td>C3L-00006</td>\n",
              "      <td>G1 Well differentiated</td>\n",
              "      <td>Endometrioid carcinoma</td>\n",
              "    </tr>\n",
              "    <tr>\n",
              "      <th>1</th>\n",
              "      <td>C3L-00008</td>\n",
              "      <td>G1 Well differentiated</td>\n",
              "      <td>Endometrioid carcinoma</td>\n",
              "    </tr>\n",
              "    <tr>\n",
              "      <th>2</th>\n",
              "      <td>C3L-00032</td>\n",
              "      <td>G2 Moderately differentiated</td>\n",
              "      <td>Endometrioid carcinoma</td>\n",
              "    </tr>\n",
              "    <tr>\n",
              "      <th>3</th>\n",
              "      <td>C3L-00086</td>\n",
              "      <td>G1 Well differentiated</td>\n",
              "      <td>Endometrioid carcinoma</td>\n",
              "    </tr>\n",
              "    <tr>\n",
              "      <th>4</th>\n",
              "      <td>C3L-00090</td>\n",
              "      <td>G2 Moderately differentiated</td>\n",
              "      <td>Endometrioid carcinoma</td>\n",
              "    </tr>\n",
              "    <tr>\n",
              "      <th>...</th>\n",
              "      <td>...</td>\n",
              "      <td>...</td>\n",
              "      <td>...</td>\n",
              "    </tr>\n",
              "    <tr>\n",
              "      <th>245</th>\n",
              "      <td>C3N-02437</td>\n",
              "      <td>G2 Moderately differentiated</td>\n",
              "      <td>Endometrioid carcinoma</td>\n",
              "    </tr>\n",
              "    <tr>\n",
              "      <th>246</th>\n",
              "      <td>C3N-02636</td>\n",
              "      <td>G1 Well differentiated</td>\n",
              "      <td>Endometrioid carcinoma</td>\n",
              "    </tr>\n",
              "    <tr>\n",
              "      <th>247</th>\n",
              "      <td>C3N-02976</td>\n",
              "      <td>G3 Poorly differentiated</td>\n",
              "      <td>Endometrioid carcinoma</td>\n",
              "    </tr>\n",
              "    <tr>\n",
              "      <th>248</th>\n",
              "      <td>C3L-01284</td>\n",
              "      <td>G1 Well differentiated</td>\n",
              "      <td>Endometrioid carcinoma</td>\n",
              "    </tr>\n",
              "    <tr>\n",
              "      <th>249</th>\n",
              "      <td>C3L-00084</td>\n",
              "      <td>G3 Poorly differentiated</td>\n",
              "      <td>Carcinosarcoma</td>\n",
              "    </tr>\n",
              "  </tbody>\n",
              "</table>\n",
              "<p>250 rows × 3 columns</p>\n",
              "</div>"
            ],
            "text/plain": [
              "       case_id              histologic_grade         histologic_type\n",
              "0    C3L-00006        G1 Well differentiated  Endometrioid carcinoma\n",
              "1    C3L-00008        G1 Well differentiated  Endometrioid carcinoma\n",
              "2    C3L-00032  G2 Moderately differentiated  Endometrioid carcinoma\n",
              "3    C3L-00086        G1 Well differentiated  Endometrioid carcinoma\n",
              "4    C3L-00090  G2 Moderately differentiated  Endometrioid carcinoma\n",
              "..         ...                           ...                     ...\n",
              "245  C3N-02437  G2 Moderately differentiated  Endometrioid carcinoma\n",
              "246  C3N-02636        G1 Well differentiated  Endometrioid carcinoma\n",
              "247  C3N-02976      G3 Poorly differentiated  Endometrioid carcinoma\n",
              "248  C3L-01284        G1 Well differentiated  Endometrioid carcinoma\n",
              "249  C3L-00084      G3 Poorly differentiated          Carcinosarcoma\n",
              "\n",
              "[250 rows x 3 columns]"
            ]
          },
          "metadata": {
            "tags": []
          },
          "execution_count": 11
        }
      ]
    },
    {
      "cell_type": "code",
      "metadata": {
        "id": "nPvcA5Kdh5-k",
        "colab_type": "code",
        "colab": {}
      },
      "source": [
        "# 현미경 사진의 label 을 모으는 리스트 변수(ucec_case_names) 생성\n",
        "ucec_case_names=[]\n",
        "ucec_grade=[]\n",
        "ucec_type=[]\n",
        "for i in range(len(py_ucec_df[['case_id', 'histologic_grade', 'histologic_type']])):\n",
        "  ucec_case_names.append(py_ucec_df[['case_id', 'histologic_grade', 'histologic_type']]['case_id'][i])\n",
        "  ucec_grade.append(py_ucec_df[['case_id', 'histologic_grade', 'histologic_type']]['histologic_grade'][i])\n",
        "  ucec_type.append(py_ucec_df[['case_id', 'histologic_grade', 'histologic_type']]['histologic_type'][i])"
      ],
      "execution_count": null,
      "outputs": []
    },
    {
      "cell_type": "code",
      "metadata": {
        "id": "IdwQ78el6owG",
        "colab_type": "code",
        "colab": {
          "base_uri": "https://localhost:8080/",
          "height": 34
        },
        "outputId": "e4309658-4c4e-4091-e36f-8a78697579de"
      },
      "source": [
        "# ucec 경로로 접근\n",
        "path_ucec = '/content/drive/My Drive/ImageAnalysis/digital_pathology/ImageDataset/EMCA/CPTAC-UCEC'\n",
        "%cd $path_ucec"
      ],
      "execution_count": 8,
      "outputs": [
        {
          "output_type": "stream",
          "text": [
            "/content/drive/My Drive/ImageAnalysis/digital_pathology/ImageDataset/EMCA/CPTAC-UCEC\n"
          ],
          "name": "stdout"
        }
      ]
    },
    {
      "cell_type": "code",
      "metadata": {
        "id": "8zp4zz8ahmbj",
        "colab_type": "code",
        "colab": {
          "base_uri": "https://localhost:8080/",
          "height": 52
        },
        "outputId": "b8eb6965-0ca9-4126-c6c1-04b3a9c7a90a"
      },
      "source": [
        "file_name = py_ucec_df[['case_id', 'histologic_grade', 'histologic_type']]['case_id'][0]\n",
        "glob.glob(path_ucec+'/'+file_name+'*.svs')"
      ],
      "execution_count": null,
      "outputs": [
        {
          "output_type": "execute_result",
          "data": {
            "text/plain": [
              "['/content/drive/My Drive/ImageAnalysis/digital_pathology/ImageDataset/EMCA/CPTAC-UCEC/C3L-00006-26.svs',\n",
              " '/content/drive/My Drive/ImageAnalysis/digital_pathology/ImageDataset/EMCA/CPTAC-UCEC/C3L-00006-21.svs']"
            ]
          },
          "metadata": {
            "tags": []
          },
          "execution_count": 46
        }
      ]
    },
    {
      "cell_type": "code",
      "metadata": {
        "id": "JbYplJagkWc2",
        "colab_type": "code",
        "colab": {}
      },
      "source": [
        "# 현미경 사진의 Get Image names stored in \"Images\" folder\n",
        "ucec_path_names=[]\n",
        "for file_name in ucec_case_names:\n",
        "  for file in glob.glob(path_ucec+'/'+file_name+'*.svs'):\n",
        "    ucec_path_names.append(file)"
      ],
      "execution_count": null,
      "outputs": []
    },
    {
      "cell_type": "code",
      "metadata": {
        "id": "89UENYDzj2CZ",
        "colab_type": "code",
        "colab": {
          "base_uri": "https://localhost:8080/",
          "height": 34
        },
        "outputId": "134ded50-a0ed-4ce9-f506-f4dbee5a482d"
      },
      "source": [
        "len(ucec_path_names)\n",
        "ucec_path_names[0]"
      ],
      "execution_count": null,
      "outputs": [
        {
          "output_type": "execute_result",
          "data": {
            "text/plain": [
              "879"
            ]
          },
          "metadata": {
            "tags": []
          },
          "execution_count": 42
        }
      ]
    },
    {
      "cell_type": "code",
      "metadata": {
        "id": "GuxaVHajm1H3",
        "colab_type": "code",
        "colab": {
          "base_uri": "https://localhost:8080/",
          "height": 377
        },
        "outputId": "82a6058e-969b-4f38-e8e6-7f95fc5a9b58"
      },
      "source": [
        "# 진단명에 따른 case 수 확인\n",
        "py_ucec_df.groupby(ucec_type).count()"
      ],
      "execution_count": null,
      "outputs": [
        {
          "output_type": "execute_result",
          "data": {
            "text/html": [
              "<div>\n",
              "<style scoped>\n",
              "    .dataframe tbody tr th:only-of-type {\n",
              "        vertical-align: middle;\n",
              "    }\n",
              "\n",
              "    .dataframe tbody tr th {\n",
              "        vertical-align: top;\n",
              "    }\n",
              "\n",
              "    .dataframe thead th {\n",
              "        text-align: right;\n",
              "    }\n",
              "</style>\n",
              "<table border=\"1\" class=\"dataframe\">\n",
              "  <thead>\n",
              "    <tr style=\"text-align: right;\">\n",
              "      <th></th>\n",
              "      <th>Unnamed: 0</th>\n",
              "      <th>tumor_code</th>\n",
              "      <th>case_id</th>\n",
              "      <th>discovery_study</th>\n",
              "      <th>gender</th>\n",
              "      <th>age</th>\n",
              "      <th>height_in_cm</th>\n",
              "      <th>weight_in_kg</th>\n",
              "      <th>BMI</th>\n",
              "      <th>race</th>\n",
              "      <th>ethnicity</th>\n",
              "      <th>tumor_site</th>\n",
              "      <th>tumor_size_in_cm</th>\n",
              "      <th>histologic_type</th>\n",
              "      <th>histologic_grade</th>\n",
              "      <th>tumor_stage_pathological</th>\n",
              "      <th>AJCC_or_TNM_cancer_staging_edition</th>\n",
              "      <th>pathologic_staging_primary_tumor_pT</th>\n",
              "      <th>pathologic_staging_regional_lymph_nodes_pN</th>\n",
              "      <th>pathologic_staging_distant_metastasis_pM</th>\n",
              "      <th>clinical_staging_distant_metastasis_cM</th>\n",
              "      <th>vital_status_at_12months_follow_up</th>\n",
              "      <th>vital_status_at_24months_follow_up</th>\n",
              "      <th>residual_tumor</th>\n",
              "      <th>alcohol_consumption</th>\n",
              "      <th>tobacco_smoking_history</th>\n",
              "      <th>number_of_pack_years_smoked</th>\n",
              "      <th>tumor_status_at_12months_follow_up</th>\n",
              "      <th>tumor_status_at_24months_follow_up</th>\n",
              "      <th>days_from_initial_diagnosis_to_last_contact_at_12months_follow_up</th>\n",
              "      <th>days_from_initial_diagnosis_to_last_contact_at_24months_follow_up</th>\n",
              "      <th>specimens</th>\n",
              "      <th>inserted</th>\n",
              "      <th>updated</th>\n",
              "      <th>discovery_study/analyzed_samples</th>\n",
              "      <th>vital_status_at_48months_follow_up</th>\n",
              "      <th>tumor_status_at_48months_follow_up</th>\n",
              "      <th>days_from_initial_diagnosis_to_last_contact_at_48months_follow_up</th>\n",
              "      <th>tumor_site_other</th>\n",
              "      <th>vital_status_at_36months_follow_up</th>\n",
              "      <th>tumor_status_at_36months_follow_up</th>\n",
              "      <th>days_from_initial_diagnosis_to_last_contact_at_36months_follow_up</th>\n",
              "      <th>cause_of_death_at_48months_follow_up</th>\n",
              "      <th>days_from_initial_pathologic_diagnosis_to_death_at_48months_follow_up</th>\n",
              "      <th>histologic_grade_other</th>\n",
              "      <th>cause_of_death_at_24months_follow_up</th>\n",
              "      <th>days_from_initial_pathologic_diagnosis_to_death_at_24months_follow_up</th>\n",
              "      <th>number_of_years_consumed_more_than_2_drinks_per_day_for_men_or_more_than_1_for_women</th>\n",
              "      <th>cause_of_death_at_12months_follow_up</th>\n",
              "      <th>days_from_initial_pathologic_diagnosis_to_death_at_12months_follow_up</th>\n",
              "      <th>cause_of_death_at_36months_follow_up</th>\n",
              "      <th>days_from_initial_pathologic_diagnosis_to_death_at_36months_follow_up</th>\n",
              "      <th>histologic_type_other</th>\n",
              "    </tr>\n",
              "  </thead>\n",
              "  <tbody>\n",
              "    <tr>\n",
              "      <th>Carcinosarcoma</th>\n",
              "      <td>2</td>\n",
              "      <td>2</td>\n",
              "      <td>2</td>\n",
              "      <td>1</td>\n",
              "      <td>2</td>\n",
              "      <td>2</td>\n",
              "      <td>2</td>\n",
              "      <td>2</td>\n",
              "      <td>2</td>\n",
              "      <td>2</td>\n",
              "      <td>2</td>\n",
              "      <td>2</td>\n",
              "      <td>2</td>\n",
              "      <td>2</td>\n",
              "      <td>2</td>\n",
              "      <td>2</td>\n",
              "      <td>2</td>\n",
              "      <td>2</td>\n",
              "      <td>2</td>\n",
              "      <td>2</td>\n",
              "      <td>2</td>\n",
              "      <td>2</td>\n",
              "      <td>1</td>\n",
              "      <td>2</td>\n",
              "      <td>2</td>\n",
              "      <td>2</td>\n",
              "      <td>1</td>\n",
              "      <td>2</td>\n",
              "      <td>1</td>\n",
              "      <td>2</td>\n",
              "      <td>1</td>\n",
              "      <td>2</td>\n",
              "      <td>2</td>\n",
              "      <td>2</td>\n",
              "      <td>1</td>\n",
              "      <td>0</td>\n",
              "      <td>0</td>\n",
              "      <td>0</td>\n",
              "      <td>1</td>\n",
              "      <td>1</td>\n",
              "      <td>1</td>\n",
              "      <td>1</td>\n",
              "      <td>0</td>\n",
              "      <td>0</td>\n",
              "      <td>0</td>\n",
              "      <td>0</td>\n",
              "      <td>0</td>\n",
              "      <td>0</td>\n",
              "      <td>0</td>\n",
              "      <td>0</td>\n",
              "      <td>0</td>\n",
              "      <td>0</td>\n",
              "      <td>0</td>\n",
              "    </tr>\n",
              "    <tr>\n",
              "      <th>Clear cell carcinoma</th>\n",
              "      <td>3</td>\n",
              "      <td>3</td>\n",
              "      <td>3</td>\n",
              "      <td>3</td>\n",
              "      <td>3</td>\n",
              "      <td>3</td>\n",
              "      <td>3</td>\n",
              "      <td>3</td>\n",
              "      <td>3</td>\n",
              "      <td>2</td>\n",
              "      <td>2</td>\n",
              "      <td>3</td>\n",
              "      <td>3</td>\n",
              "      <td>3</td>\n",
              "      <td>3</td>\n",
              "      <td>3</td>\n",
              "      <td>3</td>\n",
              "      <td>3</td>\n",
              "      <td>3</td>\n",
              "      <td>3</td>\n",
              "      <td>3</td>\n",
              "      <td>3</td>\n",
              "      <td>3</td>\n",
              "      <td>3</td>\n",
              "      <td>3</td>\n",
              "      <td>3</td>\n",
              "      <td>0</td>\n",
              "      <td>3</td>\n",
              "      <td>3</td>\n",
              "      <td>3</td>\n",
              "      <td>3</td>\n",
              "      <td>3</td>\n",
              "      <td>3</td>\n",
              "      <td>3</td>\n",
              "      <td>1</td>\n",
              "      <td>0</td>\n",
              "      <td>0</td>\n",
              "      <td>0</td>\n",
              "      <td>1</td>\n",
              "      <td>1</td>\n",
              "      <td>1</td>\n",
              "      <td>1</td>\n",
              "      <td>0</td>\n",
              "      <td>0</td>\n",
              "      <td>0</td>\n",
              "      <td>0</td>\n",
              "      <td>0</td>\n",
              "      <td>0</td>\n",
              "      <td>0</td>\n",
              "      <td>0</td>\n",
              "      <td>0</td>\n",
              "      <td>0</td>\n",
              "      <td>0</td>\n",
              "    </tr>\n",
              "    <tr>\n",
              "      <th>Endometrioid carcinoma</th>\n",
              "      <td>209</td>\n",
              "      <td>209</td>\n",
              "      <td>209</td>\n",
              "      <td>208</td>\n",
              "      <td>209</td>\n",
              "      <td>209</td>\n",
              "      <td>201</td>\n",
              "      <td>201</td>\n",
              "      <td>201</td>\n",
              "      <td>120</td>\n",
              "      <td>120</td>\n",
              "      <td>209</td>\n",
              "      <td>198</td>\n",
              "      <td>209</td>\n",
              "      <td>209</td>\n",
              "      <td>201</td>\n",
              "      <td>201</td>\n",
              "      <td>201</td>\n",
              "      <td>201</td>\n",
              "      <td>201</td>\n",
              "      <td>201</td>\n",
              "      <td>198</td>\n",
              "      <td>177</td>\n",
              "      <td>201</td>\n",
              "      <td>201</td>\n",
              "      <td>201</td>\n",
              "      <td>26</td>\n",
              "      <td>198</td>\n",
              "      <td>177</td>\n",
              "      <td>196</td>\n",
              "      <td>177</td>\n",
              "      <td>209</td>\n",
              "      <td>209</td>\n",
              "      <td>209</td>\n",
              "      <td>86</td>\n",
              "      <td>3</td>\n",
              "      <td>3</td>\n",
              "      <td>3</td>\n",
              "      <td>134</td>\n",
              "      <td>63</td>\n",
              "      <td>63</td>\n",
              "      <td>63</td>\n",
              "      <td>2</td>\n",
              "      <td>2</td>\n",
              "      <td>2</td>\n",
              "      <td>3</td>\n",
              "      <td>3</td>\n",
              "      <td>7</td>\n",
              "      <td>2</td>\n",
              "      <td>2</td>\n",
              "      <td>3</td>\n",
              "      <td>3</td>\n",
              "      <td>1</td>\n",
              "    </tr>\n",
              "    <tr>\n",
              "      <th>Mixed cell adenocarcinoma</th>\n",
              "      <td>3</td>\n",
              "      <td>3</td>\n",
              "      <td>3</td>\n",
              "      <td>3</td>\n",
              "      <td>3</td>\n",
              "      <td>3</td>\n",
              "      <td>3</td>\n",
              "      <td>3</td>\n",
              "      <td>3</td>\n",
              "      <td>1</td>\n",
              "      <td>1</td>\n",
              "      <td>3</td>\n",
              "      <td>3</td>\n",
              "      <td>3</td>\n",
              "      <td>3</td>\n",
              "      <td>3</td>\n",
              "      <td>3</td>\n",
              "      <td>3</td>\n",
              "      <td>3</td>\n",
              "      <td>3</td>\n",
              "      <td>3</td>\n",
              "      <td>3</td>\n",
              "      <td>2</td>\n",
              "      <td>3</td>\n",
              "      <td>3</td>\n",
              "      <td>3</td>\n",
              "      <td>0</td>\n",
              "      <td>3</td>\n",
              "      <td>2</td>\n",
              "      <td>3</td>\n",
              "      <td>2</td>\n",
              "      <td>3</td>\n",
              "      <td>3</td>\n",
              "      <td>3</td>\n",
              "      <td>0</td>\n",
              "      <td>0</td>\n",
              "      <td>0</td>\n",
              "      <td>0</td>\n",
              "      <td>3</td>\n",
              "      <td>0</td>\n",
              "      <td>0</td>\n",
              "      <td>0</td>\n",
              "      <td>0</td>\n",
              "      <td>0</td>\n",
              "      <td>0</td>\n",
              "      <td>0</td>\n",
              "      <td>0</td>\n",
              "      <td>0</td>\n",
              "      <td>0</td>\n",
              "      <td>0</td>\n",
              "      <td>0</td>\n",
              "      <td>0</td>\n",
              "      <td>0</td>\n",
              "    </tr>\n",
              "    <tr>\n",
              "      <th>Mucinous carcinoma</th>\n",
              "      <td>1</td>\n",
              "      <td>1</td>\n",
              "      <td>1</td>\n",
              "      <td>1</td>\n",
              "      <td>1</td>\n",
              "      <td>1</td>\n",
              "      <td>1</td>\n",
              "      <td>1</td>\n",
              "      <td>1</td>\n",
              "      <td>0</td>\n",
              "      <td>0</td>\n",
              "      <td>1</td>\n",
              "      <td>1</td>\n",
              "      <td>1</td>\n",
              "      <td>1</td>\n",
              "      <td>1</td>\n",
              "      <td>1</td>\n",
              "      <td>1</td>\n",
              "      <td>1</td>\n",
              "      <td>1</td>\n",
              "      <td>1</td>\n",
              "      <td>1</td>\n",
              "      <td>1</td>\n",
              "      <td>1</td>\n",
              "      <td>1</td>\n",
              "      <td>1</td>\n",
              "      <td>0</td>\n",
              "      <td>1</td>\n",
              "      <td>1</td>\n",
              "      <td>1</td>\n",
              "      <td>1</td>\n",
              "      <td>1</td>\n",
              "      <td>1</td>\n",
              "      <td>1</td>\n",
              "      <td>0</td>\n",
              "      <td>0</td>\n",
              "      <td>0</td>\n",
              "      <td>0</td>\n",
              "      <td>0</td>\n",
              "      <td>1</td>\n",
              "      <td>1</td>\n",
              "      <td>1</td>\n",
              "      <td>0</td>\n",
              "      <td>0</td>\n",
              "      <td>0</td>\n",
              "      <td>0</td>\n",
              "      <td>0</td>\n",
              "      <td>0</td>\n",
              "      <td>0</td>\n",
              "      <td>0</td>\n",
              "      <td>0</td>\n",
              "      <td>0</td>\n",
              "      <td>0</td>\n",
              "    </tr>\n",
              "    <tr>\n",
              "      <th>Other</th>\n",
              "      <td>4</td>\n",
              "      <td>4</td>\n",
              "      <td>4</td>\n",
              "      <td>4</td>\n",
              "      <td>4</td>\n",
              "      <td>4</td>\n",
              "      <td>4</td>\n",
              "      <td>4</td>\n",
              "      <td>4</td>\n",
              "      <td>3</td>\n",
              "      <td>3</td>\n",
              "      <td>4</td>\n",
              "      <td>4</td>\n",
              "      <td>4</td>\n",
              "      <td>4</td>\n",
              "      <td>4</td>\n",
              "      <td>4</td>\n",
              "      <td>4</td>\n",
              "      <td>4</td>\n",
              "      <td>4</td>\n",
              "      <td>4</td>\n",
              "      <td>4</td>\n",
              "      <td>4</td>\n",
              "      <td>4</td>\n",
              "      <td>4</td>\n",
              "      <td>4</td>\n",
              "      <td>1</td>\n",
              "      <td>4</td>\n",
              "      <td>4</td>\n",
              "      <td>4</td>\n",
              "      <td>4</td>\n",
              "      <td>4</td>\n",
              "      <td>4</td>\n",
              "      <td>4</td>\n",
              "      <td>0</td>\n",
              "      <td>0</td>\n",
              "      <td>0</td>\n",
              "      <td>0</td>\n",
              "      <td>4</td>\n",
              "      <td>1</td>\n",
              "      <td>1</td>\n",
              "      <td>1</td>\n",
              "      <td>0</td>\n",
              "      <td>0</td>\n",
              "      <td>1</td>\n",
              "      <td>0</td>\n",
              "      <td>0</td>\n",
              "      <td>0</td>\n",
              "      <td>0</td>\n",
              "      <td>0</td>\n",
              "      <td>0</td>\n",
              "      <td>0</td>\n",
              "      <td>4</td>\n",
              "    </tr>\n",
              "    <tr>\n",
              "      <th>Serous carcinoma</th>\n",
              "      <td>28</td>\n",
              "      <td>28</td>\n",
              "      <td>28</td>\n",
              "      <td>28</td>\n",
              "      <td>28</td>\n",
              "      <td>28</td>\n",
              "      <td>27</td>\n",
              "      <td>27</td>\n",
              "      <td>27</td>\n",
              "      <td>20</td>\n",
              "      <td>20</td>\n",
              "      <td>28</td>\n",
              "      <td>27</td>\n",
              "      <td>28</td>\n",
              "      <td>28</td>\n",
              "      <td>27</td>\n",
              "      <td>27</td>\n",
              "      <td>27</td>\n",
              "      <td>27</td>\n",
              "      <td>27</td>\n",
              "      <td>27</td>\n",
              "      <td>25</td>\n",
              "      <td>19</td>\n",
              "      <td>27</td>\n",
              "      <td>27</td>\n",
              "      <td>27</td>\n",
              "      <td>2</td>\n",
              "      <td>25</td>\n",
              "      <td>19</td>\n",
              "      <td>25</td>\n",
              "      <td>19</td>\n",
              "      <td>28</td>\n",
              "      <td>28</td>\n",
              "      <td>28</td>\n",
              "      <td>13</td>\n",
              "      <td>0</td>\n",
              "      <td>0</td>\n",
              "      <td>0</td>\n",
              "      <td>20</td>\n",
              "      <td>7</td>\n",
              "      <td>7</td>\n",
              "      <td>7</td>\n",
              "      <td>0</td>\n",
              "      <td>0</td>\n",
              "      <td>2</td>\n",
              "      <td>2</td>\n",
              "      <td>2</td>\n",
              "      <td>1</td>\n",
              "      <td>1</td>\n",
              "      <td>1</td>\n",
              "      <td>0</td>\n",
              "      <td>0</td>\n",
              "      <td>1</td>\n",
              "    </tr>\n",
              "  </tbody>\n",
              "</table>\n",
              "</div>"
            ],
            "text/plain": [
              "                           Unnamed: 0  ...  histologic_type_other\n",
              "Carcinosarcoma                      2  ...                      0\n",
              "Clear cell carcinoma                3  ...                      0\n",
              "Endometrioid carcinoma            209  ...                      1\n",
              "Mixed cell adenocarcinoma           3  ...                      0\n",
              "Mucinous carcinoma                  1  ...                      0\n",
              "Other                               4  ...                      4\n",
              "Serous carcinoma                   28  ...                      1\n",
              "\n",
              "[7 rows x 53 columns]"
            ]
          },
          "metadata": {
            "tags": []
          },
          "execution_count": 59
        }
      ]
    },
    {
      "cell_type": "code",
      "metadata": {
        "id": "Y8yZ1CoSsfcX",
        "colab_type": "code",
        "colab": {
          "base_uri": "https://localhost:8080/",
          "height": 34
        },
        "outputId": "4a4f5228-b0fa-4f8b-d481-79bb2c432aa0"
      },
      "source": [
        "case_carcinosarcoma = list(py_ucec_df[py_ucec_df['histologic_type']=='Carcinosarcoma']['case_id'])\n",
        "case_clearcell = list(py_ucec_df[py_ucec_df['histologic_type']=='Clear cell carcinoma']['case_id'])\n",
        "case_endometrioid = list(py_ucec_df[py_ucec_df['histologic_type']=='Endometrioid carcinoma']['case_id'])\n",
        "case_mixed = list(py_ucec_df[py_ucec_df['histologic_type']=='Mixed cell adenocarcinoma']['case_id'])\n",
        "case_mucinous = list(py_ucec_df[py_ucec_df['histologic_type']=='Mucinous carcinoma']['case_id'])\n",
        "case_serous = list(py_ucec_df[py_ucec_df['histologic_type']=='Serous carcinoma']['case_id'])\n",
        "case_other = list(py_ucec_df[py_ucec_df['histologic_type']=='Other']['case_id'])\n",
        "len(case_carcinosarcoma), len(case_clearcell), len(case_endometrioid), len(case_mixed), len(case_mucinous), len(case_serous), len(case_other)"
      ],
      "execution_count": null,
      "outputs": [
        {
          "output_type": "execute_result",
          "data": {
            "text/plain": [
              "(2, 3, 209, 3, 1, 28, 4)"
            ]
          },
          "metadata": {
            "tags": []
          },
          "execution_count": 60
        }
      ]
    },
    {
      "cell_type": "code",
      "metadata": {
        "id": "p8Koyb9_nOHK",
        "colab_type": "code",
        "colab": {}
      },
      "source": [
        "case_by_types = [case_carcinosarcoma, case_clearcell, case_endometrioid, case_mixed, case_mucinous, case_serous, case_other]"
      ],
      "execution_count": null,
      "outputs": []
    },
    {
      "cell_type": "code",
      "metadata": {
        "id": "d_orCWoXkpXx",
        "colab_type": "code",
        "colab": {
          "base_uri": "https://localhost:8080/",
          "height": 34
        },
        "outputId": "63c50d00-b83c-4b11-a24f-97c2ac423042"
      },
      "source": [
        "ucec_path_names[0]"
      ],
      "execution_count": null,
      "outputs": [
        {
          "output_type": "execute_result",
          "data": {
            "application/vnd.google.colaboratory.intrinsic": {
              "type": "string"
            },
            "text/plain": [
              "'/content/drive/My Drive/ImageAnalysis/digital_pathology/ImageDataset/EMCA/CPTAC-UCEC/C3L-00006-26.svs'"
            ]
          },
          "metadata": {
            "tags": []
          },
          "execution_count": 49
        }
      ]
    },
    {
      "cell_type": "code",
      "metadata": {
        "id": "E7cpyh5UkVrm",
        "colab_type": "code",
        "colab": {
          "base_uri": "https://localhost:8080/",
          "height": 34
        },
        "outputId": "d283bb00-d9b4-4bf0-a9c8-064991c9b9ac"
      },
      "source": [
        "file_name = py_ucec_df[['case_id', 'histologic_grade', 'histologic_type']]['case_id'][0]\n",
        "file_name in ucec_path_names[0]"
      ],
      "execution_count": null,
      "outputs": [
        {
          "output_type": "execute_result",
          "data": {
            "text/plain": [
              "True"
            ]
          },
          "metadata": {
            "tags": []
          },
          "execution_count": 50
        }
      ]
    },
    {
      "cell_type": "code",
      "metadata": {
        "id": "C4SIfFLLoD5Q",
        "colab_type": "code",
        "colab": {
          "base_uri": "https://localhost:8080/",
          "height": 34
        },
        "outputId": "366e3d23-cf67-453c-e387-a4dbdbb5a0b0"
      },
      "source": [
        "ucec_type[ucec_case_names==case_by_types[3][0]]"
      ],
      "execution_count": null,
      "outputs": [
        {
          "output_type": "execute_result",
          "data": {
            "application/vnd.google.colaboratory.intrinsic": {
              "type": "string"
            },
            "text/plain": [
              "'Endometrioid carcinoma'"
            ]
          },
          "metadata": {
            "tags": []
          },
          "execution_count": 76
        }
      ]
    },
    {
      "cell_type": "code",
      "metadata": {
        "id": "kNi7I575p_qD",
        "colab_type": "code",
        "colab": {
          "base_uri": "https://localhost:8080/",
          "height": 34
        },
        "outputId": "faa739f0-bc2f-4f6d-f837-f42cd6a1a46d"
      },
      "source": [
        "# path_name\n",
        "path_name.split('/')[-1].split('.')[0][:-3]"
      ],
      "execution_count": null,
      "outputs": [
        {
          "output_type": "execute_result",
          "data": {
            "application/vnd.google.colaboratory.intrinsic": {
              "type": "string"
            },
            "text/plain": [
              "'C3L-01284'"
            ]
          },
          "metadata": {
            "tags": []
          },
          "execution_count": 109
        }
      ]
    },
    {
      "cell_type": "code",
      "metadata": {
        "id": "vj92-AgBkK4S",
        "colab_type": "code",
        "colab": {}
      },
      "source": [
        "ucec_label_types=[]\n",
        "ucec_label_grades=[]\n",
        "for path_name in ucec_path_names:\n",
        "  for case_names in case_by_types:\n",
        "    if path_name.split('/')[-1].split('.')[0][:-3] in case_names:\n",
        "      ucec_label_types.append(ucec_type[ucec_case_names.index(path_name.split('/')[-1].split('.')[0][:-3])])\n",
        "      ucec_label_grades.append(ucec_grade[ucec_case_names.index(path_name.split('/')[-1].split('.')[0][:-3])])"
      ],
      "execution_count": null,
      "outputs": []
    },
    {
      "cell_type": "code",
      "metadata": {
        "id": "kyEUqEmZoZZN",
        "colab_type": "code",
        "colab": {
          "base_uri": "https://localhost:8080/",
          "height": 157
        },
        "outputId": "eb6ecd58-e4df-4f4f-91c0-72aada14ce80"
      },
      "source": [
        "len(ucec_label_types), set(ucec_label_types)"
      ],
      "execution_count": null,
      "outputs": [
        {
          "output_type": "execute_result",
          "data": {
            "text/plain": [
              "(879,\n",
              " {'Carcinosarcoma',\n",
              "  'Clear cell carcinoma',\n",
              "  'Endometrioid carcinoma',\n",
              "  'Mixed cell adenocarcinoma',\n",
              "  'Mucinous carcinoma',\n",
              "  'Other',\n",
              "  'Serous carcinoma'})"
            ]
          },
          "metadata": {
            "tags": []
          },
          "execution_count": 123
        }
      ]
    },
    {
      "cell_type": "code",
      "metadata": {
        "id": "q4M_0sWBtsLx",
        "colab_type": "code",
        "colab": {
          "base_uri": "https://localhost:8080/",
          "height": 257
        },
        "outputId": "e5f7257a-07af-4c12-9747-43c44c6d30ba"
      },
      "source": [
        "pd.DataFrame(ucec_label_types).groupby(ucec_label_types).count()"
      ],
      "execution_count": null,
      "outputs": [
        {
          "output_type": "execute_result",
          "data": {
            "text/html": [
              "<div>\n",
              "<style scoped>\n",
              "    .dataframe tbody tr th:only-of-type {\n",
              "        vertical-align: middle;\n",
              "    }\n",
              "\n",
              "    .dataframe tbody tr th {\n",
              "        vertical-align: top;\n",
              "    }\n",
              "\n",
              "    .dataframe thead th {\n",
              "        text-align: right;\n",
              "    }\n",
              "</style>\n",
              "<table border=\"1\" class=\"dataframe\">\n",
              "  <thead>\n",
              "    <tr style=\"text-align: right;\">\n",
              "      <th></th>\n",
              "      <th>0</th>\n",
              "    </tr>\n",
              "  </thead>\n",
              "  <tbody>\n",
              "    <tr>\n",
              "      <th>Carcinosarcoma</th>\n",
              "      <td>4</td>\n",
              "    </tr>\n",
              "    <tr>\n",
              "      <th>Clear cell carcinoma</th>\n",
              "      <td>5</td>\n",
              "    </tr>\n",
              "    <tr>\n",
              "      <th>Endometrioid carcinoma</th>\n",
              "      <td>746</td>\n",
              "    </tr>\n",
              "    <tr>\n",
              "      <th>Mixed cell adenocarcinoma</th>\n",
              "      <td>12</td>\n",
              "    </tr>\n",
              "    <tr>\n",
              "      <th>Mucinous carcinoma</th>\n",
              "      <td>5</td>\n",
              "    </tr>\n",
              "    <tr>\n",
              "      <th>Other</th>\n",
              "      <td>10</td>\n",
              "    </tr>\n",
              "    <tr>\n",
              "      <th>Serous carcinoma</th>\n",
              "      <td>97</td>\n",
              "    </tr>\n",
              "  </tbody>\n",
              "</table>\n",
              "</div>"
            ],
            "text/plain": [
              "                             0\n",
              "Carcinosarcoma               4\n",
              "Clear cell carcinoma         5\n",
              "Endometrioid carcinoma     746\n",
              "Mixed cell adenocarcinoma   12\n",
              "Mucinous carcinoma           5\n",
              "Other                       10\n",
              "Serous carcinoma            97"
            ]
          },
          "metadata": {
            "tags": []
          },
          "execution_count": 124
        }
      ]
    },
    {
      "cell_type": "code",
      "metadata": {
        "id": "lNiBiX02rwMX",
        "colab_type": "code",
        "colab": {
          "base_uri": "https://localhost:8080/",
          "height": 104
        },
        "outputId": "95668e3b-2aa9-4670-8b35-db595958af29"
      },
      "source": [
        "len(ucec_label_grades), set(ucec_label_grades)"
      ],
      "execution_count": null,
      "outputs": [
        {
          "output_type": "execute_result",
          "data": {
            "text/plain": [
              "(879,\n",
              " {'G1 Well differentiated',\n",
              "  'G2 Moderately differentiated',\n",
              "  'G3 Poorly differentiated',\n",
              "  'Other'})"
            ]
          },
          "metadata": {
            "tags": []
          },
          "execution_count": 115
        }
      ]
    },
    {
      "cell_type": "code",
      "metadata": {
        "id": "aeZe80-4ttR3",
        "colab_type": "code",
        "colab": {
          "base_uri": "https://localhost:8080/",
          "height": 167
        },
        "outputId": "e2435e48-d39a-487e-da6d-95970caae369"
      },
      "source": [
        "pd.DataFrame(ucec_label_grades).groupby(ucec_label_grades).count()"
      ],
      "execution_count": null,
      "outputs": [
        {
          "output_type": "execute_result",
          "data": {
            "text/html": [
              "<div>\n",
              "<style scoped>\n",
              "    .dataframe tbody tr th:only-of-type {\n",
              "        vertical-align: middle;\n",
              "    }\n",
              "\n",
              "    .dataframe tbody tr th {\n",
              "        vertical-align: top;\n",
              "    }\n",
              "\n",
              "    .dataframe thead th {\n",
              "        text-align: right;\n",
              "    }\n",
              "</style>\n",
              "<table border=\"1\" class=\"dataframe\">\n",
              "  <thead>\n",
              "    <tr style=\"text-align: right;\">\n",
              "      <th></th>\n",
              "      <th>0</th>\n",
              "    </tr>\n",
              "  </thead>\n",
              "  <tbody>\n",
              "    <tr>\n",
              "      <th>G1 Well differentiated</th>\n",
              "      <td>259</td>\n",
              "    </tr>\n",
              "    <tr>\n",
              "      <th>G2 Moderately differentiated</th>\n",
              "      <td>405</td>\n",
              "    </tr>\n",
              "    <tr>\n",
              "      <th>G3 Poorly differentiated</th>\n",
              "      <td>202</td>\n",
              "    </tr>\n",
              "    <tr>\n",
              "      <th>Other</th>\n",
              "      <td>13</td>\n",
              "    </tr>\n",
              "  </tbody>\n",
              "</table>\n",
              "</div>"
            ],
            "text/plain": [
              "                                0\n",
              "G1 Well differentiated        259\n",
              "G2 Moderately differentiated  405\n",
              "G3 Poorly differentiated      202\n",
              "Other                          13"
            ]
          },
          "metadata": {
            "tags": []
          },
          "execution_count": 125
        }
      ]
    },
    {
      "cell_type": "markdown",
      "metadata": {
        "id": "IH6I7bdkpJtJ",
        "colab_type": "text"
      },
      "source": [
        "https://github.com/openslide/openslide-python/issues/35"
      ]
    },
    {
      "cell_type": "code",
      "metadata": {
        "id": "Y4SrkuzZo6jv",
        "colab_type": "code",
        "colab": {
          "base_uri": "https://localhost:8080/",
          "height": 157
        },
        "outputId": "6d0acf65-4115-441c-ebe3-ff9004f42371"
      },
      "source": [
        "!sudo apt-get install openslide-tools"
      ],
      "execution_count": null,
      "outputs": [
        {
          "output_type": "stream",
          "text": [
            "Reading package lists... Done\n",
            "Building dependency tree       \n",
            "Reading state information... Done\n",
            "openslide-tools is already the newest version (3.4.1+dfsg-2).\n",
            "The following package was automatically installed and is no longer required:\n",
            "  libnvidia-common-440\n",
            "Use 'sudo apt autoremove' to remove it.\n",
            "0 upgraded, 0 newly installed, 0 to remove and 33 not upgraded.\n"
          ],
          "name": "stdout"
        }
      ]
    },
    {
      "cell_type": "code",
      "metadata": {
        "id": "vq4w_Jqyo6aX",
        "colab_type": "code",
        "colab": {
          "base_uri": "https://localhost:8080/",
          "height": 157
        },
        "outputId": "c21151dc-8c18-498d-e3b8-f3b14345b9ad"
      },
      "source": [
        "!sudo apt-get install python-openslide"
      ],
      "execution_count": null,
      "outputs": [
        {
          "output_type": "stream",
          "text": [
            "Reading package lists... Done\n",
            "Building dependency tree       \n",
            "Reading state information... Done\n",
            "python-openslide is already the newest version (1.1.1-2ubuntu4).\n",
            "The following package was automatically installed and is no longer required:\n",
            "  libnvidia-common-440\n",
            "Use 'sudo apt autoremove' to remove it.\n",
            "0 upgraded, 0 newly installed, 0 to remove and 33 not upgraded.\n"
          ],
          "name": "stdout"
        }
      ]
    },
    {
      "cell_type": "code",
      "metadata": {
        "id": "1XjEcY9noszJ",
        "colab_type": "code",
        "colab": {
          "base_uri": "https://localhost:8080/",
          "height": 72
        },
        "outputId": "db2fb48e-872e-4f21-f5f7-b78df301d18b"
      },
      "source": [
        "!pip install openslide-python"
      ],
      "execution_count": null,
      "outputs": [
        {
          "output_type": "stream",
          "text": [
            "Requirement already satisfied: openslide-python in /usr/local/lib/python3.6/dist-packages (1.1.1)\n",
            "Requirement already satisfied: Pillow in /usr/local/lib/python3.6/dist-packages (from openslide-python) (7.0.0)\n"
          ],
          "name": "stdout"
        }
      ]
    },
    {
      "cell_type": "code",
      "metadata": {
        "id": "dAAQRQpRNT0_",
        "colab_type": "code",
        "colab": {}
      },
      "source": [
        "import openslide"
      ],
      "execution_count": null,
      "outputs": []
    },
    {
      "cell_type": "code",
      "metadata": {
        "id": "t6a6Rg2aNYxj",
        "colab_type": "code",
        "colab": {}
      },
      "source": [
        "# Open the image (does not yet read the image into memory)\n",
        "image = openslide.OpenSlide(ucec_path_names[0])\n",
        "\n",
        "# Read a specific region of the image starting at upper left coordinate (x=17800, y=19500) on level 0 and extracting a 256*256 pixel patch.\n",
        "# At this point image data is read from the file and loaded into memory.\n",
        "patch = image.read_region((17800,19500), 0, (256, 256))\n",
        "\n",
        "# Display the image\n",
        "display(patch)\n",
        "\n",
        "# Close the opened slide after use\n",
        "image.close()"
      ],
      "execution_count": null,
      "outputs": []
    },
    {
      "cell_type": "code",
      "metadata": {
        "id": "7s4dJUwqj9QX",
        "colab_type": "code",
        "colab": {}
      },
      "source": [
        ""
      ],
      "execution_count": null,
      "outputs": []
    }
  ]
}